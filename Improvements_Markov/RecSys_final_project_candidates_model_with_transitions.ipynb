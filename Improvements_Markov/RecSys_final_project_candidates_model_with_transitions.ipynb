{
  "nbformat": 4,
  "nbformat_minor": 0,
  "metadata": {
    "colab": {
      "provenance": []
    },
    "kernelspec": {
      "name": "python3",
      "display_name": "Python 3"
    },
    "language_info": {
      "name": "python"
    },
    "accelerator": "GPU",
    "gpuClass": "standard"
  },
  "cells": [
    {
      "cell_type": "markdown",
      "source": [
        "##Overview\n",
        "This notebook is a variation on the 2nd notebook in the YouTube recommendation simulation applied to the MovieLens 1M dataset. \n",
        "In this notebook, the model is trained where the dot product of the genre prediction and the movie genre vector are added to the previous dot product.\n",
        "\n",
        "###Hyperparameters\n",
        "Since there can be an optimal relative weight to each component in the dot product, we optimize over this weight as a hyperparameter in the range: [0.5,1,2,4,8,16]\n",
        "\n",
        "###Experiments\n",
        "The best model is found to be with weight = 1.\\\n",
        "We run this model with high resolution evaluation and plot the results.\n",
        "\n",
        "###Results\n",
        "We find that the best model results are very close, but do not improve over the evaluation of the basic model."
      ],
      "metadata": {
        "id": "jXprtS0yJ3g-"
      }
    },
    {
      "cell_type": "markdown",
      "source": [
        "**Imports and administration**"
      ],
      "metadata": {
        "id": "5msyM47xcaJc"
      }
    },
    {
      "cell_type": "code",
      "execution_count": 1,
      "metadata": {
        "id": "glKMRQsxKMRB"
      },
      "outputs": [],
      "source": [
        "# basic\n",
        "from google.colab import runtime\n",
        "import os \n",
        "import sys\n",
        "import math\n",
        "from time import time\n",
        "import zipfile\n",
        "import requests\n",
        "import pickle\n",
        "import gdown\n",
        "!pip install --upgrade --no-cache-dir gdown\n",
        "\n",
        "# general\n",
        "import warnings\n",
        "import numpy as np\n",
        "import pandas as pd\n",
        "# !pip install scikit-learn\n",
        "# from sklearn.neighbors import LSHForest\n",
        "# from sklearn import neighbors.LSHForest\n",
        "# !apt install libomp-dev\n",
        "# !python -m pip install --upgrade faiss faiss-gpu\n",
        "# !pip install faiss-gpu\n",
        "# import faiss\n",
        "from sklearn.neighbors import KNeighborsClassifier\n",
        "from sklearn.metrics import average_precision_score\n",
        "\n",
        "# visual\n",
        "import matplotlib\n",
        "import seaborn as sns\n",
        "import matplotlib.pyplot as plt\n",
        "\n",
        "# notebook\n",
        "from IPython.display import display, HTML\n",
        "from tqdm import tqdm\n",
        "import copy\n",
        "\n",
        "\n",
        "# torch\n",
        "import torch\n",
        "from torch import nn\n",
        "import torch.nn.functional as F\n",
        "from torch.nn import Sequential\n",
        "from torch.nn import Sigmoid,ReLU\n",
        "from torch.nn import Embedding,Linear,Dropout\n",
        "from torch.utils.data import DataLoader, Dataset\n",
        "from torchvision.transforms import ToTensor,Compose\n",
        "from torch.optim import SparseAdam,Adam,Adagrad,SGD\n",
        "\n",
        "device = torch.device('cuda:0' if torch.cuda.is_available() else 'cpu')"
      ]
    },
    {
      "cell_type": "code",
      "source": [
        "device"
      ],
      "metadata": {
        "id": "kXqJNkVFbw7v",
        "colab": {
          "base_uri": "https://localhost:8080/"
        },
        "outputId": "83ab4e10-aa79-41af-c8d9-17234823c116"
      },
      "execution_count": 2,
      "outputs": [
        {
          "output_type": "execute_result",
          "data": {
            "text/plain": [
              "device(type='cuda', index=0)"
            ]
          },
          "metadata": {},
          "execution_count": 2
        }
      ]
    },
    {
      "cell_type": "code",
      "source": [
        "warnings.filterwarnings('ignore')"
      ],
      "metadata": {
        "id": "Awg9ULDNKfbm"
      },
      "execution_count": 3,
      "outputs": []
    },
    {
      "cell_type": "code",
      "source": [
        "# from google.colab import drive\n",
        "# drive.mount('/content/drive')"
      ],
      "metadata": {
        "colab": {
          "base_uri": "https://localhost:8080/"
        },
        "id": "Odr_4oyIKcFS",
        "outputId": "de5b7369-48cf-41a5-ddea-6f9b8559fb86"
      },
      "execution_count": 4,
      "outputs": [
        {
          "output_type": "stream",
          "name": "stdout",
          "text": [
            "Mounted at /content/drive\n"
          ]
        }
      ]
    },
    {
      "cell_type": "markdown",
      "source": [
        "**Loading the datasets**"
      ],
      "metadata": {
        "id": "WDtwDReRciDG"
      }
    },
    {
      "cell_type": "code",
      "source": [
        "# path = './drive/My Drive/Colab Notebooks/recsys_final_project/train_10_markov'\n",
        "# with open(path , 'rb') as f:\n",
        "#   (train, test, val, df_items, n_items, max_watches, num_neg_samples) = pickle.load(f)\n",
        "#   print('loaded training')"
      ],
      "metadata": {
        "colab": {
          "base_uri": "https://localhost:8080/"
        },
        "id": "5bXw2Z9N7Ly6",
        "outputId": "08366217-bcef-4b83-fa42-b608bb1b8eb0"
      },
      "execution_count": 5,
      "outputs": [
        {
          "output_type": "stream",
          "name": "stdout",
          "text": [
            "loaded training\n"
          ]
        }
      ]
    },
    {
      "cell_type": "code",
      "source": [
        "url = \"https://drive.google.com/file/d/1--hw470oR3_YtvWER6J9la1WO8b7bEur/view?usp=sharing\"\n",
        "datasets_path = 'train_10_markov'\n",
        "gdown.download(url, datasets_path, quiet=False,fuzzy=True)\n",
        "# datasets_path = './drive/My Drive/Colab Notebooks/recsys_final_project/train_10_markov'\n",
        "with open(datasets_path , 'rb') as f:\n",
        "  (train, test, val, df_items, n_items, max_watches, num_neg_samples) = pickle.load(f)\n",
        "  print('loaded training')"
      ],
      "metadata": {
        "id": "Rxw96Y-Slea5",
        "colab": {
          "base_uri": "https://localhost:8080/"
        },
        "outputId": "213e53bb-2d1f-44a7-f8ee-493e2ba36a46"
      },
      "execution_count": null,
      "outputs": [
        {
          "output_type": "stream",
          "name": "stderr",
          "text": [
            "Downloading...\n",
            "From: https://drive.google.com/uc?id=1--hw470oR3_YtvWER6J9la1WO8b7bEur\n",
            "To: /content/train_10_markov\n",
            "100%|██████████| 448M/448M [00:02<00:00, 178MB/s]\n"
          ]
        },
        {
          "output_type": "stream",
          "name": "stdout",
          "text": [
            "loaded training\n"
          ]
        }
      ]
    },
    {
      "cell_type": "code",
      "source": [
        "n_users = 6040"
      ],
      "metadata": {
        "id": "H7gTrM362K_R"
      },
      "execution_count": 6,
      "outputs": []
    },
    {
      "cell_type": "markdown",
      "source": [
        "**preparing genres for all movie indices**"
      ],
      "metadata": {
        "id": "yiihPLzvPXux"
      }
    },
    {
      "cell_type": "code",
      "source": [
        "movie_genres = np.zeros((n_items, 18))\n",
        "movie_ids = df_items['movie id'].to_list()\n",
        "for movie_idx in range(n_items):\n",
        "  if movie_idx in movie_ids:\n",
        "    genre_vector = df_items.loc[df_items['movie id'] == movie_idx]['genres features'].values[0]\n",
        "    vector_norm = np.sqrt((genre_vector**2).sum())\n",
        "    movie_genres[movie_idx,:] = genre_vector/vector_norm #Normalized vector size!"
      ],
      "metadata": {
        "id": "3pgXI90IPgSK"
      },
      "execution_count": 59,
      "outputs": []
    },
    {
      "cell_type": "code",
      "source": [
        "movie_genres_torch = torch.from_numpy(movie_genres).to(device)"
      ],
      "metadata": {
        "id": "vx_sBomXWogA"
      },
      "execution_count": 60,
      "outputs": []
    },
    {
      "cell_type": "code",
      "source": [
        "class Candidates(torch.nn.Module):\n",
        "    def __init__(self, config):\n",
        "        super(Candidates, self).__init__()\n",
        "\n",
        "        self.num_items = config['num_items']\n",
        "        self.n_neg_samples = config['n_neg_samples']\n",
        "        self.max_watches = config['max_watches']\n",
        "        self.latent_dim = config['latent_dim']\n",
        "        self.features_dim = config['features_dim']\n",
        "        self.layers = config['layers']\n",
        "        self.trans_weight = config['trans_weight']\n",
        "\n",
        "        self.embed_items = torch.nn.Embedding(num_embeddings=self.num_items, embedding_dim=self.latent_dim) #log 4000 ~12\n",
        "        self.embed_occ = torch.nn.Embedding(num_embeddings=21, embedding_dim=5) # 21 occupations log~5\n",
        "        self.embed_age = torch.nn.Embedding(num_embeddings=7, embedding_dim=3) # 7 occupations log~3\n",
        "\n",
        "        self.fc_layers = torch.nn.ModuleList()\n",
        "        self.fc_layers.append(torch.nn.Linear(self.features_dim, self.layers[0])) #linking features to MLP\n",
        "        if len(self.layers) > 1:\n",
        "          for (in_size, out_size) in zip(self.layers[:-1], self.layers[1:]):\n",
        "              self.fc_layers.append(torch.nn.Linear(in_size, out_size))\n",
        "        \n",
        "        # self.LSHIndex = LSHIndex()\n",
        "        self.N_candidates = config['N_candidates']\n",
        "        self.knn = KNeighborsClassifier(n_neighbors=self.N_candidates) #initiating the KNN model with maximal N_candidates\n",
        "\n",
        "    def forward(self, features, mode):\n",
        "        # previous watches embedding and averaging\n",
        "        # We must take into account the possible padding with 0's of the user history\n",
        "        n = self.max_watches\n",
        "        previous_watches = features[:, :n].int()\n",
        "        mask = torch.unsqueeze((previous_watches > 0),2)\n",
        "        embedded_items = self.embed_items(previous_watches)\n",
        "        sum = mask.sum(dim=1)\n",
        "        sum[sum == 0] = 1 #so we don't divide by 0 and get nan (even though overwritten)\n",
        "        embedded_items_mean = (embedded_items*mask).sum(dim=1)/sum\n",
        "        n_indices = torch.count_nonzero(previous_watches, dim=1)\n",
        "        embedded_items_mean[(n_indices == 0)] = torch.zeros(self.latent_dim).to(device)\n",
        "\n",
        "        # other embeddings\n",
        "        user_age = features[:, n].int()\n",
        "        emb_age = self.embed_age(user_age)\n",
        "        user_occupation = features[:, n+1].int()\n",
        "        emb_occ = self.embed_occ(user_occupation)\n",
        "        \n",
        "        # other features\n",
        "        other_features = features[:, n+2:n+5]\n",
        "\n",
        "        # predicted genres\n",
        "        predicted_genres = features[:, n+5:n+23]\n",
        "        # predicted_genres = self.trans_weight * features[:, n+5:n+23]\n",
        "        \n",
        "        # all\n",
        "        vector = torch.hstack((embedded_items_mean, emb_age, emb_occ, other_features)).to(torch.float32)\n",
        "\n",
        "        for idx, _ in enumerate(range(len(self.fc_layers)-1)):\n",
        "            vector = self.fc_layers[idx](vector)\n",
        "            vector = torch.nn.ReLU()(vector)\n",
        "        vector = self.fc_layers[-1](vector) #last layer without RELU\n",
        "\n",
        "        # stacking vector rep and genres\n",
        "        vector = torch.hstack((vector, predicted_genres)).to(torch.float32)\n",
        "\n",
        "        if mode == 'training':\n",
        "          item_id_label = features[:, -self.n_neg_samples-1].int()\n",
        "          negative_samples = features[:, -self.n_neg_samples:].int() #negative samples are precalculated\n",
        "\n",
        "          sample_indices = torch.hstack([torch.unsqueeze(item_id_label, 1), negative_samples])\n",
        "          sample_embeddings = self.embed_items(sample_indices)\n",
        "          #make vector of genres from sample indices (from df_items)\n",
        "          genres_by_idx = self.trans_weight * movie_genres_torch[sample_indices.long(),:]\n",
        "          #concatenate to embeddings for new representation\n",
        "          embeddings_and_genres = torch.cat((sample_embeddings, genres_by_idx), dim = 2).to(torch.float32)\n",
        "          dot_products = torch.matmul(embeddings_and_genres, torch.unsqueeze(vector, dim = 2))\n",
        "          return dot_products.squeeze()\n",
        "    \n",
        "        elif mode == 'serving':\n",
        "          # candidates = self.lshf.kneighbors(vector, n_neighbors=self.N_candidates, return_distance=False)\n",
        "          # candidates = self.LSHIndex.query(vector, k = self.N_candidates)\n",
        "          candidates = self.knn.kneighbors(vector.detach().cpu().numpy(), return_distance=False)\n",
        "          return candidates #only indices"
      ],
      "metadata": {
        "id": "6a16jomdUTtt"
      },
      "execution_count": 61,
      "outputs": []
    },
    {
      "cell_type": "code",
      "source": [
        "class Training(object):\n",
        "\n",
        "  def __init__(self, model, config):\n",
        "    self.config = config\n",
        "    self.model = model.to(self.config['device'])\n",
        "    self.n_neg_samples = config['n_neg_samples']\n",
        "    self.labels = torch.hstack((torch.tensor(1), torch.zeros(self.n_neg_samples))).repeat(config['batch_size'], 1).to(device)\n",
        "    #importance weights with ratio of ~3000/100 = 30\n",
        "    self.importance_weights = torch.hstack((torch.tensor(1), 30*torch.ones(self.n_neg_samples))).to(device)\n",
        "    self.optimizer = config['optimizer_type'](model.parameters(), **config['optimizer_parameter'])\n",
        "    self.criterion = config['criterion'](weight = self.importance_weights) #here we add importance weights to the loss function\n",
        "    self.dl_train = DataLoader(train, batch_size=config['batch_size'], shuffle=True) # create dataloader with given batch size\n",
        "    self.dl_val = DataLoader(val, batch_size=config['batch_size'], shuffle=False) # create dataloader with given batch size\n",
        "    self.knn_labels = np.ones(self.model.num_items)\n",
        "    self.AP_labels = torch.tensor([1, 0]).repeat(1, n_users).squeeze()\n",
        "\n",
        "  def train(self):\n",
        "    self.train_loss_history = []\n",
        "    self.eval_loss_history = []\n",
        "    self.eval_map_history = []\n",
        "    self.eval_HR100_history = []\n",
        "    self.eval_HR200_history = []\n",
        "    self.eval_MRR100_history = []\n",
        "    self.eval_MRR200_history = []\n",
        "    self.eval_NDCG100_history = []\n",
        "    self.eval_NDCG200_history = []\n",
        "\n",
        "    epochs_without_improvement = 0\n",
        "    best_HR = None \n",
        "    train_start = time()\n",
        "    for epoch in range(self.config['n_epochs']):\n",
        "      self.train_epoch() #train\n",
        "      self.train_loss_history.append(self.epoch_train_loss/len(self.dl_train))\n",
        "      # extract all embeddings\n",
        "      all_embeddings = self.model.embed_items(torch.arange(0, n_items).to(device)).detach().cpu().numpy()\n",
        "      # Here we concatenate the genres for full representation to insert the KNN model\n",
        "      embeddings_plus_genres = np.hstack((all_embeddings, self.model.trans_weight*movie_genres))\n",
        "      self.model.knn.fit(embeddings_plus_genres, self.knn_labels)\n",
        "      # self.model.LSHIndex.build(all_embeddings)\n",
        "      # self.model.lshf.kneighbors.fit(all_embeddings)\n",
        "      if epoch%1 == 0:\n",
        "      # if epoch%10 == 0:\n",
        "        self.evaluate_epoch(self.dl_val) #evaluate\n",
        "        # aggregate metrics: note len(val) = len(test)\n",
        "        self.eval_loss_history.append(self.epoch_eval_loss/len(self.dl_val))\n",
        "        average_precision = average_precision_score(self.AP_labels, self.epoch_pred)\n",
        "        self.eval_map_history.append(average_precision)\n",
        "        self.eval_HR100_history.append(self.epoch_HR100/len(val))\n",
        "        self.eval_HR200_history.append(self.epoch_HR200/len(val))\n",
        "        self.eval_MRR100_history.append(self.epoch_MRR100/len(val))\n",
        "        self.eval_MRR200_history.append(self.epoch_MRR200/len(val))\n",
        "        self.eval_NDCG100_history.append(self.epoch_NDCG100/len(val))\n",
        "        self.eval_NDCG200_history.append(self.epoch_NDCG200/len(val))\n",
        "        print(f'epoch {epoch}: loss = {self.train_loss_history[-1]}, HR@200 = {self.eval_HR200_history[-1]}, AP = {self.eval_map_history[-1]}')\n",
        "        # print(f'epoch {epoch}: loss = {self.train_loss_history[-1]}, HR@200 = {self.eval_HR200_history[-1]}')\n",
        "        #check for early stopping\n",
        "        if not best_HR or self.eval_HR200_history[-1] > best_HR:\n",
        "          best_HR = self.eval_HR200_history[-1]\n",
        "          # best_MRR200 = self.eval_MRR200_history[-1]\n",
        "          # best_NDCG200 = self.eval_NDCG200_history[-1]\n",
        "          # best_loss = self.eval_loss_history[-1]\n",
        "          epochs_without_improvement = 0\n",
        "          #print (\"Achieved lower validation loss, save model at epoch number {} \".format(epoch + 1) )\n",
        "          best_model = copy.deepcopy(self.model.state_dict())\n",
        "        else:\n",
        "          epochs_without_improvement += 1\n",
        "\n",
        "        if epochs_without_improvement == self.config['early_stopping']:\n",
        "          if self.config['verbose']:\n",
        "              print('\\nEarly stoping after {} epochs. validation loss did not imporve for more than {} epcochs'.format(epoch, self.config['early_stopping']))\n",
        "          break\n",
        "    self.training_time = time() - train_start\n",
        "\n",
        "    # load best model and best performance\n",
        "    self.model.load_state_dict(best_model)\n",
        "    if self.config['verbose']:\n",
        "        print('\\nFinished Training:')\n",
        "        print('Best metrics are:')\n",
        "        print(f'Hit Ratio eval = {best_HR}')\n",
        "    \n",
        "  def train_epoch(self):\n",
        "    self.epoch_train_loss   = 0\n",
        "    self.model.train() # train mode\n",
        "    for batch in tqdm(self.dl_train, disable=(not self.config['verbose'])):\n",
        "      self.train_batch(batch)\n",
        "\n",
        "  def train_batch(self, batch):\n",
        "     \n",
        "    batch = batch.to(device)  \n",
        "    pred = self.model(batch, mode = 'training')\n",
        "    labels = self.labels\n",
        "    if pred.shape[0] < self.config['batch_size']:\n",
        "      labels = torch.hstack((torch.tensor(1), torch.zeros(self.n_neg_samples))).repeat(pred.shape[0], 1).to(device)\n",
        "    loss = self.criterion(pred, labels)\n",
        "              \n",
        "    self.optimizer.zero_grad()\n",
        "    loss.backward()\n",
        "    self.optimizer.step()               \n",
        "    self.epoch_train_loss += loss.item()\n",
        "\n",
        "  def evaluate_epoch(self, dl_eval):\n",
        "    self.epoch_eval_loss = 0\n",
        "    self.epoch_pred = torch.empty(0) #Aggregated for AP calculation\n",
        "    self.epoch_HR100 = 0\n",
        "    self.epoch_HR200 = 0\n",
        "    self.epoch_MRR100 = 0\n",
        "    self.epoch_MRR200 = 0\n",
        "    self.epoch_NDCG100 = 0\n",
        "    self.epoch_NDCG200 = 0\n",
        "\n",
        "    self.model.eval() #evaluation mode\n",
        "    with torch.no_grad():\n",
        "      for batch in tqdm(dl_eval, disable=(not self.config['verbose'])):\n",
        "        self.eval_batch(batch) # dl_val was built so that one batch is one user\n",
        "\n",
        "\n",
        "  def eval_batch(self, batch):\n",
        "    target_items = batch[:, -num_neg_samples-1]\n",
        "    # Send tensor to GPU    \n",
        "    batch = batch.to(device)\n",
        "\n",
        "    #evaluations of candidates retrieval\n",
        "    candidates_batch = self.model(batch, mode = 'serving') #already returned sorted from high to low\n",
        "    for candidates, target_item in zip(candidates_batch, target_items):\n",
        "      self.epoch_HR100 += self.HitRatio(candidates, target_item, 100)\n",
        "      self.epoch_HR200 += self.HitRatio(candidates, target_item, 200)\n",
        "      self.epoch_MRR100 += self.MRR(candidates, target_item, 100)\n",
        "      self.epoch_MRR200 += self.MRR(candidates, target_item, 200)\n",
        "      self.epoch_NDCG100 += self.NDCG(candidates, target_item, 100)\n",
        "      self.epoch_NDCG200 += self.NDCG(candidates, target_item, 200)\n",
        "  \n",
        "    #AP evaluation using negative samples\n",
        "    pred = self.model(batch, mode = 'training') # not really training - extracts negative samples prediction for AP calculation\n",
        "    labels = self.labels\n",
        "    if pred.shape[0] < self.config['batch_size']:\n",
        "      labels = torch.hstack((torch.tensor(1), torch.zeros(self.n_neg_samples))).repeat(pred.shape[0], 1).to(device)\n",
        "    loss = self.criterion(pred, labels)        \n",
        "    self.epoch_eval_loss += loss.item()\n",
        "\n",
        "    probabilities = F.softmax(pred.detach().cpu(), dim = 1)\n",
        "    for prob in probabilities: #concatenating predictions for average precision calculation at the end of the epoch\n",
        "      self.epoch_pred = torch.hstack((self.epoch_pred, prob[:2])) #first two here (positive and negative)\n",
        "\n",
        "\n",
        "  def extract_candidates(self, dl_eval):\n",
        "    self.model.eval() #evaluation mode\n",
        "    all_candidates = np.empty((0, self.model.N_candidates))\n",
        "    with torch.no_grad():\n",
        "      for batch in tqdm(dl_eval, disable=(not self.config['verbose'])):\n",
        "        target_items = batch[:, -num_neg_samples-1]\n",
        "        # Send tensor to GPU    \n",
        "        batch = batch.to(device)\n",
        "        candidates_batch = self.model(batch, mode = 'serving')\n",
        "        all_candidates = np.vstack([all_candidates, candidates_batch])\n",
        "        # previous_watches = batch[:, :max_watches].int()\n",
        "        # for candidates, prev_watches in zip(candidates_batch, previous_watches):\n",
        "        #   #remove previous watches from candidates, since there are no duplicities in this dataset\n",
        "        #   candidates = [x for x in candidates if x not in prev_watches]\n",
        "      return all_candidates\n",
        "\n",
        "  def HitRatio(self, ranked_items, target_item, k):\n",
        "    for item in ranked_items[:k]:\n",
        "      if item == target_item:\n",
        "        return 1\n",
        "    return 0\n",
        "\n",
        "  def MRR(self, ranked_items, target_item, k):\n",
        "    for i, item in enumerate(ranked_items[:k]):\n",
        "      if item == target_item:\n",
        "        return 1/(i + 1)\n",
        "    return 0\n",
        "\n",
        "\n",
        "  def NDCG(self, ranked_items, target_item, k):\n",
        "    for i, item in enumerate(ranked_items[:k]):\n",
        "      if item == target_item:\n",
        "        return np.log(2)/np.log(i + 2)\n",
        "    return 0\n"
      ],
      "metadata": {
        "id": "uJo9qaoMAWJv"
      },
      "execution_count": 85,
      "outputs": []
    },
    {
      "cell_type": "code",
      "source": [
        "results = pd.DataFrame(columns=['transition_weight', 'maximal width', 'Batch Size', 'Learning Rate', 'Topk', 'Metric', 'Score']) #uncomment to run"
      ],
      "metadata": {
        "id": "h-K9PD0KHj6w"
      },
      "execution_count": 77,
      "outputs": []
    },
    {
      "cell_type": "code",
      "source": [
        "def add_results(training_model, results_df, transition_weight, max_width, batch_size, lr):\n",
        "\n",
        "  MAP = average_precision_score(training_model.AP_labels, training_model.epoch_pred)\n",
        "  # MAP = training_model.eval_map_history[-1]\n",
        "  hr200 = training_model.epoch_HR200/len(val)\n",
        "  tr_time = training_model.training_time\n",
        "\n",
        "  results_df.loc[len(results_df)] = transition_weight, max_width, batch_size, lr, 0, 'MAP', MAP\n",
        "  results_df.loc[len(results_df)] = transition_weight, max_width, batch_size, lr, 0, 'TIME', tr_time\n",
        "  results_df.loc[len(results_df)] = transition_weight, max_width, batch_size, lr, 200, 'HR', hr200"
      ],
      "metadata": {
        "id": "tWCX5IlAHktN"
      },
      "execution_count": 78,
      "outputs": []
    },
    {
      "cell_type": "code",
      "source": [
        "batch_size = 50\n",
        "lr = 0.001\n",
        "layers = [1024, 512, 256]\n",
        "\n",
        "transition_weights = [0.5, 1]\n",
        "\n",
        "for transition_weight in transition_weights:\n",
        "  torch.manual_seed(42)\n",
        "  np.random.seed(42) \n",
        "  max_width = layers[0]\n",
        "  Candidates_config = {'num_items': n_items, 'n_neg_samples': num_neg_samples, 'max_watches': max_watches, 'latent_dim': 256, 'features_dim': 267, 'layers':layers, 'trans_weight':transition_weight, 'N_candidates':250}\n",
        "  model_Candidates = Candidates(Candidates_config)\n",
        "\n",
        "  training_config = {'n_neg_samples': num_neg_samples, 'batch_size': batch_size, 'optimizer_type': Adam, 'optimizer_parameter': {'lr': lr}, \\\n",
        "                'criterion' : torch.nn.CrossEntropyLoss, 'n_epochs' : 51, 'early_stopping' : 8, 'verbose' : True, 'device' : device}\n",
        "\n",
        "  training_candidates = Training(model_Candidates, training_config)\n",
        "  training_candidates.train()\n",
        "  training_candidates.evaluate_epoch(training_candidates.dl_val)\n",
        "  add_results(training_candidates, results, transition_weight, max_width, batch_size, lr)"
      ],
      "metadata": {
        "colab": {
          "base_uri": "https://localhost:8080/"
        },
        "id": "jZMXCOLd0y3M",
        "outputId": "45d1f3de-636f-409f-a16e-63ba3913c106"
      },
      "execution_count": 82,
      "outputs": [
        {
          "output_type": "stream",
          "name": "stderr",
          "text": [
            "100%|██████████| 6040/6040 [00:31<00:00, 191.32it/s]\n",
            "100%|██████████| 121/121 [00:58<00:00,  2.08it/s]\n"
          ]
        },
        {
          "output_type": "stream",
          "name": "stdout",
          "text": [
            "epoch 0: loss = 2.8943353349799352, HR@200 = 0.12119205298013246, AP = 0.8970826002695778\n"
          ]
        },
        {
          "output_type": "stream",
          "name": "stderr",
          "text": [
            "100%|██████████| 6040/6040 [00:30<00:00, 195.01it/s]\n",
            "100%|██████████| 6040/6040 [00:31<00:00, 194.33it/s]\n",
            "100%|██████████| 6040/6040 [00:32<00:00, 183.65it/s]\n",
            "100%|██████████| 6040/6040 [00:31<00:00, 189.66it/s]\n",
            "100%|██████████| 6040/6040 [00:31<00:00, 193.63it/s]\n",
            "100%|██████████| 6040/6040 [00:31<00:00, 194.44it/s]\n",
            "100%|██████████| 6040/6040 [00:31<00:00, 191.12it/s]\n",
            "100%|██████████| 6040/6040 [00:31<00:00, 191.10it/s]\n",
            "100%|██████████| 6040/6040 [00:31<00:00, 193.79it/s]\n",
            "100%|██████████| 6040/6040 [00:31<00:00, 194.18it/s]\n",
            "100%|██████████| 121/121 [00:53<00:00,  2.25it/s]\n"
          ]
        },
        {
          "output_type": "stream",
          "name": "stdout",
          "text": [
            "epoch 10: loss = 1.3070974991317617, HR@200 = 0.28228476821192056, AP = 0.897680432264996\n"
          ]
        },
        {
          "output_type": "stream",
          "name": "stderr",
          "text": [
            "100%|██████████| 6040/6040 [00:30<00:00, 198.67it/s]\n",
            "100%|██████████| 6040/6040 [00:30<00:00, 195.31it/s]\n",
            "100%|██████████| 6040/6040 [00:31<00:00, 193.61it/s]\n",
            "100%|██████████| 6040/6040 [00:31<00:00, 193.47it/s]\n",
            "100%|██████████| 6040/6040 [00:31<00:00, 192.99it/s]\n",
            "100%|██████████| 6040/6040 [00:31<00:00, 189.01it/s]\n",
            "100%|██████████| 6040/6040 [00:31<00:00, 193.35it/s]\n",
            "100%|██████████| 6040/6040 [00:31<00:00, 194.28it/s]\n",
            "100%|██████████| 6040/6040 [00:31<00:00, 190.70it/s]\n",
            "100%|██████████| 6040/6040 [00:31<00:00, 191.19it/s]\n",
            "100%|██████████| 121/121 [00:52<00:00,  2.30it/s]\n"
          ]
        },
        {
          "output_type": "stream",
          "name": "stdout",
          "text": [
            "epoch 20: loss = 0.9467238002142172, HR@200 = 0.34983443708609274, AP = 0.8782350912796241\n"
          ]
        },
        {
          "output_type": "stream",
          "name": "stderr",
          "text": [
            "100%|██████████| 6040/6040 [00:31<00:00, 191.64it/s]\n",
            "100%|██████████| 6040/6040 [00:31<00:00, 194.11it/s]\n",
            "100%|██████████| 6040/6040 [00:31<00:00, 194.40it/s]\n",
            "100%|██████████| 6040/6040 [00:32<00:00, 188.60it/s]\n",
            "100%|██████████| 6040/6040 [00:31<00:00, 193.79it/s]\n",
            "100%|██████████| 6040/6040 [00:31<00:00, 193.86it/s]\n",
            "100%|██████████| 6040/6040 [00:31<00:00, 193.57it/s]\n",
            "100%|██████████| 6040/6040 [00:31<00:00, 189.10it/s]\n",
            "100%|██████████| 6040/6040 [00:31<00:00, 193.96it/s]\n",
            "100%|██████████| 6040/6040 [00:32<00:00, 186.73it/s]\n",
            "100%|██████████| 121/121 [00:50<00:00,  2.38it/s]\n"
          ]
        },
        {
          "output_type": "stream",
          "name": "stdout",
          "text": [
            "epoch 30: loss = 0.8028816521167755, HR@200 = 0.38162251655629137, AP = 0.8683824420956574\n"
          ]
        },
        {
          "output_type": "stream",
          "name": "stderr",
          "text": [
            "100%|██████████| 6040/6040 [00:31<00:00, 194.04it/s]\n",
            "100%|██████████| 6040/6040 [00:30<00:00, 195.48it/s]\n",
            "100%|██████████| 6040/6040 [00:31<00:00, 189.26it/s]\n",
            "100%|██████████| 6040/6040 [00:31<00:00, 193.24it/s]\n",
            "100%|██████████| 6040/6040 [00:31<00:00, 194.43it/s]\n",
            "100%|██████████| 6040/6040 [00:31<00:00, 194.35it/s]\n",
            "100%|██████████| 6040/6040 [00:32<00:00, 188.48it/s]\n",
            "100%|██████████| 6040/6040 [00:31<00:00, 194.44it/s]\n",
            "100%|██████████| 6040/6040 [00:32<00:00, 188.52it/s]\n",
            "100%|██████████| 6040/6040 [00:31<00:00, 191.80it/s]\n",
            "100%|██████████| 121/121 [00:49<00:00,  2.44it/s]\n"
          ]
        },
        {
          "output_type": "stream",
          "name": "stdout",
          "text": [
            "epoch 40: loss = 0.7428864360712962, HR@200 = 0.4009933774834437, AP = 0.8598592383884359\n"
          ]
        },
        {
          "output_type": "stream",
          "name": "stderr",
          "text": [
            "100%|██████████| 6040/6040 [00:31<00:00, 194.17it/s]\n",
            "100%|██████████| 6040/6040 [00:31<00:00, 189.57it/s]\n",
            "100%|██████████| 6040/6040 [00:31<00:00, 194.41it/s]\n",
            "100%|██████████| 6040/6040 [00:31<00:00, 194.80it/s]\n",
            "100%|██████████| 6040/6040 [00:30<00:00, 194.90it/s]\n",
            "100%|██████████| 6040/6040 [00:31<00:00, 189.24it/s]\n",
            "100%|██████████| 6040/6040 [00:32<00:00, 185.85it/s]\n",
            "100%|██████████| 6040/6040 [00:31<00:00, 194.43it/s]\n",
            "100%|██████████| 6040/6040 [00:31<00:00, 194.66it/s]\n",
            "100%|██████████| 6040/6040 [00:31<00:00, 190.21it/s]\n",
            "100%|██████████| 121/121 [00:48<00:00,  2.47it/s]\n"
          ]
        },
        {
          "output_type": "stream",
          "name": "stdout",
          "text": [
            "epoch 50: loss = 0.716802469228968, HR@200 = 0.40480132450331124, AP = 0.8537044577460207\n",
            "\n",
            "Finished Training:\n",
            "Best metrics are:\n",
            "Hit Ratio eval = 0.40480132450331124\n"
          ]
        },
        {
          "output_type": "stream",
          "name": "stderr",
          "text": [
            "100%|██████████| 121/121 [00:50<00:00,  2.42it/s]\n",
            "100%|██████████| 6040/6040 [00:31<00:00, 193.98it/s]\n",
            "100%|██████████| 121/121 [00:57<00:00,  2.11it/s]\n"
          ]
        },
        {
          "output_type": "stream",
          "name": "stdout",
          "text": [
            "epoch 0: loss = 2.816100556329386, HR@200 = 0.123841059602649, AP = 0.8997021445241189\n"
          ]
        },
        {
          "output_type": "stream",
          "name": "stderr",
          "text": [
            "100%|██████████| 6040/6040 [00:32<00:00, 186.77it/s]\n",
            "100%|██████████| 6040/6040 [00:32<00:00, 187.40it/s]\n",
            "100%|██████████| 6040/6040 [00:31<00:00, 188.90it/s]\n",
            "100%|██████████| 6040/6040 [00:31<00:00, 193.86it/s]\n",
            "100%|██████████| 6040/6040 [00:31<00:00, 194.73it/s]\n",
            "100%|██████████| 6040/6040 [00:31<00:00, 188.98it/s]\n",
            "100%|██████████| 6040/6040 [00:31<00:00, 194.52it/s]\n",
            "100%|██████████| 6040/6040 [00:31<00:00, 194.52it/s]\n",
            "100%|██████████| 6040/6040 [00:31<00:00, 192.74it/s]\n",
            "100%|██████████| 6040/6040 [00:32<00:00, 184.24it/s]\n",
            "100%|██████████| 121/121 [00:53<00:00,  2.26it/s]\n"
          ]
        },
        {
          "output_type": "stream",
          "name": "stdout",
          "text": [
            "epoch 10: loss = 1.2915230272917557, HR@200 = 0.27880794701986755, AP = 0.9014243656032344\n"
          ]
        },
        {
          "output_type": "stream",
          "name": "stderr",
          "text": [
            "100%|██████████| 6040/6040 [00:31<00:00, 194.58it/s]\n",
            "100%|██████████| 6040/6040 [00:30<00:00, 195.14it/s]\n",
            "100%|██████████| 6040/6040 [00:31<00:00, 194.14it/s]\n",
            "100%|██████████| 6040/6040 [00:31<00:00, 188.88it/s]\n",
            "100%|██████████| 6040/6040 [00:31<00:00, 194.21it/s]\n",
            "100%|██████████| 6040/6040 [00:30<00:00, 195.22it/s]\n",
            "100%|██████████| 6040/6040 [00:31<00:00, 193.15it/s]\n",
            "100%|██████████| 6040/6040 [00:31<00:00, 188.81it/s]\n",
            "100%|██████████| 6040/6040 [00:28<00:00, 209.57it/s]\n",
            "100%|██████████| 6040/6040 [00:30<00:00, 195.02it/s]\n",
            "100%|██████████| 121/121 [00:51<00:00,  2.34it/s]\n"
          ]
        },
        {
          "output_type": "stream",
          "name": "stdout",
          "text": [
            "epoch 20: loss = 0.9514206392086105, HR@200 = 0.35529801324503313, AP = 0.8824341007221166\n"
          ]
        },
        {
          "output_type": "stream",
          "name": "stderr",
          "text": [
            "100%|██████████| 6040/6040 [00:30<00:00, 195.24it/s]\n",
            "100%|██████████| 6040/6040 [00:30<00:00, 194.91it/s]\n",
            "100%|██████████| 6040/6040 [00:31<00:00, 190.26it/s]\n",
            "100%|██████████| 6040/6040 [00:31<00:00, 193.01it/s]\n",
            "100%|██████████| 6040/6040 [00:31<00:00, 191.97it/s]\n",
            "100%|██████████| 6040/6040 [00:32<00:00, 186.32it/s]\n",
            "100%|██████████| 6040/6040 [00:31<00:00, 190.82it/s]\n",
            "100%|██████████| 6040/6040 [00:31<00:00, 194.75it/s]\n",
            "100%|██████████| 6040/6040 [00:31<00:00, 194.51it/s]\n",
            "100%|██████████| 6040/6040 [00:31<00:00, 191.39it/s]\n",
            "100%|██████████| 121/121 [00:49<00:00,  2.43it/s]\n"
          ]
        },
        {
          "output_type": "stream",
          "name": "stdout",
          "text": [
            "epoch 30: loss = 0.8059471089146193, HR@200 = 0.3922185430463576, AP = 0.8690343850815674\n"
          ]
        },
        {
          "output_type": "stream",
          "name": "stderr",
          "text": [
            "100%|██████████| 6040/6040 [00:31<00:00, 194.84it/s]\n",
            "100%|██████████| 6040/6040 [00:31<00:00, 189.95it/s]\n",
            "100%|██████████| 6040/6040 [00:31<00:00, 194.27it/s]\n",
            "100%|██████████| 6040/6040 [00:32<00:00, 188.01it/s]\n",
            "100%|██████████| 6040/6040 [00:31<00:00, 192.62it/s]\n",
            "100%|██████████| 6040/6040 [00:31<00:00, 190.69it/s]\n",
            "100%|██████████| 6040/6040 [00:31<00:00, 194.56it/s]\n",
            "100%|██████████| 6040/6040 [00:31<00:00, 194.15it/s]\n",
            "100%|██████████| 6040/6040 [00:31<00:00, 192.66it/s]\n",
            "100%|██████████| 6040/6040 [00:31<00:00, 191.05it/s]\n",
            "100%|██████████| 121/121 [00:48<00:00,  2.49it/s]\n"
          ]
        },
        {
          "output_type": "stream",
          "name": "stdout",
          "text": [
            "epoch 40: loss = 0.7376064045835804, HR@200 = 0.4052980132450331, AP = 0.8627939544858019\n"
          ]
        },
        {
          "output_type": "stream",
          "name": "stderr",
          "text": [
            "100%|██████████| 6040/6040 [00:31<00:00, 191.21it/s]\n",
            "100%|██████████| 6040/6040 [00:32<00:00, 186.94it/s]\n",
            "100%|██████████| 6040/6040 [00:30<00:00, 195.09it/s]\n",
            "100%|██████████| 6040/6040 [00:31<00:00, 193.49it/s]\n",
            "100%|██████████| 6040/6040 [00:31<00:00, 191.21it/s]\n",
            "100%|██████████| 6040/6040 [00:30<00:00, 195.51it/s]\n",
            "100%|██████████| 6040/6040 [00:31<00:00, 194.45it/s]\n",
            "100%|██████████| 6040/6040 [00:31<00:00, 194.09it/s]\n",
            "100%|██████████| 6040/6040 [00:31<00:00, 189.36it/s]\n",
            "100%|██████████| 6040/6040 [00:31<00:00, 194.79it/s]\n",
            "100%|██████████| 121/121 [00:49<00:00,  2.42it/s]\n"
          ]
        },
        {
          "output_type": "stream",
          "name": "stdout",
          "text": [
            "epoch 50: loss = 0.7083230346700312, HR@200 = 0.4240066225165563, AP = 0.8602339987723768\n",
            "\n",
            "Finished Training:\n",
            "Best metrics are:\n",
            "Hit Ratio eval = 0.4240066225165563\n"
          ]
        },
        {
          "output_type": "stream",
          "name": "stderr",
          "text": [
            "100%|██████████| 121/121 [00:49<00:00,  2.44it/s]\n"
          ]
        }
      ]
    },
    {
      "cell_type": "code",
      "source": [
        "batch_size = 50\n",
        "lr = 0.001\n",
        "layers = [1024, 512, 256]\n",
        "\n",
        "transition_weights = [2, 4, 8, 16]\n",
        "# transition_weights = [2, 16]\n",
        "\n",
        "for transition_weight in transition_weights:\n",
        "  torch.manual_seed(42)\n",
        "  np.random.seed(42) \n",
        "  max_width = layers[0]\n",
        "  Candidates_config = {'num_items': n_items, 'n_neg_samples': num_neg_samples, 'max_watches': max_watches, 'latent_dim': 256, 'features_dim': 267, 'layers':layers, 'trans_weight':transition_weight, 'N_candidates':250}\n",
        "  model_Candidates = Candidates(Candidates_config)\n",
        "\n",
        "  training_config = {'n_neg_samples': num_neg_samples, 'batch_size': batch_size, 'optimizer_type': Adam, 'optimizer_parameter': {'lr': lr}, \\\n",
        "                'criterion' : torch.nn.CrossEntropyLoss, 'n_epochs' : 51, 'early_stopping' : 8, 'verbose' : True, 'device' : device}\n",
        "\n",
        "  training_candidates = Training(model_Candidates, training_config)\n",
        "  training_candidates.train()\n",
        "  training_candidates.evaluate_epoch(training_candidates.dl_val)\n",
        "  add_results(training_candidates, results, transition_weight, max_width, batch_size, lr)"
      ],
      "metadata": {
        "colab": {
          "base_uri": "https://localhost:8080/"
        },
        "id": "M7Pu-YdOMk1d",
        "outputId": "7cd83417-db41-41be-e1cf-ccf41df67444"
      },
      "execution_count": 79,
      "outputs": [
        {
          "output_type": "stream",
          "name": "stderr",
          "text": [
            "100%|██████████| 6040/6040 [00:32<00:00, 188.51it/s]\n",
            "100%|██████████| 121/121 [01:03<00:00,  1.91it/s]\n"
          ]
        },
        {
          "output_type": "stream",
          "name": "stdout",
          "text": [
            "epoch 0: loss = 2.658005600733473, HR@200 = 0.13062913907284768, AP = 0.9122942573162047\n"
          ]
        },
        {
          "output_type": "stream",
          "name": "stderr",
          "text": [
            "100%|██████████| 6040/6040 [00:31<00:00, 194.59it/s]\n",
            "100%|██████████| 6040/6040 [00:31<00:00, 193.73it/s]\n",
            "100%|██████████| 6040/6040 [00:32<00:00, 185.92it/s]\n",
            "100%|██████████| 6040/6040 [00:31<00:00, 193.26it/s]\n",
            "100%|██████████| 6040/6040 [00:31<00:00, 190.62it/s]\n",
            "100%|██████████| 6040/6040 [00:32<00:00, 185.37it/s]\n",
            "100%|██████████| 6040/6040 [00:31<00:00, 190.60it/s]\n",
            "100%|██████████| 6040/6040 [00:31<00:00, 193.00it/s]\n",
            "100%|██████████| 6040/6040 [00:31<00:00, 193.69it/s]\n",
            "100%|██████████| 6040/6040 [00:29<00:00, 203.54it/s]\n",
            "100%|██████████| 121/121 [00:52<00:00,  2.29it/s]\n"
          ]
        },
        {
          "output_type": "stream",
          "name": "stdout",
          "text": [
            "epoch 10: loss = 1.2310152538614163, HR@200 = 0.2860927152317881, AP = 0.9061955999801976\n"
          ]
        },
        {
          "output_type": "stream",
          "name": "stderr",
          "text": [
            "100%|██████████| 6040/6040 [00:31<00:00, 191.22it/s]\n",
            "100%|██████████| 6040/6040 [00:31<00:00, 190.95it/s]\n",
            "100%|██████████| 6040/6040 [00:31<00:00, 193.24it/s]\n",
            "100%|██████████| 6040/6040 [00:31<00:00, 193.82it/s]\n",
            "100%|██████████| 6040/6040 [00:32<00:00, 188.15it/s]\n",
            "100%|██████████| 6040/6040 [00:31<00:00, 193.59it/s]\n",
            "100%|██████████| 6040/6040 [00:31<00:00, 194.30it/s]\n",
            "100%|██████████| 6040/6040 [00:31<00:00, 193.61it/s]\n",
            "100%|██████████| 6040/6040 [00:33<00:00, 182.92it/s]\n",
            "100%|██████████| 6040/6040 [00:31<00:00, 193.85it/s]\n",
            "100%|██████████| 121/121 [00:51<00:00,  2.34it/s]\n"
          ]
        },
        {
          "output_type": "stream",
          "name": "stdout",
          "text": [
            "epoch 20: loss = 0.8999581946911204, HR@200 = 0.3697019867549669, AP = 0.8842780935340254\n"
          ]
        },
        {
          "output_type": "stream",
          "name": "stderr",
          "text": [
            "100%|██████████| 6040/6040 [00:31<00:00, 192.97it/s]\n",
            "100%|██████████| 6040/6040 [00:31<00:00, 194.15it/s]\n",
            "100%|██████████| 6040/6040 [00:31<00:00, 191.76it/s]\n",
            "100%|██████████| 6040/6040 [00:31<00:00, 190.46it/s]\n",
            "100%|██████████| 6040/6040 [00:31<00:00, 193.88it/s]\n",
            "100%|██████████| 6040/6040 [00:31<00:00, 194.42it/s]\n",
            "100%|██████████| 6040/6040 [00:31<00:00, 190.23it/s]\n",
            "100%|██████████| 6040/6040 [00:31<00:00, 192.35it/s]\n",
            "100%|██████████| 6040/6040 [00:31<00:00, 193.64it/s]\n",
            "100%|██████████| 6040/6040 [00:31<00:00, 194.56it/s]\n",
            "100%|██████████| 121/121 [00:51<00:00,  2.34it/s]\n"
          ]
        },
        {
          "output_type": "stream",
          "name": "stdout",
          "text": [
            "epoch 30: loss = 0.7640431386005405, HR@200 = 0.39470198675496687, AP = 0.8719671039416143\n"
          ]
        },
        {
          "output_type": "stream",
          "name": "stderr",
          "text": [
            "100%|██████████| 6040/6040 [00:31<00:00, 192.58it/s]\n",
            "100%|██████████| 6040/6040 [00:31<00:00, 189.86it/s]\n",
            "100%|██████████| 6040/6040 [00:31<00:00, 193.58it/s]\n",
            "100%|██████████| 6040/6040 [00:31<00:00, 193.71it/s]\n",
            "100%|██████████| 6040/6040 [00:30<00:00, 195.20it/s]\n",
            "100%|██████████| 6040/6040 [00:32<00:00, 188.56it/s]\n",
            "100%|██████████| 6040/6040 [00:31<00:00, 194.46it/s]\n",
            "100%|██████████| 6040/6040 [00:30<00:00, 194.88it/s]\n",
            "100%|██████████| 6040/6040 [00:31<00:00, 193.08it/s]\n",
            "100%|██████████| 6040/6040 [00:32<00:00, 188.72it/s]\n",
            "100%|██████████| 121/121 [00:48<00:00,  2.49it/s]\n"
          ]
        },
        {
          "output_type": "stream",
          "name": "stdout",
          "text": [
            "epoch 40: loss = 0.7071053767539808, HR@200 = 0.41456953642384103, AP = 0.8691025861337718\n"
          ]
        },
        {
          "output_type": "stream",
          "name": "stderr",
          "text": [
            "100%|██████████| 6040/6040 [00:31<00:00, 193.48it/s]\n",
            "100%|██████████| 6040/6040 [00:31<00:00, 189.67it/s]\n",
            "100%|██████████| 6040/6040 [00:32<00:00, 188.57it/s]\n",
            "100%|██████████| 6040/6040 [00:31<00:00, 194.54it/s]\n",
            "100%|██████████| 6040/6040 [00:31<00:00, 190.27it/s]\n",
            "100%|██████████| 6040/6040 [00:31<00:00, 193.49it/s]\n",
            "100%|██████████| 6040/6040 [00:31<00:00, 194.27it/s]\n",
            "100%|██████████| 6040/6040 [00:30<00:00, 194.90it/s]\n",
            "100%|██████████| 6040/6040 [00:32<00:00, 188.71it/s]\n",
            "100%|██████████| 6040/6040 [00:31<00:00, 194.49it/s]\n",
            "100%|██████████| 121/121 [00:48<00:00,  2.51it/s]\n"
          ]
        },
        {
          "output_type": "stream",
          "name": "stdout",
          "text": [
            "epoch 50: loss = 0.6720933604874457, HR@200 = 0.4165562913907285, AP = 0.8636770974539563\n",
            "\n",
            "Finished Training:\n",
            "Best metrics are:\n",
            "Hit Ratio eval = 0.4165562913907285\n"
          ]
        },
        {
          "output_type": "stream",
          "name": "stderr",
          "text": [
            "100%|██████████| 121/121 [00:49<00:00,  2.44it/s]\n",
            "100%|██████████| 6040/6040 [00:31<00:00, 194.76it/s]\n",
            "100%|██████████| 121/121 [00:57<00:00,  2.11it/s]\n"
          ]
        },
        {
          "output_type": "stream",
          "name": "stdout",
          "text": [
            "epoch 0: loss = 2.4452002157636037, HR@200 = 0.1357615894039735, AP = 0.9277329947953473\n"
          ]
        },
        {
          "output_type": "stream",
          "name": "stderr",
          "text": [
            "100%|██████████| 6040/6040 [00:31<00:00, 194.27it/s]\n",
            "100%|██████████| 6040/6040 [00:31<00:00, 192.77it/s]\n",
            "100%|██████████| 6040/6040 [00:31<00:00, 194.22it/s]\n",
            "100%|██████████| 6040/6040 [00:30<00:00, 195.83it/s]\n",
            "100%|██████████| 6040/6040 [00:30<00:00, 195.17it/s]\n",
            "100%|██████████| 6040/6040 [00:31<00:00, 189.65it/s]\n",
            "100%|██████████| 6040/6040 [00:31<00:00, 194.49it/s]\n",
            "100%|██████████| 6040/6040 [00:31<00:00, 194.70it/s]\n",
            "100%|██████████| 6040/6040 [00:31<00:00, 192.12it/s]\n",
            "100%|██████████| 6040/6040 [00:31<00:00, 190.58it/s]\n",
            "100%|██████████| 121/121 [00:53<00:00,  2.26it/s]\n"
          ]
        },
        {
          "output_type": "stream",
          "name": "stdout",
          "text": [
            "epoch 10: loss = 1.1949528645304655, HR@200 = 0.2846026490066225, AP = 0.9171291832100787\n"
          ]
        },
        {
          "output_type": "stream",
          "name": "stderr",
          "text": [
            "100%|██████████| 6040/6040 [00:31<00:00, 193.47it/s]\n",
            "100%|██████████| 6040/6040 [00:31<00:00, 194.01it/s]\n",
            "100%|██████████| 6040/6040 [00:31<00:00, 193.80it/s]\n",
            "100%|██████████| 6040/6040 [00:32<00:00, 188.59it/s]\n",
            "100%|██████████| 6040/6040 [00:32<00:00, 187.96it/s]\n",
            "100%|██████████| 6040/6040 [00:31<00:00, 193.61it/s]\n",
            "100%|██████████| 6040/6040 [00:31<00:00, 191.02it/s]\n",
            "100%|██████████| 6040/6040 [00:31<00:00, 189.65it/s]\n",
            "100%|██████████| 6040/6040 [00:31<00:00, 189.78it/s]\n",
            "100%|██████████| 6040/6040 [00:31<00:00, 193.72it/s]\n",
            "100%|██████████| 121/121 [00:51<00:00,  2.33it/s]\n"
          ]
        },
        {
          "output_type": "stream",
          "name": "stdout",
          "text": [
            "epoch 20: loss = 0.87653303180408, HR@200 = 0.35149006622516554, AP = 0.8938736126942377\n"
          ]
        },
        {
          "output_type": "stream",
          "name": "stderr",
          "text": [
            "100%|██████████| 6040/6040 [00:31<00:00, 193.28it/s]\n",
            "100%|██████████| 6040/6040 [00:32<00:00, 188.63it/s]\n",
            "100%|██████████| 6040/6040 [00:31<00:00, 194.46it/s]\n",
            "100%|██████████| 6040/6040 [00:31<00:00, 193.91it/s]\n",
            "100%|██████████| 6040/6040 [00:31<00:00, 194.02it/s]\n",
            "100%|██████████| 6040/6040 [00:32<00:00, 188.28it/s]\n",
            "100%|██████████| 6040/6040 [00:32<00:00, 187.78it/s]\n",
            "100%|██████████| 6040/6040 [00:31<00:00, 194.48it/s]\n",
            "100%|██████████| 6040/6040 [00:31<00:00, 191.58it/s]\n",
            "100%|██████████| 6040/6040 [00:31<00:00, 191.55it/s]\n",
            "100%|██████████| 121/121 [00:49<00:00,  2.43it/s]\n"
          ]
        },
        {
          "output_type": "stream",
          "name": "stdout",
          "text": [
            "epoch 30: loss = 0.7365015686989226, HR@200 = 0.38294701986754964, AP = 0.8814240254852896\n"
          ]
        },
        {
          "output_type": "stream",
          "name": "stderr",
          "text": [
            "100%|██████████| 6040/6040 [00:32<00:00, 188.65it/s]\n",
            "100%|██████████| 6040/6040 [00:30<00:00, 194.91it/s]\n",
            "100%|██████████| 6040/6040 [00:31<00:00, 194.30it/s]\n",
            "100%|██████████| 6040/6040 [00:31<00:00, 193.09it/s]\n",
            "100%|██████████| 6040/6040 [00:31<00:00, 189.53it/s]\n",
            "100%|██████████| 6040/6040 [00:31<00:00, 193.79it/s]\n",
            "100%|██████████| 6040/6040 [00:31<00:00, 194.56it/s]\n",
            "100%|██████████| 6040/6040 [00:31<00:00, 191.77it/s]\n",
            "100%|██████████| 6040/6040 [00:32<00:00, 183.80it/s]\n",
            "100%|██████████| 6040/6040 [00:31<00:00, 191.66it/s]\n",
            "100%|██████████| 121/121 [00:49<00:00,  2.43it/s]\n"
          ]
        },
        {
          "output_type": "stream",
          "name": "stdout",
          "text": [
            "epoch 40: loss = 0.6774293708769198, HR@200 = 0.38990066225165565, AP = 0.8726145508171343\n"
          ]
        },
        {
          "output_type": "stream",
          "name": "stderr",
          "text": [
            "100%|██████████| 6040/6040 [00:31<00:00, 189.61it/s]\n",
            "100%|██████████| 6040/6040 [00:30<00:00, 194.86it/s]\n",
            "100%|██████████| 6040/6040 [00:31<00:00, 194.55it/s]\n",
            "100%|██████████| 6040/6040 [00:31<00:00, 192.41it/s]\n",
            "100%|██████████| 6040/6040 [00:31<00:00, 191.12it/s]\n",
            "100%|██████████| 6040/6040 [00:30<00:00, 195.05it/s]\n",
            "100%|██████████| 6040/6040 [00:31<00:00, 194.42it/s]\n",
            "100%|██████████| 6040/6040 [00:31<00:00, 190.25it/s]\n",
            "100%|██████████| 6040/6040 [00:31<00:00, 192.37it/s]\n",
            "100%|██████████| 6040/6040 [00:31<00:00, 194.59it/s]\n",
            "100%|██████████| 121/121 [00:51<00:00,  2.34it/s]\n"
          ]
        },
        {
          "output_type": "stream",
          "name": "stdout",
          "text": [
            "epoch 50: loss = 0.6436178094935634, HR@200 = 0.3978476821192053, AP = 0.86609657561013\n",
            "\n",
            "Finished Training:\n",
            "Best metrics are:\n",
            "Hit Ratio eval = 0.3978476821192053\n"
          ]
        },
        {
          "output_type": "stream",
          "name": "stderr",
          "text": [
            "100%|██████████| 121/121 [00:46<00:00,  2.58it/s]\n",
            "100%|██████████| 6040/6040 [00:31<00:00, 193.80it/s]\n",
            "100%|██████████| 121/121 [00:57<00:00,  2.11it/s]\n"
          ]
        },
        {
          "output_type": "stream",
          "name": "stdout",
          "text": [
            "epoch 0: loss = 2.318163108865157, HR@200 = 0.14188741721854303, AP = 0.9361347696739546\n"
          ]
        },
        {
          "output_type": "stream",
          "name": "stderr",
          "text": [
            "100%|██████████| 6040/6040 [00:31<00:00, 189.64it/s]\n",
            "100%|██████████| 6040/6040 [00:30<00:00, 195.09it/s]\n",
            "100%|██████████| 6040/6040 [00:30<00:00, 195.01it/s]\n",
            "100%|██████████| 6040/6040 [00:31<00:00, 192.53it/s]\n",
            "100%|██████████| 6040/6040 [00:31<00:00, 191.16it/s]\n",
            "100%|██████████| 6040/6040 [00:31<00:00, 194.48it/s]\n",
            "100%|██████████| 6040/6040 [00:31<00:00, 191.82it/s]\n",
            "100%|██████████| 6040/6040 [00:32<00:00, 186.27it/s]\n",
            "100%|██████████| 6040/6040 [00:31<00:00, 193.02it/s]\n",
            "100%|██████████| 6040/6040 [00:31<00:00, 194.43it/s]\n",
            "100%|██████████| 121/121 [00:53<00:00,  2.26it/s]\n"
          ]
        },
        {
          "output_type": "stream",
          "name": "stdout",
          "text": [
            "epoch 10: loss = 1.1315277212108208, HR@200 = 0.28874172185430463, AP = 0.929362691048696\n"
          ]
        },
        {
          "output_type": "stream",
          "name": "stderr",
          "text": [
            "100%|██████████| 6040/6040 [00:31<00:00, 193.93it/s]\n",
            "100%|██████████| 6040/6040 [00:31<00:00, 192.85it/s]\n",
            "100%|██████████| 6040/6040 [00:31<00:00, 190.10it/s]\n",
            "100%|██████████| 6040/6040 [00:30<00:00, 195.10it/s]\n",
            "100%|██████████| 6040/6040 [00:31<00:00, 193.97it/s]\n",
            "100%|██████████| 6040/6040 [00:31<00:00, 190.28it/s]\n",
            "100%|██████████| 6040/6040 [00:31<00:00, 190.87it/s]\n",
            "100%|██████████| 6040/6040 [00:32<00:00, 188.29it/s]\n",
            "100%|██████████| 6040/6040 [00:31<00:00, 194.02it/s]\n",
            "100%|██████████| 6040/6040 [00:32<00:00, 186.73it/s]\n",
            "100%|██████████| 121/121 [00:50<00:00,  2.38it/s]\n"
          ]
        },
        {
          "output_type": "stream",
          "name": "stdout",
          "text": [
            "epoch 20: loss = 0.8114745230148762, HR@200 = 0.3480132450331126, AP = 0.9048468703194794\n"
          ]
        },
        {
          "output_type": "stream",
          "name": "stderr",
          "text": [
            "100%|██████████| 6040/6040 [00:32<00:00, 187.63it/s]\n",
            "100%|██████████| 6040/6040 [00:31<00:00, 194.24it/s]\n",
            "100%|██████████| 6040/6040 [00:30<00:00, 195.07it/s]\n",
            "100%|██████████| 6040/6040 [00:31<00:00, 192.55it/s]\n",
            "100%|██████████| 6040/6040 [00:31<00:00, 190.05it/s]\n",
            "100%|██████████| 6040/6040 [00:30<00:00, 194.92it/s]\n",
            "100%|██████████| 6040/6040 [00:31<00:00, 194.10it/s]\n",
            "100%|██████████| 6040/6040 [00:32<00:00, 185.30it/s]\n",
            "100%|██████████| 6040/6040 [00:31<00:00, 193.07it/s]\n",
            "100%|██████████| 6040/6040 [00:31<00:00, 194.82it/s]\n",
            "100%|██████████| 121/121 [00:51<00:00,  2.35it/s]\n"
          ]
        },
        {
          "output_type": "stream",
          "name": "stdout",
          "text": [
            "epoch 30: loss = 0.6727810123478932, HR@200 = 0.370364238410596, AP = 0.8889005560384149\n"
          ]
        },
        {
          "output_type": "stream",
          "name": "stderr",
          "text": [
            "100%|██████████| 6040/6040 [00:31<00:00, 194.63it/s]\n",
            "100%|██████████| 6040/6040 [00:31<00:00, 193.74it/s]\n",
            "100%|██████████| 6040/6040 [00:31<00:00, 189.64it/s]\n",
            "100%|██████████| 6040/6040 [00:31<00:00, 192.20it/s]\n",
            "100%|██████████| 6040/6040 [00:31<00:00, 194.02it/s]\n",
            "100%|██████████| 6040/6040 [00:30<00:00, 194.88it/s]\n",
            "100%|██████████| 6040/6040 [00:31<00:00, 189.51it/s]\n",
            "100%|██████████| 6040/6040 [00:31<00:00, 192.12it/s]\n",
            "100%|██████████| 6040/6040 [00:31<00:00, 189.39it/s]\n",
            "100%|██████████| 6040/6040 [00:31<00:00, 191.93it/s]\n",
            "100%|██████████| 121/121 [00:50<00:00,  2.38it/s]\n"
          ]
        },
        {
          "output_type": "stream",
          "name": "stdout",
          "text": [
            "epoch 40: loss = 0.6084462730090646, HR@200 = 0.3675496688741722, AP = 0.882360560968448\n"
          ]
        },
        {
          "output_type": "stream",
          "name": "stderr",
          "text": [
            "100%|██████████| 6040/6040 [00:31<00:00, 192.81it/s]\n",
            "100%|██████████| 6040/6040 [00:32<00:00, 188.64it/s]\n",
            "100%|██████████| 6040/6040 [00:31<00:00, 194.12it/s]\n",
            "100%|██████████| 6040/6040 [00:31<00:00, 193.94it/s]\n",
            "100%|██████████| 6040/6040 [00:31<00:00, 192.15it/s]\n",
            "100%|██████████| 6040/6040 [00:31<00:00, 190.15it/s]\n",
            "100%|██████████| 6040/6040 [00:31<00:00, 193.75it/s]\n",
            "100%|██████████| 6040/6040 [00:31<00:00, 194.12it/s]\n",
            "100%|██████████| 6040/6040 [00:31<00:00, 189.64it/s]\n",
            "100%|██████████| 6040/6040 [00:29<00:00, 206.40it/s]\n",
            "100%|██████████| 121/121 [00:50<00:00,  2.40it/s]\n"
          ]
        },
        {
          "output_type": "stream",
          "name": "stdout",
          "text": [
            "epoch 50: loss = 0.5835245567133391, HR@200 = 0.3754966887417219, AP = 0.8709279992865445\n",
            "\n",
            "Finished Training:\n",
            "Best metrics are:\n",
            "Hit Ratio eval = 0.3754966887417219\n"
          ]
        },
        {
          "output_type": "stream",
          "name": "stderr",
          "text": [
            "100%|██████████| 121/121 [00:51<00:00,  2.37it/s]\n",
            "100%|██████████| 6040/6040 [00:31<00:00, 194.33it/s]\n",
            "100%|██████████| 121/121 [00:58<00:00,  2.07it/s]\n"
          ]
        },
        {
          "output_type": "stream",
          "name": "stdout",
          "text": [
            "epoch 0: loss = 2.6749139702675357, HR@200 = 0.14370860927152318, AP = 0.9298847651995696\n"
          ]
        },
        {
          "output_type": "stream",
          "name": "stderr",
          "text": [
            "100%|██████████| 6040/6040 [00:31<00:00, 192.30it/s]\n",
            "100%|██████████| 6040/6040 [00:31<00:00, 190.86it/s]\n",
            "100%|██████████| 6040/6040 [00:31<00:00, 194.31it/s]\n",
            "100%|██████████| 6040/6040 [00:32<00:00, 187.90it/s]\n",
            "100%|██████████| 6040/6040 [00:31<00:00, 188.85it/s]\n",
            "100%|██████████| 6040/6040 [00:31<00:00, 193.86it/s]\n",
            "100%|██████████| 6040/6040 [00:30<00:00, 195.13it/s]\n",
            "100%|██████████| 6040/6040 [00:31<00:00, 193.30it/s]\n",
            "100%|██████████| 6040/6040 [00:31<00:00, 189.24it/s]\n",
            "100%|██████████| 6040/6040 [00:31<00:00, 193.98it/s]\n",
            "100%|██████████| 121/121 [00:57<00:00,  2.11it/s]\n"
          ]
        },
        {
          "output_type": "stream",
          "name": "stdout",
          "text": [
            "epoch 10: loss = 1.2042677628036762, HR@200 = 0.23841059602649006, AP = 0.9309827123546074\n"
          ]
        },
        {
          "output_type": "stream",
          "name": "stderr",
          "text": [
            "100%|██████████| 6040/6040 [00:31<00:00, 194.08it/s]\n",
            "100%|██████████| 6040/6040 [00:32<00:00, 188.06it/s]\n",
            "100%|██████████| 6040/6040 [00:31<00:00, 193.84it/s]\n",
            "100%|██████████| 6040/6040 [00:32<00:00, 188.38it/s]\n",
            "100%|██████████| 6040/6040 [00:31<00:00, 190.02it/s]\n",
            "100%|██████████| 6040/6040 [00:31<00:00, 191.70it/s]\n",
            "100%|██████████| 6040/6040 [00:30<00:00, 195.03it/s]\n",
            "100%|██████████| 6040/6040 [00:31<00:00, 193.71it/s]\n",
            "100%|██████████| 6040/6040 [00:31<00:00, 189.49it/s]\n",
            "100%|██████████| 6040/6040 [00:31<00:00, 193.25it/s]\n",
            "100%|██████████| 121/121 [00:56<00:00,  2.14it/s]\n"
          ]
        },
        {
          "output_type": "stream",
          "name": "stdout",
          "text": [
            "epoch 20: loss = 0.8180617451593774, HR@200 = 0.28807947019867547, AP = 0.9160517801631423\n"
          ]
        },
        {
          "output_type": "stream",
          "name": "stderr",
          "text": [
            "100%|██████████| 6040/6040 [00:31<00:00, 193.54it/s]\n",
            "100%|██████████| 6040/6040 [00:31<00:00, 192.36it/s]\n",
            "100%|██████████| 6040/6040 [00:32<00:00, 185.08it/s]\n",
            "100%|██████████| 6040/6040 [00:31<00:00, 191.81it/s]\n",
            "100%|██████████| 6040/6040 [00:31<00:00, 193.81it/s]\n",
            "100%|██████████| 6040/6040 [00:31<00:00, 194.04it/s]\n",
            "100%|██████████| 6040/6040 [00:32<00:00, 188.51it/s]\n",
            "100%|██████████| 6040/6040 [00:30<00:00, 194.97it/s]\n",
            "100%|██████████| 6040/6040 [00:31<00:00, 194.75it/s]\n",
            "100%|██████████| 6040/6040 [00:31<00:00, 194.20it/s]\n",
            "100%|██████████| 121/121 [00:57<00:00,  2.10it/s]\n"
          ]
        },
        {
          "output_type": "stream",
          "name": "stdout",
          "text": [
            "epoch 30: loss = 0.6610512375264176, HR@200 = 0.3001655629139073, AP = 0.9028732364651371\n"
          ]
        },
        {
          "output_type": "stream",
          "name": "stderr",
          "text": [
            "100%|██████████| 6040/6040 [00:31<00:00, 190.66it/s]\n",
            "100%|██████████| 6040/6040 [00:30<00:00, 195.01it/s]\n",
            "100%|██████████| 6040/6040 [00:32<00:00, 188.74it/s]\n",
            "100%|██████████| 6040/6040 [00:31<00:00, 188.82it/s]\n",
            "100%|██████████| 6040/6040 [00:31<00:00, 194.78it/s]\n",
            "100%|██████████| 6040/6040 [00:30<00:00, 195.42it/s]\n",
            "100%|██████████| 6040/6040 [00:30<00:00, 194.92it/s]\n",
            "100%|██████████| 6040/6040 [00:32<00:00, 188.67it/s]\n",
            "100%|██████████| 6040/6040 [00:31<00:00, 193.86it/s]\n",
            "100%|██████████| 6040/6040 [00:30<00:00, 195.41it/s]\n",
            "100%|██████████| 121/121 [00:55<00:00,  2.17it/s]\n"
          ]
        },
        {
          "output_type": "stream",
          "name": "stdout",
          "text": [
            "epoch 40: loss = 0.5954289028322362, HR@200 = 0.31009933774834436, AP = 0.8987544436555321\n"
          ]
        },
        {
          "output_type": "stream",
          "name": "stderr",
          "text": [
            "100%|██████████| 6040/6040 [00:31<00:00, 194.59it/s]\n",
            "100%|██████████| 6040/6040 [00:32<00:00, 184.45it/s]\n",
            "100%|██████████| 6040/6040 [00:31<00:00, 194.67it/s]\n",
            "100%|██████████| 6040/6040 [00:31<00:00, 194.71it/s]\n",
            "100%|██████████| 6040/6040 [00:31<00:00, 190.84it/s]\n",
            "100%|██████████| 6040/6040 [00:31<00:00, 192.10it/s]\n",
            "100%|██████████| 6040/6040 [00:31<00:00, 194.38it/s]\n",
            "100%|██████████| 6040/6040 [00:31<00:00, 194.39it/s]\n",
            "100%|██████████| 6040/6040 [00:30<00:00, 196.21it/s]\n",
            "100%|██████████| 6040/6040 [00:29<00:00, 203.20it/s]\n",
            "100%|██████████| 121/121 [00:55<00:00,  2.19it/s]\n"
          ]
        },
        {
          "output_type": "stream",
          "name": "stdout",
          "text": [
            "epoch 50: loss = 0.5557115274771357, HR@200 = 0.3132450331125828, AP = 0.8937720721814315\n",
            "\n",
            "Finished Training:\n",
            "Best metrics are:\n",
            "Hit Ratio eval = 0.3132450331125828\n"
          ]
        },
        {
          "output_type": "stream",
          "name": "stderr",
          "text": [
            "100%|██████████| 121/121 [00:57<00:00,  2.11it/s]\n"
          ]
        }
      ]
    },
    {
      "cell_type": "code",
      "source": [
        "path = './drive/My Drive/Colab Notebooks/recsys_final_candidates_by_trans_weight'\n",
        "with open(path, 'wb') as f:\n",
        "  pickle.dump((results), f)"
      ],
      "metadata": {
        "id": "nbbZjrTERhTd"
      },
      "execution_count": 84,
      "outputs": []
    },
    {
      "cell_type": "code",
      "source": [
        "results"
      ],
      "metadata": {
        "colab": {
          "base_uri": "https://localhost:8080/",
          "height": 613
        },
        "id": "coV0syU80pHr",
        "outputId": "285e070e-7cf0-45c8-b419-096b801c27a5"
      },
      "execution_count": 83,
      "outputs": [
        {
          "output_type": "execute_result",
          "data": {
            "text/plain": [
              "   transition_weight maximal width Batch Size  Learning Rate Topk Metric  \\\n",
              "0                  2          1024         50          0.001    0    MAP   \n",
              "1                  2          1024         50          0.001    0   TIME   \n",
              "2                  2          1024         50          0.001  200     HR   \n",
              "3                  4          1024         50          0.001    0    MAP   \n",
              "4                  4          1024         50          0.001    0   TIME   \n",
              "5                  4          1024         50          0.001  200     HR   \n",
              "6                  8          1024         50          0.001    0    MAP   \n",
              "7                  8          1024         50          0.001    0   TIME   \n",
              "8                  8          1024         50          0.001  200     HR   \n",
              "9                 16          1024         50          0.001    0    MAP   \n",
              "10                16          1024         50          0.001    0   TIME   \n",
              "11                16          1024         50          0.001  200     HR   \n",
              "12               0.5          1024         50          0.001    0    MAP   \n",
              "13               0.5          1024         50          0.001    0   TIME   \n",
              "14               0.5          1024         50          0.001  200     HR   \n",
              "15                 1          1024         50          0.001    0    MAP   \n",
              "16                 1          1024         50          0.001    0   TIME   \n",
              "17                 1          1024         50          0.001  200     HR   \n",
              "\n",
              "          Score  \n",
              "0      0.863677  \n",
              "1   1920.011247  \n",
              "2      0.416556  \n",
              "3      0.866097  \n",
              "4   1916.969209  \n",
              "5      0.397848  \n",
              "6      0.870928  \n",
              "7   1916.553076  \n",
              "8      0.375497  \n",
              "9      0.893772  \n",
              "10  1942.019014  \n",
              "11     0.313245  \n",
              "12     0.853704  \n",
              "13  1916.320981  \n",
              "14     0.404801  \n",
              "15     0.860234  \n",
              "16  1912.120225  \n",
              "17     0.424007  "
            ],
            "text/html": [
              "\n",
              "  <div id=\"df-e046da9b-a9b7-4e5a-8d0a-26bec94d2493\">\n",
              "    <div class=\"colab-df-container\">\n",
              "      <div>\n",
              "<style scoped>\n",
              "    .dataframe tbody tr th:only-of-type {\n",
              "        vertical-align: middle;\n",
              "    }\n",
              "\n",
              "    .dataframe tbody tr th {\n",
              "        vertical-align: top;\n",
              "    }\n",
              "\n",
              "    .dataframe thead th {\n",
              "        text-align: right;\n",
              "    }\n",
              "</style>\n",
              "<table border=\"1\" class=\"dataframe\">\n",
              "  <thead>\n",
              "    <tr style=\"text-align: right;\">\n",
              "      <th></th>\n",
              "      <th>transition_weight</th>\n",
              "      <th>maximal width</th>\n",
              "      <th>Batch Size</th>\n",
              "      <th>Learning Rate</th>\n",
              "      <th>Topk</th>\n",
              "      <th>Metric</th>\n",
              "      <th>Score</th>\n",
              "    </tr>\n",
              "  </thead>\n",
              "  <tbody>\n",
              "    <tr>\n",
              "      <th>0</th>\n",
              "      <td>2</td>\n",
              "      <td>1024</td>\n",
              "      <td>50</td>\n",
              "      <td>0.001</td>\n",
              "      <td>0</td>\n",
              "      <td>MAP</td>\n",
              "      <td>0.863677</td>\n",
              "    </tr>\n",
              "    <tr>\n",
              "      <th>1</th>\n",
              "      <td>2</td>\n",
              "      <td>1024</td>\n",
              "      <td>50</td>\n",
              "      <td>0.001</td>\n",
              "      <td>0</td>\n",
              "      <td>TIME</td>\n",
              "      <td>1920.011247</td>\n",
              "    </tr>\n",
              "    <tr>\n",
              "      <th>2</th>\n",
              "      <td>2</td>\n",
              "      <td>1024</td>\n",
              "      <td>50</td>\n",
              "      <td>0.001</td>\n",
              "      <td>200</td>\n",
              "      <td>HR</td>\n",
              "      <td>0.416556</td>\n",
              "    </tr>\n",
              "    <tr>\n",
              "      <th>3</th>\n",
              "      <td>4</td>\n",
              "      <td>1024</td>\n",
              "      <td>50</td>\n",
              "      <td>0.001</td>\n",
              "      <td>0</td>\n",
              "      <td>MAP</td>\n",
              "      <td>0.866097</td>\n",
              "    </tr>\n",
              "    <tr>\n",
              "      <th>4</th>\n",
              "      <td>4</td>\n",
              "      <td>1024</td>\n",
              "      <td>50</td>\n",
              "      <td>0.001</td>\n",
              "      <td>0</td>\n",
              "      <td>TIME</td>\n",
              "      <td>1916.969209</td>\n",
              "    </tr>\n",
              "    <tr>\n",
              "      <th>5</th>\n",
              "      <td>4</td>\n",
              "      <td>1024</td>\n",
              "      <td>50</td>\n",
              "      <td>0.001</td>\n",
              "      <td>200</td>\n",
              "      <td>HR</td>\n",
              "      <td>0.397848</td>\n",
              "    </tr>\n",
              "    <tr>\n",
              "      <th>6</th>\n",
              "      <td>8</td>\n",
              "      <td>1024</td>\n",
              "      <td>50</td>\n",
              "      <td>0.001</td>\n",
              "      <td>0</td>\n",
              "      <td>MAP</td>\n",
              "      <td>0.870928</td>\n",
              "    </tr>\n",
              "    <tr>\n",
              "      <th>7</th>\n",
              "      <td>8</td>\n",
              "      <td>1024</td>\n",
              "      <td>50</td>\n",
              "      <td>0.001</td>\n",
              "      <td>0</td>\n",
              "      <td>TIME</td>\n",
              "      <td>1916.553076</td>\n",
              "    </tr>\n",
              "    <tr>\n",
              "      <th>8</th>\n",
              "      <td>8</td>\n",
              "      <td>1024</td>\n",
              "      <td>50</td>\n",
              "      <td>0.001</td>\n",
              "      <td>200</td>\n",
              "      <td>HR</td>\n",
              "      <td>0.375497</td>\n",
              "    </tr>\n",
              "    <tr>\n",
              "      <th>9</th>\n",
              "      <td>16</td>\n",
              "      <td>1024</td>\n",
              "      <td>50</td>\n",
              "      <td>0.001</td>\n",
              "      <td>0</td>\n",
              "      <td>MAP</td>\n",
              "      <td>0.893772</td>\n",
              "    </tr>\n",
              "    <tr>\n",
              "      <th>10</th>\n",
              "      <td>16</td>\n",
              "      <td>1024</td>\n",
              "      <td>50</td>\n",
              "      <td>0.001</td>\n",
              "      <td>0</td>\n",
              "      <td>TIME</td>\n",
              "      <td>1942.019014</td>\n",
              "    </tr>\n",
              "    <tr>\n",
              "      <th>11</th>\n",
              "      <td>16</td>\n",
              "      <td>1024</td>\n",
              "      <td>50</td>\n",
              "      <td>0.001</td>\n",
              "      <td>200</td>\n",
              "      <td>HR</td>\n",
              "      <td>0.313245</td>\n",
              "    </tr>\n",
              "    <tr>\n",
              "      <th>12</th>\n",
              "      <td>0.5</td>\n",
              "      <td>1024</td>\n",
              "      <td>50</td>\n",
              "      <td>0.001</td>\n",
              "      <td>0</td>\n",
              "      <td>MAP</td>\n",
              "      <td>0.853704</td>\n",
              "    </tr>\n",
              "    <tr>\n",
              "      <th>13</th>\n",
              "      <td>0.5</td>\n",
              "      <td>1024</td>\n",
              "      <td>50</td>\n",
              "      <td>0.001</td>\n",
              "      <td>0</td>\n",
              "      <td>TIME</td>\n",
              "      <td>1916.320981</td>\n",
              "    </tr>\n",
              "    <tr>\n",
              "      <th>14</th>\n",
              "      <td>0.5</td>\n",
              "      <td>1024</td>\n",
              "      <td>50</td>\n",
              "      <td>0.001</td>\n",
              "      <td>200</td>\n",
              "      <td>HR</td>\n",
              "      <td>0.404801</td>\n",
              "    </tr>\n",
              "    <tr>\n",
              "      <th>15</th>\n",
              "      <td>1</td>\n",
              "      <td>1024</td>\n",
              "      <td>50</td>\n",
              "      <td>0.001</td>\n",
              "      <td>0</td>\n",
              "      <td>MAP</td>\n",
              "      <td>0.860234</td>\n",
              "    </tr>\n",
              "    <tr>\n",
              "      <th>16</th>\n",
              "      <td>1</td>\n",
              "      <td>1024</td>\n",
              "      <td>50</td>\n",
              "      <td>0.001</td>\n",
              "      <td>0</td>\n",
              "      <td>TIME</td>\n",
              "      <td>1912.120225</td>\n",
              "    </tr>\n",
              "    <tr>\n",
              "      <th>17</th>\n",
              "      <td>1</td>\n",
              "      <td>1024</td>\n",
              "      <td>50</td>\n",
              "      <td>0.001</td>\n",
              "      <td>200</td>\n",
              "      <td>HR</td>\n",
              "      <td>0.424007</td>\n",
              "    </tr>\n",
              "  </tbody>\n",
              "</table>\n",
              "</div>\n",
              "      <button class=\"colab-df-convert\" onclick=\"convertToInteractive('df-e046da9b-a9b7-4e5a-8d0a-26bec94d2493')\"\n",
              "              title=\"Convert this dataframe to an interactive table.\"\n",
              "              style=\"display:none;\">\n",
              "        \n",
              "  <svg xmlns=\"http://www.w3.org/2000/svg\" height=\"24px\"viewBox=\"0 0 24 24\"\n",
              "       width=\"24px\">\n",
              "    <path d=\"M0 0h24v24H0V0z\" fill=\"none\"/>\n",
              "    <path d=\"M18.56 5.44l.94 2.06.94-2.06 2.06-.94-2.06-.94-.94-2.06-.94 2.06-2.06.94zm-11 1L8.5 8.5l.94-2.06 2.06-.94-2.06-.94L8.5 2.5l-.94 2.06-2.06.94zm10 10l.94 2.06.94-2.06 2.06-.94-2.06-.94-.94-2.06-.94 2.06-2.06.94z\"/><path d=\"M17.41 7.96l-1.37-1.37c-.4-.4-.92-.59-1.43-.59-.52 0-1.04.2-1.43.59L10.3 9.45l-7.72 7.72c-.78.78-.78 2.05 0 2.83L4 21.41c.39.39.9.59 1.41.59.51 0 1.02-.2 1.41-.59l7.78-7.78 2.81-2.81c.8-.78.8-2.07 0-2.86zM5.41 20L4 18.59l7.72-7.72 1.47 1.35L5.41 20z\"/>\n",
              "  </svg>\n",
              "      </button>\n",
              "      \n",
              "  <style>\n",
              "    .colab-df-container {\n",
              "      display:flex;\n",
              "      flex-wrap:wrap;\n",
              "      gap: 12px;\n",
              "    }\n",
              "\n",
              "    .colab-df-convert {\n",
              "      background-color: #E8F0FE;\n",
              "      border: none;\n",
              "      border-radius: 50%;\n",
              "      cursor: pointer;\n",
              "      display: none;\n",
              "      fill: #1967D2;\n",
              "      height: 32px;\n",
              "      padding: 0 0 0 0;\n",
              "      width: 32px;\n",
              "    }\n",
              "\n",
              "    .colab-df-convert:hover {\n",
              "      background-color: #E2EBFA;\n",
              "      box-shadow: 0px 1px 2px rgba(60, 64, 67, 0.3), 0px 1px 3px 1px rgba(60, 64, 67, 0.15);\n",
              "      fill: #174EA6;\n",
              "    }\n",
              "\n",
              "    [theme=dark] .colab-df-convert {\n",
              "      background-color: #3B4455;\n",
              "      fill: #D2E3FC;\n",
              "    }\n",
              "\n",
              "    [theme=dark] .colab-df-convert:hover {\n",
              "      background-color: #434B5C;\n",
              "      box-shadow: 0px 1px 3px 1px rgba(0, 0, 0, 0.15);\n",
              "      filter: drop-shadow(0px 1px 2px rgba(0, 0, 0, 0.3));\n",
              "      fill: #FFFFFF;\n",
              "    }\n",
              "  </style>\n",
              "\n",
              "      <script>\n",
              "        const buttonEl =\n",
              "          document.querySelector('#df-e046da9b-a9b7-4e5a-8d0a-26bec94d2493 button.colab-df-convert');\n",
              "        buttonEl.style.display =\n",
              "          google.colab.kernel.accessAllowed ? 'block' : 'none';\n",
              "\n",
              "        async function convertToInteractive(key) {\n",
              "          const element = document.querySelector('#df-e046da9b-a9b7-4e5a-8d0a-26bec94d2493');\n",
              "          const dataTable =\n",
              "            await google.colab.kernel.invokeFunction('convertToInteractive',\n",
              "                                                     [key], {});\n",
              "          if (!dataTable) return;\n",
              "\n",
              "          const docLinkHtml = 'Like what you see? Visit the ' +\n",
              "            '<a target=\"_blank\" href=https://colab.research.google.com/notebooks/data_table.ipynb>data table notebook</a>'\n",
              "            + ' to learn more about interactive tables.';\n",
              "          element.innerHTML = '';\n",
              "          dataTable['output_type'] = 'display_data';\n",
              "          await google.colab.output.renderOutput(dataTable, element);\n",
              "          const docLink = document.createElement('div');\n",
              "          docLink.innerHTML = docLinkHtml;\n",
              "          element.appendChild(docLink);\n",
              "        }\n",
              "      </script>\n",
              "    </div>\n",
              "  </div>\n",
              "  "
            ]
          },
          "metadata": {},
          "execution_count": 83
        }
      ]
    },
    {
      "cell_type": "markdown",
      "source": [
        "###Best model"
      ],
      "metadata": {
        "id": "5BmP5S4nYkyh"
      }
    },
    {
      "cell_type": "markdown",
      "source": [
        "Running model with weight = 1"
      ],
      "metadata": {
        "id": "4cgFdxZARaFm"
      }
    },
    {
      "cell_type": "code",
      "source": [
        "dl_test = DataLoader(test, batch_size=50, shuffle=False)"
      ],
      "metadata": {
        "id": "XBagR6AZjjqP"
      },
      "execution_count": 96,
      "outputs": []
    },
    {
      "cell_type": "code",
      "source": [
        "best_results = pd.DataFrame(columns=['transition_weight', 'maximal width', 'Batch Size', 'Learning Rate', 'Topk', 'Metric', 'Score']) #uncomment to run"
      ],
      "metadata": {
        "id": "sfgNKOeTSntK"
      },
      "execution_count": 95,
      "outputs": []
    },
    {
      "cell_type": "code",
      "source": [
        "def add_results(training_model, results_df, transition_weight, max_width, batch_size, lr):\n",
        "\n",
        "  MAP = average_precision_score(training_model.AP_labels, training_model.epoch_pred)\n",
        "  loss = training_model.epoch_eval_loss/len(val)\n",
        "  hr100 = training_model.epoch_HR100/len(val)\n",
        "  hr200 = training_model.epoch_HR200/len(val)\n",
        "  mrr100 = training_model.epoch_MRR100/len(val)\n",
        "  mrr200 = training_model.epoch_MRR200/len(val)\n",
        "  ndcg100 = training_model.epoch_NDCG100/len(val)\n",
        "  ndcg200 = training_model.epoch_NDCG200/len(val)\n",
        "  tr_time = training_model.training_time\n",
        "\n",
        "  results_df.loc[len(results_df)] = transition_weight, max_width, batch_size, lr, 0, 'LOSS', loss\n",
        "  results_df.loc[len(results_df)] = transition_weight, max_width, batch_size, lr, 0, 'MAP', MAP\n",
        "  results_df.loc[len(results_df)] = transition_weight, max_width, batch_size, lr, 0, 'TIME', tr_time\n",
        "  results_df.loc[len(results_df)] = transition_weight, max_width, batch_size, lr, 100, 'HR' , hr100\n",
        "  results_df.loc[len(results_df)] = transition_weight, max_width, batch_size, lr, 200, 'HR', hr200\n",
        "  results_df.loc[len(results_df)] = transition_weight, max_width, batch_size, lr, 100, 'MRR', mrr100\n",
        "  results_df.loc[len(results_df)] = transition_weight, max_width, batch_size, lr, 200, 'MRR', mrr200\n",
        "  results_df.loc[len(results_df)] = transition_weight, max_width, batch_size, lr, 100, 'NDCG', ndcg100\n",
        "  results_df.loc[len(results_df)] = transition_weight, max_width, batch_size, lr, 200, 'NDCG', ndcg200"
      ],
      "metadata": {
        "id": "4JWyU3IUIyhJ"
      },
      "execution_count": 87,
      "outputs": []
    },
    {
      "cell_type": "code",
      "source": [
        "batch_size = 50\n",
        "lr = 0.001\n",
        "layers = [1024, 512, 256]\n",
        "transition_weight =1\n",
        "\n",
        "torch.manual_seed(42)\n",
        "np.random.seed(42) \n",
        "max_width = layers[0]\n",
        "Candidates_config = {'num_items': n_items, 'n_neg_samples': num_neg_samples, 'max_watches': max_watches, 'latent_dim': 256, 'features_dim': 267, 'layers':layers, 'trans_weight':transition_weight, 'N_candidates':250}\n",
        "model_Candidates = Candidates(Candidates_config)\n",
        "\n",
        "training_config = {'n_neg_samples': num_neg_samples, 'batch_size': batch_size, 'optimizer_type': Adam, 'optimizer_parameter': {'lr': lr}, \\\n",
        "              'criterion' : torch.nn.CrossEntropyLoss, 'n_epochs' : 61, 'early_stopping' : 8, 'verbose' : True, 'device' : device}\n",
        "\n",
        "training_candidates = Training(model_Candidates, training_config)\n",
        "training_candidates.train()\n",
        "training_candidates.evaluate_epoch(training_candidates.dl_val)\n",
        "add_results(training_candidates, best_results, transition_weight, max_width, batch_size, lr)"
      ],
      "metadata": {
        "colab": {
          "base_uri": "https://localhost:8080/"
        },
        "id": "12SdLOQ7F49I",
        "outputId": "970fa0df-ebd7-4f33-890d-85d28771f3ae"
      },
      "execution_count": 90,
      "outputs": [
        {
          "output_type": "stream",
          "name": "stderr",
          "text": [
            "100%|██████████| 6040/6040 [00:30<00:00, 194.92it/s]\n",
            "100%|██████████| 121/121 [00:59<00:00,  2.03it/s]\n"
          ]
        },
        {
          "output_type": "stream",
          "name": "stdout",
          "text": [
            "epoch 0: loss = 2.816100556329386, HR@200 = 0.123841059602649, AP = 0.8997021445241189\n"
          ]
        },
        {
          "output_type": "stream",
          "name": "stderr",
          "text": [
            "100%|██████████| 6040/6040 [00:31<00:00, 191.96it/s]\n",
            "100%|██████████| 121/121 [00:56<00:00,  2.13it/s]\n"
          ]
        },
        {
          "output_type": "stream",
          "name": "stdout",
          "text": [
            "epoch 1: loss = 2.2482581496436076, HR@200 = 0.1509933774834437, AP = 0.9136164103923915\n"
          ]
        },
        {
          "output_type": "stream",
          "name": "stderr",
          "text": [
            "100%|██████████| 6040/6040 [00:31<00:00, 194.77it/s]\n",
            "100%|██████████| 121/121 [00:56<00:00,  2.15it/s]\n"
          ]
        },
        {
          "output_type": "stream",
          "name": "stdout",
          "text": [
            "epoch 2: loss = 2.014180658984658, HR@200 = 0.16870860927152317, AP = 0.9174511511358199\n"
          ]
        },
        {
          "output_type": "stream",
          "name": "stderr",
          "text": [
            "100%|██████████| 6040/6040 [00:30<00:00, 195.06it/s]\n",
            "100%|██████████| 121/121 [00:57<00:00,  2.10it/s]\n"
          ]
        },
        {
          "output_type": "stream",
          "name": "stdout",
          "text": [
            "epoch 3: loss = 1.8576246683763353, HR@200 = 0.1827814569536424, AP = 0.9173106352792453\n"
          ]
        },
        {
          "output_type": "stream",
          "name": "stderr",
          "text": [
            "100%|██████████| 6040/6040 [00:31<00:00, 189.54it/s]\n",
            "100%|██████████| 121/121 [00:55<00:00,  2.17it/s]\n"
          ]
        },
        {
          "output_type": "stream",
          "name": "stdout",
          "text": [
            "epoch 4: loss = 1.7375743920834648, HR@200 = 0.20165562913907284, AP = 0.914400879631873\n"
          ]
        },
        {
          "output_type": "stream",
          "name": "stderr",
          "text": [
            "100%|██████████| 6040/6040 [00:30<00:00, 195.26it/s]\n",
            "100%|██████████| 121/121 [00:55<00:00,  2.17it/s]\n"
          ]
        },
        {
          "output_type": "stream",
          "name": "stdout",
          "text": [
            "epoch 5: loss = 1.6390636052418228, HR@200 = 0.21307947019867549, AP = 0.9160236054186707\n"
          ]
        },
        {
          "output_type": "stream",
          "name": "stderr",
          "text": [
            "100%|██████████| 6040/6040 [00:31<00:00, 192.83it/s]\n",
            "100%|██████████| 121/121 [00:53<00:00,  2.26it/s]\n"
          ]
        },
        {
          "output_type": "stream",
          "name": "stdout",
          "text": [
            "epoch 6: loss = 1.5490381678800709, HR@200 = 0.22698675496688742, AP = 0.9125748041610806\n"
          ]
        },
        {
          "output_type": "stream",
          "name": "stderr",
          "text": [
            "100%|██████████| 6040/6040 [00:29<00:00, 204.49it/s]\n",
            "100%|██████████| 121/121 [00:54<00:00,  2.22it/s]\n"
          ]
        },
        {
          "output_type": "stream",
          "name": "stdout",
          "text": [
            "epoch 7: loss = 1.4760723367333413, HR@200 = 0.24304635761589405, AP = 0.9105276127831331\n"
          ]
        },
        {
          "output_type": "stream",
          "name": "stderr",
          "text": [
            "100%|██████████| 6040/6040 [00:31<00:00, 194.51it/s]\n",
            "100%|██████████| 121/121 [00:54<00:00,  2.24it/s]\n"
          ]
        },
        {
          "output_type": "stream",
          "name": "stdout",
          "text": [
            "epoch 8: loss = 1.409466441439477, HR@200 = 0.2576158940397351, AP = 0.9091069063480828\n"
          ]
        },
        {
          "output_type": "stream",
          "name": "stderr",
          "text": [
            "100%|██████████| 6040/6040 [00:32<00:00, 185.81it/s]\n",
            "100%|██████████| 121/121 [00:52<00:00,  2.29it/s]\n"
          ]
        },
        {
          "output_type": "stream",
          "name": "stdout",
          "text": [
            "epoch 9: loss = 1.3475406735049968, HR@200 = 0.272682119205298, AP = 0.9038399852192692\n"
          ]
        },
        {
          "output_type": "stream",
          "name": "stderr",
          "text": [
            "100%|██████████| 6040/6040 [00:31<00:00, 189.36it/s]\n",
            "100%|██████████| 121/121 [00:52<00:00,  2.31it/s]\n"
          ]
        },
        {
          "output_type": "stream",
          "name": "stdout",
          "text": [
            "epoch 10: loss = 1.2961078075877088, HR@200 = 0.27996688741721854, AP = 0.901067795160923\n"
          ]
        },
        {
          "output_type": "stream",
          "name": "stderr",
          "text": [
            "100%|██████████| 6040/6040 [00:31<00:00, 189.99it/s]\n",
            "100%|██████████| 121/121 [00:52<00:00,  2.32it/s]\n"
          ]
        },
        {
          "output_type": "stream",
          "name": "stdout",
          "text": [
            "epoch 11: loss = 1.248398705887676, HR@200 = 0.2980132450331126, AP = 0.8970343501155633\n"
          ]
        },
        {
          "output_type": "stream",
          "name": "stderr",
          "text": [
            "100%|██████████| 6040/6040 [00:32<00:00, 185.52it/s]\n",
            "100%|██████████| 121/121 [00:52<00:00,  2.31it/s]\n"
          ]
        },
        {
          "output_type": "stream",
          "name": "stdout",
          "text": [
            "epoch 12: loss = 1.1996189401836586, HR@200 = 0.30695364238410594, AP = 0.8963977792664095\n"
          ]
        },
        {
          "output_type": "stream",
          "name": "stderr",
          "text": [
            "100%|██████████| 6040/6040 [00:31<00:00, 193.72it/s]\n",
            "100%|██████████| 121/121 [00:52<00:00,  2.31it/s]\n"
          ]
        },
        {
          "output_type": "stream",
          "name": "stdout",
          "text": [
            "epoch 13: loss = 1.1573135220007786, HR@200 = 0.31490066225165564, AP = 0.892626355211587\n"
          ]
        },
        {
          "output_type": "stream",
          "name": "stderr",
          "text": [
            "100%|██████████| 6040/6040 [00:31<00:00, 193.77it/s]\n",
            "100%|██████████| 121/121 [00:53<00:00,  2.24it/s]\n"
          ]
        },
        {
          "output_type": "stream",
          "name": "stdout",
          "text": [
            "epoch 14: loss = 1.122065714391454, HR@200 = 0.3251655629139073, AP = 0.8909769034519426\n"
          ]
        },
        {
          "output_type": "stream",
          "name": "stderr",
          "text": [
            "100%|██████████| 6040/6040 [00:30<00:00, 195.10it/s]\n",
            "100%|██████████| 121/121 [00:52<00:00,  2.32it/s]\n"
          ]
        },
        {
          "output_type": "stream",
          "name": "stdout",
          "text": [
            "epoch 15: loss = 1.0889366049936275, HR@200 = 0.3339403973509934, AP = 0.888879540845279\n"
          ]
        },
        {
          "output_type": "stream",
          "name": "stderr",
          "text": [
            "100%|██████████| 6040/6040 [00:30<00:00, 195.11it/s]\n",
            "100%|██████████| 121/121 [00:51<00:00,  2.33it/s]\n"
          ]
        },
        {
          "output_type": "stream",
          "name": "stdout",
          "text": [
            "epoch 16: loss = 1.0581197571132752, HR@200 = 0.3468543046357616, AP = 0.8878691378442523\n"
          ]
        },
        {
          "output_type": "stream",
          "name": "stderr",
          "text": [
            "100%|██████████| 6040/6040 [00:31<00:00, 194.00it/s]\n",
            "100%|██████████| 121/121 [00:53<00:00,  2.27it/s]\n"
          ]
        },
        {
          "output_type": "stream",
          "name": "stdout",
          "text": [
            "epoch 17: loss = 1.0276581510013303, HR@200 = 0.3432119205298013, AP = 0.8854196016770466\n"
          ]
        },
        {
          "output_type": "stream",
          "name": "stderr",
          "text": [
            "100%|██████████| 6040/6040 [00:31<00:00, 194.25it/s]\n",
            "100%|██████████| 121/121 [00:51<00:00,  2.36it/s]\n"
          ]
        },
        {
          "output_type": "stream",
          "name": "stdout",
          "text": [
            "epoch 18: loss = 1.0031932921303028, HR@200 = 0.3521523178807947, AP = 0.8831397225530768\n"
          ]
        },
        {
          "output_type": "stream",
          "name": "stderr",
          "text": [
            "100%|██████████| 6040/6040 [00:31<00:00, 192.17it/s]\n",
            "100%|██████████| 121/121 [00:50<00:00,  2.41it/s]\n"
          ]
        },
        {
          "output_type": "stream",
          "name": "stdout",
          "text": [
            "epoch 19: loss = 0.9812302387263996, HR@200 = 0.35960264900662253, AP = 0.8848204291505259\n"
          ]
        },
        {
          "output_type": "stream",
          "name": "stderr",
          "text": [
            "100%|██████████| 6040/6040 [00:31<00:00, 189.27it/s]\n",
            "100%|██████████| 121/121 [00:51<00:00,  2.35it/s]\n"
          ]
        },
        {
          "output_type": "stream",
          "name": "stdout",
          "text": [
            "epoch 20: loss = 0.953156815780117, HR@200 = 0.3610927152317881, AP = 0.8816561079277472\n"
          ]
        },
        {
          "output_type": "stream",
          "name": "stderr",
          "text": [
            "100%|██████████| 6040/6040 [00:32<00:00, 187.78it/s]\n",
            "100%|██████████| 121/121 [00:49<00:00,  2.43it/s]\n"
          ]
        },
        {
          "output_type": "stream",
          "name": "stdout",
          "text": [
            "epoch 21: loss = 0.9352136438108043, HR@200 = 0.37748344370860926, AP = 0.8822471812158614\n"
          ]
        },
        {
          "output_type": "stream",
          "name": "stderr",
          "text": [
            "100%|██████████| 6040/6040 [00:31<00:00, 192.98it/s]\n",
            "100%|██████████| 121/121 [00:50<00:00,  2.39it/s]\n"
          ]
        },
        {
          "output_type": "stream",
          "name": "stdout",
          "text": [
            "epoch 22: loss = 0.9169831879659007, HR@200 = 0.3710264900662252, AP = 0.8790486079979611\n"
          ]
        },
        {
          "output_type": "stream",
          "name": "stderr",
          "text": [
            "100%|██████████| 6040/6040 [00:30<00:00, 195.73it/s]\n",
            "100%|██████████| 121/121 [00:52<00:00,  2.30it/s]\n"
          ]
        },
        {
          "output_type": "stream",
          "name": "stdout",
          "text": [
            "epoch 23: loss = 0.9018847529881245, HR@200 = 0.3663907284768212, AP = 0.8766890397688875\n"
          ]
        },
        {
          "output_type": "stream",
          "name": "stderr",
          "text": [
            "100%|██████████| 6040/6040 [00:30<00:00, 195.57it/s]\n",
            "100%|██████████| 121/121 [00:51<00:00,  2.37it/s]\n"
          ]
        },
        {
          "output_type": "stream",
          "name": "stdout",
          "text": [
            "epoch 24: loss = 0.8830110176361554, HR@200 = 0.37781456953642384, AP = 0.8755395889865585\n"
          ]
        },
        {
          "output_type": "stream",
          "name": "stderr",
          "text": [
            "100%|██████████| 6040/6040 [00:30<00:00, 195.64it/s]\n",
            "100%|██████████| 121/121 [00:51<00:00,  2.37it/s]\n"
          ]
        },
        {
          "output_type": "stream",
          "name": "stdout",
          "text": [
            "epoch 25: loss = 0.8657387583954445, HR@200 = 0.37334437086092714, AP = 0.8768232260119364\n"
          ]
        },
        {
          "output_type": "stream",
          "name": "stderr",
          "text": [
            "100%|██████████| 6040/6040 [00:30<00:00, 195.27it/s]\n",
            "100%|██████████| 121/121 [00:52<00:00,  2.29it/s]\n"
          ]
        },
        {
          "output_type": "stream",
          "name": "stdout",
          "text": [
            "epoch 26: loss = 0.8559372352078458, HR@200 = 0.38543046357615895, AP = 0.8733890131000289\n"
          ]
        },
        {
          "output_type": "stream",
          "name": "stderr",
          "text": [
            "100%|██████████| 6040/6040 [00:31<00:00, 194.38it/s]\n",
            "100%|██████████| 121/121 [00:51<00:00,  2.37it/s]\n"
          ]
        },
        {
          "output_type": "stream",
          "name": "stdout",
          "text": [
            "epoch 27: loss = 0.8403693324362008, HR@200 = 0.37864238410596024, AP = 0.8701387682204027\n"
          ]
        },
        {
          "output_type": "stream",
          "name": "stderr",
          "text": [
            "100%|██████████| 6040/6040 [00:30<00:00, 195.45it/s]\n",
            "100%|██████████| 121/121 [00:51<00:00,  2.37it/s]\n"
          ]
        },
        {
          "output_type": "stream",
          "name": "stdout",
          "text": [
            "epoch 28: loss = 0.8333626126093383, HR@200 = 0.38642384105960265, AP = 0.8681831769215979\n"
          ]
        },
        {
          "output_type": "stream",
          "name": "stderr",
          "text": [
            "100%|██████████| 6040/6040 [00:32<00:00, 188.74it/s]\n",
            "100%|██████████| 121/121 [00:50<00:00,  2.39it/s]\n"
          ]
        },
        {
          "output_type": "stream",
          "name": "stdout",
          "text": [
            "epoch 29: loss = 0.8236997536155365, HR@200 = 0.3920529801324503, AP = 0.87010945351704\n"
          ]
        },
        {
          "output_type": "stream",
          "name": "stderr",
          "text": [
            "100%|██████████| 6040/6040 [00:31<00:00, 193.03it/s]\n",
            "100%|██████████| 121/121 [00:49<00:00,  2.46it/s]\n"
          ]
        },
        {
          "output_type": "stream",
          "name": "stdout",
          "text": [
            "epoch 30: loss = 0.8077376938443508, HR@200 = 0.39619205298013244, AP = 0.8698643309855221\n"
          ]
        },
        {
          "output_type": "stream",
          "name": "stderr",
          "text": [
            "100%|██████████| 6040/6040 [00:32<00:00, 188.04it/s]\n",
            "100%|██████████| 121/121 [00:49<00:00,  2.45it/s]\n"
          ]
        },
        {
          "output_type": "stream",
          "name": "stdout",
          "text": [
            "epoch 31: loss = 0.801254705921901, HR@200 = 0.396523178807947, AP = 0.8695311151160745\n"
          ]
        },
        {
          "output_type": "stream",
          "name": "stderr",
          "text": [
            "100%|██████████| 6040/6040 [00:32<00:00, 185.17it/s]\n",
            "100%|██████████| 121/121 [00:49<00:00,  2.43it/s]\n"
          ]
        },
        {
          "output_type": "stream",
          "name": "stdout",
          "text": [
            "epoch 32: loss = 0.7935419815647977, HR@200 = 0.39486754966887416, AP = 0.8680913497675492\n"
          ]
        },
        {
          "output_type": "stream",
          "name": "stderr",
          "text": [
            "100%|██████████| 6040/6040 [00:31<00:00, 194.68it/s]\n",
            "100%|██████████| 121/121 [00:50<00:00,  2.40it/s]\n"
          ]
        },
        {
          "output_type": "stream",
          "name": "stdout",
          "text": [
            "epoch 33: loss = 0.7858702681872327, HR@200 = 0.4059602649006622, AP = 0.8692332736069787\n"
          ]
        },
        {
          "output_type": "stream",
          "name": "stderr",
          "text": [
            "100%|██████████| 6040/6040 [00:31<00:00, 194.58it/s]\n",
            "100%|██████████| 121/121 [00:51<00:00,  2.37it/s]\n"
          ]
        },
        {
          "output_type": "stream",
          "name": "stdout",
          "text": [
            "epoch 34: loss = 0.7776122118266213, HR@200 = 0.40033112582781455, AP = 0.8680358093576794\n"
          ]
        },
        {
          "output_type": "stream",
          "name": "stderr",
          "text": [
            "100%|██████████| 6040/6040 [00:31<00:00, 191.11it/s]\n",
            "100%|██████████| 121/121 [00:50<00:00,  2.41it/s]\n"
          ]
        },
        {
          "output_type": "stream",
          "name": "stdout",
          "text": [
            "epoch 35: loss = 0.7714131808401832, HR@200 = 0.405794701986755, AP = 0.8665466566987496\n"
          ]
        },
        {
          "output_type": "stream",
          "name": "stderr",
          "text": [
            "100%|██████████| 6040/6040 [00:31<00:00, 193.67it/s]\n",
            "100%|██████████| 121/121 [00:50<00:00,  2.41it/s]\n"
          ]
        },
        {
          "output_type": "stream",
          "name": "stdout",
          "text": [
            "epoch 36: loss = 0.7664423425108293, HR@200 = 0.40298013245033115, AP = 0.8642253953923487\n"
          ]
        },
        {
          "output_type": "stream",
          "name": "stderr",
          "text": [
            "100%|██████████| 6040/6040 [00:30<00:00, 199.32it/s]\n",
            "100%|██████████| 121/121 [00:47<00:00,  2.55it/s]\n"
          ]
        },
        {
          "output_type": "stream",
          "name": "stdout",
          "text": [
            "epoch 37: loss = 0.7588791974974389, HR@200 = 0.40463576158940395, AP = 0.8648092290572369\n"
          ]
        },
        {
          "output_type": "stream",
          "name": "stderr",
          "text": [
            "100%|██████████| 6040/6040 [00:31<00:00, 191.24it/s]\n",
            "100%|██████████| 121/121 [00:49<00:00,  2.46it/s]\n"
          ]
        },
        {
          "output_type": "stream",
          "name": "stdout",
          "text": [
            "epoch 38: loss = 0.7527299493575925, HR@200 = 0.4100993377483444, AP = 0.865102958736669\n"
          ]
        },
        {
          "output_type": "stream",
          "name": "stderr",
          "text": [
            "100%|██████████| 6040/6040 [00:30<00:00, 195.45it/s]\n",
            "100%|██████████| 121/121 [00:50<00:00,  2.41it/s]\n"
          ]
        },
        {
          "output_type": "stream",
          "name": "stdout",
          "text": [
            "epoch 39: loss = 0.7475188551359618, HR@200 = 0.40794701986754967, AP = 0.8635830602443341\n"
          ]
        },
        {
          "output_type": "stream",
          "name": "stderr",
          "text": [
            "100%|██████████| 6040/6040 [00:31<00:00, 193.78it/s]\n",
            "100%|██████████| 121/121 [00:52<00:00,  2.33it/s]\n"
          ]
        },
        {
          "output_type": "stream",
          "name": "stdout",
          "text": [
            "epoch 40: loss = 0.7471774313327493, HR@200 = 0.40413907284768213, AP = 0.8657719000539281\n"
          ]
        },
        {
          "output_type": "stream",
          "name": "stderr",
          "text": [
            "100%|██████████| 6040/6040 [00:31<00:00, 193.69it/s]\n",
            "100%|██████████| 121/121 [00:49<00:00,  2.44it/s]\n"
          ]
        },
        {
          "output_type": "stream",
          "name": "stdout",
          "text": [
            "epoch 41: loss = 0.7399251183704627, HR@200 = 0.4062913907284768, AP = 0.8626386483357679\n"
          ]
        },
        {
          "output_type": "stream",
          "name": "stderr",
          "text": [
            "100%|██████████| 6040/6040 [00:32<00:00, 188.64it/s]\n",
            "100%|██████████| 121/121 [00:49<00:00,  2.46it/s]\n"
          ]
        },
        {
          "output_type": "stream",
          "name": "stdout",
          "text": [
            "epoch 42: loss = 0.7363806743914916, HR@200 = 0.4096026490066225, AP = 0.8617633603070817\n"
          ]
        },
        {
          "output_type": "stream",
          "name": "stderr",
          "text": [
            "100%|██████████| 6040/6040 [00:32<00:00, 188.43it/s]\n",
            "100%|██████████| 121/121 [00:50<00:00,  2.39it/s]\n"
          ]
        },
        {
          "output_type": "stream",
          "name": "stdout",
          "text": [
            "epoch 43: loss = 0.7343091379740084, HR@200 = 0.4099337748344371, AP = 0.8618775411611987\n"
          ]
        },
        {
          "output_type": "stream",
          "name": "stderr",
          "text": [
            "100%|██████████| 6040/6040 [00:32<00:00, 188.00it/s]\n",
            "100%|██████████| 121/121 [00:49<00:00,  2.44it/s]\n"
          ]
        },
        {
          "output_type": "stream",
          "name": "stdout",
          "text": [
            "epoch 44: loss = 0.7315122107845663, HR@200 = 0.41357615894039734, AP = 0.8630731520895507\n"
          ]
        },
        {
          "output_type": "stream",
          "name": "stderr",
          "text": [
            "100%|██████████| 6040/6040 [00:31<00:00, 192.15it/s]\n",
            "100%|██████████| 121/121 [00:50<00:00,  2.39it/s]\n"
          ]
        },
        {
          "output_type": "stream",
          "name": "stdout",
          "text": [
            "epoch 45: loss = 0.7237274631364456, HR@200 = 0.4160596026490066, AP = 0.862722683011335\n"
          ]
        },
        {
          "output_type": "stream",
          "name": "stderr",
          "text": [
            "100%|██████████| 6040/6040 [00:32<00:00, 187.76it/s]\n",
            "100%|██████████| 121/121 [00:50<00:00,  2.39it/s]\n"
          ]
        },
        {
          "output_type": "stream",
          "name": "stdout",
          "text": [
            "epoch 46: loss = 0.7232601674952057, HR@200 = 0.41456953642384103, AP = 0.8621142290074766\n"
          ]
        },
        {
          "output_type": "stream",
          "name": "stderr",
          "text": [
            "100%|██████████| 6040/6040 [00:31<00:00, 192.00it/s]\n",
            "100%|██████████| 121/121 [00:50<00:00,  2.40it/s]\n"
          ]
        },
        {
          "output_type": "stream",
          "name": "stdout",
          "text": [
            "epoch 47: loss = 0.7210657343835822, HR@200 = 0.41788079470198675, AP = 0.8643376166301077\n"
          ]
        },
        {
          "output_type": "stream",
          "name": "stderr",
          "text": [
            "100%|██████████| 6040/6040 [00:31<00:00, 192.24it/s]\n",
            "100%|██████████| 121/121 [00:48<00:00,  2.47it/s]\n"
          ]
        },
        {
          "output_type": "stream",
          "name": "stdout",
          "text": [
            "epoch 48: loss = 0.7161865855388294, HR@200 = 0.4193708609271523, AP = 0.8629402765044547\n"
          ]
        },
        {
          "output_type": "stream",
          "name": "stderr",
          "text": [
            "100%|██████████| 6040/6040 [00:33<00:00, 181.97it/s]\n",
            "100%|██████████| 121/121 [00:49<00:00,  2.46it/s]\n"
          ]
        },
        {
          "output_type": "stream",
          "name": "stdout",
          "text": [
            "epoch 49: loss = 0.7121552929226679, HR@200 = 0.4185430463576159, AP = 0.8609338223157834\n"
          ]
        },
        {
          "output_type": "stream",
          "name": "stderr",
          "text": [
            "100%|██████████| 6040/6040 [00:32<00:00, 183.38it/s]\n",
            "100%|██████████| 121/121 [00:48<00:00,  2.47it/s]\n"
          ]
        },
        {
          "output_type": "stream",
          "name": "stdout",
          "text": [
            "epoch 50: loss = 0.7173143451749686, HR@200 = 0.41572847682119207, AP = 0.8613871788934441\n"
          ]
        },
        {
          "output_type": "stream",
          "name": "stderr",
          "text": [
            "100%|██████████| 6040/6040 [00:31<00:00, 191.16it/s]\n",
            "100%|██████████| 121/121 [00:51<00:00,  2.35it/s]\n"
          ]
        },
        {
          "output_type": "stream",
          "name": "stdout",
          "text": [
            "epoch 51: loss = 0.7090596307870864, HR@200 = 0.4246688741721854, AP = 0.859915088051576\n"
          ]
        },
        {
          "output_type": "stream",
          "name": "stderr",
          "text": [
            "100%|██████████| 6040/6040 [00:31<00:00, 191.72it/s]\n",
            "100%|██████████| 121/121 [00:50<00:00,  2.41it/s]\n"
          ]
        },
        {
          "output_type": "stream",
          "name": "stdout",
          "text": [
            "epoch 52: loss = 0.7079230634606635, HR@200 = 0.4183774834437086, AP = 0.8539921737016856\n"
          ]
        },
        {
          "output_type": "stream",
          "name": "stderr",
          "text": [
            "100%|██████████| 6040/6040 [00:31<00:00, 192.15it/s]\n",
            "100%|██████████| 121/121 [00:50<00:00,  2.39it/s]\n"
          ]
        },
        {
          "output_type": "stream",
          "name": "stdout",
          "text": [
            "epoch 53: loss = 0.7143472771388509, HR@200 = 0.4200331125827815, AP = 0.8591059536751579\n"
          ]
        },
        {
          "output_type": "stream",
          "name": "stderr",
          "text": [
            "100%|██████████| 6040/6040 [00:31<00:00, 189.65it/s]\n",
            "100%|██████████| 121/121 [00:57<00:00,  2.10it/s]\n"
          ]
        },
        {
          "output_type": "stream",
          "name": "stdout",
          "text": [
            "epoch 54: loss = 0.705092276964608, HR@200 = 0.4236754966887417, AP = 0.8554363983712323\n"
          ]
        },
        {
          "output_type": "stream",
          "name": "stderr",
          "text": [
            "100%|██████████| 6040/6040 [00:36<00:00, 167.29it/s]\n",
            "100%|██████████| 121/121 [00:49<00:00,  2.45it/s]\n"
          ]
        },
        {
          "output_type": "stream",
          "name": "stdout",
          "text": [
            "epoch 55: loss = 0.6992384359678439, HR@200 = 0.4230132450331126, AP = 0.8536798415068034\n"
          ]
        },
        {
          "output_type": "stream",
          "name": "stderr",
          "text": [
            "100%|██████████| 6040/6040 [00:34<00:00, 174.24it/s]\n",
            "100%|██████████| 121/121 [00:48<00:00,  2.47it/s]\n"
          ]
        },
        {
          "output_type": "stream",
          "name": "stdout",
          "text": [
            "epoch 56: loss = 0.6985270175540091, HR@200 = 0.4251655629139073, AP = 0.8580820017173023\n"
          ]
        },
        {
          "output_type": "stream",
          "name": "stderr",
          "text": [
            "100%|██████████| 6040/6040 [00:32<00:00, 184.26it/s]\n",
            "100%|██████████| 121/121 [00:50<00:00,  2.41it/s]\n"
          ]
        },
        {
          "output_type": "stream",
          "name": "stdout",
          "text": [
            "epoch 57: loss = 0.7034548562032399, HR@200 = 0.420364238410596, AP = 0.8540573128162113\n"
          ]
        },
        {
          "output_type": "stream",
          "name": "stderr",
          "text": [
            "100%|██████████| 6040/6040 [00:31<00:00, 191.08it/s]\n",
            "100%|██████████| 121/121 [00:49<00:00,  2.44it/s]\n"
          ]
        },
        {
          "output_type": "stream",
          "name": "stdout",
          "text": [
            "epoch 58: loss = 0.6958739284475316, HR@200 = 0.42665562913907285, AP = 0.8560474850131455\n"
          ]
        },
        {
          "output_type": "stream",
          "name": "stderr",
          "text": [
            "100%|██████████| 6040/6040 [00:32<00:00, 188.08it/s]\n",
            "100%|██████████| 121/121 [00:51<00:00,  2.37it/s]\n"
          ]
        },
        {
          "output_type": "stream",
          "name": "stdout",
          "text": [
            "epoch 59: loss = 0.6977261858030117, HR@200 = 0.43178807947019865, AP = 0.8568040643195891\n"
          ]
        },
        {
          "output_type": "stream",
          "name": "stderr",
          "text": [
            "100%|██████████| 6040/6040 [00:32<00:00, 188.13it/s]\n",
            "100%|██████████| 121/121 [00:48<00:00,  2.50it/s]\n"
          ]
        },
        {
          "output_type": "stream",
          "name": "stdout",
          "text": [
            "epoch 60: loss = 0.7007849219261317, HR@200 = 0.428476821192053, AP = 0.8543543872122371\n",
            "\n",
            "Finished Training:\n",
            "Best metrics are:\n",
            "Hit Ratio eval = 0.43178807947019865\n"
          ]
        },
        {
          "output_type": "stream",
          "name": "stderr",
          "text": [
            "100%|██████████| 121/121 [00:49<00:00,  2.43it/s]\n"
          ]
        }
      ]
    },
    {
      "cell_type": "code",
      "source": [
        "training_candidates.evaluate_epoch(dl_test)\n",
        "add_results(training_candidates, best_results, transition_weight, max_width, batch_size, lr)"
      ],
      "metadata": {
        "colab": {
          "base_uri": "https://localhost:8080/"
        },
        "id": "lHlLMuf0jNuC",
        "outputId": "f26864bf-5a3f-4950-f4c6-bcd7ff5acf03"
      },
      "execution_count": 97,
      "outputs": [
        {
          "output_type": "stream",
          "name": "stderr",
          "text": [
            "100%|██████████| 121/121 [00:50<00:00,  2.40it/s]\n"
          ]
        }
      ]
    },
    {
      "cell_type": "code",
      "source": [
        "best_results #On the test set!!"
      ],
      "metadata": {
        "colab": {
          "base_uri": "https://localhost:8080/",
          "height": 331
        },
        "id": "ON_sMnHsxkOP",
        "outputId": "84fc0a23-7674-4d09-ef00-20ae4d32cac5"
      },
      "execution_count": 98,
      "outputs": [
        {
          "output_type": "execute_result",
          "data": {
            "text/plain": [
              "  transition_weight maximal width Batch Size  Learning Rate Topk Metric  \\\n",
              "0                 1          1024         50          0.001    0   LOSS   \n",
              "1                 1          1024         50          0.001    0    MAP   \n",
              "2                 1          1024         50          0.001    0   TIME   \n",
              "3                 1          1024         50          0.001  100     HR   \n",
              "4                 1          1024         50          0.001  200     HR   \n",
              "5                 1          1024         50          0.001  100    MRR   \n",
              "6                 1          1024         50          0.001  200    MRR   \n",
              "7                 1          1024         50          0.001  100   NDCG   \n",
              "8                 1          1024         50          0.001  200   NDCG   \n",
              "\n",
              "         Score  \n",
              "0     0.272081  \n",
              "1     0.842339  \n",
              "2  5076.330927  \n",
              "3     0.279470  \n",
              "4     0.414238  \n",
              "5     0.018638  \n",
              "6     0.019596  \n",
              "7     0.063400  \n",
              "8     0.082214  "
            ],
            "text/html": [
              "\n",
              "  <div id=\"df-0c773f61-5df1-4568-b8b4-a3e30bc8c27a\">\n",
              "    <div class=\"colab-df-container\">\n",
              "      <div>\n",
              "<style scoped>\n",
              "    .dataframe tbody tr th:only-of-type {\n",
              "        vertical-align: middle;\n",
              "    }\n",
              "\n",
              "    .dataframe tbody tr th {\n",
              "        vertical-align: top;\n",
              "    }\n",
              "\n",
              "    .dataframe thead th {\n",
              "        text-align: right;\n",
              "    }\n",
              "</style>\n",
              "<table border=\"1\" class=\"dataframe\">\n",
              "  <thead>\n",
              "    <tr style=\"text-align: right;\">\n",
              "      <th></th>\n",
              "      <th>transition_weight</th>\n",
              "      <th>maximal width</th>\n",
              "      <th>Batch Size</th>\n",
              "      <th>Learning Rate</th>\n",
              "      <th>Topk</th>\n",
              "      <th>Metric</th>\n",
              "      <th>Score</th>\n",
              "    </tr>\n",
              "  </thead>\n",
              "  <tbody>\n",
              "    <tr>\n",
              "      <th>0</th>\n",
              "      <td>1</td>\n",
              "      <td>1024</td>\n",
              "      <td>50</td>\n",
              "      <td>0.001</td>\n",
              "      <td>0</td>\n",
              "      <td>LOSS</td>\n",
              "      <td>0.272081</td>\n",
              "    </tr>\n",
              "    <tr>\n",
              "      <th>1</th>\n",
              "      <td>1</td>\n",
              "      <td>1024</td>\n",
              "      <td>50</td>\n",
              "      <td>0.001</td>\n",
              "      <td>0</td>\n",
              "      <td>MAP</td>\n",
              "      <td>0.842339</td>\n",
              "    </tr>\n",
              "    <tr>\n",
              "      <th>2</th>\n",
              "      <td>1</td>\n",
              "      <td>1024</td>\n",
              "      <td>50</td>\n",
              "      <td>0.001</td>\n",
              "      <td>0</td>\n",
              "      <td>TIME</td>\n",
              "      <td>5076.330927</td>\n",
              "    </tr>\n",
              "    <tr>\n",
              "      <th>3</th>\n",
              "      <td>1</td>\n",
              "      <td>1024</td>\n",
              "      <td>50</td>\n",
              "      <td>0.001</td>\n",
              "      <td>100</td>\n",
              "      <td>HR</td>\n",
              "      <td>0.279470</td>\n",
              "    </tr>\n",
              "    <tr>\n",
              "      <th>4</th>\n",
              "      <td>1</td>\n",
              "      <td>1024</td>\n",
              "      <td>50</td>\n",
              "      <td>0.001</td>\n",
              "      <td>200</td>\n",
              "      <td>HR</td>\n",
              "      <td>0.414238</td>\n",
              "    </tr>\n",
              "    <tr>\n",
              "      <th>5</th>\n",
              "      <td>1</td>\n",
              "      <td>1024</td>\n",
              "      <td>50</td>\n",
              "      <td>0.001</td>\n",
              "      <td>100</td>\n",
              "      <td>MRR</td>\n",
              "      <td>0.018638</td>\n",
              "    </tr>\n",
              "    <tr>\n",
              "      <th>6</th>\n",
              "      <td>1</td>\n",
              "      <td>1024</td>\n",
              "      <td>50</td>\n",
              "      <td>0.001</td>\n",
              "      <td>200</td>\n",
              "      <td>MRR</td>\n",
              "      <td>0.019596</td>\n",
              "    </tr>\n",
              "    <tr>\n",
              "      <th>7</th>\n",
              "      <td>1</td>\n",
              "      <td>1024</td>\n",
              "      <td>50</td>\n",
              "      <td>0.001</td>\n",
              "      <td>100</td>\n",
              "      <td>NDCG</td>\n",
              "      <td>0.063400</td>\n",
              "    </tr>\n",
              "    <tr>\n",
              "      <th>8</th>\n",
              "      <td>1</td>\n",
              "      <td>1024</td>\n",
              "      <td>50</td>\n",
              "      <td>0.001</td>\n",
              "      <td>200</td>\n",
              "      <td>NDCG</td>\n",
              "      <td>0.082214</td>\n",
              "    </tr>\n",
              "  </tbody>\n",
              "</table>\n",
              "</div>\n",
              "      <button class=\"colab-df-convert\" onclick=\"convertToInteractive('df-0c773f61-5df1-4568-b8b4-a3e30bc8c27a')\"\n",
              "              title=\"Convert this dataframe to an interactive table.\"\n",
              "              style=\"display:none;\">\n",
              "        \n",
              "  <svg xmlns=\"http://www.w3.org/2000/svg\" height=\"24px\"viewBox=\"0 0 24 24\"\n",
              "       width=\"24px\">\n",
              "    <path d=\"M0 0h24v24H0V0z\" fill=\"none\"/>\n",
              "    <path d=\"M18.56 5.44l.94 2.06.94-2.06 2.06-.94-2.06-.94-.94-2.06-.94 2.06-2.06.94zm-11 1L8.5 8.5l.94-2.06 2.06-.94-2.06-.94L8.5 2.5l-.94 2.06-2.06.94zm10 10l.94 2.06.94-2.06 2.06-.94-2.06-.94-.94-2.06-.94 2.06-2.06.94z\"/><path d=\"M17.41 7.96l-1.37-1.37c-.4-.4-.92-.59-1.43-.59-.52 0-1.04.2-1.43.59L10.3 9.45l-7.72 7.72c-.78.78-.78 2.05 0 2.83L4 21.41c.39.39.9.59 1.41.59.51 0 1.02-.2 1.41-.59l7.78-7.78 2.81-2.81c.8-.78.8-2.07 0-2.86zM5.41 20L4 18.59l7.72-7.72 1.47 1.35L5.41 20z\"/>\n",
              "  </svg>\n",
              "      </button>\n",
              "      \n",
              "  <style>\n",
              "    .colab-df-container {\n",
              "      display:flex;\n",
              "      flex-wrap:wrap;\n",
              "      gap: 12px;\n",
              "    }\n",
              "\n",
              "    .colab-df-convert {\n",
              "      background-color: #E8F0FE;\n",
              "      border: none;\n",
              "      border-radius: 50%;\n",
              "      cursor: pointer;\n",
              "      display: none;\n",
              "      fill: #1967D2;\n",
              "      height: 32px;\n",
              "      padding: 0 0 0 0;\n",
              "      width: 32px;\n",
              "    }\n",
              "\n",
              "    .colab-df-convert:hover {\n",
              "      background-color: #E2EBFA;\n",
              "      box-shadow: 0px 1px 2px rgba(60, 64, 67, 0.3), 0px 1px 3px 1px rgba(60, 64, 67, 0.15);\n",
              "      fill: #174EA6;\n",
              "    }\n",
              "\n",
              "    [theme=dark] .colab-df-convert {\n",
              "      background-color: #3B4455;\n",
              "      fill: #D2E3FC;\n",
              "    }\n",
              "\n",
              "    [theme=dark] .colab-df-convert:hover {\n",
              "      background-color: #434B5C;\n",
              "      box-shadow: 0px 1px 3px 1px rgba(0, 0, 0, 0.15);\n",
              "      filter: drop-shadow(0px 1px 2px rgba(0, 0, 0, 0.3));\n",
              "      fill: #FFFFFF;\n",
              "    }\n",
              "  </style>\n",
              "\n",
              "      <script>\n",
              "        const buttonEl =\n",
              "          document.querySelector('#df-0c773f61-5df1-4568-b8b4-a3e30bc8c27a button.colab-df-convert');\n",
              "        buttonEl.style.display =\n",
              "          google.colab.kernel.accessAllowed ? 'block' : 'none';\n",
              "\n",
              "        async function convertToInteractive(key) {\n",
              "          const element = document.querySelector('#df-0c773f61-5df1-4568-b8b4-a3e30bc8c27a');\n",
              "          const dataTable =\n",
              "            await google.colab.kernel.invokeFunction('convertToInteractive',\n",
              "                                                     [key], {});\n",
              "          if (!dataTable) return;\n",
              "\n",
              "          const docLinkHtml = 'Like what you see? Visit the ' +\n",
              "            '<a target=\"_blank\" href=https://colab.research.google.com/notebooks/data_table.ipynb>data table notebook</a>'\n",
              "            + ' to learn more about interactive tables.';\n",
              "          element.innerHTML = '';\n",
              "          dataTable['output_type'] = 'display_data';\n",
              "          await google.colab.output.renderOutput(dataTable, element);\n",
              "          const docLink = document.createElement('div');\n",
              "          docLink.innerHTML = docLinkHtml;\n",
              "          element.appendChild(docLink);\n",
              "        }\n",
              "      </script>\n",
              "    </div>\n",
              "  </div>\n",
              "  "
            ]
          },
          "metadata": {},
          "execution_count": 98
        }
      ]
    },
    {
      "cell_type": "code",
      "source": [
        "path = './drive/My Drive/Colab Notebooks/recsys_final_candidates_best_results_transitions_weight1'\n",
        "with open(path, 'wb') as f:\n",
        "  pickle.dump((best_results), f)"
      ],
      "metadata": {
        "id": "E-FXcuwiu3Ks"
      },
      "execution_count": 99,
      "outputs": []
    },
    {
      "cell_type": "code",
      "source": [
        "def plot_training_summary(training_model, title):\n",
        "  with plt.rc_context({'lines.linewidth': 1.5, 'lines.marker' : '.', 'lines.markersize' : 8}):\n",
        "\n",
        "    epochs = np.arange(len(training_model.train_loss_history)) + 1\n",
        "    fig, (ax1, ax2, ax3, ax4) = plt.subplots(1, 4, figsize=(25,5))\n",
        "    ax1.plot(epochs, training_model.train_loss_history, 'r', label = 'train loss')\n",
        "    # ax1.plot(epochs, training_model.eval_loss_history, 'orange', label = 'eval loss')\n",
        "    ax1.set_xlabel('Epochs')\n",
        "    ax1.set_ylabel('LogLoss')\n",
        "    ax1.legend()\n",
        "    ax2.plot(epochs, training_model.eval_HR100_history, 'b', label = 'Hit Ratio @100')\n",
        "    ax2.plot(epochs, training_model.eval_HR200_history, 'g', label = 'Hit Ratio @200')\n",
        "    ax2.set_xlabel('Epochs')\n",
        "    ax2.set_ylabel('Hit Ratio')\n",
        "    ax2.legend()\n",
        "    ax3.plot(epochs, training_model.eval_MRR100_history, 'b', label = 'MRR@100')\n",
        "    ax3.plot(epochs, training_model.eval_MRR200_history, 'g', label = 'MRR@200')\n",
        "    ax3.set_xlabel('Epochs')\n",
        "    ax3.set_ylabel('MRR')\n",
        "    ax3.legend()\n",
        "    ax4.plot(epochs, training_model.eval_NDCG100_history, 'b', label = 'NDCG@100')\n",
        "    ax4.plot(epochs, training_model.eval_NDCG200_history, 'g', label = 'NDCG@200')\n",
        "    ax4.set_xlabel('Epochs')\n",
        "    ax4.set_ylabel('NDCG')\n",
        "    ax4.legend()\n",
        "    fig.suptitle(title, fontsize = 16)"
      ],
      "metadata": {
        "id": "GRJw3qNHLVi7"
      },
      "execution_count": 93,
      "outputs": []
    },
    {
      "cell_type": "code",
      "source": [
        "plot_training_summary(training_candidates, 'Training Summary - Markov chain') #without evaluation loss"
      ],
      "metadata": {
        "colab": {
          "base_uri": "https://localhost:8080/",
          "height": 370
        },
        "id": "vwNN9OLJyCyB",
        "outputId": "23da845a-ad8a-4aca-a593-df705c131181"
      },
      "execution_count": 100,
      "outputs": [
        {
          "output_type": "display_data",
          "data": {
            "text/plain": [
              "<Figure size 1800x360 with 4 Axes>"
            ],
            "image/png": "[encoded data removed]"
          },
          "metadata": {
            "needs_background": "light"
          }
        }
      ]
    },
    {
      "cell_type": "markdown",
      "source": [
        "Conclusion:\\\n",
        "This model gets very close, but does not improve over the basic model."
      ],
      "metadata": {
        "id": "SMNxcFh_8DOO"
      }
    }
  ]
}