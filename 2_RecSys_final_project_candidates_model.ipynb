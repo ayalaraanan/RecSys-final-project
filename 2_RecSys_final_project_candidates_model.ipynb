{
  "nbformat": 4,
  "nbformat_minor": 0,
  "metadata": {
    "colab": {
      "provenance": []
    },
    "kernelspec": {
      "name": "python3",
      "display_name": "Python 3"
    },
    "language_info": {
      "name": "python"
    },
    "accelerator": "GPU",
    "gpuClass": "standard"
  },
  "cells": [
    {
      "cell_type": "markdown",
      "source": [
        "##Overview\n",
        "\n",
        "This is the 2nd notebook in the YouTube recommendation simulation applied to the MovieLens 1M dataset. It contains:\n",
        "1. Candidate extraction model\n",
        "2. Model training and evaluation\n",
        "3. Candidates extraction to be later used by the Ranking model\n",
        "\n",
        "The data for this notebook was generated in: \"1. RecSys final project - data generation for candidate model.ipynb\"\n",
        "\n",
        "###The candidates model\n",
        "The purpose of this model is to extract candidates with high recall to predict the next movie viewing for each user (see notebook 1).\\\n",
        "The model uses multiclass classification, where the result should predict the next item out of 3952 movies in the dataset.\\\n",
        "We produce a user elaborate embedding to the same space as item embeddings. The scalar product of the user to each item is then weighted by a softmax to produce class probabilities.\n",
        "The user representation is done with the following stages:\n",
        "1. Combining user features which include:\\\n",
        "  a. User viewing history. Items are embedded and averaged together (bag of movies)\\\n",
        "  b. User occupation is embedded from 21 options to a 5d vector space\\\n",
        "  c. User age is embedded from 7 options to a 3d vector space\\\n",
        "  d. User gender and example age are added\n",
        "2. The features vector is passed through an MLP network with ReLU. We found in experiment that it is better to omit the last ReLU.\n",
        "\n",
        "Note that the same embeddings are used for the items, both in the user geneartion process and in the final dot product!\n",
        "\n",
        "###Training\n",
        "We train the model with cross entropy loss which is applied to the dot product of the user representation with the item embeddings.\\\n",
        "For each positive item, we have 100 negative samples we train against. In order to not to run across all 3951 other items, we use only 100 for each sample (different for each sample), where we use **importance weights** with the proper ratio for compensation. It was found that the importance weights did not make a significant difference in the results.\n",
        "\n",
        "###Serving\n",
        "For serving the candidates at realtime, the paper authors took the approach of fast approximate KNN. All final item embedding are represented in a latent space and the candidates are the vectors closest to the user representation in the sense of a dot product.\\\n",
        "We explored several options for approximate KNN such as LSHForest, lshf and faiss. Some tools had compatability issues with the colab platforms and others had performance issues. In the end, since our dataset isn't truely huge like for YouTube, we used the classic KNN implementation from sklearn.\\\n",
        "After each epoch, we build the space of the KNN model with the item embeddings and then use it the extract candidates for all users and evaluate vs the real item.\n",
        "\n",
        "###Evaluation\n",
        "The most straight forward evaluation is whether or not our real target item is included in the returned candidates. The results will obviously vary greately depending on the number of returned candidates.\\\n",
        "We chose to evaluate based on returning 100 or 200 candidates.\\\n",
        "Based on the reutrned values we can calculate HR (hit ratio) as well as MRR and NDCG.\\\n",
        "The paper also evaluates MAP, although it does not specify how this is done. For MAP evaluation, we need to get back to a probability space and compare positive and negative results. The way we do this is add negative samples to the validation and test sets as well. We use the same training calculation to obtain dot products, and apply softmax to mimic probabilities. We then take for each sample the positive score and one negative score to compare with labels of 1 and 0. After aggregating all scores we can calculate a ROC curve for all scores and find the area under the graph. Since we only have one class here, AP is enough.\n",
        "\n",
        "###Hyperparameters\n",
        "We performed hyperparameter search, evaluated on the validation set. Evaluation was done every 5 epochs for acceleration. We plot below the effect of the MLP size on the results.\n",
        "\n",
        "###Experiments\n",
        "We plot the best model training history and evaluate on the test set.\\\n",
        "We present the effect of returning 100 vs. 200 candidates.\n",
        "\n",
        "###Candidates extraction\n",
        "The Ranking model needs to receive the candidates for each sample to continue evaluation.\\\n",
        "We built a method for extracting candidates at the end of training for the train, test, and evaluation sets.\\\n",
        "Note that we could have deleted from the candidates list all the items already watched by the user, since unlike YouTube, there are no repetitions of the same movie in the ML dataset. However, this would not be in the spirit of the YouTube implementation where the ranking is looking for maximization of the expected watch time. Keeping watched items as candidates will help teach the ranking model maximize the expected ratings.\n",
        "\n"
      ],
      "metadata": {
        "id": "jXprtS0yJ3g-"
      }
    },
    {
      "cell_type": "markdown",
      "source": [
        "**Imports and administration**"
      ],
      "metadata": {
        "id": "5msyM47xcaJc"
      }
    },
    {
      "cell_type": "code",
      "execution_count": 1,
      "metadata": {
        "id": "glKMRQsxKMRB",
        "colab": {
          "base_uri": "https://localhost:8080/"
        },
        "outputId": "d6dcde82-3b8a-443e-a304-76d0d21e743c"
      },
      "outputs": [
        {
          "output_type": "stream",
          "name": "stdout",
          "text": [
            "Looking in indexes: https://pypi.org/simple, https://us-python.pkg.dev/colab-wheels/public/simple/\n",
            "Requirement already satisfied: gdown in /usr/local/lib/python3.8/dist-packages (4.6.4)\n",
            "Requirement already satisfied: filelock in /usr/local/lib/python3.8/dist-packages (from gdown) (3.9.0)\n",
            "Requirement already satisfied: tqdm in /usr/local/lib/python3.8/dist-packages (from gdown) (4.64.1)\n",
            "Requirement already satisfied: requests[socks] in /usr/local/lib/python3.8/dist-packages (from gdown) (2.25.1)\n",
            "Requirement already satisfied: beautifulsoup4 in /usr/local/lib/python3.8/dist-packages (from gdown) (4.6.3)\n",
            "Requirement already satisfied: six in /usr/local/lib/python3.8/dist-packages (from gdown) (1.15.0)\n",
            "Requirement already satisfied: chardet<5,>=3.0.2 in /usr/local/lib/python3.8/dist-packages (from requests[socks]->gdown) (4.0.0)\n",
            "Requirement already satisfied: certifi>=2017.4.17 in /usr/local/lib/python3.8/dist-packages (from requests[socks]->gdown) (2022.12.7)\n",
            "Requirement already satisfied: urllib3<1.27,>=1.21.1 in /usr/local/lib/python3.8/dist-packages (from requests[socks]->gdown) (1.24.3)\n",
            "Requirement already satisfied: idna<3,>=2.5 in /usr/local/lib/python3.8/dist-packages (from requests[socks]->gdown) (2.10)\n",
            "Requirement already satisfied: PySocks!=1.5.7,>=1.5.6 in /usr/local/lib/python3.8/dist-packages (from requests[socks]->gdown) (1.7.1)\n"
          ]
        }
      ],
      "source": [
        "# basic\n",
        "from google.colab import runtime\n",
        "import os \n",
        "import sys\n",
        "import math\n",
        "from time import time\n",
        "import zipfile\n",
        "import requests\n",
        "import pickle\n",
        "import gdown\n",
        "!pip install --upgrade --no-cache-dir gdown\n",
        "\n",
        "# general\n",
        "import warnings\n",
        "import numpy as np\n",
        "import pandas as pd\n",
        "# !pip install scikit-learn\n",
        "# from sklearn.neighbors import LSHForest\n",
        "# from sklearn import neighbors.LSHForest\n",
        "# !apt install libomp-dev\n",
        "# !python -m pip install --upgrade faiss faiss-gpu\n",
        "# !pip install faiss-gpu\n",
        "# import faiss\n",
        "from sklearn.neighbors import KNeighborsClassifier\n",
        "from sklearn.metrics import average_precision_score\n",
        "\n",
        "# visual\n",
        "import matplotlib\n",
        "import seaborn as sns\n",
        "import matplotlib.pyplot as plt\n",
        "\n",
        "# notebook\n",
        "from IPython.display import display, HTML\n",
        "from tqdm import tqdm\n",
        "import copy\n",
        "\n",
        "\n",
        "# torch\n",
        "import torch\n",
        "from torch import nn\n",
        "import torch.nn.functional as F\n",
        "from torch.nn import Sequential\n",
        "from torch.nn import Sigmoid,ReLU\n",
        "from torch.nn import Embedding,Linear,Dropout\n",
        "from torch.utils.data import DataLoader, Dataset\n",
        "from torchvision.transforms import ToTensor,Compose\n",
        "from torch.optim import SparseAdam,Adam,Adagrad,SGD\n",
        "\n",
        "device = torch.device('cuda:0' if torch.cuda.is_available() else 'cpu')"
      ]
    },
    {
      "cell_type": "code",
      "source": [
        "device"
      ],
      "metadata": {
        "id": "kXqJNkVFbw7v"
      },
      "execution_count": null,
      "outputs": []
    },
    {
      "cell_type": "code",
      "source": [
        "warnings.filterwarnings('ignore')"
      ],
      "metadata": {
        "id": "Awg9ULDNKfbm"
      },
      "execution_count": 2,
      "outputs": []
    },
    {
      "cell_type": "code",
      "source": [
        "from google.colab import drive\n",
        "drive.mount('/content/drive')"
      ],
      "metadata": {
        "colab": {
          "base_uri": "https://localhost:8080/"
        },
        "id": "Odr_4oyIKcFS",
        "outputId": "91478002-2df2-4f8c-a9a9-57cb095f3804"
      },
      "execution_count": 3,
      "outputs": [
        {
          "output_type": "stream",
          "name": "stdout",
          "text": [
            "Mounted at /content/drive\n"
          ]
        }
      ]
    },
    {
      "cell_type": "markdown",
      "source": [
        "**Loading the datasets**"
      ],
      "metadata": {
        "id": "WDtwDReRciDG"
      }
    },
    {
      "cell_type": "code",
      "source": [
        "url = \"https://drive.google.com/file/d/1--fU4VVsoVxUMMQZ7pg4WhKiV1neFfOo/view?usp=share_link\"\n",
        "datasets_path = 'train_10'\n",
        "gdown.download(url, datasets_path, quiet=False,fuzzy=True)"
      ],
      "metadata": {
        "colab": {
          "base_uri": "https://localhost:8080/",
          "height": 109
        },
        "id": "Uy19f_d8hbFU",
        "outputId": "2ecbd748-db16-4426-b02f-5e2edc08e886"
      },
      "execution_count": 2,
      "outputs": [
        {
          "output_type": "stream",
          "name": "stderr",
          "text": [
            "Downloading...\n",
            "From: https://drive.google.com/uc?id=1--fU4VVsoVxUMMQZ7pg4WhKiV1neFfOo\n",
            "To: /content/train_10\n",
            "100%|██████████| 402M/402M [00:03<00:00, 117MB/s] \n"
          ]
        },
        {
          "output_type": "execute_result",
          "data": {
            "text/plain": [
              "'train_10'"
            ],
            "application/vnd.google.colaboratory.intrinsic+json": {
              "type": "string"
            }
          },
          "metadata": {},
          "execution_count": 2
        }
      ]
    },
    {
      "cell_type": "code",
      "source": [
        "# You can open from your location/drive location in case gdown doesn't work\n",
        "# datasets_path = './drive/My Drive/Colab Notebooks/recsys_final_project/train_10'\n",
        "with open(datasets_path , 'rb') as f:\n",
        "  (train, test, val, n_items, max_watches, num_neg_samples) = pickle.load(f)\n",
        "  print('loaded training')"
      ],
      "metadata": {
        "colab": {
          "base_uri": "https://localhost:8080/"
        },
        "id": "5bXw2Z9N7Ly6",
        "outputId": "a2f12c43-6813-486d-e46a-7a187e5828a6"
      },
      "execution_count": 3,
      "outputs": [
        {
          "output_type": "stream",
          "name": "stdout",
          "text": [
            "loaded training\n"
          ]
        }
      ]
    },
    {
      "cell_type": "code",
      "source": [
        "n_users = 6040"
      ],
      "metadata": {
        "id": "H7gTrM362K_R"
      },
      "execution_count": 5,
      "outputs": []
    },
    {
      "cell_type": "code",
      "source": [
        "class Candidates(torch.nn.Module):\n",
        "    def __init__(self, config):\n",
        "        super(Candidates, self).__init__()\n",
        "\n",
        "        self.num_items = config['num_items']\n",
        "        self.n_neg_samples = config['n_neg_samples']\n",
        "        self.max_watches = config['max_watches']\n",
        "        self.latent_dim = config['latent_dim']\n",
        "        self.features_dim = config['features_dim']\n",
        "        self.layers = config['layers']\n",
        "\n",
        "        self.embed_items = torch.nn.Embedding(num_embeddings=self.num_items, embedding_dim=self.latent_dim) #log 4000 ~12\n",
        "        self.embed_occ = torch.nn.Embedding(num_embeddings=21, embedding_dim=5) # 21 occupations log~5\n",
        "        self.embed_age = torch.nn.Embedding(num_embeddings=7, embedding_dim=3) # 7 occupations log~3\n",
        "\n",
        "        self.fc_layers = torch.nn.ModuleList()\n",
        "        self.fc_layers.append(torch.nn.Linear(self.features_dim, self.layers[0])) #linking features to MLP\n",
        "        if len(self.layers) > 1:\n",
        "          for (in_size, out_size) in zip(self.layers[:-1], self.layers[1:]):\n",
        "              self.fc_layers.append(torch.nn.Linear(in_size, out_size))\n",
        "        \n",
        "        # self.LSHIndex = LSHIndex()\n",
        "        self.N_candidates = config['N_candidates']\n",
        "        self.knn = KNeighborsClassifier(n_neighbors=self.N_candidates) #initiating the KNN model with maximal N_candidates\n",
        "\n",
        "    def forward(self, features, mode):\n",
        "        # previous watches embedding and averaging\n",
        "        # We must take into account the possible padding with 0's of the user history\n",
        "        n = self.max_watches\n",
        "        previous_watches = features[:, :n].int()\n",
        "        mask = torch.unsqueeze((previous_watches > 0),2)\n",
        "        embedded_items = self.embed_items(previous_watches)\n",
        "        sum = mask.sum(dim=1)\n",
        "        sum[sum == 0] = 1 #so we don't divide by 0 and get nan (even though overwritten)\n",
        "        embedded_items_mean = (embedded_items*mask).sum(dim=1)/sum\n",
        "        n_indices = torch.count_nonzero(previous_watches, dim=1)\n",
        "        embedded_items_mean[(n_indices == 0)] = torch.zeros(self.latent_dim).to(device)\n",
        "\n",
        "        # other embeddings\n",
        "        user_age = features[:, n].int()\n",
        "        emb_age = self.embed_age(user_age)\n",
        "        user_occupation = features[:, n+1].int()\n",
        "        emb_occ = self.embed_occ(user_occupation)\n",
        "        \n",
        "        # other features\n",
        "        other_features = features[:, n+2:n+5]\n",
        "        \n",
        "        # all\n",
        "        vector = torch.hstack((embedded_items_mean, emb_age, emb_occ, other_features)).to(torch.float32)\n",
        "\n",
        "        for idx, _ in enumerate(range(len(self.fc_layers)-1)):\n",
        "            vector = self.fc_layers[idx](vector)\n",
        "            vector = torch.nn.ReLU()(vector)\n",
        "        vector = self.fc_layers[-1](vector) #last layer without RELU\n",
        "\n",
        "        if mode == 'training':\n",
        "          item_id_label = features[:, -self.n_neg_samples-1].int()\n",
        "          negative_samples = features[:, -self.n_neg_samples:].int() #negative samples are precalculated\n",
        "\n",
        "          sample_indices = torch.hstack([torch.unsqueeze(item_id_label, 1), negative_samples])\n",
        "          sample_embeddings = self.embed_items(sample_indices)\n",
        "          dot_products = torch.matmul(sample_embeddings, torch.unsqueeze(vector, dim = 2))\n",
        "          return dot_products.squeeze()\n",
        "    \n",
        "        elif mode == 'serving':\n",
        "          # candidates = self.lshf.kneighbors(vector, n_neighbors=self.N_candidates, return_distance=False)\n",
        "          # candidates = self.LSHIndex.query(vector, k = self.N_candidates)\n",
        "          candidates = self.knn.kneighbors(vector.detach().cpu().numpy(), return_distance=False)\n",
        "          return candidates #only indices"
      ],
      "metadata": {
        "id": "6a16jomdUTtt"
      },
      "execution_count": 6,
      "outputs": []
    },
    {
      "cell_type": "code",
      "source": [
        "class Training(object):\n",
        "\n",
        "  def __init__(self, model, config):\n",
        "    self.config = config\n",
        "    self.model = model.to(self.config['device'])\n",
        "    self.n_neg_samples = config['n_neg_samples']\n",
        "    self.labels = torch.hstack((torch.tensor(1), torch.zeros(self.n_neg_samples))).repeat(config['batch_size'], 1).to(device)\n",
        "    #importance weights with ratio of ~3000/100 = 30\n",
        "    self.importance_weights = torch.hstack((torch.tensor(1), 30*torch.ones(self.n_neg_samples))).to(device)\n",
        "    self.optimizer = config['optimizer_type'](model.parameters(), **config['optimizer_parameter'])\n",
        "    self.criterion = config['criterion'](weight = self.importance_weights) #here we add importance weights to the loss function\n",
        "    self.dl_train = DataLoader(train, batch_size=config['batch_size'], shuffle=True) # create dataloader with given batch size\n",
        "    self.dl_val = DataLoader(val, batch_size=config['batch_size'], shuffle=False) # create dataloader with given batch size\n",
        "    self.knn_labels = np.ones(self.model.num_items)\n",
        "    self.AP_labels = torch.tensor([1, 0]).repeat(1, n_users).squeeze()\n",
        "\n",
        "  def train(self):\n",
        "    self.train_loss_history = []\n",
        "    self.eval_loss_history = []\n",
        "    self.eval_map_history = []\n",
        "    self.eval_HR100_history = []\n",
        "    self.eval_HR200_history = []\n",
        "    self.eval_MRR100_history = []\n",
        "    self.eval_MRR200_history = []\n",
        "    self.eval_NDCG100_history = []\n",
        "    self.eval_NDCG200_history = []\n",
        "\n",
        "    epochs_without_improvement = 0\n",
        "    best_HR = None \n",
        "    train_start = time()\n",
        "    for epoch in range(self.config['n_epochs']):\n",
        "      self.train_epoch() #train\n",
        "      self.train_loss_history.append(self.epoch_train_loss/len(self.dl_train))\n",
        "      # extract all embeddings\n",
        "      all_embeddings = self.model.embed_items(torch.arange(0, n_items).to(device)).detach().cpu().numpy()\n",
        "      self.model.knn.fit(all_embeddings, self.knn_labels)\n",
        "      # self.model.LSHIndex.build(all_embeddings)\n",
        "      # self.model.lshf.kneighbors.fit(all_embeddings)\n",
        "      if epoch%1 == 0:\n",
        "      # if epoch%10 == 0:\n",
        "        self.evaluate_epoch(self.dl_val) #evaluate\n",
        "        # aggregate metrics: note len(val) = len(test)\n",
        "        self.eval_loss_history.append(self.epoch_eval_loss/len(self.dl_val))\n",
        "        average_precision = average_precision_score(self.AP_labels, self.epoch_pred)\n",
        "        self.eval_map_history.append(average_precision)\n",
        "        self.eval_HR100_history.append(self.epoch_HR100/len(val))\n",
        "        self.eval_HR200_history.append(self.epoch_HR200/len(val))\n",
        "        self.eval_MRR100_history.append(self.epoch_MRR100/len(val))\n",
        "        self.eval_MRR200_history.append(self.epoch_MRR200/len(val))\n",
        "        self.eval_NDCG100_history.append(self.epoch_NDCG100/len(val))\n",
        "        self.eval_NDCG200_history.append(self.epoch_NDCG200/len(val))\n",
        "        print(f'epoch {epoch}: loss = {self.train_loss_history[-1]}, HR@200 = {self.eval_HR200_history[-1]}, AP = {self.eval_map_history[-1]}')\n",
        "        # print(f'epoch {epoch}: loss = {self.train_loss_history[-1]}, HR@200 = {self.eval_HR200_history[-1]}')\n",
        "        #check for early stopping\n",
        "        if not best_HR or self.eval_HR200_history[-1] > best_HR:\n",
        "          best_HR = self.eval_HR200_history[-1]\n",
        "          # best_MRR200 = self.eval_MRR200_history[-1]\n",
        "          # best_NDCG200 = self.eval_NDCG200_history[-1]\n",
        "          # best_loss = self.eval_loss_history[-1]\n",
        "          epochs_without_improvement = 0\n",
        "          #print (\"Achieved lower validation loss, save model at epoch number {} \".format(epoch + 1) )\n",
        "          best_model = copy.deepcopy(self.model.state_dict())\n",
        "        else:\n",
        "          epochs_without_improvement += 1\n",
        "\n",
        "        if epochs_without_improvement == self.config['early_stopping']:\n",
        "          if self.config['verbose']:\n",
        "              print('\\nEarly stoping after {} epochs. validation loss did not imporve for more than {} epcochs'.format(epoch, self.config['early_stopping']))\n",
        "          break\n",
        "    self.training_time = time() - train_start\n",
        "\n",
        "    # load best model and best performance\n",
        "    self.model.load_state_dict(best_model)\n",
        "    if self.config['verbose']:\n",
        "        print('\\nFinished Training:')\n",
        "        print('Best metrics are:')\n",
        "        print(f'Hit Ratio eval = {best_HR}')\n",
        "    \n",
        "  def train_epoch(self):\n",
        "    self.epoch_train_loss   = 0\n",
        "    self.model.train() # train mode\n",
        "    for batch in tqdm(self.dl_train, disable=(not self.config['verbose'])):\n",
        "      self.train_batch(batch)\n",
        "\n",
        "  def train_batch(self, batch):\n",
        "     \n",
        "    batch = batch.to(device)  \n",
        "    pred = self.model(batch, mode = 'training')\n",
        "    labels = self.labels\n",
        "    if pred.shape[0] < self.config['batch_size']:\n",
        "      labels = torch.hstack((torch.tensor(1), torch.zeros(self.n_neg_samples))).repeat(pred.shape[0], 1).to(device)\n",
        "    loss = self.criterion(pred, labels)\n",
        "              \n",
        "    self.optimizer.zero_grad()\n",
        "    loss.backward()\n",
        "    self.optimizer.step()               \n",
        "    self.epoch_train_loss += loss.item()\n",
        "\n",
        "  def evaluate_epoch(self, dl_eval):\n",
        "    self.epoch_eval_loss = 0\n",
        "    self.epoch_pred = torch.empty(0) #Aggregated for AP calculation\n",
        "    self.epoch_HR100 = 0\n",
        "    self.epoch_HR200 = 0\n",
        "    self.epoch_MRR100 = 0\n",
        "    self.epoch_MRR200 = 0\n",
        "    self.epoch_NDCG100 = 0\n",
        "    self.epoch_NDCG200 = 0\n",
        "\n",
        "    self.model.eval() #evaluation mode\n",
        "    with torch.no_grad():\n",
        "      for batch in tqdm(dl_eval, disable=(not self.config['verbose'])):\n",
        "        self.eval_batch(batch) # dl_val was built so that one batch is one user\n",
        "\n",
        "\n",
        "  def eval_batch(self, batch):\n",
        "    target_items = batch[:, -num_neg_samples-1]\n",
        "    # Send tensor to GPU    \n",
        "    batch = batch.to(device)\n",
        "\n",
        "    #evaluations of candidates retrieval\n",
        "    candidates_batch = self.model(batch, mode = 'serving') #already returned sorted from high to low\n",
        "    for candidates, target_item in zip(candidates_batch, target_items):\n",
        "      self.epoch_HR100 += self.HitRatio(candidates, target_item, 100)\n",
        "      self.epoch_HR200 += self.HitRatio(candidates, target_item, 200)\n",
        "      self.epoch_MRR100 += self.MRR(candidates, target_item, 100)\n",
        "      self.epoch_MRR200 += self.MRR(candidates, target_item, 200)\n",
        "      self.epoch_NDCG100 += self.NDCG(candidates, target_item, 100)\n",
        "      self.epoch_NDCG200 += self.NDCG(candidates, target_item, 200)\n",
        "  \n",
        "    #AP evaluation using negative samples\n",
        "    pred = self.model(batch, mode = 'training') # not really training - extracts negative samples prediction for AP calculation\n",
        "    labels = self.labels\n",
        "    if pred.shape[0] < self.config['batch_size']:\n",
        "      labels = torch.hstack((torch.tensor(1), torch.zeros(self.n_neg_samples))).repeat(pred.shape[0], 1).to(device)\n",
        "    loss = self.criterion(pred, labels)        \n",
        "    self.epoch_eval_loss += loss.item()\n",
        "\n",
        "    probabilities = F.softmax(pred.detach().cpu(), dim = 1)\n",
        "    for prob in probabilities: #concatenating predictions for average precision calculation at the end of the epoch\n",
        "      self.epoch_pred = torch.hstack((self.epoch_pred, prob[:2])) #first two here (positive and negative)\n",
        "\n",
        "\n",
        "  def extract_candidates(self, dl_eval):\n",
        "    self.model.eval() #evaluation mode\n",
        "    all_candidates = np.empty((0, self.model.N_candidates))\n",
        "    with torch.no_grad():\n",
        "      for batch in tqdm(dl_eval, disable=(not self.config['verbose'])):\n",
        "        target_items = batch[:, -num_neg_samples-1]\n",
        "        # Send tensor to GPU    \n",
        "        batch = batch.to(device)\n",
        "        candidates_batch = self.model(batch, mode = 'serving')\n",
        "        all_candidates = np.vstack([all_candidates, candidates_batch])\n",
        "        # previous_watches = batch[:, :max_watches].int()\n",
        "        # for candidates, prev_watches in zip(candidates_batch, previous_watches):\n",
        "        #   #remove previous watches from candidates, since there are no duplicities in this dataset\n",
        "        #   candidates = [x for x in candidates if x not in prev_watches]\n",
        "      return all_candidates\n",
        "\n",
        "  def HitRatio(self, ranked_items, target_item, k):\n",
        "    for item in ranked_items[:k]:\n",
        "      if item == target_item:\n",
        "        return 1\n",
        "    return 0\n",
        "\n",
        "  def MRR(self, ranked_items, target_item, k):\n",
        "    for i, item in enumerate(ranked_items[:k]):\n",
        "      if item == target_item:\n",
        "        return 1/(i + 1)\n",
        "    return 0\n",
        "\n",
        "\n",
        "  def NDCG(self, ranked_items, target_item, k):\n",
        "    for i, item in enumerate(ranked_items[:k]):\n",
        "      if item == target_item:\n",
        "        return np.log(2)/np.log(i + 2)\n",
        "    return 0\n"
      ],
      "metadata": {
        "id": "uJo9qaoMAWJv"
      },
      "execution_count": 7,
      "outputs": []
    },
    {
      "cell_type": "markdown",
      "source": [
        "###Hyperparameters search\n",
        "We show optimization for MLP dimensions, as in the paper, after learning rate was optimized as well.\\\n",
        "evaluation was done coarsly every 10 epochs.\\\n",
        "Only HR@200, AP and training time were recorded.\n",
        "\n",
        "**NOTE - Hyperparameters search takes long to run. My results can be downloaded below**"
      ],
      "metadata": {
        "id": "KkPSnQ9VH796"
      }
    },
    {
      "cell_type": "code",
      "source": [
        "results = pd.DataFrame(columns=['maximal width', 'Batch Size', 'Learning Rate', 'Topk', 'Metric', 'Score']) #uncomment to run"
      ],
      "metadata": {
        "id": "KEDeLN-4zVro"
      },
      "execution_count": null,
      "outputs": []
    },
    {
      "cell_type": "code",
      "source": [
        "def add_results(training_model, results_df, max_width, batch_size, lr):\n",
        "\n",
        "  MAP = average_precision_score(training_model.AP_labels, training_model.epoch_pred)\n",
        "  # MAP = training_model.eval_map_history[-1]\n",
        "  hr200 = training_model.epoch_HR200/len(val)\n",
        "  tr_time = training_model.training_time\n",
        "\n",
        "  results_df.loc[len(results_df)] = max_width, batch_size, lr, 0, 'MAP', MAP\n",
        "  results_df.loc[len(results_df)] = max_width, batch_size, lr, 0, 'TIME', tr_time\n",
        "  results_df.loc[len(results_df)] = max_width, batch_size, lr, 200, 'HR', hr200"
      ],
      "metadata": {
        "id": "hCmkLIp62c0O"
      },
      "execution_count": null,
      "outputs": []
    },
    {
      "cell_type": "code",
      "source": [
        "batch_size = 50\n",
        "lr = 0.001\n",
        "layers_list = [[256], [512, 256], [1024, 512, 256], [2048, 1024, 512, 256]]\n",
        "\n",
        "for layers in layers_list:\n",
        "  torch.manual_seed(42)\n",
        "  np.random.seed(42) \n",
        "  max_width = layers[0]\n",
        "  Candidates_config = {'num_items': n_items, 'n_neg_samples': num_neg_samples, 'max_watches': max_watches, 'latent_dim': 256, 'features_dim': 267, 'layers':layers, 'N_candidates':250}\n",
        "  model_Candidates = Candidates(Candidates_config)\n",
        "\n",
        "  training_config = {'n_neg_samples': num_neg_samples, 'batch_size': batch_size, 'optimizer_type': Adam, 'optimizer_parameter': {'lr': lr}, \\\n",
        "                'criterion' : torch.nn.CrossEntropyLoss, 'n_epochs' : 51, 'early_stopping' : 8, 'verbose' : True, 'device' : device}\n",
        "\n",
        "  training_candidates = Training(model_Candidates, training_config)\n",
        "  training_candidates.train()\n",
        "  training_candidates.evaluate_epoch(training_candidates.dl_val)\n",
        "  add_results(training_candidates, results, max_width, batch_size, lr)\n"
      ],
      "metadata": {
        "id": "xX9n0aZmNgEr",
        "colab": {
          "base_uri": "https://localhost:8080/"
        },
        "outputId": "8c2cae28-351f-4087-f9de-d1afe963de72"
      },
      "execution_count": null,
      "outputs": [
        {
          "output_type": "stream",
          "name": "stderr",
          "text": [
            "100%|██████████| 6040/6040 [00:23<00:00, 257.56it/s]\n",
            "100%|██████████| 121/121 [00:18<00:00,  6.66it/s]\n"
          ]
        },
        {
          "output_type": "stream",
          "name": "stdout",
          "text": [
            "epoch 0: loss = 3.9165266324352745, HR@200 = 0.1652317880794702, AP = 0.8622159968491578\n"
          ]
        },
        {
          "output_type": "stream",
          "name": "stderr",
          "text": [
            "100%|██████████| 6040/6040 [00:23<00:00, 261.05it/s]\n",
            "100%|██████████| 6040/6040 [00:23<00:00, 256.67it/s]\n",
            "100%|██████████| 6040/6040 [00:23<00:00, 256.54it/s]\n",
            "100%|██████████| 6040/6040 [00:22<00:00, 265.33it/s]\n",
            "100%|██████████| 6040/6040 [00:23<00:00, 255.24it/s]\n",
            "100%|██████████| 6040/6040 [00:24<00:00, 247.35it/s]\n",
            "100%|██████████| 6040/6040 [00:23<00:00, 260.09it/s]\n",
            "100%|██████████| 6040/6040 [00:22<00:00, 263.52it/s]\n",
            "100%|██████████| 6040/6040 [00:23<00:00, 255.88it/s]\n",
            "100%|██████████| 6040/6040 [00:23<00:00, 255.17it/s]\n",
            "100%|██████████| 121/121 [00:16<00:00,  7.29it/s]\n"
          ]
        },
        {
          "output_type": "stream",
          "name": "stdout",
          "text": [
            "epoch 10: loss = 1.480612393365001, HR@200 = 0.3117549668874172, AP = 0.8980929976593577\n"
          ]
        },
        {
          "output_type": "stream",
          "name": "stderr",
          "text": [
            "100%|██████████| 6040/6040 [00:23<00:00, 260.01it/s]\n",
            "100%|██████████| 6040/6040 [00:22<00:00, 263.25it/s]\n",
            "100%|██████████| 6040/6040 [00:23<00:00, 257.69it/s]\n",
            "100%|██████████| 6040/6040 [00:23<00:00, 253.77it/s]\n",
            "100%|██████████| 6040/6040 [00:23<00:00, 258.79it/s]\n",
            "100%|██████████| 6040/6040 [00:23<00:00, 257.98it/s]\n",
            "100%|██████████| 6040/6040 [00:23<00:00, 257.18it/s]\n",
            "100%|██████████| 6040/6040 [00:23<00:00, 260.21it/s]\n",
            "100%|██████████| 6040/6040 [00:22<00:00, 263.49it/s]\n",
            "100%|██████████| 6040/6040 [00:23<00:00, 257.62it/s]\n",
            "100%|██████████| 121/121 [00:16<00:00,  7.42it/s]\n"
          ]
        },
        {
          "output_type": "stream",
          "name": "stdout",
          "text": [
            "epoch 20: loss = 0.8515356474315489, HR@200 = 0.33112582781456956, AP = 0.8916371746376804\n"
          ]
        },
        {
          "output_type": "stream",
          "name": "stderr",
          "text": [
            "100%|██████████| 6040/6040 [00:23<00:00, 256.35it/s]\n",
            "100%|██████████| 6040/6040 [00:23<00:00, 260.08it/s]\n",
            "100%|██████████| 6040/6040 [00:23<00:00, 255.69it/s]\n",
            "100%|██████████| 6040/6040 [00:23<00:00, 255.75it/s]\n",
            "100%|██████████| 6040/6040 [00:23<00:00, 254.24it/s]\n",
            "100%|██████████| 6040/6040 [00:23<00:00, 255.10it/s]\n",
            "100%|██████████| 6040/6040 [00:23<00:00, 260.56it/s]\n",
            "100%|██████████| 6040/6040 [00:23<00:00, 257.32it/s]\n",
            "100%|██████████| 6040/6040 [00:23<00:00, 255.82it/s]\n",
            "100%|██████████| 6040/6040 [00:22<00:00, 268.28it/s]\n",
            "100%|██████████| 121/121 [00:16<00:00,  7.40it/s]\n"
          ]
        },
        {
          "output_type": "stream",
          "name": "stdout",
          "text": [
            "epoch 30: loss = 0.5130948499881274, HR@200 = 0.34089403973509935, AP = 0.8888053648365548\n"
          ]
        },
        {
          "output_type": "stream",
          "name": "stderr",
          "text": [
            "100%|██████████| 6040/6040 [00:24<00:00, 247.94it/s]\n",
            "100%|██████████| 6040/6040 [00:23<00:00, 258.58it/s]\n",
            "100%|██████████| 6040/6040 [00:23<00:00, 260.95it/s]\n",
            "100%|██████████| 6040/6040 [00:22<00:00, 262.75it/s]\n",
            "100%|██████████| 6040/6040 [00:23<00:00, 256.57it/s]\n",
            "100%|██████████| 6040/6040 [00:23<00:00, 258.35it/s]\n",
            "100%|██████████| 6040/6040 [00:22<00:00, 266.48it/s]\n",
            "100%|██████████| 6040/6040 [00:23<00:00, 256.99it/s]\n",
            "100%|██████████| 6040/6040 [00:23<00:00, 257.42it/s]\n",
            "100%|██████████| 6040/6040 [00:23<00:00, 254.05it/s]\n",
            "100%|██████████| 121/121 [00:16<00:00,  7.19it/s]\n"
          ]
        },
        {
          "output_type": "stream",
          "name": "stdout",
          "text": [
            "epoch 40: loss = 0.3361056389250108, HR@200 = 0.3531456953642384, AP = 0.8866138382634433\n"
          ]
        },
        {
          "output_type": "stream",
          "name": "stderr",
          "text": [
            "100%|██████████| 6040/6040 [00:22<00:00, 266.60it/s]\n",
            "100%|██████████| 6040/6040 [00:23<00:00, 256.97it/s]\n",
            "100%|██████████| 6040/6040 [00:23<00:00, 252.72it/s]\n",
            "100%|██████████| 6040/6040 [00:23<00:00, 261.66it/s]\n",
            "100%|██████████| 6040/6040 [00:23<00:00, 262.47it/s]\n",
            "100%|██████████| 6040/6040 [00:23<00:00, 260.53it/s]\n",
            "100%|██████████| 6040/6040 [00:23<00:00, 256.63it/s]\n",
            "100%|██████████| 6040/6040 [00:23<00:00, 257.34it/s]\n",
            "100%|██████████| 6040/6040 [00:23<00:00, 254.79it/s]\n",
            "100%|██████████| 6040/6040 [00:23<00:00, 257.45it/s]\n",
            "100%|██████████| 121/121 [00:15<00:00,  7.61it/s]\n"
          ]
        },
        {
          "output_type": "stream",
          "name": "stdout",
          "text": [
            "epoch 50: loss = 0.2553798374607357, HR@200 = 0.3650662251655629, AP = 0.8845265827478196\n",
            "\n",
            "Finished Training:\n",
            "Best metrics are:\n",
            "Hit Ratio eval = 0.3650662251655629\n"
          ]
        },
        {
          "output_type": "stream",
          "name": "stderr",
          "text": [
            "100%|██████████| 121/121 [00:16<00:00,  7.55it/s]\n",
            "100%|██████████| 6040/6040 [00:26<00:00, 227.01it/s]\n",
            "100%|██████████| 121/121 [00:17<00:00,  6.79it/s]\n"
          ]
        },
        {
          "output_type": "stream",
          "name": "stdout",
          "text": [
            "epoch 0: loss = 3.18288490515671, HR@200 = 0.12367549668874173, AP = 0.8779202237486453\n"
          ]
        },
        {
          "output_type": "stream",
          "name": "stderr",
          "text": [
            "100%|██████████| 6040/6040 [00:27<00:00, 223.37it/s]\n",
            "100%|██████████| 6040/6040 [00:27<00:00, 223.70it/s]\n",
            "100%|██████████| 6040/6040 [00:27<00:00, 216.44it/s]\n",
            "100%|██████████| 6040/6040 [00:26<00:00, 226.80it/s]\n",
            "100%|██████████| 6040/6040 [00:26<00:00, 228.10it/s]\n",
            "100%|██████████| 6040/6040 [00:26<00:00, 227.12it/s]\n",
            "100%|██████████| 6040/6040 [00:26<00:00, 229.25it/s]\n",
            "100%|██████████| 6040/6040 [00:26<00:00, 226.94it/s]\n",
            "100%|██████████| 6040/6040 [00:26<00:00, 228.97it/s]\n",
            "100%|██████████| 6040/6040 [00:26<00:00, 229.36it/s]\n",
            "100%|██████████| 121/121 [00:16<00:00,  7.41it/s]\n"
          ]
        },
        {
          "output_type": "stream",
          "name": "stdout",
          "text": [
            "epoch 10: loss = 1.8296195665732125, HR@200 = 0.26076158940397354, AP = 0.9122177605988251\n"
          ]
        },
        {
          "output_type": "stream",
          "name": "stderr",
          "text": [
            "100%|██████████| 6040/6040 [00:27<00:00, 221.06it/s]\n",
            "100%|██████████| 6040/6040 [00:26<00:00, 229.67it/s]\n",
            "100%|██████████| 6040/6040 [00:26<00:00, 225.69it/s]\n",
            "100%|██████████| 6040/6040 [00:26<00:00, 228.27it/s]\n",
            "100%|██████████| 6040/6040 [00:26<00:00, 227.03it/s]\n",
            "100%|██████████| 6040/6040 [00:26<00:00, 229.69it/s]\n",
            "100%|██████████| 6040/6040 [00:26<00:00, 230.55it/s]\n",
            "100%|██████████| 6040/6040 [00:26<00:00, 229.28it/s]\n",
            "100%|██████████| 6040/6040 [00:27<00:00, 219.16it/s]\n",
            "100%|██████████| 6040/6040 [00:26<00:00, 229.59it/s]\n",
            "100%|██████████| 121/121 [00:16<00:00,  7.33it/s]\n"
          ]
        },
        {
          "output_type": "stream",
          "name": "stdout",
          "text": [
            "epoch 20: loss = 1.5852444319930297, HR@200 = 0.2913907284768212, AP = 0.9022723560952739\n"
          ]
        },
        {
          "output_type": "stream",
          "name": "stderr",
          "text": [
            "100%|██████████| 6040/6040 [00:26<00:00, 229.82it/s]\n",
            "100%|██████████| 6040/6040 [00:26<00:00, 227.84it/s]\n",
            "100%|██████████| 6040/6040 [00:26<00:00, 229.97it/s]\n",
            "100%|██████████| 6040/6040 [00:26<00:00, 225.68it/s]\n",
            "100%|██████████| 6040/6040 [00:27<00:00, 221.75it/s]\n",
            "100%|██████████| 6040/6040 [00:28<00:00, 213.33it/s]\n",
            "100%|██████████| 6040/6040 [00:27<00:00, 219.37it/s]\n",
            "100%|██████████| 6040/6040 [00:27<00:00, 219.60it/s]\n",
            "100%|██████████| 6040/6040 [00:27<00:00, 222.95it/s]\n",
            "100%|██████████| 6040/6040 [00:27<00:00, 223.63it/s]\n",
            "100%|██████████| 121/121 [00:16<00:00,  7.27it/s]\n"
          ]
        },
        {
          "output_type": "stream",
          "name": "stdout",
          "text": [
            "epoch 30: loss = 1.457980330683143, HR@200 = 0.3044701986754967, AP = 0.8994304637227627\n"
          ]
        },
        {
          "output_type": "stream",
          "name": "stderr",
          "text": [
            "100%|██████████| 6040/6040 [00:26<00:00, 224.20it/s]\n",
            "100%|██████████| 6040/6040 [00:26<00:00, 223.87it/s]\n",
            "100%|██████████| 6040/6040 [00:27<00:00, 221.68it/s]\n",
            "100%|██████████| 6040/6040 [00:27<00:00, 222.44it/s]\n",
            "100%|██████████| 6040/6040 [00:27<00:00, 222.25it/s]\n",
            "100%|██████████| 6040/6040 [00:28<00:00, 213.07it/s]\n",
            "100%|██████████| 6040/6040 [00:27<00:00, 222.36it/s]\n",
            "100%|██████████| 6040/6040 [00:26<00:00, 224.57it/s]\n",
            "100%|██████████| 6040/6040 [00:27<00:00, 223.23it/s]\n",
            "100%|██████████| 6040/6040 [00:27<00:00, 222.06it/s]\n",
            "100%|██████████| 121/121 [00:17<00:00,  7.09it/s]\n"
          ]
        },
        {
          "output_type": "stream",
          "name": "stdout",
          "text": [
            "epoch 40: loss = 1.3761343219619713, HR@200 = 0.31374172185430466, AP = 0.8954845895338461\n"
          ]
        },
        {
          "output_type": "stream",
          "name": "stderr",
          "text": [
            "100%|██████████| 6040/6040 [00:27<00:00, 222.16it/s]\n",
            "100%|██████████| 6040/6040 [00:27<00:00, 222.53it/s]\n",
            "100%|██████████| 6040/6040 [00:27<00:00, 217.25it/s]\n",
            "100%|██████████| 6040/6040 [00:27<00:00, 222.09it/s]\n",
            "100%|██████████| 6040/6040 [00:27<00:00, 221.81it/s]\n",
            "100%|██████████| 6040/6040 [00:27<00:00, 221.92it/s]\n",
            "100%|██████████| 6040/6040 [00:27<00:00, 221.10it/s]\n",
            "100%|██████████| 6040/6040 [00:27<00:00, 221.71it/s]\n",
            "100%|██████████| 6040/6040 [00:27<00:00, 223.20it/s]\n",
            "100%|██████████| 6040/6040 [00:28<00:00, 215.02it/s]\n",
            "100%|██████████| 121/121 [00:16<00:00,  7.37it/s]\n"
          ]
        },
        {
          "output_type": "stream",
          "name": "stdout",
          "text": [
            "epoch 50: loss = 1.3221054550926417, HR@200 = 0.3228476821192053, AP = 0.8915720052877032\n",
            "\n",
            "Finished Training:\n",
            "Best metrics are:\n",
            "Hit Ratio eval = 0.3228476821192053\n"
          ]
        },
        {
          "output_type": "stream",
          "name": "stderr",
          "text": [
            "100%|██████████| 121/121 [00:16<00:00,  7.32it/s]\n",
            "100%|██████████| 6040/6040 [00:30<00:00, 200.78it/s]\n",
            "100%|██████████| 121/121 [00:18<00:00,  6.45it/s]\n"
          ]
        },
        {
          "output_type": "stream",
          "name": "stdout",
          "text": [
            "epoch 0: loss = 2.985635116854251, HR@200 = 0.123841059602649, AP = 0.8902514835418263\n"
          ]
        },
        {
          "output_type": "stream",
          "name": "stderr",
          "text": [
            "100%|██████████| 6040/6040 [00:29<00:00, 204.47it/s]\n",
            "100%|██████████| 6040/6040 [00:29<00:00, 208.24it/s]\n",
            "100%|██████████| 6040/6040 [00:28<00:00, 208.69it/s]\n",
            "100%|██████████| 6040/6040 [00:30<00:00, 197.13it/s]\n",
            "100%|██████████| 6040/6040 [00:29<00:00, 205.21it/s]\n",
            "100%|██████████| 6040/6040 [00:28<00:00, 210.07it/s]\n",
            "100%|██████████| 6040/6040 [00:29<00:00, 208.17it/s]\n",
            "100%|██████████| 6040/6040 [00:29<00:00, 206.85it/s]\n",
            "100%|██████████| 6040/6040 [00:29<00:00, 207.80it/s]\n",
            "100%|██████████| 6040/6040 [00:28<00:00, 210.24it/s]\n",
            "100%|██████████| 121/121 [00:16<00:00,  7.54it/s]\n"
          ]
        },
        {
          "output_type": "stream",
          "name": "stdout",
          "text": [
            "epoch 10: loss = 1.3187795654531347, HR@200 = 0.28642384105960267, AP = 0.8942348798483286\n"
          ]
        },
        {
          "output_type": "stream",
          "name": "stderr",
          "text": [
            "100%|██████████| 6040/6040 [00:30<00:00, 198.15it/s]\n",
            "100%|██████████| 6040/6040 [00:28<00:00, 211.24it/s]\n",
            "100%|██████████| 6040/6040 [00:28<00:00, 210.50it/s]\n",
            "100%|██████████| 6040/6040 [00:29<00:00, 207.99it/s]\n",
            "100%|██████████| 6040/6040 [00:28<00:00, 211.18it/s]\n",
            "100%|██████████| 6040/6040 [00:28<00:00, 209.98it/s]\n",
            "100%|██████████| 6040/6040 [00:28<00:00, 212.19it/s]\n",
            "100%|██████████| 6040/6040 [00:30<00:00, 198.17it/s]\n",
            "100%|██████████| 6040/6040 [00:28<00:00, 209.88it/s]\n",
            "100%|██████████| 6040/6040 [00:28<00:00, 211.81it/s]\n",
            "100%|██████████| 121/121 [00:15<00:00,  7.93it/s]\n"
          ]
        },
        {
          "output_type": "stream",
          "name": "stdout",
          "text": [
            "epoch 20: loss = 0.9657766210766423, HR@200 = 0.36390728476821194, AP = 0.8753380742034729\n"
          ]
        },
        {
          "output_type": "stream",
          "name": "stderr",
          "text": [
            "100%|██████████| 6040/6040 [00:28<00:00, 208.95it/s]\n",
            "100%|██████████| 6040/6040 [00:28<00:00, 209.27it/s]\n",
            "100%|██████████| 6040/6040 [00:28<00:00, 212.65it/s]\n",
            "100%|██████████| 6040/6040 [00:29<00:00, 204.54it/s]\n",
            "100%|██████████| 6040/6040 [00:29<00:00, 202.93it/s]\n",
            "100%|██████████| 6040/6040 [00:28<00:00, 210.40it/s]\n",
            "100%|██████████| 6040/6040 [00:28<00:00, 211.63it/s]\n",
            "100%|██████████| 6040/6040 [00:28<00:00, 212.57it/s]\n",
            "100%|██████████| 6040/6040 [00:28<00:00, 211.71it/s]\n",
            "100%|██████████| 6040/6040 [00:29<00:00, 206.30it/s]\n",
            "100%|██████████| 121/121 [00:15<00:00,  7.97it/s]\n"
          ]
        },
        {
          "output_type": "stream",
          "name": "stdout",
          "text": [
            "epoch 30: loss = 0.822249587126915, HR@200 = 0.39519867549668874, AP = 0.8649270326265472\n"
          ]
        },
        {
          "output_type": "stream",
          "name": "stderr",
          "text": [
            "100%|██████████| 6040/6040 [00:30<00:00, 195.80it/s]\n",
            "100%|██████████| 6040/6040 [00:28<00:00, 211.67it/s]\n",
            "100%|██████████| 6040/6040 [00:28<00:00, 213.55it/s]\n",
            "100%|██████████| 6040/6040 [00:28<00:00, 212.67it/s]\n",
            "100%|██████████| 6040/6040 [00:28<00:00, 212.37it/s]\n",
            "100%|██████████| 6040/6040 [00:28<00:00, 208.72it/s]\n",
            "100%|██████████| 6040/6040 [00:29<00:00, 205.65it/s]\n",
            "100%|██████████| 6040/6040 [00:32<00:00, 184.45it/s]\n",
            "100%|██████████| 6040/6040 [00:29<00:00, 206.04it/s]\n",
            "100%|██████████| 6040/6040 [00:29<00:00, 207.39it/s]\n",
            "100%|██████████| 121/121 [00:14<00:00,  8.18it/s]\n"
          ]
        },
        {
          "output_type": "stream",
          "name": "stdout",
          "text": [
            "epoch 40: loss = 0.7669474759626369, HR@200 = 0.41821192052980133, AP = 0.859070956004541\n"
          ]
        },
        {
          "output_type": "stream",
          "name": "stderr",
          "text": [
            "100%|██████████| 6040/6040 [00:28<00:00, 208.29it/s]\n",
            "100%|██████████| 6040/6040 [00:28<00:00, 208.97it/s]\n",
            "100%|██████████| 6040/6040 [00:29<00:00, 205.98it/s]\n",
            "100%|██████████| 6040/6040 [00:30<00:00, 199.34it/s]\n",
            "100%|██████████| 6040/6040 [00:29<00:00, 204.27it/s]\n",
            "100%|██████████| 6040/6040 [00:28<00:00, 209.38it/s]\n",
            "100%|██████████| 6040/6040 [00:28<00:00, 210.05it/s]\n",
            "100%|██████████| 6040/6040 [00:28<00:00, 210.36it/s]\n",
            "100%|██████████| 6040/6040 [00:29<00:00, 207.53it/s]\n",
            "100%|██████████| 6040/6040 [00:29<00:00, 205.06it/s]\n",
            "100%|██████████| 121/121 [00:15<00:00,  7.84it/s]\n"
          ]
        },
        {
          "output_type": "stream",
          "name": "stdout",
          "text": [
            "epoch 50: loss = 0.742650286776834, HR@200 = 0.422682119205298, AP = 0.8539748670952242\n",
            "\n",
            "Finished Training:\n",
            "Best metrics are:\n",
            "Hit Ratio eval = 0.422682119205298\n"
          ]
        },
        {
          "output_type": "stream",
          "name": "stderr",
          "text": [
            "100%|██████████| 121/121 [00:17<00:00,  7.01it/s]\n",
            "100%|██████████| 6040/6040 [00:33<00:00, 178.30it/s]\n",
            "100%|██████████| 121/121 [00:19<00:00,  6.35it/s]\n"
          ]
        },
        {
          "output_type": "stream",
          "name": "stdout",
          "text": [
            "epoch 0: loss = 3.044223021789892, HR@200 = 0.12334437086092716, AP = 0.8802203483410058\n"
          ]
        },
        {
          "output_type": "stream",
          "name": "stderr",
          "text": [
            "100%|██████████| 6040/6040 [00:33<00:00, 177.78it/s]\n",
            "100%|██████████| 6040/6040 [00:34<00:00, 175.67it/s]\n",
            "100%|██████████| 6040/6040 [00:33<00:00, 178.29it/s]\n",
            "100%|██████████| 6040/6040 [00:34<00:00, 174.85it/s]\n",
            "100%|██████████| 6040/6040 [00:34<00:00, 174.11it/s]\n",
            "100%|██████████| 6040/6040 [00:34<00:00, 174.30it/s]\n",
            "100%|██████████| 6040/6040 [00:34<00:00, 177.05it/s]\n",
            "100%|██████████| 6040/6040 [00:34<00:00, 174.15it/s]\n",
            "100%|██████████| 6040/6040 [00:34<00:00, 176.12it/s]\n",
            "100%|██████████| 6040/6040 [00:35<00:00, 170.59it/s]\n",
            "100%|██████████| 121/121 [00:15<00:00,  7.56it/s]\n"
          ]
        },
        {
          "output_type": "stream",
          "name": "stdout",
          "text": [
            "epoch 10: loss = 1.3852625407919978, HR@200 = 0.2806291390728477, AP = 0.9024189341527165\n"
          ]
        },
        {
          "output_type": "stream",
          "name": "stderr",
          "text": [
            "100%|██████████| 6040/6040 [00:34<00:00, 174.26it/s]\n",
            "100%|██████████| 6040/6040 [00:34<00:00, 177.03it/s]\n",
            "100%|██████████| 6040/6040 [00:34<00:00, 174.01it/s]\n",
            "100%|██████████| 6040/6040 [00:33<00:00, 177.94it/s]\n",
            "100%|██████████| 6040/6040 [00:35<00:00, 171.10it/s]\n",
            "100%|██████████| 6040/6040 [00:34<00:00, 175.16it/s]\n",
            "100%|██████████| 6040/6040 [00:34<00:00, 174.33it/s]\n",
            "100%|██████████| 6040/6040 [00:34<00:00, 176.42it/s]\n",
            "100%|██████████| 6040/6040 [00:34<00:00, 172.68it/s]\n",
            "100%|██████████| 6040/6040 [00:34<00:00, 175.60it/s]\n",
            "100%|██████████| 121/121 [00:16<00:00,  7.33it/s]\n"
          ]
        },
        {
          "output_type": "stream",
          "name": "stdout",
          "text": [
            "epoch 20: loss = 1.092248830061085, HR@200 = 0.3486754966887417, AP = 0.887313475056627\n"
          ]
        },
        {
          "output_type": "stream",
          "name": "stderr",
          "text": [
            "100%|██████████| 6040/6040 [00:35<00:00, 172.24it/s]\n",
            "100%|██████████| 6040/6040 [00:35<00:00, 172.25it/s]\n",
            "100%|██████████| 6040/6040 [00:34<00:00, 174.90it/s]\n",
            "100%|██████████| 6040/6040 [00:34<00:00, 174.23it/s]\n",
            "100%|██████████| 6040/6040 [00:34<00:00, 176.43it/s]\n",
            "100%|██████████| 6040/6040 [00:35<00:00, 169.65it/s]\n",
            "100%|██████████| 6040/6040 [00:34<00:00, 174.80it/s]\n",
            "100%|██████████| 6040/6040 [00:34<00:00, 175.85it/s]\n",
            "100%|██████████| 6040/6040 [00:35<00:00, 168.24it/s]\n",
            "100%|██████████| 6040/6040 [00:35<00:00, 171.66it/s]\n",
            "100%|██████████| 121/121 [00:15<00:00,  7.83it/s]\n"
          ]
        },
        {
          "output_type": "stream",
          "name": "stdout",
          "text": [
            "epoch 30: loss = 0.9788210739609816, HR@200 = 0.37003311258278143, AP = 0.8806313732244401\n"
          ]
        },
        {
          "output_type": "stream",
          "name": "stderr",
          "text": [
            "100%|██████████| 6040/6040 [00:35<00:00, 168.84it/s]\n",
            "100%|██████████| 6040/6040 [00:35<00:00, 171.44it/s]\n",
            "100%|██████████| 6040/6040 [00:34<00:00, 176.72it/s]\n",
            "100%|██████████| 6040/6040 [00:35<00:00, 172.43it/s]\n",
            "100%|██████████| 6040/6040 [00:33<00:00, 177.76it/s]\n",
            "100%|██████████| 6040/6040 [00:34<00:00, 172.65it/s]\n",
            "100%|██████████| 6040/6040 [00:35<00:00, 169.68it/s]\n",
            "100%|██████████| 6040/6040 [00:35<00:00, 169.88it/s]\n",
            "100%|██████████| 6040/6040 [00:35<00:00, 170.86it/s]\n",
            "100%|██████████| 6040/6040 [00:35<00:00, 169.62it/s]\n",
            "100%|██████████| 121/121 [00:15<00:00,  7.65it/s]\n"
          ]
        },
        {
          "output_type": "stream",
          "name": "stdout",
          "text": [
            "epoch 40: loss = 0.9319860671085632, HR@200 = 0.38543046357615895, AP = 0.8736497301773147\n"
          ]
        },
        {
          "output_type": "stream",
          "name": "stderr",
          "text": [
            "100%|██████████| 6040/6040 [00:36<00:00, 167.59it/s]\n",
            "100%|██████████| 6040/6040 [00:36<00:00, 167.08it/s]\n",
            "100%|██████████| 6040/6040 [00:35<00:00, 169.24it/s]\n",
            "100%|██████████| 6040/6040 [00:35<00:00, 168.92it/s]\n",
            "100%|██████████| 6040/6040 [00:35<00:00, 171.63it/s]\n",
            "100%|██████████| 6040/6040 [00:35<00:00, 168.73it/s]\n",
            "100%|██████████| 6040/6040 [00:36<00:00, 167.38it/s]\n",
            "100%|██████████| 6040/6040 [00:35<00:00, 168.82it/s]\n",
            "100%|██████████| 6040/6040 [00:35<00:00, 168.54it/s]\n",
            "100%|██████████| 6040/6040 [00:35<00:00, 172.14it/s]\n",
            "100%|██████████| 121/121 [00:15<00:00,  7.70it/s]\n"
          ]
        },
        {
          "output_type": "stream",
          "name": "stdout",
          "text": [
            "epoch 50: loss = 0.9396309261117747, HR@200 = 0.3922185430463576, AP = 0.8649271714407303\n",
            "\n",
            "Finished Training:\n",
            "Best metrics are:\n",
            "Hit Ratio eval = 0.3922185430463576\n"
          ]
        },
        {
          "output_type": "stream",
          "name": "stderr",
          "text": [
            "100%|██████████| 121/121 [00:15<00:00,  7.59it/s]\n"
          ]
        }
      ]
    },
    {
      "cell_type": "code",
      "source": [
        "# path = './drive/My Drive/Colab Notebooks/recsys_final_candidates_by_layers'\n",
        "# with open(path, 'wb') as f:\n",
        "#   pickle.dump((results), f)"
      ],
      "metadata": {
        "id": "knsGUnvFUu8n"
      },
      "execution_count": null,
      "outputs": []
    },
    {
      "cell_type": "code",
      "source": [
        "#To download my results:\n",
        "\n",
        "url = \"https://drive.google.com/file/d/1pW8NYd3Ci6nQYWDwV8HcMstnS2j3Mkt8/view?usp=sharing\"\n",
        "results_path = 'train_10'\n",
        "gdown.download(url, results_path, quiet=False,fuzzy=True)\n",
        "\n",
        "# results_path = './drive/My Drive/Colab Notebooks/recsys_final_candidates_by_layers' #This is where the results were kept\n",
        "with open(results_path , 'rb') as f:\n",
        "  (results) = pickle.load(f)\n",
        "  print('loaded results')"
      ],
      "metadata": {
        "colab": {
          "base_uri": "https://localhost:8080/"
        },
        "id": "24NvsUemjHol",
        "outputId": "5b2d0583-0485-4b4d-e80c-6946741dffff"
      },
      "execution_count": 5,
      "outputs": [
        {
          "output_type": "stream",
          "name": "stderr",
          "text": [
            "Downloading...\n",
            "From: https://drive.google.com/uc?id=1pW8NYd3Ci6nQYWDwV8HcMstnS2j3Mkt8\n",
            "To: /content/train_10\n",
            "100%|██████████| 1.50k/1.50k [00:00<00:00, 974kB/s]"
          ]
        },
        {
          "output_type": "stream",
          "name": "stdout",
          "text": [
            "loaded results\n"
          ]
        },
        {
          "output_type": "stream",
          "name": "stderr",
          "text": [
            "\n"
          ]
        }
      ]
    },
    {
      "cell_type": "code",
      "source": [
        "results"
      ],
      "metadata": {
        "colab": {
          "base_uri": "https://localhost:8080/",
          "height": 425
        },
        "id": "uBHPIgdbj2rz",
        "outputId": "5753436b-1bea-4764-ac56-596c0192ac17"
      },
      "execution_count": 16,
      "outputs": [
        {
          "output_type": "execute_result",
          "data": {
            "text/plain": [
              "   maximal width Batch Size  Learning Rate Topk Metric        Score\n",
              "0            256         50          0.001    0    MAP     0.884527\n",
              "1            256         50          0.001    0   TIME  1293.976152\n",
              "2            256         50          0.001  200     HR     0.365066\n",
              "3            512         50          0.001    0    MAP     0.891572\n",
              "4            512         50          0.001    0   TIME  1477.735158\n",
              "5            512         50          0.001  200     HR     0.322848\n",
              "6           1024         50          0.001    0    MAP     0.853975\n",
              "7           1024         50          0.001    0   TIME  1583.885926\n",
              "8           1024         50          0.001  200     HR     0.422682\n",
              "9           2048         50          0.001    0    MAP     0.864927\n",
              "10          2048         50          0.001    0   TIME  1881.111033\n",
              "11          2048         50          0.001  200     HR     0.392219"
            ],
            "text/html": [
              "\n",
              "  <div id=\"df-599a159c-8478-4a51-97ee-47a6b2103a27\">\n",
              "    <div class=\"colab-df-container\">\n",
              "      <div>\n",
              "<style scoped>\n",
              "    .dataframe tbody tr th:only-of-type {\n",
              "        vertical-align: middle;\n",
              "    }\n",
              "\n",
              "    .dataframe tbody tr th {\n",
              "        vertical-align: top;\n",
              "    }\n",
              "\n",
              "    .dataframe thead th {\n",
              "        text-align: right;\n",
              "    }\n",
              "</style>\n",
              "<table border=\"1\" class=\"dataframe\">\n",
              "  <thead>\n",
              "    <tr style=\"text-align: right;\">\n",
              "      <th></th>\n",
              "      <th>maximal width</th>\n",
              "      <th>Batch Size</th>\n",
              "      <th>Learning Rate</th>\n",
              "      <th>Topk</th>\n",
              "      <th>Metric</th>\n",
              "      <th>Score</th>\n",
              "    </tr>\n",
              "  </thead>\n",
              "  <tbody>\n",
              "    <tr>\n",
              "      <th>0</th>\n",
              "      <td>256</td>\n",
              "      <td>50</td>\n",
              "      <td>0.001</td>\n",
              "      <td>0</td>\n",
              "      <td>MAP</td>\n",
              "      <td>0.884527</td>\n",
              "    </tr>\n",
              "    <tr>\n",
              "      <th>1</th>\n",
              "      <td>256</td>\n",
              "      <td>50</td>\n",
              "      <td>0.001</td>\n",
              "      <td>0</td>\n",
              "      <td>TIME</td>\n",
              "      <td>1293.976152</td>\n",
              "    </tr>\n",
              "    <tr>\n",
              "      <th>2</th>\n",
              "      <td>256</td>\n",
              "      <td>50</td>\n",
              "      <td>0.001</td>\n",
              "      <td>200</td>\n",
              "      <td>HR</td>\n",
              "      <td>0.365066</td>\n",
              "    </tr>\n",
              "    <tr>\n",
              "      <th>3</th>\n",
              "      <td>512</td>\n",
              "      <td>50</td>\n",
              "      <td>0.001</td>\n",
              "      <td>0</td>\n",
              "      <td>MAP</td>\n",
              "      <td>0.891572</td>\n",
              "    </tr>\n",
              "    <tr>\n",
              "      <th>4</th>\n",
              "      <td>512</td>\n",
              "      <td>50</td>\n",
              "      <td>0.001</td>\n",
              "      <td>0</td>\n",
              "      <td>TIME</td>\n",
              "      <td>1477.735158</td>\n",
              "    </tr>\n",
              "    <tr>\n",
              "      <th>5</th>\n",
              "      <td>512</td>\n",
              "      <td>50</td>\n",
              "      <td>0.001</td>\n",
              "      <td>200</td>\n",
              "      <td>HR</td>\n",
              "      <td>0.322848</td>\n",
              "    </tr>\n",
              "    <tr>\n",
              "      <th>6</th>\n",
              "      <td>1024</td>\n",
              "      <td>50</td>\n",
              "      <td>0.001</td>\n",
              "      <td>0</td>\n",
              "      <td>MAP</td>\n",
              "      <td>0.853975</td>\n",
              "    </tr>\n",
              "    <tr>\n",
              "      <th>7</th>\n",
              "      <td>1024</td>\n",
              "      <td>50</td>\n",
              "      <td>0.001</td>\n",
              "      <td>0</td>\n",
              "      <td>TIME</td>\n",
              "      <td>1583.885926</td>\n",
              "    </tr>\n",
              "    <tr>\n",
              "      <th>8</th>\n",
              "      <td>1024</td>\n",
              "      <td>50</td>\n",
              "      <td>0.001</td>\n",
              "      <td>200</td>\n",
              "      <td>HR</td>\n",
              "      <td>0.422682</td>\n",
              "    </tr>\n",
              "    <tr>\n",
              "      <th>9</th>\n",
              "      <td>2048</td>\n",
              "      <td>50</td>\n",
              "      <td>0.001</td>\n",
              "      <td>0</td>\n",
              "      <td>MAP</td>\n",
              "      <td>0.864927</td>\n",
              "    </tr>\n",
              "    <tr>\n",
              "      <th>10</th>\n",
              "      <td>2048</td>\n",
              "      <td>50</td>\n",
              "      <td>0.001</td>\n",
              "      <td>0</td>\n",
              "      <td>TIME</td>\n",
              "      <td>1881.111033</td>\n",
              "    </tr>\n",
              "    <tr>\n",
              "      <th>11</th>\n",
              "      <td>2048</td>\n",
              "      <td>50</td>\n",
              "      <td>0.001</td>\n",
              "      <td>200</td>\n",
              "      <td>HR</td>\n",
              "      <td>0.392219</td>\n",
              "    </tr>\n",
              "  </tbody>\n",
              "</table>\n",
              "</div>\n",
              "      <button class=\"colab-df-convert\" onclick=\"convertToInteractive('df-599a159c-8478-4a51-97ee-47a6b2103a27')\"\n",
              "              title=\"Convert this dataframe to an interactive table.\"\n",
              "              style=\"display:none;\">\n",
              "        \n",
              "  <svg xmlns=\"http://www.w3.org/2000/svg\" height=\"24px\"viewBox=\"0 0 24 24\"\n",
              "       width=\"24px\">\n",
              "    <path d=\"M0 0h24v24H0V0z\" fill=\"none\"/>\n",
              "    <path d=\"M18.56 5.44l.94 2.06.94-2.06 2.06-.94-2.06-.94-.94-2.06-.94 2.06-2.06.94zm-11 1L8.5 8.5l.94-2.06 2.06-.94-2.06-.94L8.5 2.5l-.94 2.06-2.06.94zm10 10l.94 2.06.94-2.06 2.06-.94-2.06-.94-.94-2.06-.94 2.06-2.06.94z\"/><path d=\"M17.41 7.96l-1.37-1.37c-.4-.4-.92-.59-1.43-.59-.52 0-1.04.2-1.43.59L10.3 9.45l-7.72 7.72c-.78.78-.78 2.05 0 2.83L4 21.41c.39.39.9.59 1.41.59.51 0 1.02-.2 1.41-.59l7.78-7.78 2.81-2.81c.8-.78.8-2.07 0-2.86zM5.41 20L4 18.59l7.72-7.72 1.47 1.35L5.41 20z\"/>\n",
              "  </svg>\n",
              "      </button>\n",
              "      \n",
              "  <style>\n",
              "    .colab-df-container {\n",
              "      display:flex;\n",
              "      flex-wrap:wrap;\n",
              "      gap: 12px;\n",
              "    }\n",
              "\n",
              "    .colab-df-convert {\n",
              "      background-color: #E8F0FE;\n",
              "      border: none;\n",
              "      border-radius: 50%;\n",
              "      cursor: pointer;\n",
              "      display: none;\n",
              "      fill: #1967D2;\n",
              "      height: 32px;\n",
              "      padding: 0 0 0 0;\n",
              "      width: 32px;\n",
              "    }\n",
              "\n",
              "    .colab-df-convert:hover {\n",
              "      background-color: #E2EBFA;\n",
              "      box-shadow: 0px 1px 2px rgba(60, 64, 67, 0.3), 0px 1px 3px 1px rgba(60, 64, 67, 0.15);\n",
              "      fill: #174EA6;\n",
              "    }\n",
              "\n",
              "    [theme=dark] .colab-df-convert {\n",
              "      background-color: #3B4455;\n",
              "      fill: #D2E3FC;\n",
              "    }\n",
              "\n",
              "    [theme=dark] .colab-df-convert:hover {\n",
              "      background-color: #434B5C;\n",
              "      box-shadow: 0px 1px 3px 1px rgba(0, 0, 0, 0.15);\n",
              "      filter: drop-shadow(0px 1px 2px rgba(0, 0, 0, 0.3));\n",
              "      fill: #FFFFFF;\n",
              "    }\n",
              "  </style>\n",
              "\n",
              "      <script>\n",
              "        const buttonEl =\n",
              "          document.querySelector('#df-599a159c-8478-4a51-97ee-47a6b2103a27 button.colab-df-convert');\n",
              "        buttonEl.style.display =\n",
              "          google.colab.kernel.accessAllowed ? 'block' : 'none';\n",
              "\n",
              "        async function convertToInteractive(key) {\n",
              "          const element = document.querySelector('#df-599a159c-8478-4a51-97ee-47a6b2103a27');\n",
              "          const dataTable =\n",
              "            await google.colab.kernel.invokeFunction('convertToInteractive',\n",
              "                                                     [key], {});\n",
              "          if (!dataTable) return;\n",
              "\n",
              "          const docLinkHtml = 'Like what you see? Visit the ' +\n",
              "            '<a target=\"_blank\" href=https://colab.research.google.com/notebooks/data_table.ipynb>data table notebook</a>'\n",
              "            + ' to learn more about interactive tables.';\n",
              "          element.innerHTML = '';\n",
              "          dataTable['output_type'] = 'display_data';\n",
              "          await google.colab.output.renderOutput(dataTable, element);\n",
              "          const docLink = document.createElement('div');\n",
              "          docLink.innerHTML = docLinkHtml;\n",
              "          element.appendChild(docLink);\n",
              "        }\n",
              "      </script>\n",
              "    </div>\n",
              "  </div>\n",
              "  "
            ]
          },
          "metadata": {},
          "execution_count": 16
        }
      ]
    },
    {
      "cell_type": "code",
      "source": [
        "fig, ax1 = plt.subplots(1, 1, figsize=(7,5))\n",
        "HR_results = results[(results['Metric'] == 'HR')]\n",
        "r = sns.lineplot(data = HR_results, x = 'maximal width', y = 'Score', hue = 'Metric', ax = ax1, marker=\"o\", linewidth = 2, markersize=10)\n",
        "ax1.set_title('HR@200 as a function of MLP size')"
      ],
      "metadata": {
        "colab": {
          "base_uri": "https://localhost:8080/",
          "height": 368
        },
        "id": "hE7Uqgovj_ZE",
        "outputId": "32882881-4d7a-4f51-ff10-de35f9a6398c"
      },
      "execution_count": 18,
      "outputs": [
        {
          "output_type": "execute_result",
          "data": {
            "text/plain": [
              "Text(0.5, 1.0, 'HR@200 as a function of MLP size')"
            ]
          },
          "metadata": {},
          "execution_count": 18
        },
        {
          "output_type": "display_data",
          "data": {
            "text/plain": [
              "<Figure size 504x360 with 1 Axes>"
            ],
            "image/png": "[encoded data removed]"
          },
          "metadata": {
            "needs_background": "light"
          }
        }
      ]
    },
    {
      "cell_type": "markdown",
      "source": [
        "###Running with best parameters"
      ],
      "metadata": {
        "id": "5BmP5S4nYkyh"
      }
    },
    {
      "cell_type": "markdown",
      "source": [
        "We can see best HR@200 results were obtained with layer of 1024 -> 512 -> 256\\\n",
        "We will use these parameters for extracting the best candidates."
      ],
      "metadata": {
        "id": "4cgFdxZARaFm"
      }
    },
    {
      "cell_type": "code",
      "source": [
        "best_results = pd.DataFrame(columns=['maximal width', 'Batch Size', 'Learning Rate', 'Topk', 'Metric', 'Score']) #uncomment to run"
      ],
      "metadata": {
        "id": "sfgNKOeTSntK"
      },
      "execution_count": 8,
      "outputs": []
    },
    {
      "cell_type": "code",
      "source": [
        "def add_results(training_model, results_df, max_width, batch_size, lr):\n",
        "\n",
        "  MAP = average_precision_score(training_model.AP_labels, training_model.epoch_pred)\n",
        "  loss = training_model.epoch_eval_loss/len(val)\n",
        "  hr100 = training_model.epoch_HR100/len(val)\n",
        "  hr200 = training_model.epoch_HR200/len(val)\n",
        "  mrr100 = training_model.epoch_MRR100/len(val)\n",
        "  mrr200 = training_model.epoch_MRR200/len(val)\n",
        "  ndcg100 = training_model.epoch_NDCG100/len(val)\n",
        "  ndcg200 = training_model.epoch_NDCG200/len(val)\n",
        "  tr_time = training_model.training_time\n",
        "\n",
        "  results_df.loc[len(results_df)] = max_width, batch_size, lr, 0, 'LOSS', loss\n",
        "  results_df.loc[len(results_df)] = max_width, batch_size, lr, 0, 'MAP', MAP\n",
        "  results_df.loc[len(results_df)] = max_width, batch_size, lr, 0, 'TIME', tr_time\n",
        "  results_df.loc[len(results_df)] = max_width, batch_size, lr, 100, 'HR' , hr100\n",
        "  results_df.loc[len(results_df)] = max_width, batch_size, lr, 200, 'HR', hr200\n",
        "  results_df.loc[len(results_df)] = max_width, batch_size, lr, 100, 'MRR', mrr100\n",
        "  results_df.loc[len(results_df)] = max_width, batch_size, lr, 200, 'MRR', mrr200\n",
        "  results_df.loc[len(results_df)] = max_width, batch_size, lr, 100, 'NDCG', ndcg100\n",
        "  results_df.loc[len(results_df)] = max_width, batch_size, lr, 200, 'NDCG', ndcg200"
      ],
      "metadata": {
        "id": "4JWyU3IUIyhJ"
      },
      "execution_count": 9,
      "outputs": []
    },
    {
      "cell_type": "code",
      "source": [
        "batch_size = 50\n",
        "dl_test = DataLoader(test, batch_size=batch_size, shuffle=False)\n",
        "lr = 0.001\n",
        "layers = [1024, 512, 256] \n",
        "\n",
        "torch.manual_seed(42)\n",
        "np.random.seed(42) \n",
        "maximal_width = layers[0]\n",
        "Candidates_config = {'num_items': n_items, 'n_neg_samples': num_neg_samples, 'max_watches': max_watches, 'latent_dim': 256, 'features_dim': 267, 'layers':layers, 'N_candidates':250}\n",
        "model_Candidates = Candidates(Candidates_config)\n",
        "\n",
        "training_config = {'n_neg_samples': num_neg_samples, 'batch_size': batch_size, 'optimizer_type': Adam, 'optimizer_parameter': {'lr': lr}, \\\n",
        "              'criterion' : torch.nn.CrossEntropyLoss, 'n_epochs' : 61, 'early_stopping' : 8, 'verbose' : True, 'device' : device}\n",
        "\n",
        "\n",
        "training_candidates = Training(model_Candidates, training_config)\n",
        "training_candidates.train()\n",
        "training_candidates.evaluate_epoch(dl_test)\n",
        "add_results(training_candidates, best_results, maximal_width, batch_size, lr)"
      ],
      "metadata": {
        "colab": {
          "base_uri": "https://localhost:8080/"
        },
        "id": "KVxXmtEPXGnI",
        "outputId": "e68a749c-3e1a-43c2-e79a-94bc5aaecc1b"
      },
      "execution_count": 10,
      "outputs": [
        {
          "output_type": "stream",
          "name": "stderr",
          "text": [
            "100%|██████████| 6040/6040 [00:34<00:00, 175.91it/s]\n",
            "100%|██████████| 121/121 [00:54<00:00,  2.22it/s]\n"
          ]
        },
        {
          "output_type": "stream",
          "name": "stdout",
          "text": [
            "epoch 0: loss = 2.985635116854251, HR@200 = 0.123841059602649, AP = 0.8902514835418263\n"
          ]
        },
        {
          "output_type": "stream",
          "name": "stderr",
          "text": [
            "100%|██████████| 6040/6040 [00:28<00:00, 213.31it/s]\n",
            "100%|██████████| 121/121 [00:52<00:00,  2.29it/s]\n"
          ]
        },
        {
          "output_type": "stream",
          "name": "stdout",
          "text": [
            "epoch 1: loss = 2.3531749174492247, HR@200 = 0.15298013245033112, AP = 0.9039160358678995\n"
          ]
        },
        {
          "output_type": "stream",
          "name": "stderr",
          "text": [
            "100%|██████████| 6040/6040 [00:28<00:00, 211.27it/s]\n",
            "100%|██████████| 121/121 [00:52<00:00,  2.30it/s]\n"
          ]
        },
        {
          "output_type": "stream",
          "name": "stdout",
          "text": [
            "epoch 2: loss = 2.0934421367795264, HR@200 = 0.16920529801324502, AP = 0.9101487805865497\n"
          ]
        },
        {
          "output_type": "stream",
          "name": "stderr",
          "text": [
            "100%|██████████| 6040/6040 [00:28<00:00, 211.38it/s]\n",
            "100%|██████████| 121/121 [00:52<00:00,  2.32it/s]\n"
          ]
        },
        {
          "output_type": "stream",
          "name": "stdout",
          "text": [
            "epoch 3: loss = 1.9223103766015033, HR@200 = 0.18443708609271522, AP = 0.9089599446423223\n"
          ]
        },
        {
          "output_type": "stream",
          "name": "stderr",
          "text": [
            "100%|██████████| 6040/6040 [00:28<00:00, 210.54it/s]\n",
            "100%|██████████| 121/121 [00:51<00:00,  2.35it/s]\n"
          ]
        },
        {
          "output_type": "stream",
          "name": "stdout",
          "text": [
            "epoch 4: loss = 1.7935031622352189, HR@200 = 0.20198675496688742, AP = 0.9089031163117349\n"
          ]
        },
        {
          "output_type": "stream",
          "name": "stderr",
          "text": [
            "100%|██████████| 6040/6040 [00:29<00:00, 206.86it/s]\n",
            "100%|██████████| 121/121 [00:50<00:00,  2.41it/s]\n"
          ]
        },
        {
          "output_type": "stream",
          "name": "stdout",
          "text": [
            "epoch 5: loss = 1.6868941866404172, HR@200 = 0.22019867549668873, AP = 0.9091041380111997\n"
          ]
        },
        {
          "output_type": "stream",
          "name": "stderr",
          "text": [
            "100%|██████████| 6040/6040 [00:28<00:00, 209.48it/s]\n",
            "100%|██████████| 121/121 [00:50<00:00,  2.37it/s]\n"
          ]
        },
        {
          "output_type": "stream",
          "name": "stdout",
          "text": [
            "epoch 6: loss = 1.5939487972697675, HR@200 = 0.23013245033112584, AP = 0.904697779035101\n"
          ]
        },
        {
          "output_type": "stream",
          "name": "stderr",
          "text": [
            "100%|██████████| 6040/6040 [00:28<00:00, 213.59it/s]\n",
            "100%|██████████| 121/121 [00:51<00:00,  2.36it/s]\n"
          ]
        },
        {
          "output_type": "stream",
          "name": "stdout",
          "text": [
            "epoch 7: loss = 1.5111688062055222, HR@200 = 0.2423841059602649, AP = 0.9018264091498228\n"
          ]
        },
        {
          "output_type": "stream",
          "name": "stderr",
          "text": [
            "100%|██████████| 6040/6040 [00:28<00:00, 212.56it/s]\n",
            "100%|██████████| 121/121 [00:50<00:00,  2.40it/s]\n"
          ]
        },
        {
          "output_type": "stream",
          "name": "stdout",
          "text": [
            "epoch 8: loss = 1.4399140457147794, HR@200 = 0.2619205298013245, AP = 0.9014885869079028\n"
          ]
        },
        {
          "output_type": "stream",
          "name": "stderr",
          "text": [
            "100%|██████████| 6040/6040 [00:28<00:00, 214.64it/s]\n",
            "100%|██████████| 121/121 [00:50<00:00,  2.40it/s]\n"
          ]
        },
        {
          "output_type": "stream",
          "name": "stdout",
          "text": [
            "epoch 9: loss = 1.379266629590104, HR@200 = 0.2768211920529801, AP = 0.8995155687598014\n"
          ]
        },
        {
          "output_type": "stream",
          "name": "stderr",
          "text": [
            "100%|██████████| 6040/6040 [00:28<00:00, 213.10it/s]\n",
            "100%|██████████| 121/121 [00:48<00:00,  2.47it/s]\n"
          ]
        },
        {
          "output_type": "stream",
          "name": "stdout",
          "text": [
            "epoch 10: loss = 1.3222219584497394, HR@200 = 0.29172185430463576, AP = 0.8949018598802879\n"
          ]
        },
        {
          "output_type": "stream",
          "name": "stderr",
          "text": [
            "100%|██████████| 6040/6040 [00:28<00:00, 210.52it/s]\n",
            "100%|██████████| 121/121 [00:49<00:00,  2.43it/s]\n"
          ]
        },
        {
          "output_type": "stream",
          "name": "stdout",
          "text": [
            "epoch 11: loss = 1.2703111902323385, HR@200 = 0.3029801324503311, AP = 0.891652054503888\n"
          ]
        },
        {
          "output_type": "stream",
          "name": "stderr",
          "text": [
            "100%|██████████| 6040/6040 [00:28<00:00, 212.70it/s]\n",
            "100%|██████████| 121/121 [00:50<00:00,  2.40it/s]\n"
          ]
        },
        {
          "output_type": "stream",
          "name": "stdout",
          "text": [
            "epoch 12: loss = 1.2243399960809196, HR@200 = 0.3031456953642384, AP = 0.889523877792137\n"
          ]
        },
        {
          "output_type": "stream",
          "name": "stderr",
          "text": [
            "100%|██████████| 6040/6040 [00:28<00:00, 212.85it/s]\n",
            "100%|██████████| 121/121 [00:49<00:00,  2.44it/s]\n"
          ]
        },
        {
          "output_type": "stream",
          "name": "stdout",
          "text": [
            "epoch 13: loss = 1.1808755519226293, HR@200 = 0.31390728476821195, AP = 0.8898344799450553\n"
          ]
        },
        {
          "output_type": "stream",
          "name": "stderr",
          "text": [
            "100%|██████████| 6040/6040 [00:28<00:00, 210.51it/s]\n",
            "100%|██████████| 121/121 [00:48<00:00,  2.51it/s]\n"
          ]
        },
        {
          "output_type": "stream",
          "name": "stdout",
          "text": [
            "epoch 14: loss = 1.142773761323943, HR@200 = 0.3258278145695364, AP = 0.8849752321612436\n"
          ]
        },
        {
          "output_type": "stream",
          "name": "stderr",
          "text": [
            "100%|██████████| 6040/6040 [00:28<00:00, 214.69it/s]\n",
            "100%|██████████| 121/121 [00:48<00:00,  2.47it/s]\n"
          ]
        },
        {
          "output_type": "stream",
          "name": "stdout",
          "text": [
            "epoch 15: loss = 1.1057765541684548, HR@200 = 0.3294701986754967, AP = 0.8825953103622066\n"
          ]
        },
        {
          "output_type": "stream",
          "name": "stderr",
          "text": [
            "100%|██████████| 6040/6040 [00:27<00:00, 216.26it/s]\n",
            "100%|██████████| 121/121 [00:48<00:00,  2.52it/s]\n"
          ]
        },
        {
          "output_type": "stream",
          "name": "stdout",
          "text": [
            "epoch 16: loss = 1.0791296643137143, HR@200 = 0.33410596026490064, AP = 0.8815916308263496\n"
          ]
        },
        {
          "output_type": "stream",
          "name": "stderr",
          "text": [
            "100%|██████████| 6040/6040 [00:28<00:00, 212.31it/s]\n",
            "100%|██████████| 121/121 [00:47<00:00,  2.56it/s]\n"
          ]
        },
        {
          "output_type": "stream",
          "name": "stdout",
          "text": [
            "epoch 17: loss = 1.04791480016136, HR@200 = 0.3456953642384106, AP = 0.8785381796245411\n"
          ]
        },
        {
          "output_type": "stream",
          "name": "stderr",
          "text": [
            "100%|██████████| 6040/6040 [00:27<00:00, 216.56it/s]\n",
            "100%|██████████| 121/121 [00:48<00:00,  2.51it/s]\n"
          ]
        },
        {
          "output_type": "stream",
          "name": "stdout",
          "text": [
            "epoch 18: loss = 1.0194996748440313, HR@200 = 0.35397350993377485, AP = 0.8762619875353769\n"
          ]
        },
        {
          "output_type": "stream",
          "name": "stderr",
          "text": [
            "100%|██████████| 6040/6040 [00:27<00:00, 215.77it/s]\n",
            "100%|██████████| 121/121 [00:46<00:00,  2.59it/s]\n"
          ]
        },
        {
          "output_type": "stream",
          "name": "stdout",
          "text": [
            "epoch 19: loss = 0.9941686137030457, HR@200 = 0.3567880794701987, AP = 0.877838319546459\n"
          ]
        },
        {
          "output_type": "stream",
          "name": "stderr",
          "text": [
            "100%|██████████| 6040/6040 [00:30<00:00, 195.05it/s]\n",
            "100%|██████████| 121/121 [00:49<00:00,  2.46it/s]\n"
          ]
        },
        {
          "output_type": "stream",
          "name": "stdout",
          "text": [
            "epoch 20: loss = 0.9725954876534196, HR@200 = 0.3586092715231788, AP = 0.8745530488185673\n"
          ]
        },
        {
          "output_type": "stream",
          "name": "stderr",
          "text": [
            "100%|██████████| 6040/6040 [00:27<00:00, 217.11it/s]\n",
            "100%|██████████| 121/121 [00:47<00:00,  2.56it/s]\n"
          ]
        },
        {
          "output_type": "stream",
          "name": "stdout",
          "text": [
            "epoch 21: loss = 0.9579012801858369, HR@200 = 0.3649006622516556, AP = 0.872520385487294\n"
          ]
        },
        {
          "output_type": "stream",
          "name": "stderr",
          "text": [
            "100%|██████████| 6040/6040 [00:28<00:00, 214.78it/s]\n",
            "100%|██████████| 121/121 [00:46<00:00,  2.63it/s]\n"
          ]
        },
        {
          "output_type": "stream",
          "name": "stdout",
          "text": [
            "epoch 22: loss = 0.9352796697656051, HR@200 = 0.36837748344370863, AP = 0.8704777996830825\n"
          ]
        },
        {
          "output_type": "stream",
          "name": "stderr",
          "text": [
            "100%|██████████| 6040/6040 [00:27<00:00, 216.24it/s]\n",
            "100%|██████████| 121/121 [00:47<00:00,  2.56it/s]\n"
          ]
        },
        {
          "output_type": "stream",
          "name": "stdout",
          "text": [
            "epoch 23: loss = 0.9192064571040158, HR@200 = 0.3736754966887417, AP = 0.8703184027349513\n"
          ]
        },
        {
          "output_type": "stream",
          "name": "stderr",
          "text": [
            "100%|██████████| 6040/6040 [00:27<00:00, 215.80it/s]\n",
            "100%|██████████| 121/121 [00:46<00:00,  2.63it/s]\n"
          ]
        },
        {
          "output_type": "stream",
          "name": "stdout",
          "text": [
            "epoch 24: loss = 0.9068663063156881, HR@200 = 0.3710264900662252, AP = 0.8677554286525097\n"
          ]
        },
        {
          "output_type": "stream",
          "name": "stderr",
          "text": [
            "100%|██████████| 6040/6040 [00:27<00:00, 215.91it/s]\n",
            "100%|██████████| 121/121 [00:46<00:00,  2.58it/s]\n"
          ]
        },
        {
          "output_type": "stream",
          "name": "stdout",
          "text": [
            "epoch 25: loss = 0.8842872788327814, HR@200 = 0.3801324503311258, AP = 0.8664840483355588\n"
          ]
        },
        {
          "output_type": "stream",
          "name": "stderr",
          "text": [
            "100%|██████████| 6040/6040 [00:28<00:00, 214.73it/s]\n",
            "100%|██████████| 121/121 [00:45<00:00,  2.64it/s]\n"
          ]
        },
        {
          "output_type": "stream",
          "name": "stdout",
          "text": [
            "epoch 26: loss = 0.8713143892783598, HR@200 = 0.38973509933774836, AP = 0.8677622675227602\n"
          ]
        },
        {
          "output_type": "stream",
          "name": "stderr",
          "text": [
            "100%|██████████| 6040/6040 [00:28<00:00, 215.42it/s]\n",
            "100%|██████████| 121/121 [00:46<00:00,  2.60it/s]\n"
          ]
        },
        {
          "output_type": "stream",
          "name": "stdout",
          "text": [
            "epoch 27: loss = 0.8605160085891453, HR@200 = 0.3892384105960265, AP = 0.8648783079567031\n"
          ]
        },
        {
          "output_type": "stream",
          "name": "stderr",
          "text": [
            "100%|██████████| 6040/6040 [00:28<00:00, 211.78it/s]\n",
            "100%|██████████| 121/121 [00:47<00:00,  2.57it/s]\n"
          ]
        },
        {
          "output_type": "stream",
          "name": "stdout",
          "text": [
            "epoch 28: loss = 0.8538794498076502, HR@200 = 0.3870860927152318, AP = 0.8623918658984807\n"
          ]
        },
        {
          "output_type": "stream",
          "name": "stderr",
          "text": [
            "100%|██████████| 6040/6040 [00:28<00:00, 214.92it/s]\n",
            "100%|██████████| 121/121 [00:47<00:00,  2.56it/s]\n"
          ]
        },
        {
          "output_type": "stream",
          "name": "stdout",
          "text": [
            "epoch 29: loss = 0.8456055932955828, HR@200 = 0.3928807947019868, AP = 0.8647398956461476\n"
          ]
        },
        {
          "output_type": "stream",
          "name": "stderr",
          "text": [
            "100%|██████████| 6040/6040 [00:28<00:00, 212.64it/s]\n",
            "100%|██████████| 121/121 [00:46<00:00,  2.62it/s]\n"
          ]
        },
        {
          "output_type": "stream",
          "name": "stdout",
          "text": [
            "epoch 30: loss = 0.8313578279010507, HR@200 = 0.3925496688741722, AP = 0.8650387151618311\n"
          ]
        },
        {
          "output_type": "stream",
          "name": "stderr",
          "text": [
            "100%|██████████| 6040/6040 [00:28<00:00, 213.89it/s]\n",
            "100%|██████████| 121/121 [00:46<00:00,  2.58it/s]\n"
          ]
        },
        {
          "output_type": "stream",
          "name": "stdout",
          "text": [
            "epoch 31: loss = 0.8272992791361268, HR@200 = 0.40049668874172184, AP = 0.8638947244217853\n"
          ]
        },
        {
          "output_type": "stream",
          "name": "stderr",
          "text": [
            "100%|██████████| 6040/6040 [00:28<00:00, 213.42it/s]\n",
            "100%|██████████| 121/121 [00:46<00:00,  2.63it/s]\n"
          ]
        },
        {
          "output_type": "stream",
          "name": "stdout",
          "text": [
            "epoch 32: loss = 0.813562180427526, HR@200 = 0.3980132450331126, AP = 0.8602076784864144\n"
          ]
        },
        {
          "output_type": "stream",
          "name": "stderr",
          "text": [
            "100%|██████████| 6040/6040 [00:27<00:00, 216.50it/s]\n",
            "100%|██████████| 121/121 [00:46<00:00,  2.59it/s]\n"
          ]
        },
        {
          "output_type": "stream",
          "name": "stdout",
          "text": [
            "epoch 33: loss = 0.8108322581930074, HR@200 = 0.3923841059602649, AP = 0.8598534565539813\n"
          ]
        },
        {
          "output_type": "stream",
          "name": "stderr",
          "text": [
            "100%|██████████| 6040/6040 [00:28<00:00, 211.85it/s]\n",
            "100%|██████████| 121/121 [00:45<00:00,  2.64it/s]\n"
          ]
        },
        {
          "output_type": "stream",
          "name": "stdout",
          "text": [
            "epoch 34: loss = 0.802257148931358, HR@200 = 0.4067880794701987, AP = 0.8646590432542733\n"
          ]
        },
        {
          "output_type": "stream",
          "name": "stderr",
          "text": [
            "100%|██████████| 6040/6040 [00:28<00:00, 213.61it/s]\n",
            "100%|██████████| 121/121 [00:46<00:00,  2.62it/s]\n"
          ]
        },
        {
          "output_type": "stream",
          "name": "stdout",
          "text": [
            "epoch 35: loss = 0.7953025838939954, HR@200 = 0.4059602649006622, AP = 0.8610773833056327\n"
          ]
        },
        {
          "output_type": "stream",
          "name": "stderr",
          "text": [
            "100%|██████████| 6040/6040 [00:28<00:00, 211.11it/s]\n",
            "100%|██████████| 121/121 [00:46<00:00,  2.61it/s]\n"
          ]
        },
        {
          "output_type": "stream",
          "name": "stdout",
          "text": [
            "epoch 36: loss = 0.7938875631484764, HR@200 = 0.4066225165562914, AP = 0.8576166627057996\n"
          ]
        },
        {
          "output_type": "stream",
          "name": "stderr",
          "text": [
            "100%|██████████| 6040/6040 [00:28<00:00, 215.20it/s]\n",
            "100%|██████████| 121/121 [00:45<00:00,  2.66it/s]\n"
          ]
        },
        {
          "output_type": "stream",
          "name": "stdout",
          "text": [
            "epoch 37: loss = 0.7918778508926266, HR@200 = 0.40910596026490065, AP = 0.859226549664115\n"
          ]
        },
        {
          "output_type": "stream",
          "name": "stderr",
          "text": [
            "100%|██████████| 6040/6040 [00:28<00:00, 212.79it/s]\n",
            "100%|██████████| 121/121 [00:46<00:00,  2.60it/s]\n"
          ]
        },
        {
          "output_type": "stream",
          "name": "stdout",
          "text": [
            "epoch 38: loss = 0.7778904993814841, HR@200 = 0.4059602649006622, AP = 0.8581200560462807\n"
          ]
        },
        {
          "output_type": "stream",
          "name": "stderr",
          "text": [
            "100%|██████████| 6040/6040 [00:28<00:00, 214.51it/s]\n",
            "100%|██████████| 121/121 [00:45<00:00,  2.63it/s]\n"
          ]
        },
        {
          "output_type": "stream",
          "name": "stdout",
          "text": [
            "epoch 39: loss = 0.7698487805066914, HR@200 = 0.40794701986754967, AP = 0.8559585502958695\n"
          ]
        },
        {
          "output_type": "stream",
          "name": "stderr",
          "text": [
            "100%|██████████| 6040/6040 [00:28<00:00, 211.94it/s]\n",
            "100%|██████████| 121/121 [00:47<00:00,  2.56it/s]\n"
          ]
        },
        {
          "output_type": "stream",
          "name": "stdout",
          "text": [
            "epoch 40: loss = 0.7727484445648872, HR@200 = 0.4120860927152318, AP = 0.8610089522350515\n"
          ]
        },
        {
          "output_type": "stream",
          "name": "stderr",
          "text": [
            "100%|██████████| 6040/6040 [00:28<00:00, 212.72it/s]\n",
            "100%|██████████| 121/121 [00:45<00:00,  2.64it/s]\n"
          ]
        },
        {
          "output_type": "stream",
          "name": "stdout",
          "text": [
            "epoch 41: loss = 0.7731416407750537, HR@200 = 0.41258278145695365, AP = 0.8582398030924305\n"
          ]
        },
        {
          "output_type": "stream",
          "name": "stderr",
          "text": [
            "100%|██████████| 6040/6040 [00:28<00:00, 213.99it/s]\n",
            "100%|██████████| 121/121 [00:46<00:00,  2.58it/s]\n"
          ]
        },
        {
          "output_type": "stream",
          "name": "stdout",
          "text": [
            "epoch 42: loss = 0.7611127829364198, HR@200 = 0.4187086092715232, AP = 0.8609347530513146\n"
          ]
        },
        {
          "output_type": "stream",
          "name": "stderr",
          "text": [
            "100%|██████████| 6040/6040 [00:28<00:00, 212.73it/s]\n",
            "100%|██████████| 121/121 [00:46<00:00,  2.62it/s]\n"
          ]
        },
        {
          "output_type": "stream",
          "name": "stdout",
          "text": [
            "epoch 43: loss = 0.7560382307624284, HR@200 = 0.4140728476821192, AP = 0.8555976827151907\n"
          ]
        },
        {
          "output_type": "stream",
          "name": "stderr",
          "text": [
            "100%|██████████| 6040/6040 [00:28<00:00, 213.02it/s]\n",
            "100%|██████████| 121/121 [00:47<00:00,  2.57it/s]\n"
          ]
        },
        {
          "output_type": "stream",
          "name": "stdout",
          "text": [
            "epoch 44: loss = 0.7600039145551524, HR@200 = 0.4163907284768212, AP = 0.8565968200269725\n"
          ]
        },
        {
          "output_type": "stream",
          "name": "stderr",
          "text": [
            "100%|██████████| 6040/6040 [00:28<00:00, 211.03it/s]\n",
            "100%|██████████| 121/121 [00:45<00:00,  2.63it/s]\n"
          ]
        },
        {
          "output_type": "stream",
          "name": "stdout",
          "text": [
            "epoch 45: loss = 0.7509632684142384, HR@200 = 0.4230132450331126, AP = 0.8576454828949955\n"
          ]
        },
        {
          "output_type": "stream",
          "name": "stderr",
          "text": [
            "100%|██████████| 6040/6040 [00:28<00:00, 209.96it/s]\n",
            "100%|██████████| 121/121 [00:47<00:00,  2.53it/s]\n"
          ]
        },
        {
          "output_type": "stream",
          "name": "stdout",
          "text": [
            "epoch 46: loss = 0.7506480250877655, HR@200 = 0.4206953642384106, AP = 0.8581709761215559\n"
          ]
        },
        {
          "output_type": "stream",
          "name": "stderr",
          "text": [
            "100%|██████████| 6040/6040 [00:29<00:00, 207.33it/s]\n",
            "100%|██████████| 121/121 [00:46<00:00,  2.59it/s]\n"
          ]
        },
        {
          "output_type": "stream",
          "name": "stdout",
          "text": [
            "epoch 47: loss = 0.7440497909259323, HR@200 = 0.4206953642384106, AP = 0.8550293868819493\n"
          ]
        },
        {
          "output_type": "stream",
          "name": "stderr",
          "text": [
            "100%|██████████| 6040/6040 [00:28<00:00, 210.94it/s]\n",
            "100%|██████████| 121/121 [00:46<00:00,  2.58it/s]\n"
          ]
        },
        {
          "output_type": "stream",
          "name": "stdout",
          "text": [
            "epoch 48: loss = 0.7461953977887698, HR@200 = 0.41903973509933773, AP = 0.8532709285703381\n"
          ]
        },
        {
          "output_type": "stream",
          "name": "stderr",
          "text": [
            "100%|██████████| 6040/6040 [00:28<00:00, 213.02it/s]\n",
            "100%|██████████| 121/121 [00:45<00:00,  2.66it/s]\n"
          ]
        },
        {
          "output_type": "stream",
          "name": "stdout",
          "text": [
            "epoch 49: loss = 0.7468730054845084, HR@200 = 0.4271523178807947, AP = 0.8549212245930295\n"
          ]
        },
        {
          "output_type": "stream",
          "name": "stderr",
          "text": [
            "100%|██████████| 6040/6040 [00:28<00:00, 211.90it/s]\n",
            "100%|██████████| 121/121 [00:47<00:00,  2.57it/s]\n"
          ]
        },
        {
          "output_type": "stream",
          "name": "stdout",
          "text": [
            "epoch 50: loss = 0.7465140699809849, HR@200 = 0.4304635761589404, AP = 0.855000593584382\n"
          ]
        },
        {
          "output_type": "stream",
          "name": "stderr",
          "text": [
            "100%|██████████| 6040/6040 [00:28<00:00, 212.57it/s]\n",
            "100%|██████████| 121/121 [00:45<00:00,  2.65it/s]\n"
          ]
        },
        {
          "output_type": "stream",
          "name": "stdout",
          "text": [
            "epoch 51: loss = 0.7379647049288086, HR@200 = 0.42649006622516555, AP = 0.8514528606142984\n"
          ]
        },
        {
          "output_type": "stream",
          "name": "stderr",
          "text": [
            "100%|██████████| 6040/6040 [00:28<00:00, 211.70it/s]\n",
            "100%|██████████| 121/121 [00:46<00:00,  2.58it/s]\n"
          ]
        },
        {
          "output_type": "stream",
          "name": "stdout",
          "text": [
            "epoch 52: loss = 0.7418534922888441, HR@200 = 0.43096026490066225, AP = 0.8558921226305083\n"
          ]
        },
        {
          "output_type": "stream",
          "name": "stderr",
          "text": [
            "100%|██████████| 6040/6040 [00:28<00:00, 212.03it/s]\n",
            "100%|██████████| 121/121 [00:45<00:00,  2.66it/s]\n"
          ]
        },
        {
          "output_type": "stream",
          "name": "stdout",
          "text": [
            "epoch 53: loss = 0.7393753068422936, HR@200 = 0.4208609271523179, AP = 0.8532328681815096\n"
          ]
        },
        {
          "output_type": "stream",
          "name": "stderr",
          "text": [
            "100%|██████████| 6040/6040 [00:28<00:00, 212.24it/s]\n",
            "100%|██████████| 121/121 [00:46<00:00,  2.63it/s]\n"
          ]
        },
        {
          "output_type": "stream",
          "name": "stdout",
          "text": [
            "epoch 54: loss = 0.7382533026513773, HR@200 = 0.43195364238410594, AP = 0.8532229656083243\n"
          ]
        },
        {
          "output_type": "stream",
          "name": "stderr",
          "text": [
            "100%|██████████| 6040/6040 [00:28<00:00, 209.21it/s]\n",
            "100%|██████████| 121/121 [00:45<00:00,  2.66it/s]\n"
          ]
        },
        {
          "output_type": "stream",
          "name": "stdout",
          "text": [
            "epoch 55: loss = 0.743447283507997, HR@200 = 0.43195364238410594, AP = 0.8532200251338793\n"
          ]
        },
        {
          "output_type": "stream",
          "name": "stderr",
          "text": [
            "100%|██████████| 6040/6040 [00:28<00:00, 210.96it/s]\n",
            "100%|██████████| 121/121 [00:45<00:00,  2.65it/s]\n"
          ]
        },
        {
          "output_type": "stream",
          "name": "stdout",
          "text": [
            "epoch 56: loss = 0.7331504098494346, HR@200 = 0.43062913907284767, AP = 0.8516765853918715\n"
          ]
        },
        {
          "output_type": "stream",
          "name": "stderr",
          "text": [
            "100%|██████████| 6040/6040 [00:28<00:00, 211.42it/s]\n",
            "100%|██████████| 121/121 [00:46<00:00,  2.61it/s]\n"
          ]
        },
        {
          "output_type": "stream",
          "name": "stdout",
          "text": [
            "epoch 57: loss = 0.72883872614421, HR@200 = 0.43029801324503314, AP = 0.8536634479287872\n"
          ]
        },
        {
          "output_type": "stream",
          "name": "stderr",
          "text": [
            "100%|██████████| 6040/6040 [00:28<00:00, 214.32it/s]\n",
            "100%|██████████| 121/121 [00:45<00:00,  2.68it/s]\n"
          ]
        },
        {
          "output_type": "stream",
          "name": "stdout",
          "text": [
            "epoch 58: loss = 0.7325146702506783, HR@200 = 0.433112582781457, AP = 0.8521969269842418\n"
          ]
        },
        {
          "output_type": "stream",
          "name": "stderr",
          "text": [
            "100%|██████████| 6040/6040 [00:28<00:00, 213.63it/s]\n",
            "100%|██████████| 121/121 [00:47<00:00,  2.57it/s]\n"
          ]
        },
        {
          "output_type": "stream",
          "name": "stdout",
          "text": [
            "epoch 59: loss = 0.7404741056411471, HR@200 = 0.4324503311258278, AP = 0.8511823308761861\n"
          ]
        },
        {
          "output_type": "stream",
          "name": "stderr",
          "text": [
            "100%|██████████| 6040/6040 [00:28<00:00, 212.04it/s]\n",
            "100%|██████████| 121/121 [00:45<00:00,  2.68it/s]\n"
          ]
        },
        {
          "output_type": "stream",
          "name": "stdout",
          "text": [
            "epoch 60: loss = 0.7290462839990756, HR@200 = 0.4367549668874172, AP = 0.8536652650844534\n",
            "\n",
            "Finished Training:\n",
            "Best metrics are:\n",
            "Hit Ratio eval = 0.4367549668874172\n"
          ]
        },
        {
          "output_type": "stream",
          "name": "stderr",
          "text": [
            "100%|██████████| 121/121 [00:46<00:00,  2.61it/s]\n"
          ]
        }
      ]
    },
    {
      "cell_type": "code",
      "source": [
        "best_results #On the test set!!"
      ],
      "metadata": {
        "colab": {
          "base_uri": "https://localhost:8080/",
          "height": 331
        },
        "id": "CHVdXIYGbS0V",
        "outputId": "ef554366-21b7-484c-8fa1-7aaccae1f843"
      },
      "execution_count": 11,
      "outputs": [
        {
          "output_type": "execute_result",
          "data": {
            "text/plain": [
              "  maximal width Batch Size  Learning Rate Topk Metric        Score\n",
              "0          1024         50          0.001    0   LOSS     0.317941\n",
              "1          1024         50          0.001    0    MAP     0.839425\n",
              "2          1024         50          0.001    0   TIME  4648.095883\n",
              "3          1024         50          0.001  100     HR     0.286921\n",
              "4          1024         50          0.001  200     HR     0.416722\n",
              "5          1024         50          0.001  100    MRR     0.019753\n",
              "6          1024         50          0.001  200    MRR     0.020695\n",
              "7          1024         50          0.001  100   NDCG     0.065553\n",
              "8          1024         50          0.001  200   NDCG     0.083746"
            ],
            "text/html": [
              "\n",
              "  <div id=\"df-cad9c9e4-05e3-4940-a315-9e2141c6fd93\">\n",
              "    <div class=\"colab-df-container\">\n",
              "      <div>\n",
              "<style scoped>\n",
              "    .dataframe tbody tr th:only-of-type {\n",
              "        vertical-align: middle;\n",
              "    }\n",
              "\n",
              "    .dataframe tbody tr th {\n",
              "        vertical-align: top;\n",
              "    }\n",
              "\n",
              "    .dataframe thead th {\n",
              "        text-align: right;\n",
              "    }\n",
              "</style>\n",
              "<table border=\"1\" class=\"dataframe\">\n",
              "  <thead>\n",
              "    <tr style=\"text-align: right;\">\n",
              "      <th></th>\n",
              "      <th>maximal width</th>\n",
              "      <th>Batch Size</th>\n",
              "      <th>Learning Rate</th>\n",
              "      <th>Topk</th>\n",
              "      <th>Metric</th>\n",
              "      <th>Score</th>\n",
              "    </tr>\n",
              "  </thead>\n",
              "  <tbody>\n",
              "    <tr>\n",
              "      <th>0</th>\n",
              "      <td>1024</td>\n",
              "      <td>50</td>\n",
              "      <td>0.001</td>\n",
              "      <td>0</td>\n",
              "      <td>LOSS</td>\n",
              "      <td>0.317941</td>\n",
              "    </tr>\n",
              "    <tr>\n",
              "      <th>1</th>\n",
              "      <td>1024</td>\n",
              "      <td>50</td>\n",
              "      <td>0.001</td>\n",
              "      <td>0</td>\n",
              "      <td>MAP</td>\n",
              "      <td>0.839425</td>\n",
              "    </tr>\n",
              "    <tr>\n",
              "      <th>2</th>\n",
              "      <td>1024</td>\n",
              "      <td>50</td>\n",
              "      <td>0.001</td>\n",
              "      <td>0</td>\n",
              "      <td>TIME</td>\n",
              "      <td>4648.095883</td>\n",
              "    </tr>\n",
              "    <tr>\n",
              "      <th>3</th>\n",
              "      <td>1024</td>\n",
              "      <td>50</td>\n",
              "      <td>0.001</td>\n",
              "      <td>100</td>\n",
              "      <td>HR</td>\n",
              "      <td>0.286921</td>\n",
              "    </tr>\n",
              "    <tr>\n",
              "      <th>4</th>\n",
              "      <td>1024</td>\n",
              "      <td>50</td>\n",
              "      <td>0.001</td>\n",
              "      <td>200</td>\n",
              "      <td>HR</td>\n",
              "      <td>0.416722</td>\n",
              "    </tr>\n",
              "    <tr>\n",
              "      <th>5</th>\n",
              "      <td>1024</td>\n",
              "      <td>50</td>\n",
              "      <td>0.001</td>\n",
              "      <td>100</td>\n",
              "      <td>MRR</td>\n",
              "      <td>0.019753</td>\n",
              "    </tr>\n",
              "    <tr>\n",
              "      <th>6</th>\n",
              "      <td>1024</td>\n",
              "      <td>50</td>\n",
              "      <td>0.001</td>\n",
              "      <td>200</td>\n",
              "      <td>MRR</td>\n",
              "      <td>0.020695</td>\n",
              "    </tr>\n",
              "    <tr>\n",
              "      <th>7</th>\n",
              "      <td>1024</td>\n",
              "      <td>50</td>\n",
              "      <td>0.001</td>\n",
              "      <td>100</td>\n",
              "      <td>NDCG</td>\n",
              "      <td>0.065553</td>\n",
              "    </tr>\n",
              "    <tr>\n",
              "      <th>8</th>\n",
              "      <td>1024</td>\n",
              "      <td>50</td>\n",
              "      <td>0.001</td>\n",
              "      <td>200</td>\n",
              "      <td>NDCG</td>\n",
              "      <td>0.083746</td>\n",
              "    </tr>\n",
              "  </tbody>\n",
              "</table>\n",
              "</div>\n",
              "      <button class=\"colab-df-convert\" onclick=\"convertToInteractive('df-cad9c9e4-05e3-4940-a315-9e2141c6fd93')\"\n",
              "              title=\"Convert this dataframe to an interactive table.\"\n",
              "              style=\"display:none;\">\n",
              "        \n",
              "  <svg xmlns=\"http://www.w3.org/2000/svg\" height=\"24px\"viewBox=\"0 0 24 24\"\n",
              "       width=\"24px\">\n",
              "    <path d=\"M0 0h24v24H0V0z\" fill=\"none\"/>\n",
              "    <path d=\"M18.56 5.44l.94 2.06.94-2.06 2.06-.94-2.06-.94-.94-2.06-.94 2.06-2.06.94zm-11 1L8.5 8.5l.94-2.06 2.06-.94-2.06-.94L8.5 2.5l-.94 2.06-2.06.94zm10 10l.94 2.06.94-2.06 2.06-.94-2.06-.94-.94-2.06-.94 2.06-2.06.94z\"/><path d=\"M17.41 7.96l-1.37-1.37c-.4-.4-.92-.59-1.43-.59-.52 0-1.04.2-1.43.59L10.3 9.45l-7.72 7.72c-.78.78-.78 2.05 0 2.83L4 21.41c.39.39.9.59 1.41.59.51 0 1.02-.2 1.41-.59l7.78-7.78 2.81-2.81c.8-.78.8-2.07 0-2.86zM5.41 20L4 18.59l7.72-7.72 1.47 1.35L5.41 20z\"/>\n",
              "  </svg>\n",
              "      </button>\n",
              "      \n",
              "  <style>\n",
              "    .colab-df-container {\n",
              "      display:flex;\n",
              "      flex-wrap:wrap;\n",
              "      gap: 12px;\n",
              "    }\n",
              "\n",
              "    .colab-df-convert {\n",
              "      background-color: #E8F0FE;\n",
              "      border: none;\n",
              "      border-radius: 50%;\n",
              "      cursor: pointer;\n",
              "      display: none;\n",
              "      fill: #1967D2;\n",
              "      height: 32px;\n",
              "      padding: 0 0 0 0;\n",
              "      width: 32px;\n",
              "    }\n",
              "\n",
              "    .colab-df-convert:hover {\n",
              "      background-color: #E2EBFA;\n",
              "      box-shadow: 0px 1px 2px rgba(60, 64, 67, 0.3), 0px 1px 3px 1px rgba(60, 64, 67, 0.15);\n",
              "      fill: #174EA6;\n",
              "    }\n",
              "\n",
              "    [theme=dark] .colab-df-convert {\n",
              "      background-color: #3B4455;\n",
              "      fill: #D2E3FC;\n",
              "    }\n",
              "\n",
              "    [theme=dark] .colab-df-convert:hover {\n",
              "      background-color: #434B5C;\n",
              "      box-shadow: 0px 1px 3px 1px rgba(0, 0, 0, 0.15);\n",
              "      filter: drop-shadow(0px 1px 2px rgba(0, 0, 0, 0.3));\n",
              "      fill: #FFFFFF;\n",
              "    }\n",
              "  </style>\n",
              "\n",
              "      <script>\n",
              "        const buttonEl =\n",
              "          document.querySelector('#df-cad9c9e4-05e3-4940-a315-9e2141c6fd93 button.colab-df-convert');\n",
              "        buttonEl.style.display =\n",
              "          google.colab.kernel.accessAllowed ? 'block' : 'none';\n",
              "\n",
              "        async function convertToInteractive(key) {\n",
              "          const element = document.querySelector('#df-cad9c9e4-05e3-4940-a315-9e2141c6fd93');\n",
              "          const dataTable =\n",
              "            await google.colab.kernel.invokeFunction('convertToInteractive',\n",
              "                                                     [key], {});\n",
              "          if (!dataTable) return;\n",
              "\n",
              "          const docLinkHtml = 'Like what you see? Visit the ' +\n",
              "            '<a target=\"_blank\" href=https://colab.research.google.com/notebooks/data_table.ipynb>data table notebook</a>'\n",
              "            + ' to learn more about interactive tables.';\n",
              "          element.innerHTML = '';\n",
              "          dataTable['output_type'] = 'display_data';\n",
              "          await google.colab.output.renderOutput(dataTable, element);\n",
              "          const docLink = document.createElement('div');\n",
              "          docLink.innerHTML = docLinkHtml;\n",
              "          element.appendChild(docLink);\n",
              "        }\n",
              "      </script>\n",
              "    </div>\n",
              "  </div>\n",
              "  "
            ]
          },
          "metadata": {},
          "execution_count": 11
        }
      ]
    },
    {
      "cell_type": "code",
      "source": [
        "# The final test HR200 evaluation!\n",
        "training_candidates.epoch_HR200/len(test)"
      ],
      "metadata": {
        "colab": {
          "base_uri": "https://localhost:8080/"
        },
        "id": "4z0dI2CpkHh0",
        "outputId": "0d4c06a4-59e8-4c4e-baf2-d6aa51a2e085"
      },
      "execution_count": 12,
      "outputs": [
        {
          "output_type": "execute_result",
          "data": {
            "text/plain": [
              "0.41672185430463576"
            ]
          },
          "metadata": {},
          "execution_count": 12
        }
      ]
    },
    {
      "cell_type": "code",
      "source": [
        "# path = './drive/My Drive/Colab Notebooks/recsys_final_candidates_best_results'\n",
        "# with open(path, 'wb') as f:\n",
        "#   pickle.dump((best_results), f)"
      ],
      "metadata": {
        "id": "E-FXcuwiu3Ks"
      },
      "execution_count": null,
      "outputs": []
    },
    {
      "cell_type": "code",
      "source": [
        "def plot_training_summary(training_model, title):\n",
        "  with plt.rc_context({'lines.linewidth': 1.5, 'lines.marker' : '.', 'lines.markersize' : 8}):\n",
        "\n",
        "    epochs = np.arange(len(training_model.train_loss_history)) + 1\n",
        "    fig, (ax1, ax2, ax3, ax4) = plt.subplots(1, 4, figsize=(25,5))\n",
        "    ax1.plot(epochs, training_model.train_loss_history, 'r', label = 'train loss')\n",
        "    ax1.plot(epochs, training_model.eval_loss_history, 'orange', label = 'eval loss')\n",
        "    ax1.set_xlabel('Epochs')\n",
        "    ax1.set_ylabel('LogLoss')\n",
        "    ax1.legend()\n",
        "    ax2.plot(epochs, training_model.eval_HR100_history, 'b', label = 'Hit Ratio @100')\n",
        "    ax2.plot(epochs, training_model.eval_HR200_history, 'g', label = 'Hit Ratio @200')\n",
        "    ax2.set_xlabel('Epochs')\n",
        "    ax2.set_ylabel('Hit Ratio')\n",
        "    ax2.legend()\n",
        "    ax3.plot(epochs, training_model.eval_MRR100_history, 'b', label = 'MRR@100')\n",
        "    ax3.plot(epochs, training_model.eval_MRR200_history, 'g', label = 'MRR@200')\n",
        "    ax3.set_xlabel('Epochs')\n",
        "    ax3.set_ylabel('MRR')\n",
        "    ax3.legend()\n",
        "    ax4.plot(epochs, training_model.eval_NDCG100_history, 'b', label = 'NDCG@100')\n",
        "    ax4.plot(epochs, training_model.eval_NDCG200_history, 'g', label = 'NDCG@200')\n",
        "    ax4.set_xlabel('Epochs')\n",
        "    ax4.set_ylabel('NDCG')\n",
        "    ax4.legend()\n",
        "    fig.suptitle(title, fontsize = 16)"
      ],
      "metadata": {
        "id": "GRJw3qNHLVi7"
      },
      "execution_count": 13,
      "outputs": []
    },
    {
      "cell_type": "code",
      "source": [
        "plot_training_summary(training_candidates, 'Training Summary') #without evaluation loss"
      ],
      "metadata": {
        "colab": {
          "base_uri": "https://localhost:8080/",
          "height": 370
        },
        "id": "ojiEx_sRvN79",
        "outputId": "fac845f4-e553-4cbf-d538-105f5b005a5f"
      },
      "execution_count": null,
      "outputs": [
        {
          "output_type": "display_data",
          "data": {
            "text/plain": [
              "<Figure size 1800x360 with 4 Axes>"
            ],
            "image/png": "[encoded data removed]"
          },
          "metadata": {
            "needs_background": "light"
          }
        }
      ]
    },
    {
      "cell_type": "code",
      "source": [
        "plot_training_summary(training_candidates, 'Training Summary')"
      ],
      "metadata": {
        "colab": {
          "base_uri": "https://localhost:8080/",
          "height": 370
        },
        "id": "4kBgvnatihCw",
        "outputId": "adfc43dc-0782-4eec-ccc1-63bb49c0c97d"
      },
      "execution_count": 14,
      "outputs": [
        {
          "output_type": "display_data",
          "data": {
            "text/plain": [
              "<Figure size 1800x360 with 4 Axes>"
            ],
            "image/png": "[encoded data removed]"
          },
          "metadata": {
            "needs_background": "light"
          }
        }
      ]
    },
    {
      "cell_type": "markdown",
      "source": [
        "###Conclusions from the graphs\n",
        "\n",
        "1. Our target item will be one of the 100 first candidates retrieved in 28.7% of the cases. It would be 41.7% of the cases, if we returned 200 candidates. This is our starting point before the ranking stage.\n",
        "2. We can see that the evaluation loss is increasing while the hit-ratio keeps increasing. This suggests that when the target items are being pushed up, other negative samples are given higher scores as well. Since we **only care about high recall** in our case, this can be ok. We expect the ranking network to distinguish between samples again. This behavior should be tested vs the end results. We see that the test HR score is very similar to that of the validation HR. We would definitely not reach such recall if we stopped training when evaluation loss increases.\n",
        "3. The same trend can be found in the MAP results (graph in the notebook). MAP is shortly increasing, but then starts to decrease. Since MAP is using one threshold for all users, its objective is also not necessarily inline with ranking, and it may not be a good predictor. \n",
        "4. As can be expected, while the Hit Ratio is very different for returning 100 vs 200 candidates, the MRR is similar since the additional hits are positioned towards the end of the list."
      ],
      "metadata": {
        "id": "TgKRSON6-_0q"
      }
    },
    {
      "cell_type": "code",
      "source": [
        "def plot_AP_summary(training_model, title):\n",
        "  with plt.rc_context({'lines.linewidth': 1.5, 'lines.marker' : '.', 'lines.markersize' : 8}):\n",
        "\n",
        "    epochs = np.arange(len(training_model.train_loss_history)) + 1\n",
        "    fig, ax1 = plt.subplots(1, 1, figsize=(7,5))\n",
        "    ax1.plot(epochs, training_model.eval_map_history, 'r', label = 'AP')\n",
        "    ax1.set_xlabel('Epochs')\n",
        "    ax1.set_ylabel('AP')\n",
        "    ax1.legend()"
      ],
      "metadata": {
        "id": "Y2vf1i9UwykF"
      },
      "execution_count": null,
      "outputs": []
    },
    {
      "cell_type": "code",
      "source": [
        "plot_AP_summary(training_candidates, 'Training Summary')"
      ],
      "metadata": {
        "colab": {
          "base_uri": "https://localhost:8080/",
          "height": 334
        },
        "id": "bICZxkDYxk8S",
        "outputId": "9ca745a2-8d80-4547-9eae-3fd76f720ab0"
      },
      "execution_count": null,
      "outputs": [
        {
          "output_type": "display_data",
          "data": {
            "text/plain": [
              "<Figure size 504x360 with 1 Axes>"
            ],
            "image/png": "[encoded data removed]"
          },
          "metadata": {
            "needs_background": "light"
          }
        }
      ]
    },
    {
      "cell_type": "markdown",
      "source": [
        "Average precision shows a similar trend. We are gaining recall in the expense of precision."
      ],
      "metadata": {
        "id": "lGSMn_5jHLXn"
      }
    },
    {
      "cell_type": "markdown",
      "source": [
        "###candidates extraction"
      ],
      "metadata": {
        "id": "bFwAaie-rZAP"
      }
    },
    {
      "cell_type": "code",
      "source": [
        "#no shuffling, to be able to follow order\n",
        "# dl_train = DataLoader(train, batch_size=batch_size, shuffle=False)\n",
        "dl_test = DataLoader(test, batch_size=batch_size, shuffle=False)\n",
        "dl_val = DataLoader(val, batch_size=batch_size, shuffle=False)"
      ],
      "metadata": {
        "id": "qDZzdUw0Z828"
      },
      "execution_count": null,
      "outputs": []
    },
    {
      "cell_type": "code",
      "source": [
        "# We must dilute training\n",
        "train_indx = []\n",
        "for user in range(6040):\n",
        "  offset = 50*user\n",
        "  # sample = offset + np.random.randint(0, 50)\n",
        "  sample = offset + 49\n",
        "  train_indx.append(sample)"
      ],
      "metadata": {
        "id": "5HxANFpKnW8I"
      },
      "execution_count": null,
      "outputs": []
    },
    {
      "cell_type": "code",
      "source": [
        "train_sample = train[np.array(train_indx)]\n",
        "dl_train_sample = DataLoader(train_sample, batch_size=batch_size, shuffle=False)\n",
        "train_candidates = training_candidates.extract_candidates(dl_train_sample)\n",
        "all_test_candidates = training_candidates.extract_candidates(dl_test)\n",
        "all_validation_candidates = training_candidates.extract_candidates(dl_val)\n",
        "# all_train_candidates = training_candidates.extract_candidates(dl_train) #Too heavy"
      ],
      "metadata": {
        "id": "6Lw_2nuun6ql"
      },
      "execution_count": null,
      "outputs": []
    },
    {
      "cell_type": "code",
      "source": [
        "# path = './drive/My Drive/Colab Notebooks/recsys_final_project/candidates_3'\n",
        "# with open(path, 'wb') as f:\n",
        "#   pickle.dump((train_candidates, all_test_candidates, all_validation_candidates), f)"
      ],
      "metadata": {
        "id": "z2EjO5HSXdKi"
      },
      "execution_count": null,
      "outputs": []
    },
    {
      "cell_type": "code",
      "source": [
        "p_labels = training_candidates.AP_labels\n",
        "prob = training_candidates.epoch_pred\n",
        "average_precision = average_precision_score(p_labels, prob)\n",
        "print(average_precision)"
      ],
      "metadata": {
        "colab": {
          "base_uri": "https://localhost:8080/"
        },
        "id": "iLMSd_50YirX",
        "outputId": "bc5899e5-1df4-4b2a-8bb8-2de6cf42bfd7"
      },
      "execution_count": null,
      "outputs": [
        {
          "output_type": "stream",
          "name": "stdout",
          "text": [
            "0.8394247444861151\n"
          ]
        }
      ]
    },
    {
      "cell_type": "code",
      "source": [
        "from sklearn.metrics import precision_recall_curve"
      ],
      "metadata": {
        "id": "EqlE6EyBacj2"
      },
      "execution_count": null,
      "outputs": []
    },
    {
      "cell_type": "code",
      "source": [
        "precision, recall, thresholds = precision_recall_curve(p_labels, prob)"
      ],
      "metadata": {
        "id": "ZGPXggKVae5L"
      },
      "execution_count": null,
      "outputs": []
    },
    {
      "cell_type": "code",
      "source": [
        "precision"
      ],
      "metadata": {
        "colab": {
          "base_uri": "https://localhost:8080/"
        },
        "id": "3c47GH-ravGb",
        "outputId": "57327fcb-61a2-460a-bb11-04a57e157965"
      },
      "execution_count": null,
      "outputs": [
        {
          "output_type": "execute_result",
          "data": {
            "text/plain": [
              "array([0.5       , 0.52261263, 0.52320822, ..., 0.98130841, 0.98979592,\n",
              "       1.        ])"
            ]
          },
          "metadata": {},
          "execution_count": 35
        }
      ]
    },
    {
      "cell_type": "code",
      "source": [
        "fig, ax = plt.subplots(1, 1, figsize=(5, 4))\n",
        "plt.plot(recall, precision)"
      ],
      "metadata": {
        "colab": {
          "base_uri": "https://localhost:8080/",
          "height": 283
        },
        "id": "pMqM88Axa1_i",
        "outputId": "e1a350dd-33de-46db-bdb0-606ad9d00a1d"
      },
      "execution_count": null,
      "outputs": [
        {
          "output_type": "execute_result",
          "data": {
            "text/plain": [
              "[<matplotlib.lines.Line2D at 0x7f5bf2425a30>]"
            ]
          },
          "metadata": {},
          "execution_count": 41
        },
        {
          "output_type": "display_data",
          "data": {
            "text/plain": [
              "<Figure size 360x288 with 1 Axes>"
            ],
            "image/png": "[encoded data removed]"
          },
          "metadata": {
            "needs_background": "light"
          }
        }
      ]
    },
    {
      "cell_type": "code",
      "source": [
        "from sklearn.metrics import roc_auc_score"
      ],
      "metadata": {
        "id": "dLaca2DU2JR1"
      },
      "execution_count": null,
      "outputs": []
    },
    {
      "cell_type": "code",
      "source": [
        "roc_auc_score(p_labels, prob)"
      ],
      "metadata": {
        "colab": {
          "base_uri": "https://localhost:8080/"
        },
        "id": "nYh5hehM2f2k",
        "outputId": "55415def-b94d-4fac-a079-dd283a9d9732"
      },
      "execution_count": null,
      "outputs": [
        {
          "output_type": "execute_result",
          "data": {
            "text/plain": [
              "0.8280850757642209"
            ]
          },
          "metadata": {},
          "execution_count": 38
        }
      ]
    },
    {
      "cell_type": "code",
      "source": [
        "from sklearn.metrics import roc_curve"
      ],
      "metadata": {
        "id": "QusePrRV28GS"
      },
      "execution_count": null,
      "outputs": []
    },
    {
      "cell_type": "code",
      "source": [
        "ns_fpr, ns_tpr, _ = roc_curve(p_labels, prob)\n",
        "plt.plot(ns_fpr, ns_tpr, linestyle='--')"
      ],
      "metadata": {
        "colab": {
          "base_uri": "https://localhost:8080/",
          "height": 283
        },
        "id": "DsGWh-5H3CLp",
        "outputId": "ec88b927-3bce-4387-f22f-c00fc9cdc8e5"
      },
      "execution_count": null,
      "outputs": [
        {
          "output_type": "execute_result",
          "data": {
            "text/plain": [
              "[<matplotlib.lines.Line2D at 0x7f5bf26a6b80>]"
            ]
          },
          "metadata": {},
          "execution_count": 40
        },
        {
          "output_type": "display_data",
          "data": {
            "text/plain": [
              "<Figure size 432x288 with 1 Axes>"
            ],
            "image/png": "[encoded data removed]"
          },
          "metadata": {
            "needs_background": "light"
          }
        }
      ]
    },
    {
      "cell_type": "code",
      "source": [
        "path = './drive/My Drive/Colab Notebooks/recsys_final_project/candidates_recall_precision'\n",
        "with open(path, 'wb') as f:\n",
        "  pickle.dump((p_labels, prob), f)"
      ],
      "metadata": {
        "id": "eqrJ4Cdm47QF"
      },
      "execution_count": null,
      "outputs": []
    }
  ]
}