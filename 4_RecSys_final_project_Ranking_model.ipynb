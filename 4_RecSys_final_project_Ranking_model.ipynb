{
  "nbformat": 4,
  "nbformat_minor": 0,
  "metadata": {
    "colab": {
      "provenance": []
    },
    "kernelspec": {
      "name": "python3",
      "display_name": "Python 3"
    },
    "language_info": {
      "name": "python"
    },
    "accelerator": "GPU",
    "gpuClass": "standard"
  },
  "cells": [
    {
      "cell_type": "markdown",
      "source": [
        "##Overview\n",
        "\n",
        "This notebook implements the last stage of the YouTube recommendation system.\\\n",
        "The candidates from stage 1 are given a new score for each user instance based on additional item data.\\\n",
        "\n",
        "###Model\n",
        "The model is very similar to the candidates model.\\\n",
        "The user representation is a concatenation of:\n",
        "1. Averaging over the embeddings of previously watched movies\n",
        "2. The embedding of the candidate being considered\n",
        "3. The release year of the movie, normalized by quantiles + powers\n",
        "4. The movie generes classification (binary per genre)\n",
        "5. The average rating of the candidate in the database\n",
        "\n",
        "The concatenation is passed through an MLP with a final single logit output per sample.\n",
        "\n",
        "###Training\n",
        "The model is trained with a binary cross entropy, where a positive label is a movie that was watched by the user.\\\n",
        "**NOTE** - the candidates retrieval model is allowed to return previously watched movies. This means that each input may train on more than one positive feedback. Although this may hurt performance on the evaluation of a single target, this complies better to the YouTube model.\\\n",
        "At this stage, the emphasis is on testing impression data and optimization is done on the expected watch time.\\\n",
        "During training, the loss is weighted using the user rating of the sampe. This is somewhat analogous to the watch time in the original paper. Using such weights, the loss is formalized to learn the expected rating, instead of strictly the log-odds.\n",
        "\n",
        "###Evaluation\n",
        "The validation and test dataloaders are built such that each batch is comprosed of the target item and all suggested candidates. Notice that the candidates may already contain the target item.\\\n",
        "Our evaluation tries to rank the target item within the scores of all candidates. Doing this from within the candidates completes the recommendation by the full model candidates + ranking.\\\n",
        "We compute HR@5&10, as well as MRR and NDCG.\\\n",
        "In order to evaluate the ranking model by its own, we also test scores that introduce the original target item, even if it was not icluded in the candidates. This answers the question: if the candidate model improved and included the target, how would it rank?\n",
        "\n",
        "###Hyperparameters\n",
        "We performed hyperparameter search, evaluated on the validation set. Evaluation was done every 5 epochs for acceleration. We plot below the effect of the MLP size on the results.\n",
        "\n",
        "###Experiments\n",
        "We plot the best model training history and evaluate on the test set.\\\n",
        "We present the evaluation metrics at k=5 and k=10.\n",
        "\n",
        "### Comparison to MF baseline"
      ],
      "metadata": {
        "id": "n2Z5xXQ_c_0G"
      }
    },
    {
      "cell_type": "markdown",
      "source": [
        "**Imports and administration**"
      ],
      "metadata": {
        "id": "HZfT4I-IlFuG"
      }
    },
    {
      "cell_type": "code",
      "execution_count": 1,
      "metadata": {
        "id": "glKMRQsxKMRB",
        "colab": {
          "base_uri": "https://localhost:8080/"
        },
        "outputId": "2780479b-dec9-4985-8c65-731aeb2964e2"
      },
      "outputs": [
        {
          "output_type": "stream",
          "name": "stdout",
          "text": [
            "Looking in indexes: https://pypi.org/simple, https://us-python.pkg.dev/colab-wheels/public/simple/\n",
            "Requirement already satisfied: gdown in /usr/local/lib/python3.8/dist-packages (4.6.4)\n",
            "Requirement already satisfied: six in /usr/local/lib/python3.8/dist-packages (from gdown) (1.15.0)\n",
            "Requirement already satisfied: filelock in /usr/local/lib/python3.8/dist-packages (from gdown) (3.9.0)\n",
            "Requirement already satisfied: requests[socks] in /usr/local/lib/python3.8/dist-packages (from gdown) (2.25.1)\n",
            "Requirement already satisfied: beautifulsoup4 in /usr/local/lib/python3.8/dist-packages (from gdown) (4.6.3)\n",
            "Requirement already satisfied: tqdm in /usr/local/lib/python3.8/dist-packages (from gdown) (4.64.1)\n",
            "Requirement already satisfied: chardet<5,>=3.0.2 in /usr/local/lib/python3.8/dist-packages (from requests[socks]->gdown) (4.0.0)\n",
            "Requirement already satisfied: certifi>=2017.4.17 in /usr/local/lib/python3.8/dist-packages (from requests[socks]->gdown) (2022.12.7)\n",
            "Requirement already satisfied: idna<3,>=2.5 in /usr/local/lib/python3.8/dist-packages (from requests[socks]->gdown) (2.10)\n",
            "Requirement already satisfied: urllib3<1.27,>=1.21.1 in /usr/local/lib/python3.8/dist-packages (from requests[socks]->gdown) (1.24.3)\n",
            "Requirement already satisfied: PySocks!=1.5.7,>=1.5.6 in /usr/local/lib/python3.8/dist-packages (from requests[socks]->gdown) (1.7.1)\n"
          ]
        }
      ],
      "source": [
        "# basic\n",
        "# import os \n",
        "# import sys\n",
        "from time import time\n",
        "import zipfile\n",
        "import requests\n",
        "import pickle\n",
        "import gdown\n",
        "!pip install --upgrade --no-cache-dir gdown\n",
        "\n",
        "# general\n",
        "import warnings\n",
        "import numpy as np\n",
        "import pandas as pd\n",
        "\n",
        "# visual\n",
        "import matplotlib\n",
        "import seaborn as sns\n",
        "import matplotlib.pyplot as plt\n",
        "\n",
        "# notebook\n",
        "from IPython.display import display, HTML\n",
        "from tqdm import tqdm\n",
        "import copy\n",
        "\n",
        "# torch\n",
        "import torch\n",
        "from torch import nn\n",
        "import torch.nn.functional as F\n",
        "from torch.nn import Sequential\n",
        "from torch.nn import Sigmoid,ReLU\n",
        "from torch.nn import Embedding,Linear,Dropout\n",
        "from torch.utils.data import DataLoader, Dataset\n",
        "from torchvision.transforms import ToTensor,Compose\n",
        "from torch.optim import SparseAdam,Adam,Adagrad,SGD\n",
        "\n",
        "device = torch.device('cuda:0' if torch.cuda.is_available() else 'cpu')\n",
        "# device = torch.device('cpu')"
      ]
    },
    {
      "cell_type": "code",
      "source": [
        "# device = torch.device('cuda:0' if torch.cuda.is_available() else 'cpu')\n",
        "device"
      ],
      "metadata": {
        "id": "kXqJNkVFbw7v",
        "colab": {
          "base_uri": "https://localhost:8080/"
        },
        "outputId": "7f882217-85cc-452d-8892-a1846074ad2a"
      },
      "execution_count": null,
      "outputs": [
        {
          "output_type": "execute_result",
          "data": {
            "text/plain": [
              "device(type='cuda', index=0)"
            ]
          },
          "metadata": {},
          "execution_count": 2
        }
      ]
    },
    {
      "cell_type": "code",
      "source": [
        "warnings.filterwarnings('ignore')"
      ],
      "metadata": {
        "id": "Awg9ULDNKfbm"
      },
      "execution_count": null,
      "outputs": []
    },
    {
      "cell_type": "code",
      "source": [
        "# from google.colab import drive\n",
        "# drive.mount('/content/drive')"
      ],
      "metadata": {
        "colab": {
          "base_uri": "https://localhost:8080/"
        },
        "id": "Odr_4oyIKcFS",
        "outputId": "b23ddc0f-408b-4872-d70d-4393ff3f93e4"
      },
      "execution_count": null,
      "outputs": [
        {
          "output_type": "stream",
          "name": "stdout",
          "text": [
            "Mounted at /content/drive\n"
          ]
        }
      ]
    },
    {
      "cell_type": "markdown",
      "source": [
        "**Loading the train, validation and test datasets**"
      ],
      "metadata": {
        "id": "-R25E_peoQ9x"
      }
    },
    {
      "cell_type": "code",
      "source": [
        "# path = './drive/My Drive/Colab Notebooks/recsys_final_project/val_train_ranking_5'\n",
        "# with open(path , 'rb') as f:\n",
        "#   (val_ranking, train_ranking) = pickle.load(f)\n",
        "#   print('loaded training and validation')"
      ],
      "metadata": {
        "colab": {
          "base_uri": "https://localhost:8080/"
        },
        "id": "5bXw2Z9N7Ly6",
        "outputId": "5a2419a5-d9d7-46e9-bddd-bdc3bf2be6d4"
      },
      "execution_count": null,
      "outputs": [
        {
          "output_type": "stream",
          "name": "stdout",
          "text": [
            "loaded training and validation\n"
          ]
        }
      ]
    },
    {
      "cell_type": "code",
      "source": [
        "url = \"https://drive.google.com/file/d/1DgBiv7tlzRZ4B8j6nUqq2Pl6BYVDq3PU/view?usp=sharing\"\n",
        "ranking_data_train_val_path = 'ranking_data_train_val'\n",
        "gdown.download(url, ranking_data_train_val_path, quiet=False,fuzzy=True)\n",
        "\n",
        "# path = './drive/My Drive/Colab Notebooks/recsys_final_project/val_train_ranking_5'\n",
        "with open(ranking_data_train_val_path , 'rb') as f:\n",
        "  (val_ranking, train_ranking) = pickle.load(f)\n",
        "  print('loaded training and validation')\n"
      ],
      "metadata": {
        "colab": {
          "base_uri": "https://localhost:8080/"
        },
        "id": "0OkHCqfNt27W",
        "outputId": "62ff4350-6cc9-438d-ac8c-d727a7e2fca4"
      },
      "execution_count": 2,
      "outputs": [
        {
          "output_type": "stream",
          "name": "stderr",
          "text": [
            "Downloading...\n",
            "From: https://drive.google.com/uc?id=1DgBiv7tlzRZ4B8j6nUqq2Pl6BYVDq3PU\n",
            "To: /content/ranking_data_train_val\n",
            "100%|██████████| 772M/772M [00:08<00:00, 93.0MB/s]\n"
          ]
        },
        {
          "output_type": "stream",
          "name": "stdout",
          "text": [
            "loaded training and validation\n"
          ]
        }
      ]
    },
    {
      "cell_type": "code",
      "source": [
        "# path = './drive/My Drive/Colab Notebooks/recsys_final_project/test_ranking_5'\n",
        "# with open(path , 'rb') as f:\n",
        "#   test_ranking = pickle.load(f)\n",
        "#   print('loaded test set')"
      ],
      "metadata": {
        "colab": {
          "base_uri": "https://localhost:8080/"
        },
        "id": "5G0jSirsle8e",
        "outputId": "938e0fee-eb21-4340-ad08-63eac1d9d272"
      },
      "execution_count": null,
      "outputs": [
        {
          "output_type": "stream",
          "name": "stdout",
          "text": [
            "loaded test set\n"
          ]
        }
      ]
    },
    {
      "cell_type": "code",
      "source": [
        "url = \"https://drive.google.com/file/d/1iyDanrBCekLnbNsTJNiN5jAR1OKVMJd8/view?usp=sharing\"\n",
        "ranking_data_test_path = 'ranking_data_test'\n",
        "gdown.download(url, ranking_data_test_path, quiet=False,fuzzy=True)\n",
        "\n",
        "# path = './drive/My Drive/Colab Notebooks/recsys_final_project/test_ranking_5'\n",
        "with open(ranking_data_test_path , 'rb') as f:\n",
        "  test_ranking = pickle.load(f)\n",
        "  print('loaded test set')"
      ],
      "metadata": {
        "colab": {
          "base_uri": "https://localhost:8080/"
        },
        "id": "Z_x9nthquPG7",
        "outputId": "e1fd78fd-c4fd-4a06-cf09-d25956f3aeca"
      },
      "execution_count": 5,
      "outputs": [
        {
          "output_type": "stream",
          "name": "stderr",
          "text": [
            "Downloading...\n",
            "From: https://drive.google.com/uc?id=1iyDanrBCekLnbNsTJNiN5jAR1OKVMJd8\n",
            "To: /content/ranking_data_test\n",
            "100%|██████████| 386M/386M [00:01<00:00, 215MB/s]\n"
          ]
        },
        {
          "output_type": "stream",
          "name": "stdout",
          "text": [
            "loaded test set\n"
          ]
        }
      ]
    },
    {
      "cell_type": "code",
      "source": [
        "# n_candidates = 50\n",
        "n_candidates = 100"
      ],
      "metadata": {
        "id": "3B6BqwihQUfx"
      },
      "execution_count": null,
      "outputs": []
    },
    {
      "cell_type": "code",
      "source": [
        "class Ranking(torch.nn.Module):\n",
        "    def __init__(self, config):\n",
        "        super(Ranking, self).__init__()\n",
        "\n",
        "        self.num_items = config['num_items']\n",
        "        self.max_watches = config['max_watches']\n",
        "        self.latent_dim = config['latent_dim']\n",
        "        self.features_dim = config['features_dim']\n",
        "        self.layers = config['layers']\n",
        "        self.embed_items = torch.nn.Embedding(num_embeddings=self.num_items, embedding_dim=self.latent_dim)\n",
        "\n",
        "        self.fc_layers = torch.nn.ModuleList()\n",
        "        self.fc_layers.append(torch.nn.Linear(self.features_dim, self.layers[0])) #linking features to MLP\n",
        "        for (in_size, out_size) in zip(config['layers'][:-1], config['layers'][1:]):\n",
        "            self.fc_layers.append(torch.nn.Linear(in_size, out_size))\n",
        "\n",
        "        self.mlp_to_logit = torch.nn.Linear(self.layers[-1], 1) #final MLP to predict scalar time without RELU\n",
        "\n",
        "    def forward(self, features, mode):\n",
        "        # previous watches embedding and averaging\n",
        "        n = self.max_watches\n",
        "        previous_watches = features[:, :n].int()\n",
        "        mask = torch.unsqueeze((previous_watches > 0),2)\n",
        "        embedded_items = self.embed_items(previous_watches)\n",
        "        sum = mask.sum(dim=1)\n",
        "        sum[sum == 0] = 1 #so we don't divide by 0 and get nan (even though overwritten)\n",
        "        embedded_items_mean = (embedded_items*mask).sum(dim=1)/sum\n",
        "        n_indices = torch.count_nonzero(previous_watches, dim=1)\n",
        "        embedded_items_mean[(n_indices == 0)] = torch.zeros(self.latent_dim).to(device)\n",
        "\n",
        "        # other embeddings\n",
        "        candidate_emb = self.embed_items(features[:, n].int()) #embedding of candidate item        \n",
        "        # other features\n",
        "        other_features = features[:, n+1:-2]\n",
        "        # all\n",
        "        vector = torch.hstack((embedded_items_mean, candidate_emb, other_features)).to(torch.float32)\n",
        "\n",
        "        for idx, _ in enumerate(range(len(self.fc_layers))):\n",
        "            vector = self.fc_layers[idx](vector)\n",
        "            vector = torch.nn.ReLU()(vector)\n",
        "            #batchnorm and stuff may be added\n",
        "\n",
        "        vector = self.mlp_to_logit(vector)\n",
        "        if mode == 'training':\n",
        "          return vector.squeeze()\n",
        "        elif mode == 'serving':\n",
        "          return torch.exp(vector.squeeze())"
      ],
      "metadata": {
        "id": "6a16jomdUTtt"
      },
      "execution_count": null,
      "outputs": []
    },
    {
      "cell_type": "code",
      "source": [
        "class Training(object):\n",
        "\n",
        "  def __init__(self, model, config):\n",
        "    self.config = config\n",
        "    self.model = model.to(self.config['device'])\n",
        "    self.optimizer = config['optimizer_type'](model.parameters(), **config['optimizer_parameter'])\n",
        "    self.criterion = config['criterion'](reduction = 'none')\n",
        "    self.dl_train = DataLoader(val_ranking, batch_size=config['batch_size'], shuffle=True) # create dataloader with given batch size\n",
        "    self.dl_val = DataLoader(val_ranking, batch_size=config['batch_size'], shuffle=False) # create dataloader with given batch size\n",
        "\n",
        "  def train(self):\n",
        "    self.train_loss_history = []\n",
        "    self.eval_loss_history = []\n",
        "    self.eval_HR5_history = []\n",
        "    self.eval_HR10_history = []\n",
        "    self.eval_HR10_with_target_history = []\n",
        "    self.eval_MRR5_history = []\n",
        "    self.eval_NDCG5_history = []\n",
        "    self.eval_MRR10_history = []\n",
        "    self.eval_NDCG10_history = []\n",
        "\n",
        "    epochs_without_improvement = 0\n",
        "    best_HR = None \n",
        "    train_start = time()\n",
        "    for epoch in range(self.config['n_epochs']):\n",
        "      self.train_epoch() #train\n",
        "      self.train_loss_history.append(self.epoch_train_loss/len(self.dl_train))\n",
        "      # if epoch%5 == 0:\n",
        "      if epoch%1 == 0:\n",
        "        self.evaluate_epoch(self.dl_val) #evaluate\n",
        "        # aggregate metrics\n",
        "        self.eval_loss_history.append(self.epoch_eval_loss/len(self.dl_val))\n",
        "        self.eval_HR5_history.append(self.epoch_HR5/len(self.dl_val))\n",
        "        self.eval_HR10_history.append(self.epoch_HR10/len(self.dl_val))\n",
        "        self.eval_HR10_with_target_history.append(self.epoch_HR10_with_target/len(self.dl_val))\n",
        "        self.eval_MRR5_history.append(self.epoch_MRR5/len(self.dl_val))\n",
        "        self.eval_NDCG5_history.append(self.epoch_NDCG5/len(self.dl_val))\n",
        "        self.eval_MRR10_history.append(self.epoch_MRR10/len(self.dl_val))\n",
        "        self.eval_NDCG10_history.append(self.epoch_NDCG10/len(self.dl_val))\n",
        "        print(f'epoch {epoch}: loss = {self.train_loss_history[-1]}, HR@10with_target = {self.eval_HR10_with_target_history[-1]}, HR@10 = {self.eval_HR10_history[-1]}')\n",
        "        #check for early stopping\n",
        "        if not best_HR or self.eval_HR10_history[-1] > best_HR:\n",
        "          best_HR = self.eval_HR10_history[-1]\n",
        "          # best_MRR10 = self.eval_MRR10_history[-1]\n",
        "          # best_NDCG10 = self.eval_NDCG10_history[-1]\n",
        "          # best_loss = self.eval_loss_history[-1]\n",
        "          epochs_without_improvement = 0\n",
        "          #print (\"Achieved lower validation loss, save model at epoch number {} \".format(epoch + 1) )\n",
        "          best_model = copy.deepcopy(self.model.state_dict())\n",
        "        else:\n",
        "          epochs_without_improvement += 1\n",
        "\n",
        "        if epochs_without_improvement == self.config['early_stopping']:\n",
        "          if self.config['verbose']:\n",
        "              print('\\nEarly stoping after {} epochs. validation loss did not imporve for more than {} epcochs'.format(epoch, self.config['early_stopping']))\n",
        "          break\n",
        "    self.training_time = time() - train_start\n",
        "\n",
        "    # load best model and best performance\n",
        "    self.model.load_state_dict(best_model)\n",
        "    if self.config['verbose']:\n",
        "        print('\\nFinished Training:')\n",
        "        print('Best metrics are:')\n",
        "        print(f'Hit Ratio eval = {best_HR}')\n",
        "        # print(f'MRR@10 eval= {best_MRR10}')\n",
        "        # print(f'NDCG@10 eval= {best_NDCG10}')\n",
        "    \n",
        "  def train_epoch(self):\n",
        "    self.epoch_train_loss   = 0\n",
        "    self.model.train() # train mode\n",
        "    for batch in tqdm(self.dl_train, disable=(not self.config['verbose'])):\n",
        "      self.train_batch(batch)\n",
        "\n",
        "  def train_batch(self, batch):\n",
        "    batch = batch.to(device)  \n",
        "    pred = self.model(batch, mode = 'training')\n",
        "    labels = batch[:,-1]\n",
        "    batch_weights = batch[:,-2]\n",
        "    #weighting loss by rating (normalized rating)\n",
        "    loss = self.criterion(pred, labels)\n",
        "    loss = loss * batch_weights\n",
        "    loss = torch.mean(loss)\n",
        "              \n",
        "    self.optimizer.zero_grad()\n",
        "    loss.backward()\n",
        "    self.optimizer.step()               \n",
        "    self.epoch_train_loss += loss.item()\n",
        "\n",
        "  def evaluate_epoch(self, dl_eval):\n",
        "    self.epoch_eval_loss = 0\n",
        "    self.epoch_HR5 = 0\n",
        "    self.epoch_HR10 = 0\n",
        "    self.epoch_HR10_with_target = 0\n",
        "    self.epoch_MRR5 = 0\n",
        "    self.epoch_NDCG5 = 0\n",
        "    self.epoch_MRR10 = 0\n",
        "    self.epoch_NDCG10 = 0\n",
        "\n",
        "    self.model.eval() #evaluation mode\n",
        "    with torch.no_grad():\n",
        "      for batch in tqdm(dl_eval, disable=(not self.config['verbose'])):\n",
        "        self.eval_batch(batch) # dl_val was built so that one batch is one user\n",
        "\n",
        "\n",
        "  def eval_batch(self, batch):\n",
        "    # Send tensor to GPU    \n",
        "    batch = batch.to(device)\n",
        "    expected_time = self.model(batch, mode = 'serving')\n",
        "    target_time = expected_time[-1] # This is our original target rating\n",
        "    candidates_times, ind = torch.sort(-(expected_time[:-1])) #indices to sort pred, descending\n",
        "    candidates_times_with_target, ind = torch.sort(-expected_time) #indices to sort pred, descending\n",
        "\n",
        "    self.epoch_HR5 += self.HitRatio(candidates_times, -target_time, 5)\n",
        "    self.epoch_HR10 += self.HitRatio(candidates_times, -target_time, 10)\n",
        "    self.epoch_HR10_with_target += self.HitRatio(candidates_times_with_target, -target_time, 10)\n",
        "    self.epoch_MRR5 += self.MRR(candidates_times, -target_time, 5)\n",
        "    self.epoch_MRR10 += self.MRR(candidates_times, -target_time, 10)\n",
        "    self.epoch_NDCG5 += self.NDCG(candidates_times, -target_time, 5)\n",
        "    self.epoch_NDCG10 += self.NDCG(candidates_times, -target_time, 10)\n",
        "\n",
        "  def HitRatio(self, ranked_items, target_item, k):\n",
        "    for item in ranked_items[:k]:\n",
        "      if item == target_item:\n",
        "        return 1\n",
        "    return 0\n",
        "\n",
        "  def MRR(self, ranked_items, target_item, k):\n",
        "    for i, item in enumerate(ranked_items[:k]):\n",
        "      if item == target_item:\n",
        "        return 1/(i + 1)\n",
        "    return 0\n",
        "\n",
        "\n",
        "  def NDCG(self, ranked_items, target_item, k):\n",
        "    for i, item in enumerate(ranked_items[:k]):\n",
        "      if item == target_item:\n",
        "        return np.log(2)/np.log(i + 2)\n",
        "    return 0\n"
      ],
      "metadata": {
        "id": "uJo9qaoMAWJv"
      },
      "execution_count": null,
      "outputs": []
    },
    {
      "cell_type": "markdown",
      "source": [
        "###hyperparameters search\n",
        "We show optimization for MLP dimensions, as in the paper, after learning rate was optimized as well.\\\n",
        "evaluation was done every 5 epochs.\\\n",
        "We recorded only HR@10 with and without target item and training time.\n",
        "\n",
        "**NOTE - hyperparameters search takes a long time. My results can be downloaded below**"
      ],
      "metadata": {
        "id": "Dmep9wxR1Qbw"
      }
    },
    {
      "cell_type": "code",
      "source": [
        "# results = pd.DataFrame(columns=['maximal width', 'Batch Size', 'Learning Rate', 'Topk', 'Metric', 'Score']) #uncomment to run"
      ],
      "metadata": {
        "id": "U_qtQwsQ24FI"
      },
      "execution_count": null,
      "outputs": []
    },
    {
      "cell_type": "code",
      "source": [
        "# path = './drive/My Drive/Colab Notebooks/recsys_final_ranking_by_layers'\n",
        "# with open(path , 'rb') as f:\n",
        "#   (results) = pickle.load(f)\n",
        "#   print('loaded training')"
      ],
      "metadata": {
        "id": "OzI6LALHpYFo"
      },
      "execution_count": null,
      "outputs": []
    },
    {
      "cell_type": "code",
      "source": [
        "def add_results(training_model, results_df, max_width, batch_size, lr):\n",
        "\n",
        "  hr10 = training_model.epoch_HR10/len(training_model.dl_val)\n",
        "  hr10_with_target = training_model.epoch_HR10_with_target/len(training_model.dl_val)\n",
        "  tr_time = training_model.training_time\n",
        "\n",
        "  results_df.loc[len(results_df)] = max_width, batch_size, lr, 0, 'TIME', tr_time\n",
        "  results_df.loc[len(results_df)] = max_width, batch_size, lr, 10, 'HR', hr10\n",
        "  results_df.loc[len(results_df)] = max_width, batch_size, lr, 10, 'HR_with_target', hr10_with_target"
      ],
      "metadata": {
        "id": "nj5emfXr3JcW"
      },
      "execution_count": null,
      "outputs": []
    },
    {
      "cell_type": "code",
      "source": [
        "batch_size = n_candidates + 1\n",
        "lr = 0.001\n",
        "layers_list = [[256], [512, 256], [1024, 512, 256], [2048, 1024, 512, 256]]\n",
        "\n",
        "for layers in layers_list:\n",
        "  torch.manual_seed(42)\n",
        "  np.random.seed(42) \n",
        "  max_width = layers[0]\n",
        "  ranking_config = {'num_items': 3953, 'max_watches': 50, 'latent_dim': 256, 'features_dim': 534, 'layers':layers}\n",
        "  model_ranking = Ranking(ranking_config)\n",
        "\n",
        "  training_config = {'batch_size': batch_size, 'optimizer_type': Adam, 'optimizer_parameter': {'lr': lr}, \\\n",
        "                  'criterion' : torch.nn.BCEWithLogitsLoss, 'n_epochs' : 51, 'early_stopping' : 8, 'verbose' : True, 'device' : device}\n",
        "\n",
        "  training_ranking = Training(model_ranking, training_config)\n",
        "  training_ranking.train()\n",
        "  training_ranking.evaluate_epoch(training_ranking.dl_val)\n",
        "  add_results(training_ranking, results, max_width, batch_size, lr)"
      ],
      "metadata": {
        "colab": {
          "base_uri": "https://localhost:8080/"
        },
        "id": "SRsppJzc1TJ-",
        "outputId": "fd38f6f1-1d8b-4c78-cf4c-a34308762083"
      },
      "execution_count": null,
      "outputs": [
        {
          "output_type": "stream",
          "name": "stderr",
          "text": [
            "100%|██████████| 6040/6040 [00:23<00:00, 253.23it/s]\n",
            "100%|██████████| 6040/6040 [00:14<00:00, 409.82it/s]\n"
          ]
        },
        {
          "output_type": "stream",
          "name": "stdout",
          "text": [
            "epoch 0: loss = 1.088795038367672, HR@10with_target = 0.11009933774834436, HR@10 = 0.046688741721854304\n"
          ]
        },
        {
          "output_type": "stream",
          "name": "stderr",
          "text": [
            "100%|██████████| 6040/6040 [00:22<00:00, 264.35it/s]\n",
            "100%|██████████| 6040/6040 [00:23<00:00, 255.49it/s]\n",
            "100%|██████████| 6040/6040 [00:23<00:00, 253.05it/s]\n",
            "100%|██████████| 6040/6040 [00:23<00:00, 251.76it/s]\n",
            "100%|██████████| 6040/6040 [00:22<00:00, 264.24it/s]\n",
            "100%|██████████| 6040/6040 [00:13<00:00, 434.43it/s]\n"
          ]
        },
        {
          "output_type": "stream",
          "name": "stdout",
          "text": [
            "epoch 5: loss = 0.7571669886446488, HR@10with_target = 0.23278145695364238, HR@10 = 0.06788079470198675\n"
          ]
        },
        {
          "output_type": "stream",
          "name": "stderr",
          "text": [
            "100%|██████████| 6040/6040 [00:23<00:00, 254.73it/s]\n",
            "100%|██████████| 6040/6040 [00:23<00:00, 254.79it/s]\n",
            "100%|██████████| 6040/6040 [00:23<00:00, 253.65it/s]\n",
            "100%|██████████| 6040/6040 [00:22<00:00, 263.58it/s]\n",
            "100%|██████████| 6040/6040 [00:23<00:00, 254.89it/s]\n",
            "100%|██████████| 6040/6040 [00:13<00:00, 441.24it/s]\n"
          ]
        },
        {
          "output_type": "stream",
          "name": "stdout",
          "text": [
            "epoch 10: loss = 0.5874368631038162, HR@10with_target = 0.30960264900662254, HR@10 = 0.08079470198675497\n"
          ]
        },
        {
          "output_type": "stream",
          "name": "stderr",
          "text": [
            "100%|██████████| 6040/6040 [00:23<00:00, 254.20it/s]\n",
            "100%|██████████| 6040/6040 [00:23<00:00, 253.84it/s]\n",
            "100%|██████████| 6040/6040 [00:23<00:00, 261.39it/s]\n",
            "100%|██████████| 6040/6040 [00:23<00:00, 256.26it/s]\n",
            "100%|██████████| 6040/6040 [00:23<00:00, 252.87it/s]\n",
            "100%|██████████| 6040/6040 [00:13<00:00, 436.00it/s]\n"
          ]
        },
        {
          "output_type": "stream",
          "name": "stdout",
          "text": [
            "epoch 15: loss = 0.46031758708396414, HR@10with_target = 0.3536423841059603, HR@10 = 0.09221854304635761\n"
          ]
        },
        {
          "output_type": "stream",
          "name": "stderr",
          "text": [
            "100%|██████████| 6040/6040 [00:23<00:00, 252.56it/s]\n",
            "100%|██████████| 6040/6040 [00:23<00:00, 258.67it/s]\n",
            "100%|██████████| 6040/6040 [00:23<00:00, 254.40it/s]\n",
            "100%|██████████| 6040/6040 [00:24<00:00, 250.99it/s]\n",
            "100%|██████████| 6040/6040 [00:23<00:00, 253.85it/s]\n",
            "100%|██████████| 6040/6040 [00:13<00:00, 439.82it/s]\n"
          ]
        },
        {
          "output_type": "stream",
          "name": "stdout",
          "text": [
            "epoch 20: loss = 0.3606383133471325, HR@10with_target = 0.3887417218543046, HR@10 = 0.09387417218543047\n"
          ]
        },
        {
          "output_type": "stream",
          "name": "stderr",
          "text": [
            "100%|██████████| 6040/6040 [00:23<00:00, 256.80it/s]\n",
            "100%|██████████| 6040/6040 [00:22<00:00, 262.73it/s]\n",
            "100%|██████████| 6040/6040 [00:23<00:00, 256.69it/s]\n",
            "100%|██████████| 6040/6040 [00:23<00:00, 255.35it/s]\n",
            "100%|██████████| 6040/6040 [00:24<00:00, 246.63it/s]\n",
            "100%|██████████| 6040/6040 [00:14<00:00, 407.83it/s]\n"
          ]
        },
        {
          "output_type": "stream",
          "name": "stdout",
          "text": [
            "epoch 25: loss = 0.2820814274931556, HR@10with_target = 0.398841059602649, HR@10 = 0.09519867549668874\n"
          ]
        },
        {
          "output_type": "stream",
          "name": "stderr",
          "text": [
            "100%|██████████| 6040/6040 [00:24<00:00, 245.44it/s]\n",
            "100%|██████████| 6040/6040 [00:27<00:00, 219.81it/s]\n",
            "100%|██████████| 6040/6040 [00:24<00:00, 244.20it/s]\n",
            "100%|██████████| 6040/6040 [00:24<00:00, 241.85it/s]\n",
            "100%|██████████| 6040/6040 [00:24<00:00, 243.82it/s]\n",
            "100%|██████████| 6040/6040 [00:17<00:00, 347.84it/s]\n"
          ]
        },
        {
          "output_type": "stream",
          "name": "stdout",
          "text": [
            "epoch 30: loss = 0.21986395601400655, HR@10with_target = 0.42102649006622517, HR@10 = 0.10099337748344371\n"
          ]
        },
        {
          "output_type": "stream",
          "name": "stderr",
          "text": [
            "100%|██████████| 6040/6040 [00:34<00:00, 175.49it/s]\n",
            "100%|██████████| 6040/6040 [00:32<00:00, 183.17it/s]\n",
            "100%|██████████| 6040/6040 [00:33<00:00, 179.79it/s]\n",
            "100%|██████████| 6040/6040 [00:33<00:00, 178.35it/s]\n",
            "100%|██████████| 6040/6040 [00:33<00:00, 183.03it/s]\n",
            "100%|██████████| 6040/6040 [00:18<00:00, 333.64it/s]\n"
          ]
        },
        {
          "output_type": "stream",
          "name": "stdout",
          "text": [
            "epoch 35: loss = 0.17520290608638492, HR@10with_target = 0.4375827814569536, HR@10 = 0.10662251655629139\n"
          ]
        },
        {
          "output_type": "stream",
          "name": "stderr",
          "text": [
            "100%|██████████| 6040/6040 [00:33<00:00, 177.91it/s]\n",
            "100%|██████████| 6040/6040 [00:33<00:00, 182.82it/s]\n",
            "100%|██████████| 6040/6040 [00:34<00:00, 174.28it/s]\n",
            "100%|██████████| 6040/6040 [00:33<00:00, 182.09it/s]\n",
            "100%|██████████| 6040/6040 [00:33<00:00, 179.63it/s]\n",
            "100%|██████████| 6040/6040 [00:18<00:00, 334.09it/s]\n"
          ]
        },
        {
          "output_type": "stream",
          "name": "stdout",
          "text": [
            "epoch 40: loss = 0.13800090654113967, HR@10with_target = 0.45, HR@10 = 0.10364238410596026\n"
          ]
        },
        {
          "output_type": "stream",
          "name": "stderr",
          "text": [
            "100%|██████████| 6040/6040 [00:33<00:00, 182.93it/s]\n",
            "100%|██████████| 6040/6040 [00:33<00:00, 178.68it/s]\n",
            "100%|██████████| 6040/6040 [00:33<00:00, 180.47it/s]\n",
            "100%|██████████| 6040/6040 [00:33<00:00, 182.66it/s]\n",
            "100%|██████████| 6040/6040 [00:34<00:00, 176.83it/s]\n",
            "100%|██████████| 6040/6040 [00:17<00:00, 341.78it/s]\n"
          ]
        },
        {
          "output_type": "stream",
          "name": "stdout",
          "text": [
            "epoch 45: loss = 0.11387094698595857, HR@10with_target = 0.44304635761589406, HR@10 = 0.10182119205298014\n"
          ]
        },
        {
          "output_type": "stream",
          "name": "stderr",
          "text": [
            "100%|██████████| 6040/6040 [00:33<00:00, 182.07it/s]\n",
            "100%|██████████| 6040/6040 [00:34<00:00, 176.97it/s]\n",
            "100%|██████████| 6040/6040 [00:33<00:00, 181.76it/s]\n",
            "100%|██████████| 6040/6040 [00:34<00:00, 175.89it/s]\n",
            "100%|██████████| 6040/6040 [00:33<00:00, 180.60it/s]\n",
            "100%|██████████| 6040/6040 [00:17<00:00, 338.54it/s]\n"
          ]
        },
        {
          "output_type": "stream",
          "name": "stdout",
          "text": [
            "epoch 50: loss = 0.09645466886344652, HR@10with_target = 0.46258278145695364, HR@10 = 0.10513245033112582\n",
            "\n",
            "Finished Training:\n",
            "Best metrics are:\n",
            "Hit Ratio eval = 0.10662251655629139\n"
          ]
        },
        {
          "output_type": "stream",
          "name": "stderr",
          "text": [
            "100%|██████████| 6040/6040 [00:18<00:00, 323.34it/s]\n",
            "100%|██████████| 6040/6040 [00:37<00:00, 159.97it/s]\n",
            "100%|██████████| 6040/6040 [00:19<00:00, 304.56it/s]\n"
          ]
        },
        {
          "output_type": "stream",
          "name": "stdout",
          "text": [
            "epoch 0: loss = 1.0940786187497233, HR@10with_target = 0.07582781456953643, HR@10 = 0.041225165562913904\n"
          ]
        },
        {
          "output_type": "stream",
          "name": "stderr",
          "text": [
            "100%|██████████| 6040/6040 [00:37<00:00, 160.64it/s]\n",
            "100%|██████████| 6040/6040 [00:38<00:00, 155.61it/s]\n",
            "100%|██████████| 6040/6040 [00:38<00:00, 156.44it/s]\n",
            "100%|██████████| 6040/6040 [00:38<00:00, 157.23it/s]\n",
            "100%|██████████| 6040/6040 [00:37<00:00, 162.03it/s]\n",
            "100%|██████████| 6040/6040 [00:19<00:00, 310.90it/s]\n"
          ]
        },
        {
          "output_type": "stream",
          "name": "stdout",
          "text": [
            "epoch 5: loss = 0.7408595222756297, HR@10with_target = 0.23774834437086093, HR@10 = 0.06986754966887417\n"
          ]
        },
        {
          "output_type": "stream",
          "name": "stderr",
          "text": [
            "100%|██████████| 6040/6040 [00:37<00:00, 160.84it/s]\n",
            "100%|██████████| 6040/6040 [00:38<00:00, 158.72it/s]\n",
            "100%|██████████| 6040/6040 [00:38<00:00, 157.15it/s]\n",
            "100%|██████████| 6040/6040 [00:37<00:00, 159.05it/s]\n",
            "100%|██████████| 6040/6040 [00:38<00:00, 158.71it/s]\n",
            "100%|██████████| 6040/6040 [00:19<00:00, 316.91it/s]\n"
          ]
        },
        {
          "output_type": "stream",
          "name": "stdout",
          "text": [
            "epoch 10: loss = 0.549247750663613, HR@10with_target = 0.3456953642384106, HR@10 = 0.09155629139072848\n"
          ]
        },
        {
          "output_type": "stream",
          "name": "stderr",
          "text": [
            "100%|██████████| 6040/6040 [00:37<00:00, 161.02it/s]\n",
            "100%|██████████| 6040/6040 [00:38<00:00, 156.34it/s]\n",
            "100%|██████████| 6040/6040 [00:38<00:00, 155.98it/s]\n",
            "100%|██████████| 6040/6040 [00:37<00:00, 161.33it/s]\n",
            "100%|██████████| 6040/6040 [00:37<00:00, 159.27it/s]\n",
            "100%|██████████| 6040/6040 [00:18<00:00, 326.57it/s]\n"
          ]
        },
        {
          "output_type": "stream",
          "name": "stdout",
          "text": [
            "epoch 15: loss = 0.41582991896192395, HR@10with_target = 0.40827814569536425, HR@10 = 0.10016556291390728\n"
          ]
        },
        {
          "output_type": "stream",
          "name": "stderr",
          "text": [
            "100%|██████████| 6040/6040 [00:28<00:00, 211.00it/s]\n",
            "100%|██████████| 6040/6040 [00:28<00:00, 213.26it/s]\n",
            "100%|██████████| 6040/6040 [00:27<00:00, 217.06it/s]\n",
            "100%|██████████| 6040/6040 [00:27<00:00, 218.02it/s]\n",
            "100%|██████████| 6040/6040 [00:27<00:00, 220.77it/s]\n",
            "100%|██████████| 6040/6040 [00:14<00:00, 419.87it/s]\n"
          ]
        },
        {
          "output_type": "stream",
          "name": "stdout",
          "text": [
            "epoch 20: loss = 0.31758101551867174, HR@10with_target = 0.46357615894039733, HR@10 = 0.10910596026490066\n"
          ]
        },
        {
          "output_type": "stream",
          "name": "stderr",
          "text": [
            "100%|██████████| 6040/6040 [00:27<00:00, 219.71it/s]\n",
            "100%|██████████| 6040/6040 [00:27<00:00, 219.11it/s]\n",
            "100%|██████████| 6040/6040 [00:27<00:00, 221.11it/s]\n",
            "100%|██████████| 6040/6040 [00:27<00:00, 219.82it/s]\n",
            "100%|██████████| 6040/6040 [00:27<00:00, 220.97it/s]\n",
            "100%|██████████| 6040/6040 [00:14<00:00, 416.17it/s]\n"
          ]
        },
        {
          "output_type": "stream",
          "name": "stdout",
          "text": [
            "epoch 25: loss = 0.24568128697807806, HR@10with_target = 0.46357615894039733, HR@10 = 0.11274834437086093\n"
          ]
        },
        {
          "output_type": "stream",
          "name": "stderr",
          "text": [
            "100%|██████████| 6040/6040 [00:27<00:00, 219.65it/s]\n",
            "100%|██████████| 6040/6040 [00:27<00:00, 218.83it/s]\n",
            "100%|██████████| 6040/6040 [00:27<00:00, 221.22it/s]\n",
            "100%|██████████| 6040/6040 [00:27<00:00, 219.74it/s]\n",
            "100%|██████████| 6040/6040 [00:27<00:00, 220.99it/s]\n",
            "100%|██████████| 6040/6040 [00:14<00:00, 419.00it/s]\n"
          ]
        },
        {
          "output_type": "stream",
          "name": "stdout",
          "text": [
            "epoch 30: loss = 0.1927231316971708, HR@10with_target = 0.49387417218543045, HR@10 = 0.12367549668874173\n"
          ]
        },
        {
          "output_type": "stream",
          "name": "stderr",
          "text": [
            "100%|██████████| 6040/6040 [00:27<00:00, 219.48it/s]\n",
            "100%|██████████| 6040/6040 [00:27<00:00, 219.18it/s]\n",
            "100%|██████████| 6040/6040 [00:27<00:00, 220.35it/s]\n",
            "100%|██████████| 6040/6040 [00:27<00:00, 221.49it/s]\n",
            "100%|██████████| 6040/6040 [00:27<00:00, 220.50it/s]\n",
            "100%|██████████| 6040/6040 [00:14<00:00, 419.76it/s]\n"
          ]
        },
        {
          "output_type": "stream",
          "name": "stdout",
          "text": [
            "epoch 35: loss = 0.15418862322071006, HR@10with_target = 0.47003311258278146, HR@10 = 0.11788079470198676\n"
          ]
        },
        {
          "output_type": "stream",
          "name": "stderr",
          "text": [
            "100%|██████████| 6040/6040 [00:27<00:00, 219.11it/s]\n",
            "100%|██████████| 6040/6040 [00:27<00:00, 219.13it/s]\n",
            "100%|██████████| 6040/6040 [00:27<00:00, 220.17it/s]\n",
            "100%|██████████| 6040/6040 [00:27<00:00, 220.48it/s]\n",
            "100%|██████████| 6040/6040 [00:27<00:00, 221.83it/s]\n",
            "100%|██████████| 6040/6040 [00:14<00:00, 416.60it/s]\n"
          ]
        },
        {
          "output_type": "stream",
          "name": "stdout",
          "text": [
            "epoch 40: loss = 0.12742253584433, HR@10with_target = 0.4600993377483444, HR@10 = 0.11076158940397351\n"
          ]
        },
        {
          "output_type": "stream",
          "name": "stderr",
          "text": [
            "100%|██████████| 6040/6040 [00:27<00:00, 221.00it/s]\n",
            "100%|██████████| 6040/6040 [00:27<00:00, 219.70it/s]\n",
            "100%|██████████| 6040/6040 [00:27<00:00, 219.75it/s]\n",
            "100%|██████████| 6040/6040 [00:27<00:00, 219.61it/s]\n",
            "100%|██████████| 6040/6040 [00:27<00:00, 218.42it/s]\n",
            "100%|██████████| 6040/6040 [00:14<00:00, 404.91it/s]\n"
          ]
        },
        {
          "output_type": "stream",
          "name": "stdout",
          "text": [
            "epoch 45: loss = 0.10657929578587384, HR@10with_target = 0.46192052980132453, HR@10 = 0.11225165562913907\n"
          ]
        },
        {
          "output_type": "stream",
          "name": "stderr",
          "text": [
            "100%|██████████| 6040/6040 [00:27<00:00, 216.09it/s]\n",
            "100%|██████████| 6040/6040 [00:27<00:00, 221.38it/s]\n",
            "100%|██████████| 6040/6040 [00:27<00:00, 220.22it/s]\n",
            "100%|██████████| 6040/6040 [00:27<00:00, 220.56it/s]\n",
            "100%|██████████| 6040/6040 [00:27<00:00, 221.64it/s]\n",
            "100%|██████████| 6040/6040 [00:14<00:00, 424.61it/s]\n"
          ]
        },
        {
          "output_type": "stream",
          "name": "stdout",
          "text": [
            "epoch 50: loss = 0.09242220713487835, HR@10with_target = 0.45794701986754965, HR@10 = 0.11374172185430463\n",
            "\n",
            "Finished Training:\n",
            "Best metrics are:\n",
            "Hit Ratio eval = 0.12367549668874173\n"
          ]
        },
        {
          "output_type": "stream",
          "name": "stderr",
          "text": [
            "100%|██████████| 6040/6040 [00:14<00:00, 418.71it/s]\n",
            "100%|██████████| 6040/6040 [00:29<00:00, 204.65it/s]\n",
            "100%|██████████| 6040/6040 [00:15<00:00, 397.74it/s]\n"
          ]
        },
        {
          "output_type": "stream",
          "name": "stdout",
          "text": [
            "epoch 0: loss = 1.0978964480244051, HR@10with_target = 0.08311258278145696, HR@10 = 0.038741721854304634\n"
          ]
        },
        {
          "output_type": "stream",
          "name": "stderr",
          "text": [
            "100%|██████████| 6040/6040 [00:29<00:00, 202.52it/s]\n",
            "100%|██████████| 6040/6040 [00:30<00:00, 199.98it/s]\n",
            "100%|██████████| 6040/6040 [00:30<00:00, 198.11it/s]\n",
            "100%|██████████| 6040/6040 [00:30<00:00, 200.03it/s]\n",
            "100%|██████████| 6040/6040 [00:29<00:00, 202.62it/s]\n",
            "100%|██████████| 6040/6040 [00:15<00:00, 395.68it/s]\n"
          ]
        },
        {
          "output_type": "stream",
          "name": "stdout",
          "text": [
            "epoch 5: loss = 0.7264048896543078, HR@10with_target = 0.2316225165562914, HR@10 = 0.06837748344370861\n"
          ]
        },
        {
          "output_type": "stream",
          "name": "stderr",
          "text": [
            "100%|██████████| 6040/6040 [00:30<00:00, 199.72it/s]\n",
            "100%|██████████| 6040/6040 [00:30<00:00, 197.94it/s]\n",
            "100%|██████████| 6040/6040 [00:29<00:00, 202.01it/s]\n",
            "100%|██████████| 6040/6040 [00:29<00:00, 201.96it/s]\n",
            "100%|██████████| 6040/6040 [00:29<00:00, 203.18it/s]\n",
            "100%|██████████| 6040/6040 [00:14<00:00, 403.79it/s]\n"
          ]
        },
        {
          "output_type": "stream",
          "name": "stdout",
          "text": [
            "epoch 10: loss = 0.5273249165557042, HR@10with_target = 0.37350993377483444, HR@10 = 0.09271523178807947\n"
          ]
        },
        {
          "output_type": "stream",
          "name": "stderr",
          "text": [
            "100%|██████████| 6040/6040 [00:30<00:00, 195.15it/s]\n",
            "100%|██████████| 6040/6040 [00:29<00:00, 203.18it/s]\n",
            "100%|██████████| 6040/6040 [00:30<00:00, 200.53it/s]\n",
            "100%|██████████| 6040/6040 [00:29<00:00, 201.87it/s]\n",
            "100%|██████████| 6040/6040 [00:30<00:00, 200.70it/s]\n",
            "100%|██████████| 6040/6040 [00:15<00:00, 391.06it/s]\n"
          ]
        },
        {
          "output_type": "stream",
          "name": "stdout",
          "text": [
            "epoch 15: loss = 0.3912064177351309, HR@10with_target = 0.45264900662251656, HR@10 = 0.10910596026490066\n"
          ]
        },
        {
          "output_type": "stream",
          "name": "stderr",
          "text": [
            "100%|██████████| 6040/6040 [00:30<00:00, 200.65it/s]\n",
            "100%|██████████| 6040/6040 [00:29<00:00, 202.52it/s]\n",
            "100%|██████████| 6040/6040 [00:29<00:00, 201.96it/s]\n",
            "100%|██████████| 6040/6040 [00:29<00:00, 203.99it/s]\n",
            "100%|██████████| 6040/6040 [00:30<00:00, 197.73it/s]\n",
            "100%|██████████| 6040/6040 [00:15<00:00, 394.61it/s]\n"
          ]
        },
        {
          "output_type": "stream",
          "name": "stdout",
          "text": [
            "epoch 20: loss = 0.2909012402093499, HR@10with_target = 0.46125827814569537, HR@10 = 0.11357615894039735\n"
          ]
        },
        {
          "output_type": "stream",
          "name": "stderr",
          "text": [
            "100%|██████████| 6040/6040 [00:29<00:00, 202.03it/s]\n",
            "100%|██████████| 6040/6040 [00:29<00:00, 203.10it/s]\n",
            "100%|██████████| 6040/6040 [00:30<00:00, 200.82it/s]\n",
            "100%|██████████| 6040/6040 [00:30<00:00, 197.46it/s]\n",
            "100%|██████████| 6040/6040 [00:30<00:00, 199.78it/s]\n",
            "100%|██████████| 6040/6040 [00:15<00:00, 390.12it/s]\n"
          ]
        },
        {
          "output_type": "stream",
          "name": "stdout",
          "text": [
            "epoch 25: loss = 0.21664529860121712, HR@10with_target = 0.4552980132450331, HR@10 = 0.11158940397350993\n"
          ]
        },
        {
          "output_type": "stream",
          "name": "stderr",
          "text": [
            "100%|██████████| 6040/6040 [00:31<00:00, 194.08it/s]\n",
            "100%|██████████| 6040/6040 [00:30<00:00, 200.80it/s]\n",
            "100%|██████████| 6040/6040 [00:31<00:00, 194.24it/s]\n",
            "100%|██████████| 6040/6040 [00:30<00:00, 199.13it/s]\n",
            "100%|██████████| 6040/6040 [00:29<00:00, 202.45it/s]\n",
            "100%|██████████| 6040/6040 [00:15<00:00, 402.58it/s]\n"
          ]
        },
        {
          "output_type": "stream",
          "name": "stdout",
          "text": [
            "epoch 30: loss = 0.16455641414581335, HR@10with_target = 0.43559602649006623, HR@10 = 0.11821192052980133\n"
          ]
        },
        {
          "output_type": "stream",
          "name": "stderr",
          "text": [
            "100%|██████████| 6040/6040 [00:29<00:00, 201.73it/s]\n",
            "100%|██████████| 6040/6040 [00:30<00:00, 196.37it/s]\n",
            "100%|██████████| 6040/6040 [00:30<00:00, 199.09it/s]\n",
            "100%|██████████| 6040/6040 [00:29<00:00, 202.52it/s]\n",
            "100%|██████████| 6040/6040 [00:30<00:00, 200.49it/s]\n",
            "100%|██████████| 6040/6040 [00:15<00:00, 399.93it/s]\n"
          ]
        },
        {
          "output_type": "stream",
          "name": "stdout",
          "text": [
            "epoch 35: loss = 0.12675607167170871, HR@10with_target = 0.42450331125827817, HR@10 = 0.11556291390728476\n"
          ]
        },
        {
          "output_type": "stream",
          "name": "stderr",
          "text": [
            "100%|██████████| 6040/6040 [00:30<00:00, 198.23it/s]\n",
            "100%|██████████| 6040/6040 [00:30<00:00, 198.85it/s]\n",
            "100%|██████████| 6040/6040 [00:30<00:00, 201.15it/s]\n",
            "100%|██████████| 6040/6040 [00:29<00:00, 201.57it/s]\n",
            "100%|██████████| 6040/6040 [00:30<00:00, 200.58it/s]\n",
            "100%|██████████| 6040/6040 [00:15<00:00, 383.02it/s]\n"
          ]
        },
        {
          "output_type": "stream",
          "name": "stdout",
          "text": [
            "epoch 40: loss = 0.10179412008647437, HR@10with_target = 0.4120860927152318, HR@10 = 0.1185430463576159\n"
          ]
        },
        {
          "output_type": "stream",
          "name": "stderr",
          "text": [
            "100%|██████████| 6040/6040 [00:30<00:00, 197.40it/s]\n",
            "100%|██████████| 6040/6040 [00:30<00:00, 200.22it/s]\n",
            "100%|██████████| 6040/6040 [00:29<00:00, 201.65it/s]\n",
            "100%|██████████| 6040/6040 [00:30<00:00, 201.11it/s]\n",
            "100%|██████████| 6040/6040 [00:30<00:00, 196.98it/s]\n",
            "100%|██████████| 6040/6040 [00:15<00:00, 393.42it/s]\n"
          ]
        },
        {
          "output_type": "stream",
          "name": "stdout",
          "text": [
            "epoch 45: loss = 0.08460325384395707, HR@10with_target = 0.3923841059602649, HR@10 = 0.11556291390728476\n"
          ]
        },
        {
          "output_type": "stream",
          "name": "stderr",
          "text": [
            "100%|██████████| 6040/6040 [00:29<00:00, 203.16it/s]\n",
            "100%|██████████| 6040/6040 [00:29<00:00, 201.67it/s]\n",
            "100%|██████████| 6040/6040 [00:29<00:00, 204.80it/s]\n",
            "100%|██████████| 6040/6040 [00:29<00:00, 202.85it/s]\n",
            "100%|██████████| 6040/6040 [00:30<00:00, 199.82it/s]\n",
            "100%|██████████| 6040/6040 [00:14<00:00, 403.27it/s]\n"
          ]
        },
        {
          "output_type": "stream",
          "name": "stdout",
          "text": [
            "epoch 50: loss = 0.07314226906080792, HR@10with_target = 0.37996688741721857, HR@10 = 0.11556291390728476\n",
            "\n",
            "Finished Training:\n",
            "Best metrics are:\n",
            "Hit Ratio eval = 0.1185430463576159\n"
          ]
        },
        {
          "output_type": "stream",
          "name": "stderr",
          "text": [
            "100%|██████████| 6040/6040 [00:15<00:00, 396.48it/s]\n",
            "100%|██████████| 6040/6040 [00:37<00:00, 162.48it/s]\n",
            "100%|██████████| 6040/6040 [00:15<00:00, 384.19it/s]\n"
          ]
        },
        {
          "output_type": "stream",
          "name": "stdout",
          "text": [
            "epoch 0: loss = 1.1012152789794394, HR@10with_target = 0.07996688741721854, HR@10 = 0.0423841059602649\n"
          ]
        },
        {
          "output_type": "stream",
          "name": "stderr",
          "text": [
            "100%|██████████| 6040/6040 [00:37<00:00, 163.04it/s]\n",
            "100%|██████████| 6040/6040 [00:37<00:00, 161.94it/s]\n",
            "100%|██████████| 6040/6040 [00:37<00:00, 162.28it/s]\n",
            "100%|██████████| 6040/6040 [00:37<00:00, 160.58it/s]\n",
            "100%|██████████| 6040/6040 [00:36<00:00, 164.51it/s]\n",
            "100%|██████████| 6040/6040 [00:15<00:00, 383.18it/s]\n"
          ]
        },
        {
          "output_type": "stream",
          "name": "stdout",
          "text": [
            "epoch 5: loss = 0.7172707318640856, HR@10with_target = 0.23874172185430464, HR@10 = 0.07201986754966887\n"
          ]
        },
        {
          "output_type": "stream",
          "name": "stderr",
          "text": [
            "100%|██████████| 6040/6040 [00:36<00:00, 164.58it/s]\n",
            "100%|██████████| 6040/6040 [00:37<00:00, 162.32it/s]\n",
            "100%|██████████| 6040/6040 [00:37<00:00, 162.09it/s]\n",
            "100%|██████████| 6040/6040 [00:36<00:00, 164.51it/s]\n",
            "100%|██████████| 6040/6040 [00:36<00:00, 163.52it/s]\n",
            "100%|██████████| 6040/6040 [00:15<00:00, 395.58it/s]\n"
          ]
        },
        {
          "output_type": "stream",
          "name": "stdout",
          "text": [
            "epoch 10: loss = 0.5121580674786882, HR@10with_target = 0.36324503311258277, HR@10 = 0.08874172185430464\n"
          ]
        },
        {
          "output_type": "stream",
          "name": "stderr",
          "text": [
            "100%|██████████| 6040/6040 [00:37<00:00, 160.86it/s]\n",
            "100%|██████████| 6040/6040 [00:37<00:00, 162.75it/s]\n",
            "100%|██████████| 6040/6040 [00:37<00:00, 161.57it/s]\n",
            "100%|██████████| 6040/6040 [00:37<00:00, 162.95it/s]\n",
            "100%|██████████| 6040/6040 [00:37<00:00, 161.05it/s]\n",
            "100%|██████████| 6040/6040 [00:15<00:00, 397.97it/s]\n"
          ]
        },
        {
          "output_type": "stream",
          "name": "stdout",
          "text": [
            "epoch 15: loss = 0.3727389885891666, HR@10with_target = 0.47516556291390727, HR@10 = 0.10860927152317881\n"
          ]
        },
        {
          "output_type": "stream",
          "name": "stderr",
          "text": [
            "100%|██████████| 6040/6040 [00:37<00:00, 161.51it/s]\n",
            "100%|██████████| 6040/6040 [00:37<00:00, 161.86it/s]\n",
            "100%|██████████| 6040/6040 [00:36<00:00, 163.82it/s]\n",
            "100%|██████████| 6040/6040 [00:37<00:00, 162.05it/s]\n",
            "100%|██████████| 6040/6040 [00:37<00:00, 163.04it/s]\n",
            "100%|██████████| 6040/6040 [00:14<00:00, 403.38it/s]\n"
          ]
        },
        {
          "output_type": "stream",
          "name": "stdout",
          "text": [
            "epoch 20: loss = 0.273179836660493, HR@10with_target = 0.4687086092715232, HR@10 = 0.10960264900662252\n"
          ]
        },
        {
          "output_type": "stream",
          "name": "stderr",
          "text": [
            "100%|██████████| 6040/6040 [00:37<00:00, 162.68it/s]\n",
            "100%|██████████| 6040/6040 [00:36<00:00, 164.50it/s]\n",
            "100%|██████████| 6040/6040 [00:36<00:00, 163.66it/s]\n",
            "100%|██████████| 6040/6040 [00:36<00:00, 163.67it/s]\n",
            "100%|██████████| 6040/6040 [00:36<00:00, 165.73it/s]\n",
            "100%|██████████| 6040/6040 [00:14<00:00, 406.92it/s]\n"
          ]
        },
        {
          "output_type": "stream",
          "name": "stdout",
          "text": [
            "epoch 25: loss = 0.20432486885561424, HR@10with_target = 0.45248344370860927, HR@10 = 0.1162251655629139\n"
          ]
        },
        {
          "output_type": "stream",
          "name": "stderr",
          "text": [
            "100%|██████████| 6040/6040 [00:36<00:00, 166.29it/s]\n",
            "100%|██████████| 6040/6040 [00:36<00:00, 163.34it/s]\n",
            "100%|██████████| 6040/6040 [00:37<00:00, 161.67it/s]\n",
            "100%|██████████| 6040/6040 [00:37<00:00, 162.37it/s]\n",
            "100%|██████████| 6040/6040 [00:36<00:00, 165.65it/s]\n",
            "100%|██████████| 6040/6040 [00:15<00:00, 388.43it/s]\n"
          ]
        },
        {
          "output_type": "stream",
          "name": "stdout",
          "text": [
            "epoch 30: loss = 0.15728935474920963, HR@10with_target = 0.4644039735099338, HR@10 = 0.11357615894039735\n"
          ]
        },
        {
          "output_type": "stream",
          "name": "stderr",
          "text": [
            "100%|██████████| 6040/6040 [00:36<00:00, 164.23it/s]\n",
            "100%|██████████| 6040/6040 [00:37<00:00, 163.00it/s]\n",
            "100%|██████████| 6040/6040 [00:37<00:00, 162.53it/s]\n",
            "100%|██████████| 6040/6040 [00:36<00:00, 165.39it/s]\n",
            "100%|██████████| 6040/6040 [00:36<00:00, 163.74it/s]\n",
            "100%|██████████| 6040/6040 [00:15<00:00, 400.67it/s]\n"
          ]
        },
        {
          "output_type": "stream",
          "name": "stdout",
          "text": [
            "epoch 35: loss = 0.12694815658108538, HR@10with_target = 0.45049668874172183, HR@10 = 0.11672185430463576\n"
          ]
        },
        {
          "output_type": "stream",
          "name": "stderr",
          "text": [
            "100%|██████████| 6040/6040 [00:37<00:00, 163.23it/s]\n",
            "100%|██████████| 6040/6040 [00:37<00:00, 162.92it/s]\n",
            "100%|██████████| 6040/6040 [00:36<00:00, 164.94it/s]\n",
            "100%|██████████| 6040/6040 [00:37<00:00, 162.43it/s]\n",
            "100%|██████████| 6040/6040 [00:36<00:00, 163.48it/s]\n",
            "100%|██████████| 6040/6040 [00:14<00:00, 404.49it/s]\n"
          ]
        },
        {
          "output_type": "stream",
          "name": "stdout",
          "text": [
            "epoch 40: loss = 0.10501115748445805, HR@10with_target = 0.3912251655629139, HR@10 = 0.11009933774834436\n"
          ]
        },
        {
          "output_type": "stream",
          "name": "stderr",
          "text": [
            "100%|██████████| 6040/6040 [00:37<00:00, 162.90it/s]\n",
            "100%|██████████| 6040/6040 [00:36<00:00, 166.32it/s]\n",
            "100%|██████████| 6040/6040 [00:36<00:00, 164.11it/s]\n",
            "100%|██████████| 6040/6040 [00:36<00:00, 164.65it/s]\n",
            "100%|██████████| 6040/6040 [00:36<00:00, 166.20it/s]\n",
            "100%|██████████| 6040/6040 [00:15<00:00, 391.84it/s]\n"
          ]
        },
        {
          "output_type": "stream",
          "name": "stdout",
          "text": [
            "epoch 45: loss = 0.09580192040343626, HR@10with_target = 0.3935430463576159, HR@10 = 0.11341059602649006\n"
          ]
        },
        {
          "output_type": "stream",
          "name": "stderr",
          "text": [
            "100%|██████████| 6040/6040 [00:36<00:00, 167.51it/s]\n",
            "100%|██████████| 6040/6040 [00:36<00:00, 164.38it/s]\n",
            "100%|██████████| 6040/6040 [00:36<00:00, 164.98it/s]\n",
            "100%|██████████| 6040/6040 [00:36<00:00, 165.62it/s]\n",
            "100%|██████████| 6040/6040 [00:36<00:00, 166.62it/s]\n",
            "100%|██████████| 6040/6040 [00:14<00:00, 410.16it/s]\n"
          ]
        },
        {
          "output_type": "stream",
          "name": "stdout",
          "text": [
            "epoch 50: loss = 0.07979786529207127, HR@10with_target = 0.38658940397350994, HR@10 = 0.11440397350993377\n",
            "\n",
            "Finished Training:\n",
            "Best metrics are:\n",
            "Hit Ratio eval = 0.11672185430463576\n"
          ]
        },
        {
          "output_type": "stream",
          "name": "stderr",
          "text": [
            "100%|██████████| 6040/6040 [00:14<00:00, 404.40it/s]\n"
          ]
        }
      ]
    },
    {
      "cell_type": "code",
      "source": [
        "results"
      ],
      "metadata": {
        "colab": {
          "base_uri": "https://localhost:8080/",
          "height": 425
        },
        "id": "FTz85D5V6cUv",
        "outputId": "6319380f-f989-4c30-b147-3ef8afae0c91"
      },
      "execution_count": null,
      "outputs": [
        {
          "output_type": "execute_result",
          "data": {
            "text/plain": [
              "   maximal width Batch Size  Learning Rate Topk          Metric        Score\n",
              "0            256        101          0.001    0            TIME  1587.149347\n",
              "1            256        101          0.001   10              HR     0.106623\n",
              "2            256        101          0.001   10  HR_with_target     0.437583\n",
              "3            512        101          0.001    0            TIME  1750.902994\n",
              "4            512        101          0.001   10              HR     0.123675\n",
              "5            512        101          0.001   10  HR_with_target     0.493874\n",
              "6           1024        101          0.001    0            TIME  1705.056161\n",
              "7           1024        101          0.001   10              HR     0.118543\n",
              "8           1024        101          0.001   10  HR_with_target     0.412086\n",
              "9           2048        101          0.001    0            TIME  2051.424432\n",
              "10          2048        101          0.001   10              HR     0.116722\n",
              "11          2048        101          0.001   10  HR_with_target     0.450497"
            ],
            "text/html": [
              "\n",
              "  <div id=\"df-f3dd850f-bf8b-48a6-8bfe-fd624abde60a\">\n",
              "    <div class=\"colab-df-container\">\n",
              "      <div>\n",
              "<style scoped>\n",
              "    .dataframe tbody tr th:only-of-type {\n",
              "        vertical-align: middle;\n",
              "    }\n",
              "\n",
              "    .dataframe tbody tr th {\n",
              "        vertical-align: top;\n",
              "    }\n",
              "\n",
              "    .dataframe thead th {\n",
              "        text-align: right;\n",
              "    }\n",
              "</style>\n",
              "<table border=\"1\" class=\"dataframe\">\n",
              "  <thead>\n",
              "    <tr style=\"text-align: right;\">\n",
              "      <th></th>\n",
              "      <th>maximal width</th>\n",
              "      <th>Batch Size</th>\n",
              "      <th>Learning Rate</th>\n",
              "      <th>Topk</th>\n",
              "      <th>Metric</th>\n",
              "      <th>Score</th>\n",
              "    </tr>\n",
              "  </thead>\n",
              "  <tbody>\n",
              "    <tr>\n",
              "      <th>0</th>\n",
              "      <td>256</td>\n",
              "      <td>101</td>\n",
              "      <td>0.001</td>\n",
              "      <td>0</td>\n",
              "      <td>TIME</td>\n",
              "      <td>1587.149347</td>\n",
              "    </tr>\n",
              "    <tr>\n",
              "      <th>1</th>\n",
              "      <td>256</td>\n",
              "      <td>101</td>\n",
              "      <td>0.001</td>\n",
              "      <td>10</td>\n",
              "      <td>HR</td>\n",
              "      <td>0.106623</td>\n",
              "    </tr>\n",
              "    <tr>\n",
              "      <th>2</th>\n",
              "      <td>256</td>\n",
              "      <td>101</td>\n",
              "      <td>0.001</td>\n",
              "      <td>10</td>\n",
              "      <td>HR_with_target</td>\n",
              "      <td>0.437583</td>\n",
              "    </tr>\n",
              "    <tr>\n",
              "      <th>3</th>\n",
              "      <td>512</td>\n",
              "      <td>101</td>\n",
              "      <td>0.001</td>\n",
              "      <td>0</td>\n",
              "      <td>TIME</td>\n",
              "      <td>1750.902994</td>\n",
              "    </tr>\n",
              "    <tr>\n",
              "      <th>4</th>\n",
              "      <td>512</td>\n",
              "      <td>101</td>\n",
              "      <td>0.001</td>\n",
              "      <td>10</td>\n",
              "      <td>HR</td>\n",
              "      <td>0.123675</td>\n",
              "    </tr>\n",
              "    <tr>\n",
              "      <th>5</th>\n",
              "      <td>512</td>\n",
              "      <td>101</td>\n",
              "      <td>0.001</td>\n",
              "      <td>10</td>\n",
              "      <td>HR_with_target</td>\n",
              "      <td>0.493874</td>\n",
              "    </tr>\n",
              "    <tr>\n",
              "      <th>6</th>\n",
              "      <td>1024</td>\n",
              "      <td>101</td>\n",
              "      <td>0.001</td>\n",
              "      <td>0</td>\n",
              "      <td>TIME</td>\n",
              "      <td>1705.056161</td>\n",
              "    </tr>\n",
              "    <tr>\n",
              "      <th>7</th>\n",
              "      <td>1024</td>\n",
              "      <td>101</td>\n",
              "      <td>0.001</td>\n",
              "      <td>10</td>\n",
              "      <td>HR</td>\n",
              "      <td>0.118543</td>\n",
              "    </tr>\n",
              "    <tr>\n",
              "      <th>8</th>\n",
              "      <td>1024</td>\n",
              "      <td>101</td>\n",
              "      <td>0.001</td>\n",
              "      <td>10</td>\n",
              "      <td>HR_with_target</td>\n",
              "      <td>0.412086</td>\n",
              "    </tr>\n",
              "    <tr>\n",
              "      <th>9</th>\n",
              "      <td>2048</td>\n",
              "      <td>101</td>\n",
              "      <td>0.001</td>\n",
              "      <td>0</td>\n",
              "      <td>TIME</td>\n",
              "      <td>2051.424432</td>\n",
              "    </tr>\n",
              "    <tr>\n",
              "      <th>10</th>\n",
              "      <td>2048</td>\n",
              "      <td>101</td>\n",
              "      <td>0.001</td>\n",
              "      <td>10</td>\n",
              "      <td>HR</td>\n",
              "      <td>0.116722</td>\n",
              "    </tr>\n",
              "    <tr>\n",
              "      <th>11</th>\n",
              "      <td>2048</td>\n",
              "      <td>101</td>\n",
              "      <td>0.001</td>\n",
              "      <td>10</td>\n",
              "      <td>HR_with_target</td>\n",
              "      <td>0.450497</td>\n",
              "    </tr>\n",
              "  </tbody>\n",
              "</table>\n",
              "</div>\n",
              "      <button class=\"colab-df-convert\" onclick=\"convertToInteractive('df-f3dd850f-bf8b-48a6-8bfe-fd624abde60a')\"\n",
              "              title=\"Convert this dataframe to an interactive table.\"\n",
              "              style=\"display:none;\">\n",
              "        \n",
              "  <svg xmlns=\"http://www.w3.org/2000/svg\" height=\"24px\"viewBox=\"0 0 24 24\"\n",
              "       width=\"24px\">\n",
              "    <path d=\"M0 0h24v24H0V0z\" fill=\"none\"/>\n",
              "    <path d=\"M18.56 5.44l.94 2.06.94-2.06 2.06-.94-2.06-.94-.94-2.06-.94 2.06-2.06.94zm-11 1L8.5 8.5l.94-2.06 2.06-.94-2.06-.94L8.5 2.5l-.94 2.06-2.06.94zm10 10l.94 2.06.94-2.06 2.06-.94-2.06-.94-.94-2.06-.94 2.06-2.06.94z\"/><path d=\"M17.41 7.96l-1.37-1.37c-.4-.4-.92-.59-1.43-.59-.52 0-1.04.2-1.43.59L10.3 9.45l-7.72 7.72c-.78.78-.78 2.05 0 2.83L4 21.41c.39.39.9.59 1.41.59.51 0 1.02-.2 1.41-.59l7.78-7.78 2.81-2.81c.8-.78.8-2.07 0-2.86zM5.41 20L4 18.59l7.72-7.72 1.47 1.35L5.41 20z\"/>\n",
              "  </svg>\n",
              "      </button>\n",
              "      \n",
              "  <style>\n",
              "    .colab-df-container {\n",
              "      display:flex;\n",
              "      flex-wrap:wrap;\n",
              "      gap: 12px;\n",
              "    }\n",
              "\n",
              "    .colab-df-convert {\n",
              "      background-color: #E8F0FE;\n",
              "      border: none;\n",
              "      border-radius: 50%;\n",
              "      cursor: pointer;\n",
              "      display: none;\n",
              "      fill: #1967D2;\n",
              "      height: 32px;\n",
              "      padding: 0 0 0 0;\n",
              "      width: 32px;\n",
              "    }\n",
              "\n",
              "    .colab-df-convert:hover {\n",
              "      background-color: #E2EBFA;\n",
              "      box-shadow: 0px 1px 2px rgba(60, 64, 67, 0.3), 0px 1px 3px 1px rgba(60, 64, 67, 0.15);\n",
              "      fill: #174EA6;\n",
              "    }\n",
              "\n",
              "    [theme=dark] .colab-df-convert {\n",
              "      background-color: #3B4455;\n",
              "      fill: #D2E3FC;\n",
              "    }\n",
              "\n",
              "    [theme=dark] .colab-df-convert:hover {\n",
              "      background-color: #434B5C;\n",
              "      box-shadow: 0px 1px 3px 1px rgba(0, 0, 0, 0.15);\n",
              "      filter: drop-shadow(0px 1px 2px rgba(0, 0, 0, 0.3));\n",
              "      fill: #FFFFFF;\n",
              "    }\n",
              "  </style>\n",
              "\n",
              "      <script>\n",
              "        const buttonEl =\n",
              "          document.querySelector('#df-f3dd850f-bf8b-48a6-8bfe-fd624abde60a button.colab-df-convert');\n",
              "        buttonEl.style.display =\n",
              "          google.colab.kernel.accessAllowed ? 'block' : 'none';\n",
              "\n",
              "        async function convertToInteractive(key) {\n",
              "          const element = document.querySelector('#df-f3dd850f-bf8b-48a6-8bfe-fd624abde60a');\n",
              "          const dataTable =\n",
              "            await google.colab.kernel.invokeFunction('convertToInteractive',\n",
              "                                                     [key], {});\n",
              "          if (!dataTable) return;\n",
              "\n",
              "          const docLinkHtml = 'Like what you see? Visit the ' +\n",
              "            '<a target=\"_blank\" href=https://colab.research.google.com/notebooks/data_table.ipynb>data table notebook</a>'\n",
              "            + ' to learn more about interactive tables.';\n",
              "          element.innerHTML = '';\n",
              "          dataTable['output_type'] = 'display_data';\n",
              "          await google.colab.output.renderOutput(dataTable, element);\n",
              "          const docLink = document.createElement('div');\n",
              "          docLink.innerHTML = docLinkHtml;\n",
              "          element.appendChild(docLink);\n",
              "        }\n",
              "      </script>\n",
              "    </div>\n",
              "  </div>\n",
              "  "
            ]
          },
          "metadata": {},
          "execution_count": 20
        }
      ]
    },
    {
      "cell_type": "code",
      "source": [
        "# path = './drive/My Drive/Colab Notebooks/recsys_final_ranking_by_layers'\n",
        "# with open(path, 'wb') as f:\n",
        "#   pickle.dump((results), f)"
      ],
      "metadata": {
        "id": "CgR_CS7Sl2gJ"
      },
      "execution_count": null,
      "outputs": []
    },
    {
      "cell_type": "code",
      "source": [
        "# path = './drive/My Drive/Colab Notebooks/recsys_final_ranking_by_layers'\n",
        "# with open(path , 'rb') as f:\n",
        "#   (results) = pickle.load(f)\n",
        "#   # print('loaded results')"
      ],
      "metadata": {
        "id": "jB3ekK8UnHFH"
      },
      "execution_count": null,
      "outputs": []
    },
    {
      "cell_type": "code",
      "source": [
        "url = \"https://drive.google.com/file/d/1yjFe6EgK1o-q79yRu-mjUElUtygdH6Au/view?usp=sharing\"\n",
        "hyper_results_path = 'hyper_results'\n",
        "gdown.download(url, hyper_results_path, quiet=False,fuzzy=True)\n",
        "\n",
        "# path = './drive/My Drive/Colab Notebooks/recsys_final_ranking_by_layers'\n",
        "with open(hyper_results_path , 'rb') as f:\n",
        "  (results) = pickle.load(f)\n",
        "  # print('loaded results')"
      ],
      "metadata": {
        "colab": {
          "base_uri": "https://localhost:8080/"
        },
        "id": "Y6kvDNptvhvW",
        "outputId": "91b924d4-42e9-486e-af71-de1f7adddd5b"
      },
      "execution_count": 7,
      "outputs": [
        {
          "output_type": "stream",
          "name": "stderr",
          "text": [
            "Downloading...\n",
            "From: https://drive.google.com/uc?id=1yjFe6EgK1o-q79yRu-mjUElUtygdH6Au\n",
            "To: /content/hyper_results\n",
            "100%|██████████| 1.51k/1.51k [00:00<00:00, 4.41MB/s]\n"
          ]
        }
      ]
    },
    {
      "cell_type": "code",
      "source": [
        "fig, (ax1, ax2) = plt.subplots(1, 2, figsize=(14,5))\n",
        "HR_results = results[(results['Metric'] == 'HR')]\n",
        "HR_results_with_target = results[(results['Metric'] == 'HR_with_target')]\n",
        "r = sns.lineplot(data = HR_results, x = 'maximal width', y = 'Score', hue = 'Metric', ax = ax1, marker=\"o\", linewidth = 2, markersize=10)\n",
        "ax1.set_title('HR@10 vs MLP size')\n",
        "r = sns.lineplot(data = HR_results_with_target, x = 'maximal width', y = 'Score', hue = 'Metric', ax = ax2, marker=\"o\", linewidth = 2, markersize=10)\n",
        "ax2.set_title('HR@10 vs MLP size with added target')"
      ],
      "metadata": {
        "colab": {
          "base_uri": "https://localhost:8080/",
          "height": 368
        },
        "id": "J6tGo7_Sn_8J",
        "outputId": "a846df58-fac3-4ab0-e41c-179ce09acbe8"
      },
      "execution_count": null,
      "outputs": [
        {
          "output_type": "execute_result",
          "data": {
            "text/plain": [
              "Text(0.5, 1.0, 'HR@10 vs MLP size with added target')"
            ]
          },
          "metadata": {},
          "execution_count": 5
        },
        {
          "output_type": "display_data",
          "data": {
            "text/plain": [
              "<Figure size 1008x360 with 2 Axes>"
            ],
            "image/png": "[encoded data removed]"
          },
          "metadata": {
            "needs_background": "light"
          }
        }
      ]
    },
    {
      "cell_type": "markdown",
      "source": [
        "###Best performance model\n",
        "As we can see, the two layers model is found to give the best results: 512->256\\\n",
        "We then run a model with continuous evaluation and finally, evaluate it on the test set."
      ],
      "metadata": {
        "id": "NNSrhcCSrIg5"
      }
    },
    {
      "cell_type": "code",
      "source": [
        "best_results = pd.DataFrame(columns=['maximal width', 'Batch Size', 'Learning Rate', 'Topk', 'Metric', 'Score']) #uncomment to run"
      ],
      "metadata": {
        "id": "JFhN0LMPpAzx"
      },
      "execution_count": null,
      "outputs": []
    },
    {
      "cell_type": "code",
      "source": [
        "def add_results_all(training_model, results_df, max_width, batch_size, lr):\n",
        "\n",
        "  # loss = training_model.epoch_eval_loss/len(training_model.dl_val)\n",
        "  hr5 = training_model.epoch_HR5/len(training_model.dl_val)\n",
        "  hr10 = training_model.epoch_HR10/len(training_model.dl_val)\n",
        "  mrr5 = training_model.epoch_MRR5/len(training_model.dl_val)\n",
        "  mrr10 = training_model.epoch_MRR10/len(training_model.dl_val)\n",
        "  ndcg5 = training_model.epoch_NDCG5/len(training_model.dl_val)\n",
        "  ndcg10 = training_model.epoch_NDCG10/len(training_model.dl_val)\n",
        "  tr_time = training_model.training_time\n",
        "\n",
        "  # results_df.loc[len(results_df)] = max_width, batch_size, lr, 0, 'LOSS', loss\n",
        "  results_df.loc[len(results_df)] = max_width, batch_size, lr, 0, 'TIME', tr_time\n",
        "  results_df.loc[len(results_df)] = max_width, batch_size, lr, 5, 'HR' , hr5\n",
        "  results_df.loc[len(results_df)] = max_width, batch_size, lr, 10, 'HR', hr10\n",
        "  results_df.loc[len(results_df)] = max_width, batch_size, lr, 5, 'MRR', mrr5\n",
        "  results_df.loc[len(results_df)] = max_width, batch_size, lr, 10, 'MRR', mrr10\n",
        "  results_df.loc[len(results_df)] = max_width, batch_size, lr, 5, 'NDCG', ndcg5\n",
        "  results_df.loc[len(results_df)] = max_width, batch_size, lr, 10, 'NDCG', ndcg10"
      ],
      "metadata": {
        "id": "iiuHGIWqpFla"
      },
      "execution_count": null,
      "outputs": []
    },
    {
      "cell_type": "code",
      "source": [
        "torch.manual_seed(42)\n",
        "np.random.seed(42)\n",
        "max_width = 512\n",
        "batch_size = n_candidates + 1\n",
        "dl_test = DataLoader(test_ranking, batch_size=batch_size, shuffle=False)\n",
        "lr = 0.001\n",
        "ranking_config = {'num_items': 3953, 'max_watches': 50, 'latent_dim': 256, 'features_dim': 534, 'layers':[512, 256]}\n",
        "model_ranking = Ranking(ranking_config)\n",
        "\n",
        "training_config = {'batch_size': batch_size, 'optimizer_type': Adam, 'optimizer_parameter': {'lr': lr}, \\\n",
        "                'criterion' : torch.nn.BCEWithLogitsLoss, 'n_epochs' : 61, 'early_stopping' : 8, 'verbose' : True, 'device' : device}\n",
        "\n",
        "training_ranking = Training(model_ranking, training_config)\n",
        "training_ranking.train()\n",
        "training_ranking.evaluate_epoch(dl_test)\n",
        "add_results_all(training_ranking, best_results, max_width, batch_size, lr)"
      ],
      "metadata": {
        "id": "xX9n0aZmNgEr",
        "colab": {
          "base_uri": "https://localhost:8080/"
        },
        "outputId": "ce2fac22-7c68-4188-f19e-60d4304721c0"
      },
      "execution_count": null,
      "outputs": [
        {
          "output_type": "stream",
          "name": "stderr",
          "text": [
            "100%|██████████| 6040/6040 [00:26<00:00, 228.77it/s]\n",
            "100%|██████████| 6040/6040 [00:20<00:00, 296.93it/s]\n"
          ]
        },
        {
          "output_type": "stream",
          "name": "stdout",
          "text": [
            "epoch 0: loss = 1.0940786187497233, HR@10with_target = 0.07582781456953643, HR@10 = 0.041225165562913904\n"
          ]
        },
        {
          "output_type": "stream",
          "name": "stderr",
          "text": [
            "100%|██████████| 6040/6040 [00:26<00:00, 229.96it/s]\n",
            "100%|██████████| 6040/6040 [00:20<00:00, 296.28it/s]\n"
          ]
        },
        {
          "output_type": "stream",
          "name": "stdout",
          "text": [
            "epoch 1: loss = 0.9716102779179069, HR@10with_target = 0.11804635761589403, HR@10 = 0.04718543046357616\n"
          ]
        },
        {
          "output_type": "stream",
          "name": "stderr",
          "text": [
            "100%|██████████| 6040/6040 [00:26<00:00, 227.46it/s]\n",
            "100%|██████████| 6040/6040 [00:20<00:00, 294.42it/s]\n"
          ]
        },
        {
          "output_type": "stream",
          "name": "stdout",
          "text": [
            "epoch 2: loss = 0.9007196526093846, HR@10with_target = 0.15033112582781458, HR@10 = 0.054304635761589407\n"
          ]
        },
        {
          "output_type": "stream",
          "name": "stderr",
          "text": [
            "100%|██████████| 6040/6040 [00:26<00:00, 231.72it/s]\n",
            "100%|██████████| 6040/6040 [00:20<00:00, 296.00it/s]\n"
          ]
        },
        {
          "output_type": "stream",
          "name": "stdout",
          "text": [
            "epoch 3: loss = 0.8420651047282337, HR@10with_target = 0.18162251655629139, HR@10 = 0.06158940397350993\n"
          ]
        },
        {
          "output_type": "stream",
          "name": "stderr",
          "text": [
            "100%|██████████| 6040/6040 [00:26<00:00, 231.00it/s]\n",
            "100%|██████████| 6040/6040 [00:19<00:00, 308.45it/s]\n"
          ]
        },
        {
          "output_type": "stream",
          "name": "stdout",
          "text": [
            "epoch 4: loss = 0.7888030659482708, HR@10with_target = 0.22367549668874173, HR@10 = 0.06771523178807946\n"
          ]
        },
        {
          "output_type": "stream",
          "name": "stderr",
          "text": [
            "100%|██████████| 6040/6040 [00:26<00:00, 226.94it/s]\n",
            "100%|██████████| 6040/6040 [00:20<00:00, 295.53it/s]\n"
          ]
        },
        {
          "output_type": "stream",
          "name": "stdout",
          "text": [
            "epoch 5: loss = 0.7411376302133588, HR@10with_target = 0.2504966887417219, HR@10 = 0.06804635761589405\n"
          ]
        },
        {
          "output_type": "stream",
          "name": "stderr",
          "text": [
            "100%|██████████| 6040/6040 [00:25<00:00, 232.60it/s]\n",
            "100%|██████████| 6040/6040 [00:19<00:00, 305.31it/s]\n"
          ]
        },
        {
          "output_type": "stream",
          "name": "stdout",
          "text": [
            "epoch 6: loss = 0.6967342535409216, HR@10with_target = 0.26688741721854303, HR@10 = 0.076158940397351\n"
          ]
        },
        {
          "output_type": "stream",
          "name": "stderr",
          "text": [
            "100%|██████████| 6040/6040 [00:25<00:00, 234.04it/s]\n",
            "100%|██████████| 6040/6040 [00:20<00:00, 299.02it/s]\n"
          ]
        },
        {
          "output_type": "stream",
          "name": "stdout",
          "text": [
            "epoch 7: loss = 0.6562959303887272, HR@10with_target = 0.2990066225165563, HR@10 = 0.08394039735099337\n"
          ]
        },
        {
          "output_type": "stream",
          "name": "stderr",
          "text": [
            "100%|██████████| 6040/6040 [00:26<00:00, 230.92it/s]\n",
            "100%|██████████| 6040/6040 [00:20<00:00, 294.72it/s]\n"
          ]
        },
        {
          "output_type": "stream",
          "name": "stdout",
          "text": [
            "epoch 8: loss = 0.617731650937129, HR@10with_target = 0.33195364238410596, HR@10 = 0.08559602649006623\n"
          ]
        },
        {
          "output_type": "stream",
          "name": "stderr",
          "text": [
            "100%|██████████| 6040/6040 [00:26<00:00, 228.54it/s]\n",
            "100%|██████████| 6040/6040 [00:19<00:00, 310.38it/s]\n"
          ]
        },
        {
          "output_type": "stream",
          "name": "stdout",
          "text": [
            "epoch 9: loss = 0.5822911763062049, HR@10with_target = 0.36241721854304637, HR@10 = 0.0978476821192053\n"
          ]
        },
        {
          "output_type": "stream",
          "name": "stderr",
          "text": [
            "100%|██████████| 6040/6040 [00:26<00:00, 228.22it/s]\n",
            "100%|██████████| 6040/6040 [00:20<00:00, 297.03it/s]\n"
          ]
        },
        {
          "output_type": "stream",
          "name": "stdout",
          "text": [
            "epoch 10: loss = 0.5489415090972314, HR@10with_target = 0.3653973509933775, HR@10 = 0.09470198675496688\n"
          ]
        },
        {
          "output_type": "stream",
          "name": "stderr",
          "text": [
            "100%|██████████| 6040/6040 [00:25<00:00, 234.56it/s]\n",
            "100%|██████████| 6040/6040 [00:19<00:00, 307.31it/s]\n"
          ]
        },
        {
          "output_type": "stream",
          "name": "stdout",
          "text": [
            "epoch 11: loss = 0.5184509465441842, HR@10with_target = 0.35380794701986756, HR@10 = 0.09602649006622517\n"
          ]
        },
        {
          "output_type": "stream",
          "name": "stderr",
          "text": [
            "100%|██████████| 6040/6040 [00:26<00:00, 232.13it/s]\n",
            "100%|██████████| 6040/6040 [00:19<00:00, 313.08it/s]\n"
          ]
        },
        {
          "output_type": "stream",
          "name": "stdout",
          "text": [
            "epoch 12: loss = 0.48947572758423524, HR@10with_target = 0.38559602649006625, HR@10 = 0.09635761589403974\n"
          ]
        },
        {
          "output_type": "stream",
          "name": "stderr",
          "text": [
            "100%|██████████| 6040/6040 [00:27<00:00, 217.86it/s]\n",
            "100%|██████████| 6040/6040 [00:20<00:00, 297.50it/s]\n"
          ]
        },
        {
          "output_type": "stream",
          "name": "stdout",
          "text": [
            "epoch 13: loss = 0.46347162387534724, HR@10with_target = 0.41456953642384103, HR@10 = 0.10248344370860928\n"
          ]
        },
        {
          "output_type": "stream",
          "name": "stderr",
          "text": [
            "100%|██████████| 6040/6040 [00:26<00:00, 226.08it/s]\n",
            "100%|██████████| 6040/6040 [00:19<00:00, 309.53it/s]\n"
          ]
        },
        {
          "output_type": "stream",
          "name": "stdout",
          "text": [
            "epoch 14: loss = 0.43731647420529, HR@10with_target = 0.45264900662251656, HR@10 = 0.10397350993377484\n"
          ]
        },
        {
          "output_type": "stream",
          "name": "stderr",
          "text": [
            "100%|██████████| 6040/6040 [00:26<00:00, 227.25it/s]\n",
            "100%|██████████| 6040/6040 [00:19<00:00, 303.72it/s]\n"
          ]
        },
        {
          "output_type": "stream",
          "name": "stdout",
          "text": [
            "epoch 15: loss = 0.41358528568095076, HR@10with_target = 0.4187086092715232, HR@10 = 0.10529801324503311\n"
          ]
        },
        {
          "output_type": "stream",
          "name": "stderr",
          "text": [
            "100%|██████████| 6040/6040 [00:25<00:00, 233.82it/s]\n",
            "100%|██████████| 6040/6040 [00:20<00:00, 299.03it/s]\n"
          ]
        },
        {
          "output_type": "stream",
          "name": "stdout",
          "text": [
            "epoch 16: loss = 0.3916555604224604, HR@10with_target = 0.44950331125827814, HR@10 = 0.10827814569536424\n"
          ]
        },
        {
          "output_type": "stream",
          "name": "stderr",
          "text": [
            "100%|██████████| 6040/6040 [00:26<00:00, 226.33it/s]\n",
            "100%|██████████| 6040/6040 [00:19<00:00, 312.06it/s]\n"
          ]
        },
        {
          "output_type": "stream",
          "name": "stdout",
          "text": [
            "epoch 17: loss = 0.36997367611953663, HR@10with_target = 0.45612582781456956, HR@10 = 0.11043046357615895\n"
          ]
        },
        {
          "output_type": "stream",
          "name": "stderr",
          "text": [
            "100%|██████████| 6040/6040 [00:27<00:00, 223.33it/s]\n",
            "100%|██████████| 6040/6040 [00:20<00:00, 298.09it/s]\n"
          ]
        },
        {
          "output_type": "stream",
          "name": "stdout",
          "text": [
            "epoch 18: loss = 0.35233725312915604, HR@10with_target = 0.43956953642384106, HR@10 = 0.10662251655629139\n"
          ]
        },
        {
          "output_type": "stream",
          "name": "stderr",
          "text": [
            "100%|██████████| 6040/6040 [00:26<00:00, 231.94it/s]\n",
            "100%|██████████| 6040/6040 [00:18<00:00, 320.63it/s]\n"
          ]
        },
        {
          "output_type": "stream",
          "name": "stdout",
          "text": [
            "epoch 19: loss = 0.3325200944123003, HR@10with_target = 0.4609271523178808, HR@10 = 0.11142384105960265\n"
          ]
        },
        {
          "output_type": "stream",
          "name": "stderr",
          "text": [
            "100%|██████████| 6040/6040 [00:25<00:00, 235.42it/s]\n",
            "100%|██████████| 6040/6040 [00:18<00:00, 318.20it/s]\n"
          ]
        },
        {
          "output_type": "stream",
          "name": "stdout",
          "text": [
            "epoch 20: loss = 0.31530226312017706, HR@10with_target = 0.46473509933774837, HR@10 = 0.11043046357615895\n"
          ]
        },
        {
          "output_type": "stream",
          "name": "stderr",
          "text": [
            "100%|██████████| 6040/6040 [00:26<00:00, 229.45it/s]\n",
            "100%|██████████| 6040/6040 [00:20<00:00, 296.24it/s]\n"
          ]
        },
        {
          "output_type": "stream",
          "name": "stdout",
          "text": [
            "epoch 21: loss = 0.2986615421635607, HR@10with_target = 0.4382450331125828, HR@10 = 0.10811258278145695\n"
          ]
        },
        {
          "output_type": "stream",
          "name": "stderr",
          "text": [
            "100%|██████████| 6040/6040 [00:26<00:00, 230.51it/s]\n",
            "100%|██████████| 6040/6040 [00:19<00:00, 312.79it/s]\n"
          ]
        },
        {
          "output_type": "stream",
          "name": "stdout",
          "text": [
            "epoch 22: loss = 0.28339979955798494, HR@10with_target = 0.46241721854304635, HR@10 = 0.11274834437086093\n"
          ]
        },
        {
          "output_type": "stream",
          "name": "stderr",
          "text": [
            "100%|██████████| 6040/6040 [00:27<00:00, 220.91it/s]\n",
            "100%|██████████| 6040/6040 [00:19<00:00, 311.00it/s]\n"
          ]
        },
        {
          "output_type": "stream",
          "name": "stdout",
          "text": [
            "epoch 23: loss = 0.26905252640781374, HR@10with_target = 0.4730132450331126, HR@10 = 0.11291390728476822\n"
          ]
        },
        {
          "output_type": "stream",
          "name": "stderr",
          "text": [
            "100%|██████████| 6040/6040 [00:25<00:00, 236.48it/s]\n",
            "100%|██████████| 6040/6040 [00:19<00:00, 304.65it/s]\n"
          ]
        },
        {
          "output_type": "stream",
          "name": "stdout",
          "text": [
            "epoch 24: loss = 0.2571076417270017, HR@10with_target = 0.4783112582781457, HR@10 = 0.11490066225165563\n"
          ]
        },
        {
          "output_type": "stream",
          "name": "stderr",
          "text": [
            "100%|██████████| 6040/6040 [00:26<00:00, 230.16it/s]\n",
            "100%|██████████| 6040/6040 [00:19<00:00, 313.51it/s]\n"
          ]
        },
        {
          "output_type": "stream",
          "name": "stdout",
          "text": [
            "epoch 25: loss = 0.24325569442948686, HR@10with_target = 0.48079470198675495, HR@10 = 0.1140728476821192\n"
          ]
        },
        {
          "output_type": "stream",
          "name": "stderr",
          "text": [
            "100%|██████████| 6040/6040 [00:26<00:00, 228.23it/s]\n",
            "100%|██████████| 6040/6040 [00:20<00:00, 299.17it/s]\n"
          ]
        },
        {
          "output_type": "stream",
          "name": "stdout",
          "text": [
            "epoch 26: loss = 0.23184001950590843, HR@10with_target = 0.47897350993377485, HR@10 = 0.11456953642384106\n"
          ]
        },
        {
          "output_type": "stream",
          "name": "stderr",
          "text": [
            "100%|██████████| 6040/6040 [00:26<00:00, 231.08it/s]\n",
            "100%|██████████| 6040/6040 [00:19<00:00, 316.82it/s]\n"
          ]
        },
        {
          "output_type": "stream",
          "name": "stdout",
          "text": [
            "epoch 27: loss = 0.2208141180144073, HR@10with_target = 0.4817880794701987, HR@10 = 0.11274834437086093\n"
          ]
        },
        {
          "output_type": "stream",
          "name": "stderr",
          "text": [
            "100%|██████████| 6040/6040 [00:25<00:00, 234.36it/s]\n",
            "100%|██████████| 6040/6040 [00:19<00:00, 303.36it/s]\n"
          ]
        },
        {
          "output_type": "stream",
          "name": "stdout",
          "text": [
            "epoch 28: loss = 0.21043507239241566, HR@10with_target = 0.4706953642384106, HR@10 = 0.1119205298013245\n"
          ]
        },
        {
          "output_type": "stream",
          "name": "stderr",
          "text": [
            "100%|██████████| 6040/6040 [00:26<00:00, 229.44it/s]\n",
            "100%|██████████| 6040/6040 [00:20<00:00, 297.51it/s]\n"
          ]
        },
        {
          "output_type": "stream",
          "name": "stdout",
          "text": [
            "epoch 29: loss = 0.20055208123351978, HR@10with_target = 0.48526490066225164, HR@10 = 0.11572847682119206\n"
          ]
        },
        {
          "output_type": "stream",
          "name": "stderr",
          "text": [
            "100%|██████████| 6040/6040 [00:26<00:00, 230.10it/s]\n",
            "100%|██████████| 6040/6040 [00:19<00:00, 314.56it/s]\n"
          ]
        },
        {
          "output_type": "stream",
          "name": "stdout",
          "text": [
            "epoch 30: loss = 0.19167152422476877, HR@10with_target = 0.477317880794702, HR@10 = 0.11374172185430463\n"
          ]
        },
        {
          "output_type": "stream",
          "name": "stderr",
          "text": [
            "100%|██████████| 6040/6040 [00:26<00:00, 230.15it/s]\n",
            "100%|██████████| 6040/6040 [00:19<00:00, 307.36it/s]\n"
          ]
        },
        {
          "output_type": "stream",
          "name": "stdout",
          "text": [
            "epoch 31: loss = 0.18382690446943623, HR@10with_target = 0.47582781456953643, HR@10 = 0.1173841059602649\n"
          ]
        },
        {
          "output_type": "stream",
          "name": "stderr",
          "text": [
            "100%|██████████| 6040/6040 [00:25<00:00, 237.45it/s]\n",
            "100%|██████████| 6040/6040 [00:19<00:00, 304.63it/s]\n"
          ]
        },
        {
          "output_type": "stream",
          "name": "stdout",
          "text": [
            "epoch 32: loss = 0.17338686082352112, HR@10with_target = 0.4812913907284768, HR@10 = 0.11357615894039735\n"
          ]
        },
        {
          "output_type": "stream",
          "name": "stderr",
          "text": [
            "100%|██████████| 6040/6040 [00:26<00:00, 231.30it/s]\n",
            "100%|██████████| 6040/6040 [00:20<00:00, 300.09it/s]\n"
          ]
        },
        {
          "output_type": "stream",
          "name": "stdout",
          "text": [
            "epoch 33: loss = 0.16773036866789195, HR@10with_target = 0.47665562913907283, HR@10 = 0.11324503311258279\n"
          ]
        },
        {
          "output_type": "stream",
          "name": "stderr",
          "text": [
            "100%|██████████| 6040/6040 [00:26<00:00, 231.31it/s]\n",
            "100%|██████████| 6040/6040 [00:20<00:00, 298.63it/s]\n"
          ]
        },
        {
          "output_type": "stream",
          "name": "stdout",
          "text": [
            "epoch 34: loss = 0.1597289624271836, HR@10with_target = 0.47466887417218545, HR@10 = 0.11341059602649006\n"
          ]
        },
        {
          "output_type": "stream",
          "name": "stderr",
          "text": [
            "100%|██████████| 6040/6040 [00:27<00:00, 219.96it/s]\n",
            "100%|██████████| 6040/6040 [00:19<00:00, 308.22it/s]\n"
          ]
        },
        {
          "output_type": "stream",
          "name": "stdout",
          "text": [
            "epoch 35: loss = 0.15293920415169013, HR@10with_target = 0.47003311258278146, HR@10 = 0.10877483443708609\n"
          ]
        },
        {
          "output_type": "stream",
          "name": "stderr",
          "text": [
            "100%|██████████| 6040/6040 [00:25<00:00, 236.07it/s]\n",
            "100%|██████████| 6040/6040 [00:19<00:00, 315.87it/s]\n"
          ]
        },
        {
          "output_type": "stream",
          "name": "stdout",
          "text": [
            "epoch 36: loss = 0.1463525019308188, HR@10with_target = 0.4731788079470199, HR@10 = 0.11490066225165563\n"
          ]
        },
        {
          "output_type": "stream",
          "name": "stderr",
          "text": [
            "100%|██████████| 6040/6040 [00:25<00:00, 234.76it/s]\n",
            "100%|██████████| 6040/6040 [00:20<00:00, 299.55it/s]\n"
          ]
        },
        {
          "output_type": "stream",
          "name": "stdout",
          "text": [
            "epoch 37: loss = 0.13894271505970474, HR@10with_target = 0.4814569536423841, HR@10 = 0.11821192052980133\n"
          ]
        },
        {
          "output_type": "stream",
          "name": "stderr",
          "text": [
            "100%|██████████| 6040/6040 [00:26<00:00, 229.54it/s]\n",
            "100%|██████████| 6040/6040 [00:19<00:00, 310.33it/s]\n"
          ]
        },
        {
          "output_type": "stream",
          "name": "stdout",
          "text": [
            "epoch 38: loss = 0.1358695747014847, HR@10with_target = 0.473841059602649, HR@10 = 0.11605960264900662\n"
          ]
        },
        {
          "output_type": "stream",
          "name": "stderr",
          "text": [
            "100%|██████████| 6040/6040 [00:27<00:00, 222.27it/s]\n",
            "100%|██████████| 6040/6040 [00:19<00:00, 307.38it/s]\n"
          ]
        },
        {
          "output_type": "stream",
          "name": "stdout",
          "text": [
            "epoch 39: loss = 0.12999942590168823, HR@10with_target = 0.4695364238410596, HR@10 = 0.11605960264900662\n"
          ]
        },
        {
          "output_type": "stream",
          "name": "stderr",
          "text": [
            "100%|██████████| 6040/6040 [00:25<00:00, 237.88it/s]\n",
            "100%|██████████| 6040/6040 [00:19<00:00, 309.46it/s]\n"
          ]
        },
        {
          "output_type": "stream",
          "name": "stdout",
          "text": [
            "epoch 40: loss = 0.1260047892342983, HR@10with_target = 0.48311258278145697, HR@10 = 0.11109271523178808\n"
          ]
        },
        {
          "output_type": "stream",
          "name": "stderr",
          "text": [
            "100%|██████████| 6040/6040 [00:25<00:00, 233.30it/s]\n",
            "100%|██████████| 6040/6040 [00:19<00:00, 311.17it/s]\n"
          ]
        },
        {
          "output_type": "stream",
          "name": "stdout",
          "text": [
            "epoch 41: loss = 0.12043938140723774, HR@10with_target = 0.45728476821192054, HR@10 = 0.11142384105960265\n"
          ]
        },
        {
          "output_type": "stream",
          "name": "stderr",
          "text": [
            "100%|██████████| 6040/6040 [00:26<00:00, 225.20it/s]\n",
            "100%|██████████| 6040/6040 [00:20<00:00, 294.72it/s]\n"
          ]
        },
        {
          "output_type": "stream",
          "name": "stdout",
          "text": [
            "epoch 42: loss = 0.11598286494255759, HR@10with_target = 0.4695364238410596, HR@10 = 0.11589403973509933\n"
          ]
        },
        {
          "output_type": "stream",
          "name": "stderr",
          "text": [
            "100%|██████████| 6040/6040 [00:26<00:00, 225.02it/s]\n",
            "100%|██████████| 6040/6040 [00:19<00:00, 309.06it/s]\n"
          ]
        },
        {
          "output_type": "stream",
          "name": "stdout",
          "text": [
            "epoch 43: loss = 0.11238907817886233, HR@10with_target = 0.47566225165562914, HR@10 = 0.11556291390728476\n"
          ]
        },
        {
          "output_type": "stream",
          "name": "stderr",
          "text": [
            "100%|██████████| 6040/6040 [00:27<00:00, 219.38it/s]\n",
            "100%|██████████| 6040/6040 [00:19<00:00, 304.82it/s]\n"
          ]
        },
        {
          "output_type": "stream",
          "name": "stdout",
          "text": [
            "epoch 44: loss = 0.10870043281620931, HR@10with_target = 0.4778145695364238, HR@10 = 0.11589403973509933\n"
          ]
        },
        {
          "output_type": "stream",
          "name": "stderr",
          "text": [
            "100%|██████████| 6040/6040 [00:26<00:00, 229.80it/s]\n",
            "100%|██████████| 6040/6040 [00:20<00:00, 299.06it/s]\n"
          ]
        },
        {
          "output_type": "stream",
          "name": "stdout",
          "text": [
            "epoch 45: loss = 0.10559341634754671, HR@10with_target = 0.4640728476821192, HR@10 = 0.11092715231788079\n",
            "\n",
            "Early stoping after 45 epochs. validation loss did not imporve for more than 8 epcochs\n",
            "\n",
            "Finished Training:\n",
            "Best metrics are:\n",
            "Hit Ratio eval = 0.11821192052980133\n"
          ]
        },
        {
          "output_type": "stream",
          "name": "stderr",
          "text": [
            "100%|██████████| 6040/6040 [00:19<00:00, 308.00it/s]\n"
          ]
        }
      ]
    },
    {
      "cell_type": "code",
      "source": [
        "best_results"
      ],
      "metadata": {
        "colab": {
          "base_uri": "https://localhost:8080/",
          "height": 300
        },
        "id": "Nor8vnBLufh5",
        "outputId": "613cf391-f905-4d4d-a1f0-6666a0e9be8a"
      },
      "execution_count": null,
      "outputs": [
        {
          "output_type": "execute_result",
          "data": {
            "text/plain": [
              "  maximal width Batch Size  Learning Rate Topk Metric        Score\n",
              "0           512        101          0.001    0   LOSS     0.000000\n",
              "1           512        101          0.001    0   TIME  2123.222918\n",
              "2           512        101          0.001    5     HR     0.035927\n",
              "3           512        101          0.001   10     HR     0.097020\n",
              "4           512        101          0.001    5    MRR     0.014156\n",
              "5           512        101          0.001   10    MRR     0.021927\n",
              "6           512        101          0.001    5   NDCG     0.019449\n",
              "7           512        101          0.001   10   NDCG     0.038822"
            ],
            "text/html": [
              "\n",
              "  <div id=\"df-fbfeb762-8871-4ac4-aafa-a6efc894c226\">\n",
              "    <div class=\"colab-df-container\">\n",
              "      <div>\n",
              "<style scoped>\n",
              "    .dataframe tbody tr th:only-of-type {\n",
              "        vertical-align: middle;\n",
              "    }\n",
              "\n",
              "    .dataframe tbody tr th {\n",
              "        vertical-align: top;\n",
              "    }\n",
              "\n",
              "    .dataframe thead th {\n",
              "        text-align: right;\n",
              "    }\n",
              "</style>\n",
              "<table border=\"1\" class=\"dataframe\">\n",
              "  <thead>\n",
              "    <tr style=\"text-align: right;\">\n",
              "      <th></th>\n",
              "      <th>maximal width</th>\n",
              "      <th>Batch Size</th>\n",
              "      <th>Learning Rate</th>\n",
              "      <th>Topk</th>\n",
              "      <th>Metric</th>\n",
              "      <th>Score</th>\n",
              "    </tr>\n",
              "  </thead>\n",
              "  <tbody>\n",
              "    <tr>\n",
              "      <th>0</th>\n",
              "      <td>512</td>\n",
              "      <td>101</td>\n",
              "      <td>0.001</td>\n",
              "      <td>0</td>\n",
              "      <td>LOSS</td>\n",
              "      <td>0.000000</td>\n",
              "    </tr>\n",
              "    <tr>\n",
              "      <th>1</th>\n",
              "      <td>512</td>\n",
              "      <td>101</td>\n",
              "      <td>0.001</td>\n",
              "      <td>0</td>\n",
              "      <td>TIME</td>\n",
              "      <td>2123.222918</td>\n",
              "    </tr>\n",
              "    <tr>\n",
              "      <th>2</th>\n",
              "      <td>512</td>\n",
              "      <td>101</td>\n",
              "      <td>0.001</td>\n",
              "      <td>5</td>\n",
              "      <td>HR</td>\n",
              "      <td>0.035927</td>\n",
              "    </tr>\n",
              "    <tr>\n",
              "      <th>3</th>\n",
              "      <td>512</td>\n",
              "      <td>101</td>\n",
              "      <td>0.001</td>\n",
              "      <td>10</td>\n",
              "      <td>HR</td>\n",
              "      <td>0.097020</td>\n",
              "    </tr>\n",
              "    <tr>\n",
              "      <th>4</th>\n",
              "      <td>512</td>\n",
              "      <td>101</td>\n",
              "      <td>0.001</td>\n",
              "      <td>5</td>\n",
              "      <td>MRR</td>\n",
              "      <td>0.014156</td>\n",
              "    </tr>\n",
              "    <tr>\n",
              "      <th>5</th>\n",
              "      <td>512</td>\n",
              "      <td>101</td>\n",
              "      <td>0.001</td>\n",
              "      <td>10</td>\n",
              "      <td>MRR</td>\n",
              "      <td>0.021927</td>\n",
              "    </tr>\n",
              "    <tr>\n",
              "      <th>6</th>\n",
              "      <td>512</td>\n",
              "      <td>101</td>\n",
              "      <td>0.001</td>\n",
              "      <td>5</td>\n",
              "      <td>NDCG</td>\n",
              "      <td>0.019449</td>\n",
              "    </tr>\n",
              "    <tr>\n",
              "      <th>7</th>\n",
              "      <td>512</td>\n",
              "      <td>101</td>\n",
              "      <td>0.001</td>\n",
              "      <td>10</td>\n",
              "      <td>NDCG</td>\n",
              "      <td>0.038822</td>\n",
              "    </tr>\n",
              "  </tbody>\n",
              "</table>\n",
              "</div>\n",
              "      <button class=\"colab-df-convert\" onclick=\"convertToInteractive('df-fbfeb762-8871-4ac4-aafa-a6efc894c226')\"\n",
              "              title=\"Convert this dataframe to an interactive table.\"\n",
              "              style=\"display:none;\">\n",
              "        \n",
              "  <svg xmlns=\"http://www.w3.org/2000/svg\" height=\"24px\"viewBox=\"0 0 24 24\"\n",
              "       width=\"24px\">\n",
              "    <path d=\"M0 0h24v24H0V0z\" fill=\"none\"/>\n",
              "    <path d=\"M18.56 5.44l.94 2.06.94-2.06 2.06-.94-2.06-.94-.94-2.06-.94 2.06-2.06.94zm-11 1L8.5 8.5l.94-2.06 2.06-.94-2.06-.94L8.5 2.5l-.94 2.06-2.06.94zm10 10l.94 2.06.94-2.06 2.06-.94-2.06-.94-.94-2.06-.94 2.06-2.06.94z\"/><path d=\"M17.41 7.96l-1.37-1.37c-.4-.4-.92-.59-1.43-.59-.52 0-1.04.2-1.43.59L10.3 9.45l-7.72 7.72c-.78.78-.78 2.05 0 2.83L4 21.41c.39.39.9.59 1.41.59.51 0 1.02-.2 1.41-.59l7.78-7.78 2.81-2.81c.8-.78.8-2.07 0-2.86zM5.41 20L4 18.59l7.72-7.72 1.47 1.35L5.41 20z\"/>\n",
              "  </svg>\n",
              "      </button>\n",
              "      \n",
              "  <style>\n",
              "    .colab-df-container {\n",
              "      display:flex;\n",
              "      flex-wrap:wrap;\n",
              "      gap: 12px;\n",
              "    }\n",
              "\n",
              "    .colab-df-convert {\n",
              "      background-color: #E8F0FE;\n",
              "      border: none;\n",
              "      border-radius: 50%;\n",
              "      cursor: pointer;\n",
              "      display: none;\n",
              "      fill: #1967D2;\n",
              "      height: 32px;\n",
              "      padding: 0 0 0 0;\n",
              "      width: 32px;\n",
              "    }\n",
              "\n",
              "    .colab-df-convert:hover {\n",
              "      background-color: #E2EBFA;\n",
              "      box-shadow: 0px 1px 2px rgba(60, 64, 67, 0.3), 0px 1px 3px 1px rgba(60, 64, 67, 0.15);\n",
              "      fill: #174EA6;\n",
              "    }\n",
              "\n",
              "    [theme=dark] .colab-df-convert {\n",
              "      background-color: #3B4455;\n",
              "      fill: #D2E3FC;\n",
              "    }\n",
              "\n",
              "    [theme=dark] .colab-df-convert:hover {\n",
              "      background-color: #434B5C;\n",
              "      box-shadow: 0px 1px 3px 1px rgba(0, 0, 0, 0.15);\n",
              "      filter: drop-shadow(0px 1px 2px rgba(0, 0, 0, 0.3));\n",
              "      fill: #FFFFFF;\n",
              "    }\n",
              "  </style>\n",
              "\n",
              "      <script>\n",
              "        const buttonEl =\n",
              "          document.querySelector('#df-fbfeb762-8871-4ac4-aafa-a6efc894c226 button.colab-df-convert');\n",
              "        buttonEl.style.display =\n",
              "          google.colab.kernel.accessAllowed ? 'block' : 'none';\n",
              "\n",
              "        async function convertToInteractive(key) {\n",
              "          const element = document.querySelector('#df-fbfeb762-8871-4ac4-aafa-a6efc894c226');\n",
              "          const dataTable =\n",
              "            await google.colab.kernel.invokeFunction('convertToInteractive',\n",
              "                                                     [key], {});\n",
              "          if (!dataTable) return;\n",
              "\n",
              "          const docLinkHtml = 'Like what you see? Visit the ' +\n",
              "            '<a target=\"_blank\" href=https://colab.research.google.com/notebooks/data_table.ipynb>data table notebook</a>'\n",
              "            + ' to learn more about interactive tables.';\n",
              "          element.innerHTML = '';\n",
              "          dataTable['output_type'] = 'display_data';\n",
              "          await google.colab.output.renderOutput(dataTable, element);\n",
              "          const docLink = document.createElement('div');\n",
              "          docLink.innerHTML = docLinkHtml;\n",
              "          element.appendChild(docLink);\n",
              "        }\n",
              "      </script>\n",
              "    </div>\n",
              "  </div>\n",
              "  "
            ]
          },
          "metadata": {},
          "execution_count": 21
        }
      ]
    },
    {
      "cell_type": "code",
      "source": [
        "# path = './drive/My Drive/Colab Notebooks/recsys_final_ranking_best_results'\n",
        "# with open(path, 'wb') as f:\n",
        "#   pickle.dump((best_results), f)"
      ],
      "metadata": {
        "id": "Qd3vGoBxu23f"
      },
      "execution_count": null,
      "outputs": []
    },
    {
      "cell_type": "code",
      "source": [
        "def plot_training_summary(training_model, title):\n",
        "  with plt.rc_context({'lines.linewidth': 1.5, 'lines.marker' : '.', 'lines.markersize' : 8}):\n",
        "\n",
        "    epochs = np.arange(len(training_model.train_loss_history)) + 1\n",
        "    fig, (ax1, ax2, ax3, ax4) = plt.subplots(1, 4, figsize=(25,5))\n",
        "    ax1.plot(epochs, training_model.train_loss_history, 'r', label = 'train loss')\n",
        "    # ax1.plot(epochs, training_model.eval_loss_history, 'orange', label = 'eval loss')\n",
        "    ax1.set_xlabel('Epochs')\n",
        "    ax1.set_ylabel('LogLoss')\n",
        "    ax1.legend()\n",
        "    ax2.plot(epochs, training_model.eval_HR5_history, 'b', label = 'Hit Ratio@5')\n",
        "    ax2.plot(epochs, training_model.eval_HR10_history, 'g', label = 'Hit Ratio@10')\n",
        "    ax2.set_xlabel('Epochs')\n",
        "    ax2.set_ylabel('Hit Ratio')\n",
        "    ax2.legend()\n",
        "    ax3.plot(epochs, training_model.eval_MRR5_history, 'b', label = 'MRR@5')\n",
        "    ax3.plot(epochs, training_model.eval_MRR10_history, 'g', label = 'MRR@10')\n",
        "    ax3.set_xlabel('Epochs')\n",
        "    ax3.set_ylabel('MRR')\n",
        "    ax3.legend()\n",
        "    ax4.plot(epochs, training_model.eval_NDCG5_history, 'b', label = 'NDCG@5')\n",
        "    ax4.plot(epochs, training_model.eval_NDCG10_history, 'g', label = 'NDCG@10')\n",
        "    ax4.set_xlabel('Epochs')\n",
        "    ax4.set_ylabel('NDCG')\n",
        "    ax4.legend()\n",
        "    fig.suptitle(title, fontsize = 16)"
      ],
      "metadata": {
        "id": "mJnVqQA1u99o"
      },
      "execution_count": null,
      "outputs": []
    },
    {
      "cell_type": "code",
      "source": [
        "plot_training_summary(training_ranking, 'Training Summary')"
      ],
      "metadata": {
        "id": "o7cFUjg0KIOJ",
        "outputId": "044d34ab-f80c-4cfa-aacc-d373ff38d664",
        "colab": {
          "base_uri": "https://localhost:8080/",
          "height": 370
        }
      },
      "execution_count": null,
      "outputs": [
        {
          "output_type": "display_data",
          "data": {
            "text/plain": [
              "<Figure size 1800x360 with 4 Axes>"
            ],
            "image/png": "[encoded data removed]"
          },
          "metadata": {
            "needs_background": "light"
          }
        }
      ]
    },
    {
      "cell_type": "code",
      "source": [
        "# The final test HR10 evaluation!\n",
        "training_ranking.epoch_HR10/len(training_ranking.dl_val)"
      ],
      "metadata": {
        "colab": {
          "base_uri": "https://localhost:8080/"
        },
        "id": "N0tWgTbTunXz",
        "outputId": "591c3475-e774-4980-c4db-e82f780d626e"
      },
      "execution_count": null,
      "outputs": [
        {
          "output_type": "execute_result",
          "data": {
            "text/plain": [
              "0.09701986754966888"
            ]
          },
          "metadata": {},
          "execution_count": 22
        }
      ]
    },
    {
      "cell_type": "markdown",
      "source": [
        "###Conclusions\n",
        "1. Evaluation on the test set was 9.7%. This means that the combined candidates and ranking model (start to end) was able to place the target movie within the first 10 places out of 3952 in almost 10% of the cases.\n",
        "2. If the target item is considered as a candidate, the ranking model is able to place it within the first 10 places in about 49% of the cases.\n"
      ],
      "metadata": {
        "id": "ojPuMxUWCmtK"
      }
    }
  ]
}