{
  "nbformat": 4,
  "nbformat_minor": 0,
  "metadata": {
    "colab": {
      "provenance": [],
      "machine_shape": "hm"
    },
    "kernelspec": {
      "name": "python3",
      "display_name": "Python 3"
    },
    "language_info": {
      "name": "python"
    },
    "gpuClass": "standard"
  },
  "cells": [
    {
      "cell_type": "markdown",
      "source": [
        "##Overview\n",
        "\n",
        "In this notebook we prepare the datasets for the ranking model, which is the second stage in the YouTube recommendation system.\\\n",
        "After we retrieve the candidates for viewing from the candidates model, we now want to learn the best recommendation out od the candidates, given additional data on each candidate movie.\\\n",
        "The additional file in the items content file includes:\n",
        "1. The movie release year\n",
        "2. The movie classification to genres\n",
        "3. Movie title, which we do not use.\n",
        "\n",
        "Each sample of the ranking model will combine the viewing histoy (as in the candidates model) with the candidate additional data. The user data is no longer used.\n",
        "\n",
        "Processing details:\n",
        "- We normalize the release year, as suggested in the paper, by dividing the years into 10 quantiles of the cumulative distribution. the square and square-root of the results are also added.\n",
        "- For each candidate, we calculate the mean rating by all users who rated it as another feature. This is assumed to be a feature which is also available in the YouTube scenario, where the percent of watch time can be calculated for each video.\n",
        "- We need to split the candidates lists into individual samples for evaluation in ranking. We extract 100 candidates for each sample in the original dataset.This would theoretically give 6040X50X100 = 30,200,000samples. Because of the huge numbers, we use one original sample per user (The last in the dataset). Candidates are matched to their right information from the previous movies that were used to predict them.\n",
        "- To each candidate we add two labels:\n",
        "  1. If it was viewed by the user, it will be labeled 1, otherwise 0.\n",
        "  2. Another lable is the rating it got, if viewed. If the movie was not viewed, we still label the rating as 1, in order to learn the expected rating, similarly to the optimization over expected watch time described in the paper.\n"
      ],
      "metadata": {
        "id": "Pd0xpucge0yP"
      }
    },
    {
      "cell_type": "markdown",
      "source": [
        "**Imports and administration**"
      ],
      "metadata": {
        "id": "KrIAv8u27hB0"
      }
    },
    {
      "cell_type": "code",
      "execution_count": 1,
      "metadata": {
        "id": "HWBNNzX2DHwl",
        "colab": {
          "base_uri": "https://localhost:8080/"
        },
        "outputId": "7ec7b13c-3014-422e-c0ce-36a375277f37"
      },
      "outputs": [
        {
          "output_type": "stream",
          "name": "stdout",
          "text": [
            "Looking in indexes: https://pypi.org/simple, https://us-python.pkg.dev/colab-wheels/public/simple/\n",
            "Requirement already satisfied: gdown in /usr/local/lib/python3.8/dist-packages (4.6.4)\n",
            "Requirement already satisfied: six in /usr/local/lib/python3.8/dist-packages (from gdown) (1.15.0)\n",
            "Requirement already satisfied: tqdm in /usr/local/lib/python3.8/dist-packages (from gdown) (4.64.1)\n",
            "Requirement already satisfied: beautifulsoup4 in /usr/local/lib/python3.8/dist-packages (from gdown) (4.6.3)\n",
            "Requirement already satisfied: filelock in /usr/local/lib/python3.8/dist-packages (from gdown) (3.9.0)\n",
            "Requirement already satisfied: requests[socks] in /usr/local/lib/python3.8/dist-packages (from gdown) (2.25.1)\n",
            "Requirement already satisfied: chardet<5,>=3.0.2 in /usr/local/lib/python3.8/dist-packages (from requests[socks]->gdown) (4.0.0)\n",
            "Requirement already satisfied: idna<3,>=2.5 in /usr/local/lib/python3.8/dist-packages (from requests[socks]->gdown) (2.10)\n",
            "Requirement already satisfied: certifi>=2017.4.17 in /usr/local/lib/python3.8/dist-packages (from requests[socks]->gdown) (2022.12.7)\n",
            "Requirement already satisfied: urllib3<1.27,>=1.21.1 in /usr/local/lib/python3.8/dist-packages (from requests[socks]->gdown) (1.24.3)\n",
            "Requirement already satisfied: PySocks!=1.5.7,>=1.5.6 in /usr/local/lib/python3.8/dist-packages (from requests[socks]->gdown) (1.7.1)\n"
          ]
        }
      ],
      "source": [
        "# basic\n",
        "import os \n",
        "import sys\n",
        "from time import time\n",
        "import zipfile\n",
        "import requests\n",
        "import pickle\n",
        "import gdown\n",
        "!pip install --upgrade --no-cache-dir gdown\n",
        "\n",
        "# general\n",
        "import warnings\n",
        "import numpy as np\n",
        "import pandas as pd\n",
        "\n",
        "# visual\n",
        "import matplotlib\n",
        "import seaborn as sns\n",
        "import matplotlib.pyplot as plt\n",
        "\n",
        "# notebook\n",
        "from IPython.display import display, HTML\n",
        "from tqdm import tqdm\n",
        "import copy\n",
        "\n",
        "\n",
        "# torch\n",
        "import torch\n",
        "from torch import nn\n",
        "import torch.nn.functional as F\n",
        "from torch.nn import Sequential\n",
        "from torch.nn import Sigmoid,ReLU\n",
        "from torch.nn import Embedding,Linear,Dropout\n",
        "from torch.utils.data import DataLoader, Dataset\n",
        "from torchvision.transforms import ToTensor,Compose\n",
        "from torch.optim import SparseAdam,Adam,Adagrad,SGD\n",
        "\n",
        "device = torch.device('cuda' if torch.cuda.is_available() else 'cpu')"
      ]
    },
    {
      "cell_type": "code",
      "source": [
        "# from google.colab import drive\n",
        "# drive.mount('/content/drive')"
      ],
      "metadata": {
        "id": "TdI87f_-DatJ",
        "colab": {
          "base_uri": "https://localhost:8080/"
        },
        "outputId": "538ae2fb-28aa-4213-8be1-e3a7a7b637dc"
      },
      "execution_count": null,
      "outputs": [
        {
          "output_type": "stream",
          "name": "stdout",
          "text": [
            "Mounted at /content/drive\n"
          ]
        }
      ]
    },
    {
      "cell_type": "code",
      "source": [
        "warnings.filterwarnings('ignore')"
      ],
      "metadata": {
        "id": "wFz-g2xyDeh7"
      },
      "execution_count": null,
      "outputs": []
    },
    {
      "cell_type": "markdown",
      "source": [
        "**Download data**"
      ],
      "metadata": {
        "id": "lQkt4n7CYDdx"
      }
    },
    {
      "cell_type": "code",
      "source": [
        "url = 'http://files.grouplens.org/datasets/movielens/ml-1m.zip'\n",
        "zip_name = 'ml-1m.zip'\n",
        "data_dir = 'ml-1m/'\n",
        "\n",
        "r = requests.get(url, allow_redirects=True)\n",
        "open(zip_name, 'wb').write(r.content)\n",
        "\n",
        "with zipfile.ZipFile(zip_name,\"r\") as zip_ref:\n",
        "    zip_ref.extractall()"
      ],
      "metadata": {
        "id": "Q0Vnbv_DDzjj"
      },
      "execution_count": null,
      "outputs": []
    },
    {
      "cell_type": "markdown",
      "source": [
        "**Read main ratings file**"
      ],
      "metadata": {
        "id": "gPbmPvdVYKYb"
      }
    },
    {
      "cell_type": "code",
      "source": [
        "cols_data = ['user_id','item_id','rating','timestamp']\n",
        "df_ratings = pd.read_csv(data_dir + 'ratings.dat',delimiter='::', header=None,names=cols_data)\n",
        "# df_ratings.shape\n",
        "\n",
        "n_full_samples = df_ratings.shape[0]\n",
        "unique_users_test = df_ratings['user_id'].nunique()\n",
        "n_items = df_ratings['item_id'].max() + 1 #starts at 1\n",
        "print(f'There are a total of {n_full_samples} samples in the full dataset, belonging to {unique_users_test} distinct users')"
      ],
      "metadata": {
        "colab": {
          "base_uri": "https://localhost:8080/"
        },
        "id": "197KMkD8D3IX",
        "outputId": "bf91f611-9f2d-4c77-a2f4-800e18021ea9"
      },
      "execution_count": null,
      "outputs": [
        {
          "output_type": "stream",
          "name": "stdout",
          "text": [
            "There are a total of 1000209 samples in the full dataset, belonging to 6040 distinct users\n"
          ]
        }
      ]
    },
    {
      "cell_type": "code",
      "source": [
        "n_items"
      ],
      "metadata": {
        "colab": {
          "base_uri": "https://localhost:8080/"
        },
        "id": "wpSEm5bQzmsy",
        "outputId": "e4820620-2957-4e41-9574-975c7624837b"
      },
      "execution_count": null,
      "outputs": [
        {
          "output_type": "execute_result",
          "data": {
            "text/plain": [
              "3953"
            ]
          },
          "metadata": {},
          "execution_count": 6
        }
      ]
    },
    {
      "cell_type": "code",
      "source": [
        "# #Here, we download the original dataframes with samples for the candidate model, containing the list of previous watches\n",
        "# path = './drive/My Drive/Colab Notebooks/recsys_final_project/save_for_ranking_data'\n",
        "# with open(path , 'rb') as f:\n",
        "#   (df_test, df_val, df_features_sampled) = pickle.load(f)\n",
        "#   print('loaded dataframes')"
      ],
      "metadata": {
        "colab": {
          "base_uri": "https://localhost:8080/"
        },
        "id": "keGvrF0wj5fc",
        "outputId": "f825ebfb-4170-49b8-c412-0cc664f8e89a"
      },
      "execution_count": null,
      "outputs": [
        {
          "output_type": "stream",
          "name": "stdout",
          "text": [
            "loaded dataframes\n"
          ]
        }
      ]
    },
    {
      "cell_type": "code",
      "source": [
        "# #Here, we download the original dataframes with samples for the candidate model, containing the list of previous watches\n",
        "url = \"https://drive.google.com/file/d/1bbeVBJig-V6j4F1EfRXaT-5338-lkCFY/view?usp=sharing\"\n",
        "data_from_candidates_path = 'candidates_data'\n",
        "gdown.download(url, data_from_candidates_path, quiet=False,fuzzy=True)\n",
        "\n",
        "# path = './drive/My Drive/Colab Notebooks/recsys_final_project/save_for_ranking_data'\n",
        "with open(data_from_candidates_path , 'rb') as f:\n",
        "  (df_test, df_val, df_features_sampled) = pickle.load(f)\n",
        "  print('loaded dataframes')\n"
      ],
      "metadata": {
        "colab": {
          "base_uri": "https://localhost:8080/"
        },
        "id": "6fax04VOnagl",
        "outputId": "a5207472-3f6e-4871-d974-56b70128ea1f"
      },
      "execution_count": 2,
      "outputs": [
        {
          "output_type": "stream",
          "name": "stderr",
          "text": [
            "Downloading...\n",
            "From: https://drive.google.com/uc?id=1bbeVBJig-V6j4F1EfRXaT-5338-lkCFY\n",
            "To: /content/candidates_data\n",
            "100%|██████████| 126M/126M [00:02<00:00, 58.2MB/s]\n"
          ]
        },
        {
          "output_type": "stream",
          "name": "stdout",
          "text": [
            "loaded dataframes\n"
          ]
        }
      ]
    },
    {
      "cell_type": "markdown",
      "source": [
        "###Item data"
      ],
      "metadata": {
        "id": "nr3vkKvCklDk"
      }
    },
    {
      "cell_type": "code",
      "source": [
        "cols_item = ['movie id', 'movie name', 'genres']             \n",
        "df_items = pd.read_csv(data_dir + 'movies.dat', delimiter='::', header=None, names=cols_item, encoding = 'ISO-8859-1')\n",
        "df_items.shape"
      ],
      "metadata": {
        "colab": {
          "base_uri": "https://localhost:8080/"
        },
        "id": "U-rbQxv8rcts",
        "outputId": "0e0a5d2b-b213-4c6a-c701-9b2744bf9ac8"
      },
      "execution_count": null,
      "outputs": [
        {
          "output_type": "execute_result",
          "data": {
            "text/plain": [
              "(3883, 3)"
            ]
          },
          "metadata": {},
          "execution_count": 8
        }
      ]
    },
    {
      "cell_type": "code",
      "source": [
        "df_items.head()"
      ],
      "metadata": {
        "colab": {
          "base_uri": "https://localhost:8080/",
          "height": 206
        },
        "id": "kELiGdQWpnVA",
        "outputId": "cbba7d49-4f1a-429e-8bca-f547f346eaf7"
      },
      "execution_count": null,
      "outputs": [
        {
          "output_type": "execute_result",
          "data": {
            "text/plain": [
              "   movie id                          movie name                        genres\n",
              "0         1                    Toy Story (1995)   Animation|Children's|Comedy\n",
              "1         2                      Jumanji (1995)  Adventure|Children's|Fantasy\n",
              "2         3             Grumpier Old Men (1995)                Comedy|Romance\n",
              "3         4            Waiting to Exhale (1995)                  Comedy|Drama\n",
              "4         5  Father of the Bride Part II (1995)                        Comedy"
            ],
            "text/html": [
              "\n",
              "  <div id=\"df-7922e1d4-27f0-4a41-b962-049a4b523d36\">\n",
              "    <div class=\"colab-df-container\">\n",
              "      <div>\n",
              "<style scoped>\n",
              "    .dataframe tbody tr th:only-of-type {\n",
              "        vertical-align: middle;\n",
              "    }\n",
              "\n",
              "    .dataframe tbody tr th {\n",
              "        vertical-align: top;\n",
              "    }\n",
              "\n",
              "    .dataframe thead th {\n",
              "        text-align: right;\n",
              "    }\n",
              "</style>\n",
              "<table border=\"1\" class=\"dataframe\">\n",
              "  <thead>\n",
              "    <tr style=\"text-align: right;\">\n",
              "      <th></th>\n",
              "      <th>movie id</th>\n",
              "      <th>movie name</th>\n",
              "      <th>genres</th>\n",
              "    </tr>\n",
              "  </thead>\n",
              "  <tbody>\n",
              "    <tr>\n",
              "      <th>0</th>\n",
              "      <td>1</td>\n",
              "      <td>Toy Story (1995)</td>\n",
              "      <td>Animation|Children's|Comedy</td>\n",
              "    </tr>\n",
              "    <tr>\n",
              "      <th>1</th>\n",
              "      <td>2</td>\n",
              "      <td>Jumanji (1995)</td>\n",
              "      <td>Adventure|Children's|Fantasy</td>\n",
              "    </tr>\n",
              "    <tr>\n",
              "      <th>2</th>\n",
              "      <td>3</td>\n",
              "      <td>Grumpier Old Men (1995)</td>\n",
              "      <td>Comedy|Romance</td>\n",
              "    </tr>\n",
              "    <tr>\n",
              "      <th>3</th>\n",
              "      <td>4</td>\n",
              "      <td>Waiting to Exhale (1995)</td>\n",
              "      <td>Comedy|Drama</td>\n",
              "    </tr>\n",
              "    <tr>\n",
              "      <th>4</th>\n",
              "      <td>5</td>\n",
              "      <td>Father of the Bride Part II (1995)</td>\n",
              "      <td>Comedy</td>\n",
              "    </tr>\n",
              "  </tbody>\n",
              "</table>\n",
              "</div>\n",
              "      <button class=\"colab-df-convert\" onclick=\"convertToInteractive('df-7922e1d4-27f0-4a41-b962-049a4b523d36')\"\n",
              "              title=\"Convert this dataframe to an interactive table.\"\n",
              "              style=\"display:none;\">\n",
              "        \n",
              "  <svg xmlns=\"http://www.w3.org/2000/svg\" height=\"24px\"viewBox=\"0 0 24 24\"\n",
              "       width=\"24px\">\n",
              "    <path d=\"M0 0h24v24H0V0z\" fill=\"none\"/>\n",
              "    <path d=\"M18.56 5.44l.94 2.06.94-2.06 2.06-.94-2.06-.94-.94-2.06-.94 2.06-2.06.94zm-11 1L8.5 8.5l.94-2.06 2.06-.94-2.06-.94L8.5 2.5l-.94 2.06-2.06.94zm10 10l.94 2.06.94-2.06 2.06-.94-2.06-.94-.94-2.06-.94 2.06-2.06.94z\"/><path d=\"M17.41 7.96l-1.37-1.37c-.4-.4-.92-.59-1.43-.59-.52 0-1.04.2-1.43.59L10.3 9.45l-7.72 7.72c-.78.78-.78 2.05 0 2.83L4 21.41c.39.39.9.59 1.41.59.51 0 1.02-.2 1.41-.59l7.78-7.78 2.81-2.81c.8-.78.8-2.07 0-2.86zM5.41 20L4 18.59l7.72-7.72 1.47 1.35L5.41 20z\"/>\n",
              "  </svg>\n",
              "      </button>\n",
              "      \n",
              "  <style>\n",
              "    .colab-df-container {\n",
              "      display:flex;\n",
              "      flex-wrap:wrap;\n",
              "      gap: 12px;\n",
              "    }\n",
              "\n",
              "    .colab-df-convert {\n",
              "      background-color: #E8F0FE;\n",
              "      border: none;\n",
              "      border-radius: 50%;\n",
              "      cursor: pointer;\n",
              "      display: none;\n",
              "      fill: #1967D2;\n",
              "      height: 32px;\n",
              "      padding: 0 0 0 0;\n",
              "      width: 32px;\n",
              "    }\n",
              "\n",
              "    .colab-df-convert:hover {\n",
              "      background-color: #E2EBFA;\n",
              "      box-shadow: 0px 1px 2px rgba(60, 64, 67, 0.3), 0px 1px 3px 1px rgba(60, 64, 67, 0.15);\n",
              "      fill: #174EA6;\n",
              "    }\n",
              "\n",
              "    [theme=dark] .colab-df-convert {\n",
              "      background-color: #3B4455;\n",
              "      fill: #D2E3FC;\n",
              "    }\n",
              "\n",
              "    [theme=dark] .colab-df-convert:hover {\n",
              "      background-color: #434B5C;\n",
              "      box-shadow: 0px 1px 3px 1px rgba(0, 0, 0, 0.15);\n",
              "      filter: drop-shadow(0px 1px 2px rgba(0, 0, 0, 0.3));\n",
              "      fill: #FFFFFF;\n",
              "    }\n",
              "  </style>\n",
              "\n",
              "      <script>\n",
              "        const buttonEl =\n",
              "          document.querySelector('#df-7922e1d4-27f0-4a41-b962-049a4b523d36 button.colab-df-convert');\n",
              "        buttonEl.style.display =\n",
              "          google.colab.kernel.accessAllowed ? 'block' : 'none';\n",
              "\n",
              "        async function convertToInteractive(key) {\n",
              "          const element = document.querySelector('#df-7922e1d4-27f0-4a41-b962-049a4b523d36');\n",
              "          const dataTable =\n",
              "            await google.colab.kernel.invokeFunction('convertToInteractive',\n",
              "                                                     [key], {});\n",
              "          if (!dataTable) return;\n",
              "\n",
              "          const docLinkHtml = 'Like what you see? Visit the ' +\n",
              "            '<a target=\"_blank\" href=https://colab.research.google.com/notebooks/data_table.ipynb>data table notebook</a>'\n",
              "            + ' to learn more about interactive tables.';\n",
              "          element.innerHTML = '';\n",
              "          dataTable['output_type'] = 'display_data';\n",
              "          await google.colab.output.renderOutput(dataTable, element);\n",
              "          const docLink = document.createElement('div');\n",
              "          docLink.innerHTML = docLinkHtml;\n",
              "          element.appendChild(docLink);\n",
              "        }\n",
              "      </script>\n",
              "    </div>\n",
              "  </div>\n",
              "  "
            ]
          },
          "metadata": {},
          "execution_count": 9
        }
      ]
    },
    {
      "cell_type": "code",
      "source": [
        "def separate_year(name_year):\n",
        "  date = name_year.split('(')[-1]\n",
        "  return int(date[:-1])"
      ],
      "metadata": {
        "id": "kYetiDy6gwwn"
      },
      "execution_count": null,
      "outputs": []
    },
    {
      "cell_type": "code",
      "source": [
        "year = df_items['movie name'].apply(separate_year)\n",
        "# sum(year.isna()) # = 0 so no missing years"
      ],
      "metadata": {
        "id": "finNEJUVg0XU"
      },
      "execution_count": null,
      "outputs": []
    },
    {
      "cell_type": "markdown",
      "source": [
        "**Normallize year feature according to quantiles of the distribution, as in the paper.\\\n",
        "We first find the quantiles, build the bins, and map each year to its quantile.\\\n",
        "Additional powers of year are added as well as in the paper. sqrt and sqr.**"
      ],
      "metadata": {
        "id": "u_1_U3CWMS7W"
      }
    },
    {
      "cell_type": "code",
      "source": [
        "q = np.array([0.1, 0.2, 0.3, 0.4, 0.5, 0.6, 0.7, 0.8, 0.9])\n",
        "quantiles = np.quantile(year, q)"
      ],
      "metadata": {
        "id": "dzuI3240CYUw"
      },
      "execution_count": null,
      "outputs": []
    },
    {
      "cell_type": "code",
      "source": [
        "year_bins = np.concatenate((np.expand_dims(year.min(), axis = 0),quantiles, np.expand_dims(year.max(), axis = 0)))\n",
        "year_bins"
      ],
      "metadata": {
        "colab": {
          "base_uri": "https://localhost:8080/"
        },
        "id": "bIXQOS61GMJ5",
        "outputId": "cef19573-4179-4988-c6a9-337b736282ef"
      },
      "execution_count": null,
      "outputs": [
        {
          "output_type": "execute_result",
          "data": {
            "text/plain": [
              "array([1919., 1959., 1977., 1986., 1991., 1994., 1995., 1996., 1997.,\n",
              "       1999., 2000.])"
            ]
          },
          "metadata": {},
          "execution_count": 12
        }
      ]
    },
    {
      "cell_type": "code",
      "source": [
        "# We confirm that we got the bins right by plotting the distribution, flattened to quantiles\n",
        "# There is a known anomaly of many \"new\" movies, but there we can't separate further.\n",
        "sns.histplot(data=year, bins = year_bins)"
      ],
      "metadata": {
        "id": "Jvn9XUw1K2UI",
        "colab": {
          "base_uri": "https://localhost:8080/",
          "height": 297
        },
        "outputId": "ca839bf8-17b3-4381-b04e-4ac68b5c95e8"
      },
      "execution_count": null,
      "outputs": [
        {
          "output_type": "execute_result",
          "data": {
            "text/plain": [
              "<matplotlib.axes._subplots.AxesSubplot at 0x7fa128fb1310>"
            ]
          },
          "metadata": {},
          "execution_count": 13
        },
        {
          "output_type": "display_data",
          "data": {
            "text/plain": [
              "<Figure size 432x288 with 1 Axes>"
            ],
            "image/png": "[encoded data removed]"
          },
          "metadata": {
            "needs_background": "light"
          }
        }
      ]
    },
    {
      "cell_type": "code",
      "source": [
        "def year_to_quantile(year, year_bins):\n",
        "  quant = np.array([0, 0.1, 0.2, 0.3, 0.4, 0.5, 0.6, 0.7, 0.8, 0.9])\n",
        "  for start, end, q in zip(year_bins[:-1], year_bins[1:], quant):\n",
        "    if year >= start and year <= end:\n",
        "      return q"
      ],
      "metadata": {
        "id": "sP83VZb0G-mH"
      },
      "execution_count": null,
      "outputs": []
    },
    {
      "cell_type": "code",
      "source": [
        "df_items['year'] = year\n",
        "df_items['normalized year'] = df_items['year'].apply(lambda x: year_to_quantile(x, year_bins))\n",
        "df_items['normalized year sqrt'] = df_items['normalized year'].apply(lambda x: x**0.5)\n",
        "df_items['normalized year sqr'] = df_items['normalized year'].apply(lambda x: x**2)"
      ],
      "metadata": {
        "id": "2H-sHtBYLG-y"
      },
      "execution_count": null,
      "outputs": []
    },
    {
      "cell_type": "code",
      "source": [
        "#Alternative regular normalization\n",
        "# df_items['year'] = year\n",
        "# #some normalization:\n",
        "# max_year = df_items['year'].max()\n",
        "# year_range = max_year - df_items['year'].min()\n",
        "# df_items['normalized year'] = (max_year - df_items['year'])/year_range\n",
        "# df_items['normalized year sqrt'] = df_items['normalized year'].apply(lambda x: x**0.5)\n",
        "# df_items['normalized year sqr'] = df_items['normalized year'].apply(lambda x: x**2)"
      ],
      "metadata": {
        "id": "mKErNOm1ktWA"
      },
      "execution_count": null,
      "outputs": []
    },
    {
      "cell_type": "markdown",
      "source": [
        "**Genres**"
      ],
      "metadata": {
        "id": "DHyxCfwLNy5c"
      }
    },
    {
      "cell_type": "code",
      "source": [
        "genres_list = ['Action','Adventure','Animation','Children\\'s','Comedy','Crime','Documentary','Drama','Fantasy','Film-Noir','Horror','Musical','Mystery','Romance','Sci-Fi','Thriller','War','Western']\n",
        "genres_mapping = dict(zip(genres_list, np.arange(len(genres_list))))"
      ],
      "metadata": {
        "id": "_AfVxmwet8cR"
      },
      "execution_count": null,
      "outputs": []
    },
    {
      "cell_type": "code",
      "source": [
        "def separate_genres(genres):\n",
        "  item_genres = genres.split('|')\n",
        "  genres_features = np.zeros(len(genres_list))\n",
        "  for g in item_genres:\n",
        "    genres_features[genres_mapping[g]] = 1\n",
        "  return genres_features"
      ],
      "metadata": {
        "id": "k5ULSumnsFPU"
      },
      "execution_count": null,
      "outputs": []
    },
    {
      "cell_type": "code",
      "source": [
        "g_features = df_items['genres'].apply(separate_genres)"
      ],
      "metadata": {
        "id": "cVMiQ0wRrdi-"
      },
      "execution_count": null,
      "outputs": []
    },
    {
      "cell_type": "code",
      "source": [
        "g_features.head()"
      ],
      "metadata": {
        "id": "H-mAuNDAxziM",
        "colab": {
          "base_uri": "https://localhost:8080/"
        },
        "outputId": "522d012b-3403-4d63-bce4-5fdaa58ab844"
      },
      "execution_count": null,
      "outputs": [
        {
          "output_type": "execute_result",
          "data": {
            "text/plain": [
              "0    [0.0, 0.0, 1.0, 1.0, 1.0, 0.0, 0.0, 0.0, 0.0, ...\n",
              "1    [0.0, 1.0, 0.0, 1.0, 0.0, 0.0, 0.0, 0.0, 1.0, ...\n",
              "2    [0.0, 0.0, 0.0, 0.0, 1.0, 0.0, 0.0, 0.0, 0.0, ...\n",
              "3    [0.0, 0.0, 0.0, 0.0, 1.0, 0.0, 0.0, 1.0, 0.0, ...\n",
              "4    [0.0, 0.0, 0.0, 0.0, 1.0, 0.0, 0.0, 0.0, 0.0, ...\n",
              "Name: genres, dtype: object"
            ]
          },
          "metadata": {},
          "execution_count": 21
        }
      ]
    },
    {
      "cell_type": "code",
      "source": [
        "df_items['genres features'] = g_features"
      ],
      "metadata": {
        "id": "vxnImhr0LnzU"
      },
      "execution_count": null,
      "outputs": []
    },
    {
      "cell_type": "code",
      "source": [
        "df_items.head()"
      ],
      "metadata": {
        "colab": {
          "base_uri": "https://localhost:8080/",
          "height": 206
        },
        "id": "qDH8A7ckLqgf",
        "outputId": "a6f1a59e-f3f3-4da0-8008-4dd3809eb513"
      },
      "execution_count": null,
      "outputs": [
        {
          "output_type": "execute_result",
          "data": {
            "text/plain": [
              "   movie id                          movie name                        genres  \\\n",
              "0         1                    Toy Story (1995)   Animation|Children's|Comedy   \n",
              "1         2                      Jumanji (1995)  Adventure|Children's|Fantasy   \n",
              "2         3             Grumpier Old Men (1995)                Comedy|Romance   \n",
              "3         4            Waiting to Exhale (1995)                  Comedy|Drama   \n",
              "4         5  Father of the Bride Part II (1995)                        Comedy   \n",
              "\n",
              "   year  normalized year  normalized year sqrt  normalized year sqr  \\\n",
              "0  1995              0.5              0.707107                 0.25   \n",
              "1  1995              0.5              0.707107                 0.25   \n",
              "2  1995              0.5              0.707107                 0.25   \n",
              "3  1995              0.5              0.707107                 0.25   \n",
              "4  1995              0.5              0.707107                 0.25   \n",
              "\n",
              "                                     genres features  \n",
              "0  [0.0, 0.0, 1.0, 1.0, 1.0, 0.0, 0.0, 0.0, 0.0, ...  \n",
              "1  [0.0, 1.0, 0.0, 1.0, 0.0, 0.0, 0.0, 0.0, 1.0, ...  \n",
              "2  [0.0, 0.0, 0.0, 0.0, 1.0, 0.0, 0.0, 0.0, 0.0, ...  \n",
              "3  [0.0, 0.0, 0.0, 0.0, 1.0, 0.0, 0.0, 1.0, 0.0, ...  \n",
              "4  [0.0, 0.0, 0.0, 0.0, 1.0, 0.0, 0.0, 0.0, 0.0, ...  "
            ],
            "text/html": [
              "\n",
              "  <div id=\"df-ef00eeda-de2f-4302-bb9f-c00e3475eda4\">\n",
              "    <div class=\"colab-df-container\">\n",
              "      <div>\n",
              "<style scoped>\n",
              "    .dataframe tbody tr th:only-of-type {\n",
              "        vertical-align: middle;\n",
              "    }\n",
              "\n",
              "    .dataframe tbody tr th {\n",
              "        vertical-align: top;\n",
              "    }\n",
              "\n",
              "    .dataframe thead th {\n",
              "        text-align: right;\n",
              "    }\n",
              "</style>\n",
              "<table border=\"1\" class=\"dataframe\">\n",
              "  <thead>\n",
              "    <tr style=\"text-align: right;\">\n",
              "      <th></th>\n",
              "      <th>movie id</th>\n",
              "      <th>movie name</th>\n",
              "      <th>genres</th>\n",
              "      <th>year</th>\n",
              "      <th>normalized year</th>\n",
              "      <th>normalized year sqrt</th>\n",
              "      <th>normalized year sqr</th>\n",
              "      <th>genres features</th>\n",
              "    </tr>\n",
              "  </thead>\n",
              "  <tbody>\n",
              "    <tr>\n",
              "      <th>0</th>\n",
              "      <td>1</td>\n",
              "      <td>Toy Story (1995)</td>\n",
              "      <td>Animation|Children's|Comedy</td>\n",
              "      <td>1995</td>\n",
              "      <td>0.5</td>\n",
              "      <td>0.707107</td>\n",
              "      <td>0.25</td>\n",
              "      <td>[0.0, 0.0, 1.0, 1.0, 1.0, 0.0, 0.0, 0.0, 0.0, ...</td>\n",
              "    </tr>\n",
              "    <tr>\n",
              "      <th>1</th>\n",
              "      <td>2</td>\n",
              "      <td>Jumanji (1995)</td>\n",
              "      <td>Adventure|Children's|Fantasy</td>\n",
              "      <td>1995</td>\n",
              "      <td>0.5</td>\n",
              "      <td>0.707107</td>\n",
              "      <td>0.25</td>\n",
              "      <td>[0.0, 1.0, 0.0, 1.0, 0.0, 0.0, 0.0, 0.0, 1.0, ...</td>\n",
              "    </tr>\n",
              "    <tr>\n",
              "      <th>2</th>\n",
              "      <td>3</td>\n",
              "      <td>Grumpier Old Men (1995)</td>\n",
              "      <td>Comedy|Romance</td>\n",
              "      <td>1995</td>\n",
              "      <td>0.5</td>\n",
              "      <td>0.707107</td>\n",
              "      <td>0.25</td>\n",
              "      <td>[0.0, 0.0, 0.0, 0.0, 1.0, 0.0, 0.0, 0.0, 0.0, ...</td>\n",
              "    </tr>\n",
              "    <tr>\n",
              "      <th>3</th>\n",
              "      <td>4</td>\n",
              "      <td>Waiting to Exhale (1995)</td>\n",
              "      <td>Comedy|Drama</td>\n",
              "      <td>1995</td>\n",
              "      <td>0.5</td>\n",
              "      <td>0.707107</td>\n",
              "      <td>0.25</td>\n",
              "      <td>[0.0, 0.0, 0.0, 0.0, 1.0, 0.0, 0.0, 1.0, 0.0, ...</td>\n",
              "    </tr>\n",
              "    <tr>\n",
              "      <th>4</th>\n",
              "      <td>5</td>\n",
              "      <td>Father of the Bride Part II (1995)</td>\n",
              "      <td>Comedy</td>\n",
              "      <td>1995</td>\n",
              "      <td>0.5</td>\n",
              "      <td>0.707107</td>\n",
              "      <td>0.25</td>\n",
              "      <td>[0.0, 0.0, 0.0, 0.0, 1.0, 0.0, 0.0, 0.0, 0.0, ...</td>\n",
              "    </tr>\n",
              "  </tbody>\n",
              "</table>\n",
              "</div>\n",
              "      <button class=\"colab-df-convert\" onclick=\"convertToInteractive('df-ef00eeda-de2f-4302-bb9f-c00e3475eda4')\"\n",
              "              title=\"Convert this dataframe to an interactive table.\"\n",
              "              style=\"display:none;\">\n",
              "        \n",
              "  <svg xmlns=\"http://www.w3.org/2000/svg\" height=\"24px\"viewBox=\"0 0 24 24\"\n",
              "       width=\"24px\">\n",
              "    <path d=\"M0 0h24v24H0V0z\" fill=\"none\"/>\n",
              "    <path d=\"M18.56 5.44l.94 2.06.94-2.06 2.06-.94-2.06-.94-.94-2.06-.94 2.06-2.06.94zm-11 1L8.5 8.5l.94-2.06 2.06-.94-2.06-.94L8.5 2.5l-.94 2.06-2.06.94zm10 10l.94 2.06.94-2.06 2.06-.94-2.06-.94-.94-2.06-.94 2.06-2.06.94z\"/><path d=\"M17.41 7.96l-1.37-1.37c-.4-.4-.92-.59-1.43-.59-.52 0-1.04.2-1.43.59L10.3 9.45l-7.72 7.72c-.78.78-.78 2.05 0 2.83L4 21.41c.39.39.9.59 1.41.59.51 0 1.02-.2 1.41-.59l7.78-7.78 2.81-2.81c.8-.78.8-2.07 0-2.86zM5.41 20L4 18.59l7.72-7.72 1.47 1.35L5.41 20z\"/>\n",
              "  </svg>\n",
              "      </button>\n",
              "      \n",
              "  <style>\n",
              "    .colab-df-container {\n",
              "      display:flex;\n",
              "      flex-wrap:wrap;\n",
              "      gap: 12px;\n",
              "    }\n",
              "\n",
              "    .colab-df-convert {\n",
              "      background-color: #E8F0FE;\n",
              "      border: none;\n",
              "      border-radius: 50%;\n",
              "      cursor: pointer;\n",
              "      display: none;\n",
              "      fill: #1967D2;\n",
              "      height: 32px;\n",
              "      padding: 0 0 0 0;\n",
              "      width: 32px;\n",
              "    }\n",
              "\n",
              "    .colab-df-convert:hover {\n",
              "      background-color: #E2EBFA;\n",
              "      box-shadow: 0px 1px 2px rgba(60, 64, 67, 0.3), 0px 1px 3px 1px rgba(60, 64, 67, 0.15);\n",
              "      fill: #174EA6;\n",
              "    }\n",
              "\n",
              "    [theme=dark] .colab-df-convert {\n",
              "      background-color: #3B4455;\n",
              "      fill: #D2E3FC;\n",
              "    }\n",
              "\n",
              "    [theme=dark] .colab-df-convert:hover {\n",
              "      background-color: #434B5C;\n",
              "      box-shadow: 0px 1px 3px 1px rgba(0, 0, 0, 0.15);\n",
              "      filter: drop-shadow(0px 1px 2px rgba(0, 0, 0, 0.3));\n",
              "      fill: #FFFFFF;\n",
              "    }\n",
              "  </style>\n",
              "\n",
              "      <script>\n",
              "        const buttonEl =\n",
              "          document.querySelector('#df-ef00eeda-de2f-4302-bb9f-c00e3475eda4 button.colab-df-convert');\n",
              "        buttonEl.style.display =\n",
              "          google.colab.kernel.accessAllowed ? 'block' : 'none';\n",
              "\n",
              "        async function convertToInteractive(key) {\n",
              "          const element = document.querySelector('#df-ef00eeda-de2f-4302-bb9f-c00e3475eda4');\n",
              "          const dataTable =\n",
              "            await google.colab.kernel.invokeFunction('convertToInteractive',\n",
              "                                                     [key], {});\n",
              "          if (!dataTable) return;\n",
              "\n",
              "          const docLinkHtml = 'Like what you see? Visit the ' +\n",
              "            '<a target=\"_blank\" href=https://colab.research.google.com/notebooks/data_table.ipynb>data table notebook</a>'\n",
              "            + ' to learn more about interactive tables.';\n",
              "          element.innerHTML = '';\n",
              "          dataTable['output_type'] = 'display_data';\n",
              "          await google.colab.output.renderOutput(dataTable, element);\n",
              "          const docLink = document.createElement('div');\n",
              "          docLink.innerHTML = docLinkHtml;\n",
              "          element.appendChild(docLink);\n",
              "        }\n",
              "      </script>\n",
              "    </div>\n",
              "  </div>\n",
              "  "
            ]
          },
          "metadata": {},
          "execution_count": 20
        }
      ]
    },
    {
      "cell_type": "markdown",
      "source": [
        "###Merging with candidates data"
      ],
      "metadata": {
        "id": "btI0TYKi1L9c"
      }
    },
    {
      "cell_type": "code",
      "source": [
        "path = './drive/My Drive/Colab Notebooks/recsys_final_project/candidates_3'\n",
        "with open(path , 'rb') as f:\n",
        "  (train_candidates, all_test_candidates, all_validation_candidates) = pickle.load(f)\n",
        "  print('loaded candidates')"
      ],
      "metadata": {
        "colab": {
          "base_uri": "https://localhost:8080/"
        },
        "id": "6qZBttor1Z1_",
        "outputId": "c7e20ac1-2a52-478d-818b-d8418d8c8722"
      },
      "execution_count": null,
      "outputs": [
        {
          "output_type": "stream",
          "name": "stdout",
          "text": [
            "loaded candidates\n"
          ]
        }
      ]
    },
    {
      "cell_type": "code",
      "source": [
        "n_candidates = 100"
      ],
      "metadata": {
        "id": "Vp4DiOGsOBIP"
      },
      "execution_count": null,
      "outputs": []
    },
    {
      "cell_type": "code",
      "source": [
        "# all_validation_candidates.shape\n",
        "train_candidates.shape"
      ],
      "metadata": {
        "colab": {
          "base_uri": "https://localhost:8080/"
        },
        "id": "gPozf2ybWxkX",
        "outputId": "7a546518-6fcd-4265-bc98-ea443fe8b4ae"
      },
      "execution_count": null,
      "outputs": [
        {
          "output_type": "execute_result",
          "data": {
            "text/plain": [
              "(6040, 250)"
            ]
          },
          "metadata": {},
          "execution_count": 27
        }
      ]
    },
    {
      "cell_type": "code",
      "source": [
        "# Generate ratings dataframe to easily extract user-item ratings\n",
        "ratings = df_ratings.pivot(index = 'user_id', columns ='item_id', values = 'rating').fillna(0)"
      ],
      "metadata": {
        "id": "mzLclRgEu4ht"
      },
      "execution_count": null,
      "outputs": []
    },
    {
      "cell_type": "code",
      "source": [
        "ratings.head()"
      ],
      "metadata": {
        "colab": {
          "base_uri": "https://localhost:8080/",
          "height": 267
        },
        "id": "n3j5c1XBu7gj",
        "outputId": "16953d25-1816-40e2-f031-15fe449a0c22"
      },
      "execution_count": null,
      "outputs": [
        {
          "output_type": "execute_result",
          "data": {
            "text/plain": [
              "item_id  1     2     3     4     5     6     7     8     9     10    ...  \\\n",
              "user_id                                                              ...   \n",
              "1         5.0   0.0   0.0   0.0   0.0   0.0   0.0   0.0   0.0   0.0  ...   \n",
              "2         0.0   0.0   0.0   0.0   0.0   0.0   0.0   0.0   0.0   0.0  ...   \n",
              "3         0.0   0.0   0.0   0.0   0.0   0.0   0.0   0.0   0.0   0.0  ...   \n",
              "4         0.0   0.0   0.0   0.0   0.0   0.0   0.0   0.0   0.0   0.0  ...   \n",
              "5         0.0   0.0   0.0   0.0   0.0   2.0   0.0   0.0   0.0   0.0  ...   \n",
              "\n",
              "item_id  3943  3944  3945  3946  3947  3948  3949  3950  3951  3952  \n",
              "user_id                                                              \n",
              "1         0.0   0.0   0.0   0.0   0.0   0.0   0.0   0.0   0.0   0.0  \n",
              "2         0.0   0.0   0.0   0.0   0.0   0.0   0.0   0.0   0.0   0.0  \n",
              "3         0.0   0.0   0.0   0.0   0.0   0.0   0.0   0.0   0.0   0.0  \n",
              "4         0.0   0.0   0.0   0.0   0.0   0.0   0.0   0.0   0.0   0.0  \n",
              "5         0.0   0.0   0.0   0.0   0.0   0.0   0.0   0.0   0.0   0.0  \n",
              "\n",
              "[5 rows x 3706 columns]"
            ],
            "text/html": [
              "\n",
              "  <div id=\"df-10813a10-98c5-4ccb-ba5c-adc41bf2b443\">\n",
              "    <div class=\"colab-df-container\">\n",
              "      <div>\n",
              "<style scoped>\n",
              "    .dataframe tbody tr th:only-of-type {\n",
              "        vertical-align: middle;\n",
              "    }\n",
              "\n",
              "    .dataframe tbody tr th {\n",
              "        vertical-align: top;\n",
              "    }\n",
              "\n",
              "    .dataframe thead th {\n",
              "        text-align: right;\n",
              "    }\n",
              "</style>\n",
              "<table border=\"1\" class=\"dataframe\">\n",
              "  <thead>\n",
              "    <tr style=\"text-align: right;\">\n",
              "      <th>item_id</th>\n",
              "      <th>1</th>\n",
              "      <th>2</th>\n",
              "      <th>3</th>\n",
              "      <th>4</th>\n",
              "      <th>5</th>\n",
              "      <th>6</th>\n",
              "      <th>7</th>\n",
              "      <th>8</th>\n",
              "      <th>9</th>\n",
              "      <th>10</th>\n",
              "      <th>...</th>\n",
              "      <th>3943</th>\n",
              "      <th>3944</th>\n",
              "      <th>3945</th>\n",
              "      <th>3946</th>\n",
              "      <th>3947</th>\n",
              "      <th>3948</th>\n",
              "      <th>3949</th>\n",
              "      <th>3950</th>\n",
              "      <th>3951</th>\n",
              "      <th>3952</th>\n",
              "    </tr>\n",
              "    <tr>\n",
              "      <th>user_id</th>\n",
              "      <th></th>\n",
              "      <th></th>\n",
              "      <th></th>\n",
              "      <th></th>\n",
              "      <th></th>\n",
              "      <th></th>\n",
              "      <th></th>\n",
              "      <th></th>\n",
              "      <th></th>\n",
              "      <th></th>\n",
              "      <th></th>\n",
              "      <th></th>\n",
              "      <th></th>\n",
              "      <th></th>\n",
              "      <th></th>\n",
              "      <th></th>\n",
              "      <th></th>\n",
              "      <th></th>\n",
              "      <th></th>\n",
              "      <th></th>\n",
              "      <th></th>\n",
              "    </tr>\n",
              "  </thead>\n",
              "  <tbody>\n",
              "    <tr>\n",
              "      <th>1</th>\n",
              "      <td>5.0</td>\n",
              "      <td>0.0</td>\n",
              "      <td>0.0</td>\n",
              "      <td>0.0</td>\n",
              "      <td>0.0</td>\n",
              "      <td>0.0</td>\n",
              "      <td>0.0</td>\n",
              "      <td>0.0</td>\n",
              "      <td>0.0</td>\n",
              "      <td>0.0</td>\n",
              "      <td>...</td>\n",
              "      <td>0.0</td>\n",
              "      <td>0.0</td>\n",
              "      <td>0.0</td>\n",
              "      <td>0.0</td>\n",
              "      <td>0.0</td>\n",
              "      <td>0.0</td>\n",
              "      <td>0.0</td>\n",
              "      <td>0.0</td>\n",
              "      <td>0.0</td>\n",
              "      <td>0.0</td>\n",
              "    </tr>\n",
              "    <tr>\n",
              "      <th>2</th>\n",
              "      <td>0.0</td>\n",
              "      <td>0.0</td>\n",
              "      <td>0.0</td>\n",
              "      <td>0.0</td>\n",
              "      <td>0.0</td>\n",
              "      <td>0.0</td>\n",
              "      <td>0.0</td>\n",
              "      <td>0.0</td>\n",
              "      <td>0.0</td>\n",
              "      <td>0.0</td>\n",
              "      <td>...</td>\n",
              "      <td>0.0</td>\n",
              "      <td>0.0</td>\n",
              "      <td>0.0</td>\n",
              "      <td>0.0</td>\n",
              "      <td>0.0</td>\n",
              "      <td>0.0</td>\n",
              "      <td>0.0</td>\n",
              "      <td>0.0</td>\n",
              "      <td>0.0</td>\n",
              "      <td>0.0</td>\n",
              "    </tr>\n",
              "    <tr>\n",
              "      <th>3</th>\n",
              "      <td>0.0</td>\n",
              "      <td>0.0</td>\n",
              "      <td>0.0</td>\n",
              "      <td>0.0</td>\n",
              "      <td>0.0</td>\n",
              "      <td>0.0</td>\n",
              "      <td>0.0</td>\n",
              "      <td>0.0</td>\n",
              "      <td>0.0</td>\n",
              "      <td>0.0</td>\n",
              "      <td>...</td>\n",
              "      <td>0.0</td>\n",
              "      <td>0.0</td>\n",
              "      <td>0.0</td>\n",
              "      <td>0.0</td>\n",
              "      <td>0.0</td>\n",
              "      <td>0.0</td>\n",
              "      <td>0.0</td>\n",
              "      <td>0.0</td>\n",
              "      <td>0.0</td>\n",
              "      <td>0.0</td>\n",
              "    </tr>\n",
              "    <tr>\n",
              "      <th>4</th>\n",
              "      <td>0.0</td>\n",
              "      <td>0.0</td>\n",
              "      <td>0.0</td>\n",
              "      <td>0.0</td>\n",
              "      <td>0.0</td>\n",
              "      <td>0.0</td>\n",
              "      <td>0.0</td>\n",
              "      <td>0.0</td>\n",
              "      <td>0.0</td>\n",
              "      <td>0.0</td>\n",
              "      <td>...</td>\n",
              "      <td>0.0</td>\n",
              "      <td>0.0</td>\n",
              "      <td>0.0</td>\n",
              "      <td>0.0</td>\n",
              "      <td>0.0</td>\n",
              "      <td>0.0</td>\n",
              "      <td>0.0</td>\n",
              "      <td>0.0</td>\n",
              "      <td>0.0</td>\n",
              "      <td>0.0</td>\n",
              "    </tr>\n",
              "    <tr>\n",
              "      <th>5</th>\n",
              "      <td>0.0</td>\n",
              "      <td>0.0</td>\n",
              "      <td>0.0</td>\n",
              "      <td>0.0</td>\n",
              "      <td>0.0</td>\n",
              "      <td>2.0</td>\n",
              "      <td>0.0</td>\n",
              "      <td>0.0</td>\n",
              "      <td>0.0</td>\n",
              "      <td>0.0</td>\n",
              "      <td>...</td>\n",
              "      <td>0.0</td>\n",
              "      <td>0.0</td>\n",
              "      <td>0.0</td>\n",
              "      <td>0.0</td>\n",
              "      <td>0.0</td>\n",
              "      <td>0.0</td>\n",
              "      <td>0.0</td>\n",
              "      <td>0.0</td>\n",
              "      <td>0.0</td>\n",
              "      <td>0.0</td>\n",
              "    </tr>\n",
              "  </tbody>\n",
              "</table>\n",
              "<p>5 rows × 3706 columns</p>\n",
              "</div>\n",
              "      <button class=\"colab-df-convert\" onclick=\"convertToInteractive('df-10813a10-98c5-4ccb-ba5c-adc41bf2b443')\"\n",
              "              title=\"Convert this dataframe to an interactive table.\"\n",
              "              style=\"display:none;\">\n",
              "        \n",
              "  <svg xmlns=\"http://www.w3.org/2000/svg\" height=\"24px\"viewBox=\"0 0 24 24\"\n",
              "       width=\"24px\">\n",
              "    <path d=\"M0 0h24v24H0V0z\" fill=\"none\"/>\n",
              "    <path d=\"M18.56 5.44l.94 2.06.94-2.06 2.06-.94-2.06-.94-.94-2.06-.94 2.06-2.06.94zm-11 1L8.5 8.5l.94-2.06 2.06-.94-2.06-.94L8.5 2.5l-.94 2.06-2.06.94zm10 10l.94 2.06.94-2.06 2.06-.94-2.06-.94-.94-2.06-.94 2.06-2.06.94z\"/><path d=\"M17.41 7.96l-1.37-1.37c-.4-.4-.92-.59-1.43-.59-.52 0-1.04.2-1.43.59L10.3 9.45l-7.72 7.72c-.78.78-.78 2.05 0 2.83L4 21.41c.39.39.9.59 1.41.59.51 0 1.02-.2 1.41-.59l7.78-7.78 2.81-2.81c.8-.78.8-2.07 0-2.86zM5.41 20L4 18.59l7.72-7.72 1.47 1.35L5.41 20z\"/>\n",
              "  </svg>\n",
              "      </button>\n",
              "      \n",
              "  <style>\n",
              "    .colab-df-container {\n",
              "      display:flex;\n",
              "      flex-wrap:wrap;\n",
              "      gap: 12px;\n",
              "    }\n",
              "\n",
              "    .colab-df-convert {\n",
              "      background-color: #E8F0FE;\n",
              "      border: none;\n",
              "      border-radius: 50%;\n",
              "      cursor: pointer;\n",
              "      display: none;\n",
              "      fill: #1967D2;\n",
              "      height: 32px;\n",
              "      padding: 0 0 0 0;\n",
              "      width: 32px;\n",
              "    }\n",
              "\n",
              "    .colab-df-convert:hover {\n",
              "      background-color: #E2EBFA;\n",
              "      box-shadow: 0px 1px 2px rgba(60, 64, 67, 0.3), 0px 1px 3px 1px rgba(60, 64, 67, 0.15);\n",
              "      fill: #174EA6;\n",
              "    }\n",
              "\n",
              "    [theme=dark] .colab-df-convert {\n",
              "      background-color: #3B4455;\n",
              "      fill: #D2E3FC;\n",
              "    }\n",
              "\n",
              "    [theme=dark] .colab-df-convert:hover {\n",
              "      background-color: #434B5C;\n",
              "      box-shadow: 0px 1px 3px 1px rgba(0, 0, 0, 0.15);\n",
              "      filter: drop-shadow(0px 1px 2px rgba(0, 0, 0, 0.3));\n",
              "      fill: #FFFFFF;\n",
              "    }\n",
              "  </style>\n",
              "\n",
              "      <script>\n",
              "        const buttonEl =\n",
              "          document.querySelector('#df-10813a10-98c5-4ccb-ba5c-adc41bf2b443 button.colab-df-convert');\n",
              "        buttonEl.style.display =\n",
              "          google.colab.kernel.accessAllowed ? 'block' : 'none';\n",
              "\n",
              "        async function convertToInteractive(key) {\n",
              "          const element = document.querySelector('#df-10813a10-98c5-4ccb-ba5c-adc41bf2b443');\n",
              "          const dataTable =\n",
              "            await google.colab.kernel.invokeFunction('convertToInteractive',\n",
              "                                                     [key], {});\n",
              "          if (!dataTable) return;\n",
              "\n",
              "          const docLinkHtml = 'Like what you see? Visit the ' +\n",
              "            '<a target=\"_blank\" href=https://colab.research.google.com/notebooks/data_table.ipynb>data table notebook</a>'\n",
              "            + ' to learn more about interactive tables.';\n",
              "          element.innerHTML = '';\n",
              "          dataTable['output_type'] = 'display_data';\n",
              "          await google.colab.output.renderOutput(dataTable, element);\n",
              "          const docLink = document.createElement('div');\n",
              "          docLink.innerHTML = docLinkHtml;\n",
              "          element.appendChild(docLink);\n",
              "        }\n",
              "      </script>\n",
              "    </div>\n",
              "  </div>\n",
              "  "
            ]
          },
          "metadata": {},
          "execution_count": 31
        }
      ]
    },
    {
      "cell_type": "code",
      "source": [
        "non_zeros = np.count_nonzero(ratings.values, axis=1)\n",
        "mean_rating = ratings.sum(axis = 1)/non_zeros\n",
        "# mean_rating = mean_rating.mask(pd.Series(non_zeros<20), 0) #not needed as there are no items with less ratings\n",
        "mean_rating = mean_rating/5 #normalize"
      ],
      "metadata": {
        "id": "vlhLQjXmUKiY"
      },
      "execution_count": null,
      "outputs": []
    },
    {
      "cell_type": "code",
      "source": [
        "# We need to sample the train data to match the sample taken when extracting the candidates (last row)\n",
        "df_features_reset = df_features_sampled.reset_index(drop = True)"
      ],
      "metadata": {
        "id": "wKE5E_rRJjLO"
      },
      "execution_count": null,
      "outputs": []
    },
    {
      "cell_type": "code",
      "source": [
        "sampled_indexes = np.arange(49, 302000, 50) #last row is taken for each user"
      ],
      "metadata": {
        "id": "oyOY5RftvQpa"
      },
      "execution_count": null,
      "outputs": []
    },
    {
      "cell_type": "code",
      "source": [
        "df_train_sampled = df_features_reset.iloc[sampled_indexes]"
      ],
      "metadata": {
        "id": "HxNbGltvufn5"
      },
      "execution_count": null,
      "outputs": []
    },
    {
      "cell_type": "code",
      "source": [
        "df_train_sampled.head()"
      ],
      "metadata": {
        "colab": {
          "base_uri": "https://localhost:8080/",
          "height": 206
        },
        "id": "j2xVrx-cwdfO",
        "outputId": "f39e507d-362a-4d0f-baa0-ea3be9dbe4cc"
      },
      "execution_count": null,
      "outputs": [
        {
          "output_type": "execute_result",
          "data": {
            "text/plain": [
              "     user_id  item_id  rating  timestamp  example age  example age sq  \\\n",
              "49         1     2355       5  978824291     0.753535        0.567816   \n",
              "99         2     3809       3  978299712     0.759380        0.576658   \n",
              "149        3     3421       4  978298147     0.759398        0.576685   \n",
              "199        4     1214       4  978294260     0.759441        0.576751   \n",
              "249        5     1884       3  978246576     0.759972        0.577558   \n",
              "\n",
              "                                      previous watches  gender  age  \\\n",
              "49   [3186, 1721, 1022, 1270, 2340, 1836, 3408, 120...       1    0   \n",
              "99   [1957, 920, 1953, 1084, 1962, 1834, 3735, 3654...       0    6   \n",
              "149  [593, 2858, 3534, 1968, 1961, 1431, 1266, 1378...       0    2   \n",
              "199  [1210, 1097, 3468, 3527, 480, 260, 1196, 1198,...       0    4   \n",
              "249  [1732, 2058, 150, 1721, 1729, 733, 2952, 2353,...       0    2   \n",
              "\n",
              "     occupation  \n",
              "49           10  \n",
              "99           16  \n",
              "149          15  \n",
              "199           7  \n",
              "249          20  "
            ],
            "text/html": [
              "\n",
              "  <div id=\"df-df6d17ef-dc94-4ade-9d7a-e87739c57b53\">\n",
              "    <div class=\"colab-df-container\">\n",
              "      <div>\n",
              "<style scoped>\n",
              "    .dataframe tbody tr th:only-of-type {\n",
              "        vertical-align: middle;\n",
              "    }\n",
              "\n",
              "    .dataframe tbody tr th {\n",
              "        vertical-align: top;\n",
              "    }\n",
              "\n",
              "    .dataframe thead th {\n",
              "        text-align: right;\n",
              "    }\n",
              "</style>\n",
              "<table border=\"1\" class=\"dataframe\">\n",
              "  <thead>\n",
              "    <tr style=\"text-align: right;\">\n",
              "      <th></th>\n",
              "      <th>user_id</th>\n",
              "      <th>item_id</th>\n",
              "      <th>rating</th>\n",
              "      <th>timestamp</th>\n",
              "      <th>example age</th>\n",
              "      <th>example age sq</th>\n",
              "      <th>previous watches</th>\n",
              "      <th>gender</th>\n",
              "      <th>age</th>\n",
              "      <th>occupation</th>\n",
              "    </tr>\n",
              "  </thead>\n",
              "  <tbody>\n",
              "    <tr>\n",
              "      <th>49</th>\n",
              "      <td>1</td>\n",
              "      <td>2355</td>\n",
              "      <td>5</td>\n",
              "      <td>978824291</td>\n",
              "      <td>0.753535</td>\n",
              "      <td>0.567816</td>\n",
              "      <td>[3186, 1721, 1022, 1270, 2340, 1836, 3408, 120...</td>\n",
              "      <td>1</td>\n",
              "      <td>0</td>\n",
              "      <td>10</td>\n",
              "    </tr>\n",
              "    <tr>\n",
              "      <th>99</th>\n",
              "      <td>2</td>\n",
              "      <td>3809</td>\n",
              "      <td>3</td>\n",
              "      <td>978299712</td>\n",
              "      <td>0.759380</td>\n",
              "      <td>0.576658</td>\n",
              "      <td>[1957, 920, 1953, 1084, 1962, 1834, 3735, 3654...</td>\n",
              "      <td>0</td>\n",
              "      <td>6</td>\n",
              "      <td>16</td>\n",
              "    </tr>\n",
              "    <tr>\n",
              "      <th>149</th>\n",
              "      <td>3</td>\n",
              "      <td>3421</td>\n",
              "      <td>4</td>\n",
              "      <td>978298147</td>\n",
              "      <td>0.759398</td>\n",
              "      <td>0.576685</td>\n",
              "      <td>[593, 2858, 3534, 1968, 1961, 1431, 1266, 1378...</td>\n",
              "      <td>0</td>\n",
              "      <td>2</td>\n",
              "      <td>15</td>\n",
              "    </tr>\n",
              "    <tr>\n",
              "      <th>199</th>\n",
              "      <td>4</td>\n",
              "      <td>1214</td>\n",
              "      <td>4</td>\n",
              "      <td>978294260</td>\n",
              "      <td>0.759441</td>\n",
              "      <td>0.576751</td>\n",
              "      <td>[1210, 1097, 3468, 3527, 480, 260, 1196, 1198,...</td>\n",
              "      <td>0</td>\n",
              "      <td>4</td>\n",
              "      <td>7</td>\n",
              "    </tr>\n",
              "    <tr>\n",
              "      <th>249</th>\n",
              "      <td>5</td>\n",
              "      <td>1884</td>\n",
              "      <td>3</td>\n",
              "      <td>978246576</td>\n",
              "      <td>0.759972</td>\n",
              "      <td>0.577558</td>\n",
              "      <td>[1732, 2058, 150, 1721, 1729, 733, 2952, 2353,...</td>\n",
              "      <td>0</td>\n",
              "      <td>2</td>\n",
              "      <td>20</td>\n",
              "    </tr>\n",
              "  </tbody>\n",
              "</table>\n",
              "</div>\n",
              "      <button class=\"colab-df-convert\" onclick=\"convertToInteractive('df-df6d17ef-dc94-4ade-9d7a-e87739c57b53')\"\n",
              "              title=\"Convert this dataframe to an interactive table.\"\n",
              "              style=\"display:none;\">\n",
              "        \n",
              "  <svg xmlns=\"http://www.w3.org/2000/svg\" height=\"24px\"viewBox=\"0 0 24 24\"\n",
              "       width=\"24px\">\n",
              "    <path d=\"M0 0h24v24H0V0z\" fill=\"none\"/>\n",
              "    <path d=\"M18.56 5.44l.94 2.06.94-2.06 2.06-.94-2.06-.94-.94-2.06-.94 2.06-2.06.94zm-11 1L8.5 8.5l.94-2.06 2.06-.94-2.06-.94L8.5 2.5l-.94 2.06-2.06.94zm10 10l.94 2.06.94-2.06 2.06-.94-2.06-.94-.94-2.06-.94 2.06-2.06.94z\"/><path d=\"M17.41 7.96l-1.37-1.37c-.4-.4-.92-.59-1.43-.59-.52 0-1.04.2-1.43.59L10.3 9.45l-7.72 7.72c-.78.78-.78 2.05 0 2.83L4 21.41c.39.39.9.59 1.41.59.51 0 1.02-.2 1.41-.59l7.78-7.78 2.81-2.81c.8-.78.8-2.07 0-2.86zM5.41 20L4 18.59l7.72-7.72 1.47 1.35L5.41 20z\"/>\n",
              "  </svg>\n",
              "      </button>\n",
              "      \n",
              "  <style>\n",
              "    .colab-df-container {\n",
              "      display:flex;\n",
              "      flex-wrap:wrap;\n",
              "      gap: 12px;\n",
              "    }\n",
              "\n",
              "    .colab-df-convert {\n",
              "      background-color: #E8F0FE;\n",
              "      border: none;\n",
              "      border-radius: 50%;\n",
              "      cursor: pointer;\n",
              "      display: none;\n",
              "      fill: #1967D2;\n",
              "      height: 32px;\n",
              "      padding: 0 0 0 0;\n",
              "      width: 32px;\n",
              "    }\n",
              "\n",
              "    .colab-df-convert:hover {\n",
              "      background-color: #E2EBFA;\n",
              "      box-shadow: 0px 1px 2px rgba(60, 64, 67, 0.3), 0px 1px 3px 1px rgba(60, 64, 67, 0.15);\n",
              "      fill: #174EA6;\n",
              "    }\n",
              "\n",
              "    [theme=dark] .colab-df-convert {\n",
              "      background-color: #3B4455;\n",
              "      fill: #D2E3FC;\n",
              "    }\n",
              "\n",
              "    [theme=dark] .colab-df-convert:hover {\n",
              "      background-color: #434B5C;\n",
              "      box-shadow: 0px 1px 3px 1px rgba(0, 0, 0, 0.15);\n",
              "      filter: drop-shadow(0px 1px 2px rgba(0, 0, 0, 0.3));\n",
              "      fill: #FFFFFF;\n",
              "    }\n",
              "  </style>\n",
              "\n",
              "      <script>\n",
              "        const buttonEl =\n",
              "          document.querySelector('#df-df6d17ef-dc94-4ade-9d7a-e87739c57b53 button.colab-df-convert');\n",
              "        buttonEl.style.display =\n",
              "          google.colab.kernel.accessAllowed ? 'block' : 'none';\n",
              "\n",
              "        async function convertToInteractive(key) {\n",
              "          const element = document.querySelector('#df-df6d17ef-dc94-4ade-9d7a-e87739c57b53');\n",
              "          const dataTable =\n",
              "            await google.colab.kernel.invokeFunction('convertToInteractive',\n",
              "                                                     [key], {});\n",
              "          if (!dataTable) return;\n",
              "\n",
              "          const docLinkHtml = 'Like what you see? Visit the ' +\n",
              "            '<a target=\"_blank\" href=https://colab.research.google.com/notebooks/data_table.ipynb>data table notebook</a>'\n",
              "            + ' to learn more about interactive tables.';\n",
              "          element.innerHTML = '';\n",
              "          dataTable['output_type'] = 'display_data';\n",
              "          await google.colab.output.renderOutput(dataTable, element);\n",
              "          const docLink = document.createElement('div');\n",
              "          docLink.innerHTML = docLinkHtml;\n",
              "          element.appendChild(docLink);\n",
              "        }\n",
              "      </script>\n",
              "    </div>\n",
              "  </div>\n",
              "  "
            ]
          },
          "metadata": {},
          "execution_count": 36
        }
      ]
    },
    {
      "cell_type": "code",
      "source": [
        "def combine_candidates_in_df(main_df, candidates):\n",
        "  candidate_columns = [str(x) for x in range(n_candidates)]\n",
        "  df_candidates = pd.DataFrame(candidates[:,:n_candidates], columns = candidate_columns, dtype = int)\n",
        "  df_candidates[str(n_candidates)] = main_df['item_id'].values #This is adding the target ID to the last of the candidates list (index 50 for 50 candidates)\n",
        "  df_with_candidates = pd.concat([main_df.reset_index(drop = True), df_candidates], axis=1)\n",
        "  return df_with_candidates"
      ],
      "metadata": {
        "id": "xOzRz5g00q0b"
      },
      "execution_count": null,
      "outputs": []
    },
    {
      "cell_type": "code",
      "source": [
        "df_with_candidates_val = combine_candidates_in_df(df_val, all_validation_candidates)\n",
        "df_with_candidates_test = combine_candidates_in_df(df_test, all_test_candidates)"
      ],
      "metadata": {
        "id": "G2ZwYTUF1sZb"
      },
      "execution_count": null,
      "outputs": []
    },
    {
      "cell_type": "code",
      "source": [
        "df_with_candidates_train = combine_candidates_in_df(df_train_sampled, train_candidates)"
      ],
      "metadata": {
        "id": "oNkCwtyO2MBr"
      },
      "execution_count": null,
      "outputs": []
    },
    {
      "cell_type": "code",
      "source": [
        "df_with_candidates_train.head()"
      ],
      "metadata": {
        "colab": {
          "base_uri": "https://localhost:8080/",
          "height": 235
        },
        "id": "R2NSROfW12_j",
        "outputId": "5da07338-91d1-4a6b-d15c-5887a9a34f94"
      },
      "execution_count": null,
      "outputs": [
        {
          "output_type": "execute_result",
          "data": {
            "text/plain": [
              "   user_id  item_id  rating  timestamp  example age  example age sq  \\\n",
              "0        1     2355       5  978824291     0.753535        0.567816   \n",
              "1        2     3809       3  978299712     0.759380        0.576658   \n",
              "2        3     3421       4  978298147     0.759398        0.576685   \n",
              "3        4     1214       4  978294260     0.759441        0.576751   \n",
              "4        5     1884       3  978246576     0.759972        0.577558   \n",
              "\n",
              "                                    previous watches  gender  age  occupation  \\\n",
              "0  [3186, 1721, 1022, 1270, 2340, 1836, 3408, 120...       1    0          10   \n",
              "1  [1957, 920, 1953, 1084, 1962, 1834, 3735, 3654...       0    6          16   \n",
              "2  [593, 2858, 3534, 1968, 1961, 1431, 1266, 1378...       0    2          15   \n",
              "3  [1210, 1097, 3468, 3527, 480, 260, 1196, 1198,...       0    4           7   \n",
              "4  [1732, 2058, 150, 1721, 1729, 733, 2952, 2353,...       0    2          20   \n",
              "\n",
              "   ...    91    92    93    94    95    96    97    98    99   100  \n",
              "0  ...  3072  3418   594  1259  2085  1907   608  1242  3157  2355  \n",
              "1  ...  3408  1197  3256  2791  1747  2391  2023  1302  1188  3809  \n",
              "2  ...  1199  3301  1090  3948  1394  3362   377  3671  3114  3421  \n",
              "3  ...   910  1288   924   590  3753  3253  2427  3654  3471  1214  \n",
              "4  ...   733    46   474  2336  3301   524   151  2997  3081  1884  \n",
              "\n",
              "[5 rows x 111 columns]"
            ],
            "text/html": [
              "\n",
              "  <div id=\"df-b267f1c7-cffc-4da6-acc6-d1086648b8f0\">\n",
              "    <div class=\"colab-df-container\">\n",
              "      <div>\n",
              "<style scoped>\n",
              "    .dataframe tbody tr th:only-of-type {\n",
              "        vertical-align: middle;\n",
              "    }\n",
              "\n",
              "    .dataframe tbody tr th {\n",
              "        vertical-align: top;\n",
              "    }\n",
              "\n",
              "    .dataframe thead th {\n",
              "        text-align: right;\n",
              "    }\n",
              "</style>\n",
              "<table border=\"1\" class=\"dataframe\">\n",
              "  <thead>\n",
              "    <tr style=\"text-align: right;\">\n",
              "      <th></th>\n",
              "      <th>user_id</th>\n",
              "      <th>item_id</th>\n",
              "      <th>rating</th>\n",
              "      <th>timestamp</th>\n",
              "      <th>example age</th>\n",
              "      <th>example age sq</th>\n",
              "      <th>previous watches</th>\n",
              "      <th>gender</th>\n",
              "      <th>age</th>\n",
              "      <th>occupation</th>\n",
              "      <th>...</th>\n",
              "      <th>91</th>\n",
              "      <th>92</th>\n",
              "      <th>93</th>\n",
              "      <th>94</th>\n",
              "      <th>95</th>\n",
              "      <th>96</th>\n",
              "      <th>97</th>\n",
              "      <th>98</th>\n",
              "      <th>99</th>\n",
              "      <th>100</th>\n",
              "    </tr>\n",
              "  </thead>\n",
              "  <tbody>\n",
              "    <tr>\n",
              "      <th>0</th>\n",
              "      <td>1</td>\n",
              "      <td>2355</td>\n",
              "      <td>5</td>\n",
              "      <td>978824291</td>\n",
              "      <td>0.753535</td>\n",
              "      <td>0.567816</td>\n",
              "      <td>[3186, 1721, 1022, 1270, 2340, 1836, 3408, 120...</td>\n",
              "      <td>1</td>\n",
              "      <td>0</td>\n",
              "      <td>10</td>\n",
              "      <td>...</td>\n",
              "      <td>3072</td>\n",
              "      <td>3418</td>\n",
              "      <td>594</td>\n",
              "      <td>1259</td>\n",
              "      <td>2085</td>\n",
              "      <td>1907</td>\n",
              "      <td>608</td>\n",
              "      <td>1242</td>\n",
              "      <td>3157</td>\n",
              "      <td>2355</td>\n",
              "    </tr>\n",
              "    <tr>\n",
              "      <th>1</th>\n",
              "      <td>2</td>\n",
              "      <td>3809</td>\n",
              "      <td>3</td>\n",
              "      <td>978299712</td>\n",
              "      <td>0.759380</td>\n",
              "      <td>0.576658</td>\n",
              "      <td>[1957, 920, 1953, 1084, 1962, 1834, 3735, 3654...</td>\n",
              "      <td>0</td>\n",
              "      <td>6</td>\n",
              "      <td>16</td>\n",
              "      <td>...</td>\n",
              "      <td>3408</td>\n",
              "      <td>1197</td>\n",
              "      <td>3256</td>\n",
              "      <td>2791</td>\n",
              "      <td>1747</td>\n",
              "      <td>2391</td>\n",
              "      <td>2023</td>\n",
              "      <td>1302</td>\n",
              "      <td>1188</td>\n",
              "      <td>3809</td>\n",
              "    </tr>\n",
              "    <tr>\n",
              "      <th>2</th>\n",
              "      <td>3</td>\n",
              "      <td>3421</td>\n",
              "      <td>4</td>\n",
              "      <td>978298147</td>\n",
              "      <td>0.759398</td>\n",
              "      <td>0.576685</td>\n",
              "      <td>[593, 2858, 3534, 1968, 1961, 1431, 1266, 1378...</td>\n",
              "      <td>0</td>\n",
              "      <td>2</td>\n",
              "      <td>15</td>\n",
              "      <td>...</td>\n",
              "      <td>1199</td>\n",
              "      <td>3301</td>\n",
              "      <td>1090</td>\n",
              "      <td>3948</td>\n",
              "      <td>1394</td>\n",
              "      <td>3362</td>\n",
              "      <td>377</td>\n",
              "      <td>3671</td>\n",
              "      <td>3114</td>\n",
              "      <td>3421</td>\n",
              "    </tr>\n",
              "    <tr>\n",
              "      <th>3</th>\n",
              "      <td>4</td>\n",
              "      <td>1214</td>\n",
              "      <td>4</td>\n",
              "      <td>978294260</td>\n",
              "      <td>0.759441</td>\n",
              "      <td>0.576751</td>\n",
              "      <td>[1210, 1097, 3468, 3527, 480, 260, 1196, 1198,...</td>\n",
              "      <td>0</td>\n",
              "      <td>4</td>\n",
              "      <td>7</td>\n",
              "      <td>...</td>\n",
              "      <td>910</td>\n",
              "      <td>1288</td>\n",
              "      <td>924</td>\n",
              "      <td>590</td>\n",
              "      <td>3753</td>\n",
              "      <td>3253</td>\n",
              "      <td>2427</td>\n",
              "      <td>3654</td>\n",
              "      <td>3471</td>\n",
              "      <td>1214</td>\n",
              "    </tr>\n",
              "    <tr>\n",
              "      <th>4</th>\n",
              "      <td>5</td>\n",
              "      <td>1884</td>\n",
              "      <td>3</td>\n",
              "      <td>978246576</td>\n",
              "      <td>0.759972</td>\n",
              "      <td>0.577558</td>\n",
              "      <td>[1732, 2058, 150, 1721, 1729, 733, 2952, 2353,...</td>\n",
              "      <td>0</td>\n",
              "      <td>2</td>\n",
              "      <td>20</td>\n",
              "      <td>...</td>\n",
              "      <td>733</td>\n",
              "      <td>46</td>\n",
              "      <td>474</td>\n",
              "      <td>2336</td>\n",
              "      <td>3301</td>\n",
              "      <td>524</td>\n",
              "      <td>151</td>\n",
              "      <td>2997</td>\n",
              "      <td>3081</td>\n",
              "      <td>1884</td>\n",
              "    </tr>\n",
              "  </tbody>\n",
              "</table>\n",
              "<p>5 rows × 111 columns</p>\n",
              "</div>\n",
              "      <button class=\"colab-df-convert\" onclick=\"convertToInteractive('df-b267f1c7-cffc-4da6-acc6-d1086648b8f0')\"\n",
              "              title=\"Convert this dataframe to an interactive table.\"\n",
              "              style=\"display:none;\">\n",
              "        \n",
              "  <svg xmlns=\"http://www.w3.org/2000/svg\" height=\"24px\"viewBox=\"0 0 24 24\"\n",
              "       width=\"24px\">\n",
              "    <path d=\"M0 0h24v24H0V0z\" fill=\"none\"/>\n",
              "    <path d=\"M18.56 5.44l.94 2.06.94-2.06 2.06-.94-2.06-.94-.94-2.06-.94 2.06-2.06.94zm-11 1L8.5 8.5l.94-2.06 2.06-.94-2.06-.94L8.5 2.5l-.94 2.06-2.06.94zm10 10l.94 2.06.94-2.06 2.06-.94-2.06-.94-.94-2.06-.94 2.06-2.06.94z\"/><path d=\"M17.41 7.96l-1.37-1.37c-.4-.4-.92-.59-1.43-.59-.52 0-1.04.2-1.43.59L10.3 9.45l-7.72 7.72c-.78.78-.78 2.05 0 2.83L4 21.41c.39.39.9.59 1.41.59.51 0 1.02-.2 1.41-.59l7.78-7.78 2.81-2.81c.8-.78.8-2.07 0-2.86zM5.41 20L4 18.59l7.72-7.72 1.47 1.35L5.41 20z\"/>\n",
              "  </svg>\n",
              "      </button>\n",
              "      \n",
              "  <style>\n",
              "    .colab-df-container {\n",
              "      display:flex;\n",
              "      flex-wrap:wrap;\n",
              "      gap: 12px;\n",
              "    }\n",
              "\n",
              "    .colab-df-convert {\n",
              "      background-color: #E8F0FE;\n",
              "      border: none;\n",
              "      border-radius: 50%;\n",
              "      cursor: pointer;\n",
              "      display: none;\n",
              "      fill: #1967D2;\n",
              "      height: 32px;\n",
              "      padding: 0 0 0 0;\n",
              "      width: 32px;\n",
              "    }\n",
              "\n",
              "    .colab-df-convert:hover {\n",
              "      background-color: #E2EBFA;\n",
              "      box-shadow: 0px 1px 2px rgba(60, 64, 67, 0.3), 0px 1px 3px 1px rgba(60, 64, 67, 0.15);\n",
              "      fill: #174EA6;\n",
              "    }\n",
              "\n",
              "    [theme=dark] .colab-df-convert {\n",
              "      background-color: #3B4455;\n",
              "      fill: #D2E3FC;\n",
              "    }\n",
              "\n",
              "    [theme=dark] .colab-df-convert:hover {\n",
              "      background-color: #434B5C;\n",
              "      box-shadow: 0px 1px 3px 1px rgba(0, 0, 0, 0.15);\n",
              "      filter: drop-shadow(0px 1px 2px rgba(0, 0, 0, 0.3));\n",
              "      fill: #FFFFFF;\n",
              "    }\n",
              "  </style>\n",
              "\n",
              "      <script>\n",
              "        const buttonEl =\n",
              "          document.querySelector('#df-b267f1c7-cffc-4da6-acc6-d1086648b8f0 button.colab-df-convert');\n",
              "        buttonEl.style.display =\n",
              "          google.colab.kernel.accessAllowed ? 'block' : 'none';\n",
              "\n",
              "        async function convertToInteractive(key) {\n",
              "          const element = document.querySelector('#df-b267f1c7-cffc-4da6-acc6-d1086648b8f0');\n",
              "          const dataTable =\n",
              "            await google.colab.kernel.invokeFunction('convertToInteractive',\n",
              "                                                     [key], {});\n",
              "          if (!dataTable) return;\n",
              "\n",
              "          const docLinkHtml = 'Like what you see? Visit the ' +\n",
              "            '<a target=\"_blank\" href=https://colab.research.google.com/notebooks/data_table.ipynb>data table notebook</a>'\n",
              "            + ' to learn more about interactive tables.';\n",
              "          element.innerHTML = '';\n",
              "          dataTable['output_type'] = 'display_data';\n",
              "          await google.colab.output.renderOutput(dataTable, element);\n",
              "          const docLink = document.createElement('div');\n",
              "          docLink.innerHTML = docLinkHtml;\n",
              "          element.appendChild(docLink);\n",
              "        }\n",
              "      </script>\n",
              "    </div>\n",
              "  </div>\n",
              "  "
            ]
          },
          "metadata": {},
          "execution_count": 40
        }
      ]
    },
    {
      "cell_type": "code",
      "source": [
        "def split_candidates_to_samples(df_with_candidates):\n",
        "  columns = ['previous watches', 'candidate_id','candidate genres', 'candidate year', 'candidate year sqrt', 'candidate year sqr', 'candidate average rating', 'candidate user rating']\n",
        "  candidate_columns = [str(x) for x in range(n_candidates)]\n",
        "  output = []\n",
        "  items = dict()\n",
        "  for i, user in df_with_candidates.iterrows():\n",
        "    user_data = [user['previous watches']]\n",
        "    user_ratings = ratings.loc[[user['user_id']]]\n",
        "    for candidate_idx in range(len(candidate_columns)+1):\n",
        "      cand_id = user[str(candidate_idx)]\n",
        "      if cand_id not in items:\n",
        "        df_row = df_items.loc[df_items['movie id'] == cand_id]\n",
        "        items[cand_id] = [df_row['genres features'].values[0], df_row['normalized year'].values[0], df_row['normalized year sqrt'].values[0], df_row['normalized year sqr'].values[0], mean_rating.loc[cand_id]]\n",
        "      output.append(user_data + [cand_id] + items[cand_id] + [user_ratings.loc[:, [cand_id]].values[0][0]])\n",
        "\n",
        "  df_split_candidates = pd.DataFrame(output, columns=columns)\n",
        "  df_split_candidates['candidate watched'] = (df_split_candidates['candidate user rating'].values > 0).astype(int) #adds watched or not labels\n",
        "  df_split_candidates['candidate user rating'] = df_split_candidates['candidate user rating'].apply(lambda x: x if x>0 else 1) #prepares labels for expected rating\n",
        "  return df_split_candidates"
      ],
      "metadata": {
        "id": "z1oHB79u2e93"
      },
      "execution_count": null,
      "outputs": []
    },
    {
      "cell_type": "code",
      "source": [
        "df_ranking_train = split_candidates_to_samples(df_with_candidates_train)"
      ],
      "metadata": {
        "id": "ACrHA-hR3xGU"
      },
      "execution_count": null,
      "outputs": []
    },
    {
      "cell_type": "code",
      "source": [
        "df_ranking_val = split_candidates_to_samples(df_with_candidates_val)"
      ],
      "metadata": {
        "id": "cp4HUEqY4mLv"
      },
      "execution_count": null,
      "outputs": []
    },
    {
      "cell_type": "code",
      "source": [
        "df_ranking_test = split_candidates_to_samples(df_with_candidates_test)"
      ],
      "metadata": {
        "id": "a1iCPTLj8AEw"
      },
      "execution_count": null,
      "outputs": []
    },
    {
      "cell_type": "code",
      "source": [
        "df_ranking_train.head()"
      ],
      "metadata": {
        "colab": {
          "base_uri": "https://localhost:8080/",
          "height": 354
        },
        "id": "0ror1XXy9V6v",
        "outputId": "bc1c2443-3497-4c54-fbf0-022452768029"
      },
      "execution_count": null,
      "outputs": [
        {
          "output_type": "execute_result",
          "data": {
            "text/plain": [
              "                                    previous watches  candidate_id  \\\n",
              "0  [3186, 1721, 1022, 1270, 2340, 1836, 3408, 120...           356   \n",
              "1  [3186, 1721, 1022, 1270, 2340, 1836, 3408, 120...          1097   \n",
              "2  [3186, 1721, 1022, 1270, 2340, 1836, 3408, 120...           110   \n",
              "3  [3186, 1721, 1022, 1270, 2340, 1836, 3408, 120...          1198   \n",
              "4  [3186, 1721, 1022, 1270, 2340, 1836, 3408, 120...           593   \n",
              "\n",
              "                                    candidate genres  candidate year  \\\n",
              "0  [0.0, 0.0, 0.0, 0.0, 1.0, 0.0, 0.0, 0.0, 0.0, ...             0.4   \n",
              "1  [0.0, 0.0, 0.0, 1.0, 0.0, 0.0, 0.0, 1.0, 1.0, ...             0.2   \n",
              "2  [1.0, 0.0, 0.0, 0.0, 0.0, 0.0, 0.0, 1.0, 0.0, ...             0.5   \n",
              "3  [1.0, 1.0, 0.0, 0.0, 0.0, 0.0, 0.0, 0.0, 0.0, ...             0.2   \n",
              "4  [0.0, 0.0, 0.0, 0.0, 0.0, 0.0, 0.0, 1.0, 0.0, ...             0.3   \n",
              "\n",
              "   candidate year sqrt  candidate year sqr  candidate average rating  \\\n",
              "0             0.632456                0.16                  0.876190   \n",
              "1             0.447214                0.04                  0.694048   \n",
              "2             0.707107                0.25                  0.650000   \n",
              "3             0.447214                0.04                  0.731373   \n",
              "4             0.547723                0.09                  0.728302   \n",
              "\n",
              "   candidate user rating  candidate watched  \n",
              "0                    1.0                  0  \n",
              "1                    4.0                  1  \n",
              "2                    1.0                  0  \n",
              "3                    1.0                  0  \n",
              "4                    1.0                  0  "
            ],
            "text/html": [
              "\n",
              "  <div id=\"df-cb1d5e64-fea8-4c8e-b8cc-8b88cdcac481\">\n",
              "    <div class=\"colab-df-container\">\n",
              "      <div>\n",
              "<style scoped>\n",
              "    .dataframe tbody tr th:only-of-type {\n",
              "        vertical-align: middle;\n",
              "    }\n",
              "\n",
              "    .dataframe tbody tr th {\n",
              "        vertical-align: top;\n",
              "    }\n",
              "\n",
              "    .dataframe thead th {\n",
              "        text-align: right;\n",
              "    }\n",
              "</style>\n",
              "<table border=\"1\" class=\"dataframe\">\n",
              "  <thead>\n",
              "    <tr style=\"text-align: right;\">\n",
              "      <th></th>\n",
              "      <th>previous watches</th>\n",
              "      <th>candidate_id</th>\n",
              "      <th>candidate genres</th>\n",
              "      <th>candidate year</th>\n",
              "      <th>candidate year sqrt</th>\n",
              "      <th>candidate year sqr</th>\n",
              "      <th>candidate average rating</th>\n",
              "      <th>candidate user rating</th>\n",
              "      <th>candidate watched</th>\n",
              "    </tr>\n",
              "  </thead>\n",
              "  <tbody>\n",
              "    <tr>\n",
              "      <th>0</th>\n",
              "      <td>[3186, 1721, 1022, 1270, 2340, 1836, 3408, 120...</td>\n",
              "      <td>356</td>\n",
              "      <td>[0.0, 0.0, 0.0, 0.0, 1.0, 0.0, 0.0, 0.0, 0.0, ...</td>\n",
              "      <td>0.4</td>\n",
              "      <td>0.632456</td>\n",
              "      <td>0.16</td>\n",
              "      <td>0.876190</td>\n",
              "      <td>1.0</td>\n",
              "      <td>0</td>\n",
              "    </tr>\n",
              "    <tr>\n",
              "      <th>1</th>\n",
              "      <td>[3186, 1721, 1022, 1270, 2340, 1836, 3408, 120...</td>\n",
              "      <td>1097</td>\n",
              "      <td>[0.0, 0.0, 0.0, 1.0, 0.0, 0.0, 0.0, 1.0, 1.0, ...</td>\n",
              "      <td>0.2</td>\n",
              "      <td>0.447214</td>\n",
              "      <td>0.04</td>\n",
              "      <td>0.694048</td>\n",
              "      <td>4.0</td>\n",
              "      <td>1</td>\n",
              "    </tr>\n",
              "    <tr>\n",
              "      <th>2</th>\n",
              "      <td>[3186, 1721, 1022, 1270, 2340, 1836, 3408, 120...</td>\n",
              "      <td>110</td>\n",
              "      <td>[1.0, 0.0, 0.0, 0.0, 0.0, 0.0, 0.0, 1.0, 0.0, ...</td>\n",
              "      <td>0.5</td>\n",
              "      <td>0.707107</td>\n",
              "      <td>0.25</td>\n",
              "      <td>0.650000</td>\n",
              "      <td>1.0</td>\n",
              "      <td>0</td>\n",
              "    </tr>\n",
              "    <tr>\n",
              "      <th>3</th>\n",
              "      <td>[3186, 1721, 1022, 1270, 2340, 1836, 3408, 120...</td>\n",
              "      <td>1198</td>\n",
              "      <td>[1.0, 1.0, 0.0, 0.0, 0.0, 0.0, 0.0, 0.0, 0.0, ...</td>\n",
              "      <td>0.2</td>\n",
              "      <td>0.447214</td>\n",
              "      <td>0.04</td>\n",
              "      <td>0.731373</td>\n",
              "      <td>1.0</td>\n",
              "      <td>0</td>\n",
              "    </tr>\n",
              "    <tr>\n",
              "      <th>4</th>\n",
              "      <td>[3186, 1721, 1022, 1270, 2340, 1836, 3408, 120...</td>\n",
              "      <td>593</td>\n",
              "      <td>[0.0, 0.0, 0.0, 0.0, 0.0, 0.0, 0.0, 1.0, 0.0, ...</td>\n",
              "      <td>0.3</td>\n",
              "      <td>0.547723</td>\n",
              "      <td>0.09</td>\n",
              "      <td>0.728302</td>\n",
              "      <td>1.0</td>\n",
              "      <td>0</td>\n",
              "    </tr>\n",
              "  </tbody>\n",
              "</table>\n",
              "</div>\n",
              "      <button class=\"colab-df-convert\" onclick=\"convertToInteractive('df-cb1d5e64-fea8-4c8e-b8cc-8b88cdcac481')\"\n",
              "              title=\"Convert this dataframe to an interactive table.\"\n",
              "              style=\"display:none;\">\n",
              "        \n",
              "  <svg xmlns=\"http://www.w3.org/2000/svg\" height=\"24px\"viewBox=\"0 0 24 24\"\n",
              "       width=\"24px\">\n",
              "    <path d=\"M0 0h24v24H0V0z\" fill=\"none\"/>\n",
              "    <path d=\"M18.56 5.44l.94 2.06.94-2.06 2.06-.94-2.06-.94-.94-2.06-.94 2.06-2.06.94zm-11 1L8.5 8.5l.94-2.06 2.06-.94-2.06-.94L8.5 2.5l-.94 2.06-2.06.94zm10 10l.94 2.06.94-2.06 2.06-.94-2.06-.94-.94-2.06-.94 2.06-2.06.94z\"/><path d=\"M17.41 7.96l-1.37-1.37c-.4-.4-.92-.59-1.43-.59-.52 0-1.04.2-1.43.59L10.3 9.45l-7.72 7.72c-.78.78-.78 2.05 0 2.83L4 21.41c.39.39.9.59 1.41.59.51 0 1.02-.2 1.41-.59l7.78-7.78 2.81-2.81c.8-.78.8-2.07 0-2.86zM5.41 20L4 18.59l7.72-7.72 1.47 1.35L5.41 20z\"/>\n",
              "  </svg>\n",
              "      </button>\n",
              "      \n",
              "  <style>\n",
              "    .colab-df-container {\n",
              "      display:flex;\n",
              "      flex-wrap:wrap;\n",
              "      gap: 12px;\n",
              "    }\n",
              "\n",
              "    .colab-df-convert {\n",
              "      background-color: #E8F0FE;\n",
              "      border: none;\n",
              "      border-radius: 50%;\n",
              "      cursor: pointer;\n",
              "      display: none;\n",
              "      fill: #1967D2;\n",
              "      height: 32px;\n",
              "      padding: 0 0 0 0;\n",
              "      width: 32px;\n",
              "    }\n",
              "\n",
              "    .colab-df-convert:hover {\n",
              "      background-color: #E2EBFA;\n",
              "      box-shadow: 0px 1px 2px rgba(60, 64, 67, 0.3), 0px 1px 3px 1px rgba(60, 64, 67, 0.15);\n",
              "      fill: #174EA6;\n",
              "    }\n",
              "\n",
              "    [theme=dark] .colab-df-convert {\n",
              "      background-color: #3B4455;\n",
              "      fill: #D2E3FC;\n",
              "    }\n",
              "\n",
              "    [theme=dark] .colab-df-convert:hover {\n",
              "      background-color: #434B5C;\n",
              "      box-shadow: 0px 1px 3px 1px rgba(0, 0, 0, 0.15);\n",
              "      filter: drop-shadow(0px 1px 2px rgba(0, 0, 0, 0.3));\n",
              "      fill: #FFFFFF;\n",
              "    }\n",
              "  </style>\n",
              "\n",
              "      <script>\n",
              "        const buttonEl =\n",
              "          document.querySelector('#df-cb1d5e64-fea8-4c8e-b8cc-8b88cdcac481 button.colab-df-convert');\n",
              "        buttonEl.style.display =\n",
              "          google.colab.kernel.accessAllowed ? 'block' : 'none';\n",
              "\n",
              "        async function convertToInteractive(key) {\n",
              "          const element = document.querySelector('#df-cb1d5e64-fea8-4c8e-b8cc-8b88cdcac481');\n",
              "          const dataTable =\n",
              "            await google.colab.kernel.invokeFunction('convertToInteractive',\n",
              "                                                     [key], {});\n",
              "          if (!dataTable) return;\n",
              "\n",
              "          const docLinkHtml = 'Like what you see? Visit the ' +\n",
              "            '<a target=\"_blank\" href=https://colab.research.google.com/notebooks/data_table.ipynb>data table notebook</a>'\n",
              "            + ' to learn more about interactive tables.';\n",
              "          element.innerHTML = '';\n",
              "          dataTable['output_type'] = 'display_data';\n",
              "          await google.colab.output.renderOutput(dataTable, element);\n",
              "          const docLink = document.createElement('div');\n",
              "          docLink.innerHTML = docLinkHtml;\n",
              "          element.appendChild(docLink);\n",
              "        }\n",
              "      </script>\n",
              "    </div>\n",
              "  </div>\n",
              "  "
            ]
          },
          "metadata": {},
          "execution_count": 45
        }
      ]
    },
    {
      "cell_type": "code",
      "source": [
        "df_ranking_val.head()"
      ],
      "metadata": {
        "colab": {
          "base_uri": "https://localhost:8080/",
          "height": 354
        },
        "id": "lDyxPDsv9WTz",
        "outputId": "897885f5-9550-4009-8189-d9d7161ae9cd"
      },
      "execution_count": null,
      "outputs": [
        {
          "output_type": "execute_result",
          "data": {
            "text/plain": [
              "                                    previous watches  candidate_id  \\\n",
              "0  [1721, 1022, 1270, 2340, 1836, 3408, 1207, 280...          1097   \n",
              "1  [1721, 1022, 1270, 2340, 1836, 3408, 1207, 280...          1198   \n",
              "2  [1721, 1022, 1270, 2340, 1836, 3408, 1207, 280...           110   \n",
              "3  [1721, 1022, 1270, 2340, 1836, 3408, 1207, 280...          1961   \n",
              "4  [1721, 1022, 1270, 2340, 1836, 3408, 1207, 280...           356   \n",
              "\n",
              "                                    candidate genres  candidate year  \\\n",
              "0  [0.0, 0.0, 0.0, 1.0, 0.0, 0.0, 0.0, 1.0, 1.0, ...             0.2   \n",
              "1  [1.0, 1.0, 0.0, 0.0, 0.0, 0.0, 0.0, 0.0, 0.0, ...             0.2   \n",
              "2  [1.0, 0.0, 0.0, 0.0, 0.0, 0.0, 0.0, 1.0, 0.0, ...             0.5   \n",
              "3  [0.0, 0.0, 0.0, 0.0, 0.0, 0.0, 0.0, 1.0, 0.0, ...             0.3   \n",
              "4  [0.0, 0.0, 0.0, 0.0, 1.0, 0.0, 0.0, 0.0, 0.0, ...             0.4   \n",
              "\n",
              "   candidate year sqrt  candidate year sqr  candidate average rating  \\\n",
              "0             0.447214                0.04                  0.694048   \n",
              "1             0.447214                0.04                  0.731373   \n",
              "2             0.707107                0.25                  0.650000   \n",
              "3             0.547723                0.09                  0.710112   \n",
              "4             0.632456                0.16                  0.876190   \n",
              "\n",
              "   candidate user rating  candidate watched  \n",
              "0                    4.0                  1  \n",
              "1                    1.0                  0  \n",
              "2                    1.0                  0  \n",
              "3                    5.0                  1  \n",
              "4                    1.0                  0  "
            ],
            "text/html": [
              "\n",
              "  <div id=\"df-7983fe66-ddeb-48c6-9758-5b39c3c7ae0a\">\n",
              "    <div class=\"colab-df-container\">\n",
              "      <div>\n",
              "<style scoped>\n",
              "    .dataframe tbody tr th:only-of-type {\n",
              "        vertical-align: middle;\n",
              "    }\n",
              "\n",
              "    .dataframe tbody tr th {\n",
              "        vertical-align: top;\n",
              "    }\n",
              "\n",
              "    .dataframe thead th {\n",
              "        text-align: right;\n",
              "    }\n",
              "</style>\n",
              "<table border=\"1\" class=\"dataframe\">\n",
              "  <thead>\n",
              "    <tr style=\"text-align: right;\">\n",
              "      <th></th>\n",
              "      <th>previous watches</th>\n",
              "      <th>candidate_id</th>\n",
              "      <th>candidate genres</th>\n",
              "      <th>candidate year</th>\n",
              "      <th>candidate year sqrt</th>\n",
              "      <th>candidate year sqr</th>\n",
              "      <th>candidate average rating</th>\n",
              "      <th>candidate user rating</th>\n",
              "      <th>candidate watched</th>\n",
              "    </tr>\n",
              "  </thead>\n",
              "  <tbody>\n",
              "    <tr>\n",
              "      <th>0</th>\n",
              "      <td>[1721, 1022, 1270, 2340, 1836, 3408, 1207, 280...</td>\n",
              "      <td>1097</td>\n",
              "      <td>[0.0, 0.0, 0.0, 1.0, 0.0, 0.0, 0.0, 1.0, 1.0, ...</td>\n",
              "      <td>0.2</td>\n",
              "      <td>0.447214</td>\n",
              "      <td>0.04</td>\n",
              "      <td>0.694048</td>\n",
              "      <td>4.0</td>\n",
              "      <td>1</td>\n",
              "    </tr>\n",
              "    <tr>\n",
              "      <th>1</th>\n",
              "      <td>[1721, 1022, 1270, 2340, 1836, 3408, 1207, 280...</td>\n",
              "      <td>1198</td>\n",
              "      <td>[1.0, 1.0, 0.0, 0.0, 0.0, 0.0, 0.0, 0.0, 0.0, ...</td>\n",
              "      <td>0.2</td>\n",
              "      <td>0.447214</td>\n",
              "      <td>0.04</td>\n",
              "      <td>0.731373</td>\n",
              "      <td>1.0</td>\n",
              "      <td>0</td>\n",
              "    </tr>\n",
              "    <tr>\n",
              "      <th>2</th>\n",
              "      <td>[1721, 1022, 1270, 2340, 1836, 3408, 1207, 280...</td>\n",
              "      <td>110</td>\n",
              "      <td>[1.0, 0.0, 0.0, 0.0, 0.0, 0.0, 0.0, 1.0, 0.0, ...</td>\n",
              "      <td>0.5</td>\n",
              "      <td>0.707107</td>\n",
              "      <td>0.25</td>\n",
              "      <td>0.650000</td>\n",
              "      <td>1.0</td>\n",
              "      <td>0</td>\n",
              "    </tr>\n",
              "    <tr>\n",
              "      <th>3</th>\n",
              "      <td>[1721, 1022, 1270, 2340, 1836, 3408, 1207, 280...</td>\n",
              "      <td>1961</td>\n",
              "      <td>[0.0, 0.0, 0.0, 0.0, 0.0, 0.0, 0.0, 1.0, 0.0, ...</td>\n",
              "      <td>0.3</td>\n",
              "      <td>0.547723</td>\n",
              "      <td>0.09</td>\n",
              "      <td>0.710112</td>\n",
              "      <td>5.0</td>\n",
              "      <td>1</td>\n",
              "    </tr>\n",
              "    <tr>\n",
              "      <th>4</th>\n",
              "      <td>[1721, 1022, 1270, 2340, 1836, 3408, 1207, 280...</td>\n",
              "      <td>356</td>\n",
              "      <td>[0.0, 0.0, 0.0, 0.0, 1.0, 0.0, 0.0, 0.0, 0.0, ...</td>\n",
              "      <td>0.4</td>\n",
              "      <td>0.632456</td>\n",
              "      <td>0.16</td>\n",
              "      <td>0.876190</td>\n",
              "      <td>1.0</td>\n",
              "      <td>0</td>\n",
              "    </tr>\n",
              "  </tbody>\n",
              "</table>\n",
              "</div>\n",
              "      <button class=\"colab-df-convert\" onclick=\"convertToInteractive('df-7983fe66-ddeb-48c6-9758-5b39c3c7ae0a')\"\n",
              "              title=\"Convert this dataframe to an interactive table.\"\n",
              "              style=\"display:none;\">\n",
              "        \n",
              "  <svg xmlns=\"http://www.w3.org/2000/svg\" height=\"24px\"viewBox=\"0 0 24 24\"\n",
              "       width=\"24px\">\n",
              "    <path d=\"M0 0h24v24H0V0z\" fill=\"none\"/>\n",
              "    <path d=\"M18.56 5.44l.94 2.06.94-2.06 2.06-.94-2.06-.94-.94-2.06-.94 2.06-2.06.94zm-11 1L8.5 8.5l.94-2.06 2.06-.94-2.06-.94L8.5 2.5l-.94 2.06-2.06.94zm10 10l.94 2.06.94-2.06 2.06-.94-2.06-.94-.94-2.06-.94 2.06-2.06.94z\"/><path d=\"M17.41 7.96l-1.37-1.37c-.4-.4-.92-.59-1.43-.59-.52 0-1.04.2-1.43.59L10.3 9.45l-7.72 7.72c-.78.78-.78 2.05 0 2.83L4 21.41c.39.39.9.59 1.41.59.51 0 1.02-.2 1.41-.59l7.78-7.78 2.81-2.81c.8-.78.8-2.07 0-2.86zM5.41 20L4 18.59l7.72-7.72 1.47 1.35L5.41 20z\"/>\n",
              "  </svg>\n",
              "      </button>\n",
              "      \n",
              "  <style>\n",
              "    .colab-df-container {\n",
              "      display:flex;\n",
              "      flex-wrap:wrap;\n",
              "      gap: 12px;\n",
              "    }\n",
              "\n",
              "    .colab-df-convert {\n",
              "      background-color: #E8F0FE;\n",
              "      border: none;\n",
              "      border-radius: 50%;\n",
              "      cursor: pointer;\n",
              "      display: none;\n",
              "      fill: #1967D2;\n",
              "      height: 32px;\n",
              "      padding: 0 0 0 0;\n",
              "      width: 32px;\n",
              "    }\n",
              "\n",
              "    .colab-df-convert:hover {\n",
              "      background-color: #E2EBFA;\n",
              "      box-shadow: 0px 1px 2px rgba(60, 64, 67, 0.3), 0px 1px 3px 1px rgba(60, 64, 67, 0.15);\n",
              "      fill: #174EA6;\n",
              "    }\n",
              "\n",
              "    [theme=dark] .colab-df-convert {\n",
              "      background-color: #3B4455;\n",
              "      fill: #D2E3FC;\n",
              "    }\n",
              "\n",
              "    [theme=dark] .colab-df-convert:hover {\n",
              "      background-color: #434B5C;\n",
              "      box-shadow: 0px 1px 3px 1px rgba(0, 0, 0, 0.15);\n",
              "      filter: drop-shadow(0px 1px 2px rgba(0, 0, 0, 0.3));\n",
              "      fill: #FFFFFF;\n",
              "    }\n",
              "  </style>\n",
              "\n",
              "      <script>\n",
              "        const buttonEl =\n",
              "          document.querySelector('#df-7983fe66-ddeb-48c6-9758-5b39c3c7ae0a button.colab-df-convert');\n",
              "        buttonEl.style.display =\n",
              "          google.colab.kernel.accessAllowed ? 'block' : 'none';\n",
              "\n",
              "        async function convertToInteractive(key) {\n",
              "          const element = document.querySelector('#df-7983fe66-ddeb-48c6-9758-5b39c3c7ae0a');\n",
              "          const dataTable =\n",
              "            await google.colab.kernel.invokeFunction('convertToInteractive',\n",
              "                                                     [key], {});\n",
              "          if (!dataTable) return;\n",
              "\n",
              "          const docLinkHtml = 'Like what you see? Visit the ' +\n",
              "            '<a target=\"_blank\" href=https://colab.research.google.com/notebooks/data_table.ipynb>data table notebook</a>'\n",
              "            + ' to learn more about interactive tables.';\n",
              "          element.innerHTML = '';\n",
              "          dataTable['output_type'] = 'display_data';\n",
              "          await google.colab.output.renderOutput(dataTable, element);\n",
              "          const docLink = document.createElement('div');\n",
              "          docLink.innerHTML = docLinkHtml;\n",
              "          element.appendChild(docLink);\n",
              "        }\n",
              "      </script>\n",
              "    </div>\n",
              "  </div>\n",
              "  "
            ]
          },
          "metadata": {},
          "execution_count": 46
        }
      ]
    },
    {
      "cell_type": "code",
      "source": [
        "def concatenate_columns(x):\n",
        "  return np.concatenate((x['previous watches'], np.expand_dims(x['candidate_id'], 0), x['candidate genres'], \\\n",
        "                         np.expand_dims(x['candidate year'], 0), np.expand_dims(x['candidate year sqrt'], 0), np.expand_dims(x['candidate year sqr'], 0)\\\n",
        "                         , np.expand_dims(x['candidate average rating'], 0), np.expand_dims(x['candidate user rating'], 0), np.expand_dims(x['candidate watched'], 0)))"
      ],
      "metadata": {
        "id": "BuItKQZx8DIY"
      },
      "execution_count": null,
      "outputs": []
    },
    {
      "cell_type": "code",
      "source": [
        "df_ranking_train = df_ranking_train.apply(lambda x: concatenate_columns(x), axis=1)\n",
        "train_ranking = df_ranking_train.values"
      ],
      "metadata": {
        "id": "eA-10woJA4dN"
      },
      "execution_count": null,
      "outputs": []
    },
    {
      "cell_type": "code",
      "source": [
        "df_ranking_val = df_ranking_val.apply(lambda x: concatenate_columns(x), axis=1)\n",
        "val_ranking = df_ranking_val.values"
      ],
      "metadata": {
        "id": "I9WzqHHd9j6V"
      },
      "execution_count": null,
      "outputs": []
    },
    {
      "cell_type": "code",
      "source": [
        "df_ranking_test = df_ranking_test.apply(lambda x: concatenate_columns(x), axis=1)\n",
        "test_ranking = df_ranking_test.values"
      ],
      "metadata": {
        "id": "F-Goa4kY8P8r"
      },
      "execution_count": null,
      "outputs": []
    },
    {
      "cell_type": "code",
      "source": [
        "train_ranking[0]"
      ],
      "metadata": {
        "colab": {
          "base_uri": "https://localhost:8080/"
        },
        "id": "LzSPAlxzCmJS",
        "outputId": "f6ca26b9-a82a-4061-844e-f615e336a016"
      },
      "execution_count": null,
      "outputs": [
        {
          "output_type": "execute_result",
          "data": {
            "text/plain": [
              "array([3.18600000e+03, 1.72100000e+03, 1.02200000e+03, 1.27000000e+03,\n",
              "       2.34000000e+03, 1.83600000e+03, 3.40800000e+03, 1.20700000e+03,\n",
              "       2.80400000e+03, 7.20000000e+02, 1.19300000e+03, 2.60000000e+02,\n",
              "       9.19000000e+02, 6.08000000e+02, 2.69200000e+03, 1.96100000e+03,\n",
              "       2.02800000e+03, 3.10500000e+03, 9.38000000e+02, 1.96200000e+03,\n",
              "       1.03500000e+03, 1.50000000e+02, 2.01800000e+03, 1.02800000e+03,\n",
              "       1.09700000e+03, 9.14000000e+02, 2.79700000e+03, 1.28700000e+03,\n",
              "       2.76200000e+03, 1.24600000e+03, 6.61000000e+02, 2.91800000e+03,\n",
              "       5.31000000e+02, 3.11400000e+03, 2.79100000e+03, 1.02900000e+03,\n",
              "       2.32100000e+03, 1.19700000e+03, 5.94000000e+02, 2.39800000e+03,\n",
              "       1.54500000e+03, 5.27000000e+02, 1.00000000e+00, 5.88000000e+02,\n",
              "       2.68700000e+03, 7.45000000e+02, 5.95000000e+02, 2.29400000e+03,\n",
              "       7.83000000e+02, 0.00000000e+00, 3.56000000e+02, 0.00000000e+00,\n",
              "       0.00000000e+00, 0.00000000e+00, 0.00000000e+00, 1.00000000e+00,\n",
              "       0.00000000e+00, 0.00000000e+00, 0.00000000e+00, 0.00000000e+00,\n",
              "       0.00000000e+00, 0.00000000e+00, 0.00000000e+00, 0.00000000e+00,\n",
              "       1.00000000e+00, 0.00000000e+00, 0.00000000e+00, 1.00000000e+00,\n",
              "       0.00000000e+00, 4.00000000e-01, 6.32455532e-01, 1.60000000e-01,\n",
              "       8.76190476e-01, 1.00000000e+00, 0.00000000e+00])"
            ]
          },
          "metadata": {},
          "execution_count": 50
        }
      ]
    },
    {
      "cell_type": "code",
      "source": [
        "# path = './drive/My Drive/Colab Notebooks/recsys_final_project/val_train_ranking_5'\n",
        "# with open(path, 'wb') as f:\n",
        "#   pickle.dump((val_ranking, train_ranking), f)"
      ],
      "metadata": {
        "id": "dAl9FSdm9_DF"
      },
      "execution_count": null,
      "outputs": []
    },
    {
      "cell_type": "code",
      "source": [
        "# path = './drive/My Drive/Colab Notebooks/recsys_final_project/test_ranking_5'\n",
        "# with open(path, 'wb') as f:\n",
        "#   pickle.dump(test_ranking, f)"
      ],
      "metadata": {
        "id": "l2qH915_8W7L"
      },
      "execution_count": null,
      "outputs": []
    },
    {
      "cell_type": "markdown",
      "source": [
        "val_train_ranking_4 - extracts 50 candidates\\\n",
        "val_train_ranking_5 - extracts 100 candidates"
      ],
      "metadata": {
        "id": "IkavkfP5gkE3"
      }
    }
  ]
}