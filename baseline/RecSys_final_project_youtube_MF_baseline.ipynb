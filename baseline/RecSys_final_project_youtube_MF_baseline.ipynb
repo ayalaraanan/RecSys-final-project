{
  "cells": [
    {
      "cell_type": "markdown",
      "metadata": {
        "id": "Jj3d0tnGwRsL"
      },
      "source": [
        "# Recommendations Systems\n",
        "## MF for MovieLens dataset for Youtube paper\n",
        "\n",
        "The Objective of this notebook is to create a baseline for using simple matrix factorization with the 1M MovieLens dataset.\\\n",
        "Our model is the classic MF, where all items and users are embedded in the same size latent space, and the model learns to maximize the scalar product of positive labeled items. As in the YouTube paper, we use the implicit approach, and so positive items are simply the movies rated by the user.\\\n",
        "Other movies are assumed to be less relevant.  \n",
        "The YouTube task is all about predicting the **next** video the user wants to see. In the MovieLens datset, this translate to the next movie. Since we have the timestamp, and therefore the order of the previous watches, we define the test item for each user as its most recent rated movie, and use all the user's history to make the prediction.\\\n",
        "To compare with the exact same data, we extract the user-item pairs directly from the first dataset created for our YouTube model. This data also contains the exact same negative samples chosen for each user out of the unseen movies (100 negative samples for each positive).\\\n",
        "This dataset also has equal representation of different users, with 50 samples each (some with repetitions when must).\n",
        "### Evaluation\n",
        "In the YouTube model, we predict the next video out of **all** the videos in the dataset. If we want to be able to compare the results of the model, our evaluation of the positive item prediction must be ranked against all items.\\\n",
        "This is done by creating a batch of all items for each positive in the evalation. Each positive test user-item set is introduced separately (batch of 1) and a local batch of all items is sent for evaluation and ranked for this user.\\\n",
        "We use HR@10 as out main parameter tracked and also calculate MRR and NDCG at k=10 and k=5.\n"
      ]
    },
    {
      "cell_type": "markdown",
      "metadata": {
        "id": "Awiq5GVNwRsQ"
      },
      "source": [
        "###Imports and administration:"
      ]
    },
    {
      "cell_type": "code",
      "execution_count": 1,
      "metadata": {
        "id": "8zbwlB8DwRsQ",
        "colab": {
          "base_uri": "https://localhost:8080/"
        },
        "outputId": "0c57c5f7-e596-470d-d768-bd7beb175423"
      },
      "outputs": [
        {
          "output_type": "stream",
          "name": "stdout",
          "text": [
            "Looking in indexes: https://pypi.org/simple, https://us-python.pkg.dev/colab-wheels/public/simple/\n",
            "Requirement already satisfied: gdown in /usr/local/lib/python3.8/dist-packages (4.6.4)\n",
            "Requirement already satisfied: filelock in /usr/local/lib/python3.8/dist-packages (from gdown) (3.9.0)\n",
            "Requirement already satisfied: six in /usr/local/lib/python3.8/dist-packages (from gdown) (1.15.0)\n",
            "Requirement already satisfied: tqdm in /usr/local/lib/python3.8/dist-packages (from gdown) (4.64.1)\n",
            "Requirement already satisfied: beautifulsoup4 in /usr/local/lib/python3.8/dist-packages (from gdown) (4.6.3)\n",
            "Requirement already satisfied: requests[socks] in /usr/local/lib/python3.8/dist-packages (from gdown) (2.25.1)\n",
            "Requirement already satisfied: urllib3<1.27,>=1.21.1 in /usr/local/lib/python3.8/dist-packages (from requests[socks]->gdown) (1.24.3)\n",
            "Requirement already satisfied: certifi>=2017.4.17 in /usr/local/lib/python3.8/dist-packages (from requests[socks]->gdown) (2022.12.7)\n",
            "Requirement already satisfied: chardet<5,>=3.0.2 in /usr/local/lib/python3.8/dist-packages (from requests[socks]->gdown) (4.0.0)\n",
            "Requirement already satisfied: idna<3,>=2.5 in /usr/local/lib/python3.8/dist-packages (from requests[socks]->gdown) (2.10)\n",
            "Requirement already satisfied: PySocks!=1.5.7,>=1.5.6 in /usr/local/lib/python3.8/dist-packages (from requests[socks]->gdown) (1.7.1)\n"
          ]
        }
      ],
      "source": [
        "# basic\n",
        "# import os \n",
        "# import sys\n",
        "from time import time\n",
        "import zipfile\n",
        "import requests\n",
        "import pickle\n",
        "import gdown\n",
        "!pip install --upgrade --no-cache-dir gdown\n",
        "\n",
        "# general\n",
        "import warnings\n",
        "import numpy as np\n",
        "import pandas as pd\n",
        "\n",
        "# visual\n",
        "import matplotlib\n",
        "import seaborn as sns\n",
        "import matplotlib.pyplot as plt\n",
        "\n",
        "# notebook\n",
        "from IPython.display import display, HTML\n",
        "from tqdm import tqdm\n",
        "import copy\n",
        "\n",
        "\n",
        "# torch\n",
        "import torch\n",
        "from torch import nn\n",
        "import torch.nn.functional as F\n",
        "from torch.nn import Sequential\n",
        "from torch.nn import Sigmoid,ReLU\n",
        "from torch.nn import Embedding,Linear,Dropout\n",
        "from torch.utils.data import DataLoader, Dataset\n",
        "from torchvision.transforms import ToTensor,Compose\n",
        "from torch.optim import SparseAdam,Adam,Adagrad,SGD\n",
        "\n",
        "device = torch.device('cuda' if torch.cuda.is_available() else 'cpu')\n"
      ]
    },
    {
      "cell_type": "code",
      "source": [
        "device"
      ],
      "metadata": {
        "colab": {
          "base_uri": "https://localhost:8080/"
        },
        "id": "3WIxBi7Yb6iu",
        "outputId": "20a09708-d3cb-488e-d1ac-e22fb608eb69"
      },
      "execution_count": null,
      "outputs": [
        {
          "output_type": "execute_result",
          "data": {
            "text/plain": [
              "device(type='cuda')"
            ]
          },
          "metadata": {},
          "execution_count": 3
        }
      ]
    },
    {
      "cell_type": "code",
      "source": [
        "# from google.colab import drive\n",
        "# drive.mount('/content/drive')"
      ],
      "metadata": {
        "colab": {
          "base_uri": "https://localhost:8080/"
        },
        "id": "gFYr_kVQmPCU",
        "outputId": "bf9e11e9-4863-48c9-e794-900942ee06da"
      },
      "execution_count": null,
      "outputs": [
        {
          "output_type": "stream",
          "name": "stdout",
          "text": [
            "Mounted at /content/drive\n"
          ]
        }
      ]
    },
    {
      "cell_type": "code",
      "execution_count": null,
      "metadata": {
        "id": "lGl6YxtjwRsR"
      },
      "outputs": [],
      "source": [
        "warnings.filterwarnings('ignore')"
      ]
    },
    {
      "cell_type": "markdown",
      "metadata": {
        "id": "l6lCdQbzwRsR"
      },
      "source": [
        "###Data preprocessing\n",
        "\n",
        "As described, we import the same dataset with chosen train, test and validation items, already including the negative samples for the train set.\\\n",
        "From the test and val set, only the positive items are extracted.\\\n",
        "Negatives are replaced with all items during evaluation."
      ]
    },
    {
      "cell_type": "code",
      "source": [
        "# path = './drive/My Drive/Colab Notebooks/recsys_final_project/train_10'\n",
        "# with open(path , 'rb') as f:\n",
        "#   (train_raw, test_raw, val_raw, n_items, max_watches, num_neg_samples) = pickle.load(f)\n",
        "#   print('loaded training')"
      ],
      "metadata": {
        "id": "PoZQTajbUe2N",
        "colab": {
          "base_uri": "https://localhost:8080/"
        },
        "outputId": "c8a62664-cd8a-4b47-84be-e807b40aceb3"
      },
      "execution_count": null,
      "outputs": [
        {
          "output_type": "stream",
          "name": "stdout",
          "text": [
            "loaded training\n"
          ]
        }
      ]
    },
    {
      "cell_type": "code",
      "source": [
        "url = \"https://drive.google.com/file/d/1--fU4VVsoVxUMMQZ7pg4WhKiV1neFfOo/view?usp=share_link\"\n",
        "datasets_path = 'train_10'\n",
        "gdown.download(url, datasets_path, quiet=False,fuzzy=True)\n",
        "\n",
        "# path = './drive/My Drive/Colab Notebooks/recsys_final_project/train_10'\n",
        "with open(datasets_path , 'rb') as f:\n",
        "  (train_raw, test_raw, val_raw, n_items, max_watches, num_neg_samples) = pickle.load(f)\n",
        "  print('loaded training')"
      ],
      "metadata": {
        "colab": {
          "base_uri": "https://localhost:8080/"
        },
        "id": "hOkQuLc0GBCQ",
        "outputId": "4b1b9def-c898-40a7-a9a5-bfdef9a7b43d"
      },
      "execution_count": 2,
      "outputs": [
        {
          "output_type": "stream",
          "name": "stderr",
          "text": [
            "Downloading...\n",
            "From: https://drive.google.com/uc?id=1--fU4VVsoVxUMMQZ7pg4WhKiV1neFfOo\n",
            "To: /content/train_10\n",
            "100%|██████████| 402M/402M [00:07<00:00, 52.6MB/s]\n"
          ]
        },
        {
          "output_type": "stream",
          "name": "stdout",
          "text": [
            "loaded training\n"
          ]
        }
      ]
    },
    {
      "cell_type": "code",
      "source": [
        "n_samples_per_user = 50\n",
        "n_users = 6040\n",
        "n_items = 3953\n",
        "num_neg_samples = 100"
      ],
      "metadata": {
        "id": "Ung0MbosVm3e"
      },
      "execution_count": null,
      "outputs": []
    },
    {
      "cell_type": "code",
      "source": [
        "labels = np.hstack((1.0, np.zeros(num_neg_samples).astype(float))) #first label is positive and the rest negatives\n",
        "train = []\n",
        "for u in range(n_users):\n",
        "  offset = u*n_samples_per_user #50 samples were generated for user\n",
        "  user_id = u+1\n",
        "  user_idx_vec = (user_id*np.ones(num_neg_samples+1)).astype(int)\n",
        "  for row in range(n_samples_per_user):\n",
        "    indx = offset + row\n",
        "    indices = train_raw[indx][-(num_neg_samples+1):].astype(int)\n",
        "    train.extend(list(zip(user_idx_vec, indices, labels)))"
      ],
      "metadata": {
        "id": "KjHhWuvlXWVd"
      },
      "execution_count": null,
      "outputs": []
    },
    {
      "cell_type": "code",
      "source": [
        "def evaluation_data(eval_data):\n",
        "  items_list = np.arange(n_items)\n",
        "  labels = np.hstack((1.0, np.zeros(n_items-1).astype(float)))\n",
        "  eval = []\n",
        "  for u in range(n_users):\n",
        "    user_id = u+1\n",
        "    item_id = eval_data[u][-(num_neg_samples+1)].astype(int)\n",
        "    eval.extend([(user_id, item_id, 1.0)]) #extract only the positives\n",
        "  return eval"
      ],
      "metadata": {
        "id": "lFX7xvttcgVG"
      },
      "execution_count": null,
      "outputs": []
    },
    {
      "cell_type": "code",
      "source": [
        "val = evaluation_data(val_raw)"
      ],
      "metadata": {
        "id": "TkIjukFmgl66"
      },
      "execution_count": null,
      "outputs": []
    },
    {
      "cell_type": "code",
      "source": [
        "test = evaluation_data(test_raw)"
      ],
      "metadata": {
        "id": "B-cK34fgfH0K"
      },
      "execution_count": null,
      "outputs": []
    },
    {
      "cell_type": "code",
      "source": [
        "# path = './drive/My Drive/Colab Notebooks/recsys_final_project/MF_baseline'\n",
        "# with open(path, 'wb') as f:\n",
        "#   pickle.dump((train, val, test), f)"
      ],
      "metadata": {
        "id": "raNbSHt1plBi"
      },
      "execution_count": null,
      "outputs": []
    },
    {
      "cell_type": "code",
      "source": [
        "# path = './drive/My Drive/Colab Notebooks/recsys_final_project/MF_baseline'\n",
        "# with open(path , 'rb') as f:\n",
        "#   (train, val, test) = pickle.load(f)\n",
        "#   print('loaded training')"
      ],
      "metadata": {
        "id": "apMt_qqm7XGg"
      },
      "execution_count": null,
      "outputs": []
    },
    {
      "cell_type": "code",
      "source": [
        "dl_val = DataLoader(val, batch_size=1, shuffle=False) #precomputed since batch size must be 1 for evaluation"
      ],
      "metadata": {
        "id": "5R874u2rUk6-"
      },
      "execution_count": null,
      "outputs": []
    },
    {
      "cell_type": "code",
      "source": [
        "dl_test = DataLoader(test, batch_size=1, shuffle=False) #precomputed since batch size must be 1 for evaluation"
      ],
      "metadata": {
        "id": "fMl_C4x590Et"
      },
      "execution_count": null,
      "outputs": []
    },
    {
      "cell_type": "markdown",
      "metadata": {
        "id": "BZohC5TfwRsS"
      },
      "source": [
        "###Architecture\n",
        "\n",
        "Classic MF model with user and item embeddings and a scalar product + sigmoid."
      ]
    },
    {
      "cell_type": "code",
      "execution_count": null,
      "metadata": {
        "id": "2BfIU0KDf-Cu"
      },
      "outputs": [],
      "source": [
        "class MF(torch.nn.Module):\n",
        "    def __init__(self, config):\n",
        "        super(MF, self).__init__()\n",
        "        self.num_users = config['num_users']\n",
        "        self.num_items = config['num_items']\n",
        "        self.latent_dim_mf = config['latent_dim']\n",
        "\n",
        "        self.embedding_user_mf = torch.nn.Embedding(num_embeddings=self.num_users, embedding_dim=self.latent_dim_mf)\n",
        "        self.embedding_item_mf = torch.nn.Embedding(num_embeddings=self.num_items, embedding_dim=self.latent_dim_mf)\n",
        "        self.sigmoid = torch.nn.Sigmoid()\n",
        "\n",
        "    def forward(self, user_indices, item_indices):\n",
        "        user_embedding_mf = self.embedding_user_mf(user_indices)\n",
        "        item_embedding_mf = self.embedding_item_mf(item_indices)\n",
        "        mf_vector =torch.mul(user_embedding_mf, item_embedding_mf)\n",
        "        mf_logit = mf_vector.sum(dim = 1)\n",
        "        output = self.sigmoid(mf_logit)\n",
        "        return output"
      ]
    },
    {
      "cell_type": "markdown",
      "source": [
        "###Training\n",
        "\n",
        "We train with binary cross entropy loss and Adam optimizer.\n"
      ],
      "metadata": {
        "id": "RkWzXjvLPyzU"
      }
    },
    {
      "cell_type": "code",
      "execution_count": null,
      "metadata": {
        "id": "r-YIt-br0mTh"
      },
      "outputs": [],
      "source": [
        "class Training(object):\n",
        "\n",
        "  def __init__(self, model, config):\n",
        "    self.config = config\n",
        "    self.model = model.to(self.config['device'])\n",
        "    self.optimizer = config['optimizer_type'](model.parameters(), **config['optimizer_parameter'])\n",
        "    self.criterion = config['criterion']()\n",
        "    self.dl_train = DataLoader(train, batch_size=config['batch_size'], shuffle=True) # create dataloader with given batch size\n",
        "    self.items_list = np.arange(n_items)\n",
        "    self.eval_labels = torch.tensor(np.hstack((1.0, np.zeros(n_items-1).astype(float))))\n",
        "\n",
        "  def train(self):\n",
        "    self.train_loss_history = []\n",
        "    self.eval_loss_history = []\n",
        "    self.eval_HR5_history = []\n",
        "    self.eval_HR10_history = []\n",
        "    self.eval_MRR5_history = []\n",
        "    self.eval_NDCG5_history = []\n",
        "    self.eval_MRR10_history = []\n",
        "    self.eval_NDCG10_history = []\n",
        "\n",
        "    epochs_without_improvement = 0\n",
        "    best_HR = None \n",
        "    train_start = time()\n",
        "    for epoch in range(self.config['n_epochs']):\n",
        "      self.train_epoch() #train\n",
        "      self.train_loss_history.append(self.epoch_train_loss/len(self.dl_train))\n",
        "      if epoch%1 == 0:\n",
        "        self.evaluate_epoch(dl_val) #evaluate\n",
        "        # aggregate metrics\n",
        "        self.eval_loss_history.append(self.epoch_eval_loss/len(dl_val))\n",
        "        self.eval_HR5_history.append(self.epoch_HR5/len(dl_val))\n",
        "        self.eval_HR10_history.append(self.epoch_HR10/len(dl_val))\n",
        "        self.eval_MRR5_history.append(self.epoch_MRR5/len(dl_val))\n",
        "        self.eval_NDCG5_history.append(self.epoch_NDCG5/len(dl_val))\n",
        "        self.eval_MRR10_history.append(self.epoch_MRR10/len(dl_val))\n",
        "        self.eval_NDCG10_history.append(self.epoch_NDCG10/len(dl_val))\n",
        "        print(f'epoch {epoch}: loss = {self.train_loss_history[-1]}, HR@10 = {self.eval_HR10_history[-1]}')\n",
        "        #check for early stopping\n",
        "        if not best_HR or self.eval_HR10_history[-1] > best_HR:\n",
        "          best_HR = self.eval_HR10_history[-1]\n",
        "          best_MRR10 = self.eval_MRR10_history[-1]\n",
        "          best_NDCG10 = self.eval_NDCG10_history[-1]\n",
        "          best_loss = self.eval_loss_history[-1]\n",
        "          epochs_without_improvement = 0\n",
        "          #print (\"Achieved lower validation loss, save model at epoch number {} \".format(epoch + 1) )\n",
        "          best_model = copy.deepcopy(self.model.state_dict())\n",
        "        else:\n",
        "          epochs_without_improvement += 1\n",
        "\n",
        "        if epochs_without_improvement == self.config['early_stopping']:\n",
        "          if self.config['verbose']:\n",
        "              print('\\nEarly stoping after {} epochs. validation loss did not imporve for more than {} epcochs'.format(epoch, self.config['early_stopping']))\n",
        "          break\n",
        "      self.training_time = time() - train_start\n",
        "\n",
        "    # load best model and best performance\n",
        "    self.model.load_state_dict(best_model)\n",
        "    if self.config['verbose']:\n",
        "        print('\\nFinished Training:')\n",
        "        print('Best metrics are:')\n",
        "        print(f'Hit Ratio eval = {best_HR}')\n",
        "        print(f'MRR@10 eval= {best_MRR10}')\n",
        "        print(f'NDCG@10 eval= {best_NDCG10}')\n",
        "    \n",
        "  def train_epoch(self):\n",
        "    self.epoch_train_loss   = 0\n",
        "    self.model.train() # train mode\n",
        "    for batch in tqdm(self.dl_train, disable=(not self.config['verbose'])):\n",
        "      self.train_batch(batch)\n",
        "\n",
        "  def train_batch(self, batch):\n",
        "    user_indices, item_indices, labels = batch      \n",
        "    # Send tensors to GPU\n",
        "    user_indices = user_indices.to(device)\n",
        "    item_indices = item_indices.to(device)\n",
        "    labels = labels.to(device)           \n",
        "        \n",
        "    pred = self.model(user_indices, item_indices).type(torch.float64)\n",
        "    loss = self.criterion(pred, labels)\n",
        "              \n",
        "    self.optimizer.zero_grad()\n",
        "    loss.backward()\n",
        "    self.optimizer.step()               \n",
        "    self.epoch_train_loss += loss.item()\n",
        "\n",
        "  def evaluate_epoch(self, dl_eval):\n",
        "    self.epoch_eval_loss = 0\n",
        "    self.epoch_HR5 = 0\n",
        "    self.epoch_HR10 = 0\n",
        "    self.epoch_MRR5 = 0\n",
        "    self.epoch_NDCG5 = 0\n",
        "    self.epoch_MRR10 = 0\n",
        "    self.epoch_NDCG10 = 0\n",
        "\n",
        "    self.model.eval() #evaluation mode\n",
        "    with torch.no_grad():\n",
        "      for batch in tqdm(dl_eval, disable=(not self.config['verbose'])):\n",
        "        self.eval_batch(batch) # dl_val was built so that one batch is one user\n",
        "\n",
        "  def eval_batch(self, batch):\n",
        "    user_id, target_item, label = batch\n",
        "    #Here we reorder the list of all items, to rank them all\n",
        "    items_list_del = np.delete(self.items_list, target_item, axis=0)\n",
        "    indices = np.hstack((target_item, items_list_del))\n",
        "    user_idx_vec = (user_id*np.ones(n_items))\n",
        "\n",
        "    # Send tensors to GPU\n",
        "    user_indices = torch.tensor(user_idx_vec).int().to(self.config['device'])\n",
        "    item_indices = torch.tensor(indices).int().to(self.config['device'])    \n",
        "        \n",
        "    pred = self.model(user_indices, item_indices).detach().cpu()\n",
        "    ind = np.argsort(-pred) #indices to sort pred, descending\n",
        "    \n",
        "    ranked_items = indices[ind]\n",
        "    self.epoch_HR5 += self.HitRatio(ranked_items, target_item, 5)\n",
        "    self.epoch_HR10 += self.HitRatio(ranked_items, target_item, 10)\n",
        "    self.epoch_MRR5 += self.MRR(ranked_items, target_item, 5)\n",
        "    self.epoch_MRR10 += self.MRR(ranked_items, target_item, 10)\n",
        "    self.epoch_NDCG5 += self.NDCG(ranked_items, target_item, 5)\n",
        "    self.epoch_NDCG10 += self.NDCG(ranked_items, target_item, 10)\n",
        "  \n",
        "    loss = self.criterion(pred.type(torch.float64), self.eval_labels)         \n",
        "    self.epoch_eval_loss += loss.item()\n",
        "\n",
        "  def HitRatio(self, ranked_items, target_item, k):\n",
        "    for item in ranked_items[:k]:\n",
        "      if item == target_item:\n",
        "        return 1\n",
        "    return 0\n",
        "\n",
        "  def MRR(self, ranked_items, target_item, k):\n",
        "    for i, item in enumerate(ranked_items[:k]):\n",
        "      if item == target_item:\n",
        "        return 1/(i + 1)\n",
        "    return 0\n",
        "\n",
        "\n",
        "  def NDCG(self, ranked_items, target_item, k):\n",
        "    for i, item in enumerate(ranked_items[:k]):\n",
        "      if item == target_item:\n",
        "        return np.log(2)/np.log(i + 2)\n",
        "    return 0\n"
      ]
    },
    {
      "cell_type": "markdown",
      "source": [
        "###Hyperparameters\n",
        "\n",
        "Accidently ran hyperparameters evaluation on the test set...\n",
        "So a bit overfitting the results\n"
      ],
      "metadata": {
        "id": "1arAGB1ZeDiy"
      }
    },
    {
      "cell_type": "code",
      "source": [
        "results = pd.DataFrame(columns=['latent dim', 'Batch Size', 'Learning Rate', 'Topk', 'Metric', 'Score']) #uncomment to run"
      ],
      "metadata": {
        "id": "fTgVc24fa-Zc"
      },
      "execution_count": null,
      "outputs": []
    },
    {
      "cell_type": "code",
      "source": [
        "# path = './drive/My Drive/Colab Notebooks/recsys_final_MF_results'\n",
        "# with open(path , 'rb') as f:\n",
        "#   results = pickle.load(f)\n",
        "#   print('loaded results')"
      ],
      "metadata": {
        "id": "Rr9bRDiBhBDE",
        "colab": {
          "base_uri": "https://localhost:8080/"
        },
        "outputId": "b241a026-eb1e-4bb9-fcac-e416349c98ac"
      },
      "execution_count": null,
      "outputs": [
        {
          "output_type": "stream",
          "name": "stdout",
          "text": [
            "loaded results\n"
          ]
        }
      ]
    },
    {
      "cell_type": "code",
      "source": [
        "url = \"https://drive.google.com/file/d/1vGKQA8PRWA5IChDpiMkQS4fYHYbw1z-d/view?usp=sharing\"\n",
        "hyper_results_path = 'hyper_results'\n",
        "gdown.download(url, hyper_results_path, quiet=False,fuzzy=True)\n",
        "\n",
        "# path = './drive/My Drive/Colab Notebooks/recsys_final_hyper_results_mf''\n",
        "with open(hyper_results_path , 'rb') as f:\n",
        "  (results) = pickle.load(f)\n",
        "  print('loaded training')"
      ],
      "metadata": {
        "colab": {
          "base_uri": "https://localhost:8080/"
        },
        "id": "801uVFgiI0rc",
        "outputId": "c6f1f7cb-d27c-498a-ccc5-c1291a0196f7"
      },
      "execution_count": 4,
      "outputs": [
        {
          "output_type": "stream",
          "name": "stderr",
          "text": [
            "Downloading...\n",
            "From: https://drive.google.com/uc?id=1vGKQA8PRWA5IChDpiMkQS4fYHYbw1z-d\n",
            "To: /content/hyper_results\n",
            "100%|██████████| 2.15k/2.15k [00:00<00:00, 2.25MB/s]"
          ]
        },
        {
          "output_type": "stream",
          "name": "stdout",
          "text": [
            "loaded training\n"
          ]
        },
        {
          "output_type": "stream",
          "name": "stderr",
          "text": [
            "\n"
          ]
        }
      ]
    },
    {
      "cell_type": "code",
      "source": [
        "def add_results(training_model, results_df, latent_dim, batch_size, lr):\n",
        "  loss = training_model.epoch_eval_loss/len(dl_val)\n",
        "  hr5 = training_model.epoch_HR5/len(dl_val)\n",
        "  hr10 = training_model.epoch_HR10/len(dl_val)\n",
        "  mrr5 = training_model.epoch_MRR5/len(dl_val)\n",
        "  mrr10 = training_model.epoch_MRR10/len(dl_val)\n",
        "  ndcg5 = training_model.epoch_NDCG5/len(dl_val)\n",
        "  ndcg10 = training_model.epoch_NDCG10/len(dl_val)\n",
        "  tr_time = training_model.training_time\n",
        "\n",
        "  results_df.loc[len(results_df)] = latent_dim, batch_size, lr, 0, 'LOSS', loss\n",
        "  results_df.loc[len(results_df)] = latent_dim, batch_size, lr, 0, 'TIME', tr_time\n",
        "  results_df.loc[len(results_df)] = latent_dim, batch_size, lr, 5, 'HR' , hr5\n",
        "  results_df.loc[len(results_df)] = latent_dim, batch_size, lr, 10, 'HR', hr10\n",
        "  results_df.loc[len(results_df)] = latent_dim, batch_size, lr, 5, 'MRR', mrr5\n",
        "  results_df.loc[len(results_df)] = latent_dim, batch_size, lr, 10, 'MRR', mrr10\n",
        "  results_df.loc[len(results_df)] = latent_dim, batch_size, lr, 5, 'NDCG', ndcg5\n",
        "  results_df.loc[len(results_df)] = latent_dim, batch_size, lr, 10, 'NDCG', ndcg10"
      ],
      "metadata": {
        "id": "SS_IdD3VjdNt"
      },
      "execution_count": null,
      "outputs": []
    },
    {
      "cell_type": "code",
      "source": [
        "batch_size = 64\n",
        "lr = 0.001\n",
        "latent_dims = [16, 32, 64, 128]\n",
        "\n",
        "for dim in latent_dims:\n",
        "  torch.manual_seed(55)\n",
        "  np.random.seed(55)\n",
        "  MF_config = {'num_users': 6041, 'num_items': n_items, 'latent_dim': dim}\n",
        "  model_MF = MF(MF_config)\n",
        "\n",
        "  training_config = {'batch_size': batch_size, 'optimizer_type': Adam, 'optimizer_parameter': {'lr': lr}, \\\n",
        "                  'criterion' : torch.nn.BCELoss, 'n_epochs' : 10, 'early_stopping' : 3, 'verbose' : True, 'device' : device}\n",
        "\n",
        "  training_mf = Training(model_MF, training_config)\n",
        "  training_mf.train()\n",
        "  training_mf.evaluate_epoch(dl_test) #finally, evaluating in the test dataset\n",
        "\n",
        "  add_results(training_mf, results, dim, batch_size, lr)"
      ],
      "metadata": {
        "colab": {
          "base_uri": "https://localhost:8080/"
        },
        "id": "TlBcN3brM_xT",
        "outputId": "19317b7d-cdfe-499b-90f2-aa6cfa81c5a0"
      },
      "execution_count": null,
      "outputs": [
        {
          "metadata": {
            "tags": null
          },
          "name": "stderr",
          "output_type": "stream",
          "text": [
            "100%|██████████| 476594/476594 [09:46<00:00, 811.92it/s]\n",
            "100%|██████████| 6040/6040 [00:08<00:00, 707.55it/s]\n"
          ]
        },
        {
          "metadata": {
            "tags": null
          },
          "name": "stdout",
          "output_type": "stream",
          "text": [
            "epoch 0: loss = 0.1617589775084607, HR@10 = 0.022019867549668875\n"
          ]
        },
        {
          "metadata": {
            "tags": null
          },
          "name": "stderr",
          "output_type": "stream",
          "text": [
            "100%|██████████| 476594/476594 [09:45<00:00, 813.47it/s]\n",
            "100%|██████████| 6040/6040 [00:08<00:00, 712.46it/s]\n"
          ]
        },
        {
          "metadata": {
            "tags": null
          },
          "name": "stdout",
          "output_type": "stream",
          "text": [
            "epoch 1: loss = 0.0671435507208437, HR@10 = 0.02748344370860927\n"
          ]
        },
        {
          "metadata": {
            "tags": null
          },
          "name": "stderr",
          "output_type": "stream",
          "text": [
            "100%|██████████| 476594/476594 [09:41<00:00, 819.68it/s]\n",
            "100%|██████████| 6040/6040 [00:08<00:00, 712.51it/s]\n"
          ]
        },
        {
          "metadata": {
            "tags": null
          },
          "name": "stdout",
          "output_type": "stream",
          "text": [
            "epoch 2: loss = 0.06353519438521217, HR@10 = 0.028145695364238412\n"
          ]
        },
        {
          "metadata": {
            "tags": null
          },
          "name": "stderr",
          "output_type": "stream",
          "text": [
            "100%|██████████| 476594/476594 [09:40<00:00, 820.51it/s]\n",
            "100%|██████████| 6040/6040 [00:08<00:00, 703.69it/s]\n"
          ]
        },
        {
          "metadata": {
            "tags": null
          },
          "name": "stdout",
          "output_type": "stream",
          "text": [
            "epoch 3: loss = 0.0631692536123731, HR@10 = 0.028311258278145696\n"
          ]
        },
        {
          "metadata": {
            "tags": null
          },
          "name": "stderr",
          "output_type": "stream",
          "text": [
            "100%|██████████| 476594/476594 [09:38<00:00, 823.45it/s]\n",
            "100%|██████████| 6040/6040 [00:08<00:00, 722.15it/s]\n"
          ]
        },
        {
          "metadata": {
            "tags": null
          },
          "name": "stdout",
          "output_type": "stream",
          "text": [
            "epoch 4: loss = 0.06345855163596402, HR@10 = 0.026158940397350994\n"
          ]
        },
        {
          "metadata": {
            "tags": null
          },
          "name": "stderr",
          "output_type": "stream",
          "text": [
            "100%|██████████| 476594/476594 [09:37<00:00, 824.96it/s]\n",
            "100%|██████████| 6040/6040 [00:08<00:00, 730.47it/s]\n"
          ]
        },
        {
          "metadata": {
            "tags": null
          },
          "name": "stdout",
          "output_type": "stream",
          "text": [
            "epoch 5: loss = 0.06401124501428096, HR@10 = 0.027980132450331124\n"
          ]
        },
        {
          "metadata": {
            "tags": null
          },
          "name": "stderr",
          "output_type": "stream",
          "text": [
            "100%|██████████| 476594/476594 [09:39<00:00, 822.82it/s]\n",
            "100%|██████████| 6040/6040 [00:08<00:00, 732.16it/s]\n"
          ]
        },
        {
          "metadata": {
            "tags": null
          },
          "name": "stdout",
          "output_type": "stream",
          "text": [
            "epoch 6: loss = 0.0647008223670844, HR@10 = 0.02913907284768212\n"
          ]
        },
        {
          "metadata": {
            "tags": null
          },
          "name": "stderr",
          "output_type": "stream",
          "text": [
            "100%|██████████| 476594/476594 [09:38<00:00, 823.69it/s]\n",
            "100%|██████████| 6040/6040 [00:08<00:00, 735.72it/s]\n"
          ]
        },
        {
          "metadata": {
            "tags": null
          },
          "name": "stdout",
          "output_type": "stream",
          "text": [
            "epoch 7: loss = 0.06531107747836196, HR@10 = 0.02682119205298013\n"
          ]
        },
        {
          "metadata": {
            "tags": null
          },
          "name": "stderr",
          "output_type": "stream",
          "text": [
            "100%|██████████| 476594/476594 [09:39<00:00, 822.83it/s]\n",
            "100%|██████████| 6040/6040 [00:08<00:00, 741.64it/s]\n"
          ]
        },
        {
          "metadata": {
            "tags": null
          },
          "name": "stdout",
          "output_type": "stream",
          "text": [
            "epoch 8: loss = 0.06584320927590924, HR@10 = 0.026158940397350994\n"
          ]
        },
        {
          "metadata": {
            "tags": null
          },
          "name": "stderr",
          "output_type": "stream",
          "text": [
            "100%|██████████| 476594/476594 [09:37<00:00, 825.66it/s]\n",
            "100%|██████████| 6040/6040 [00:08<00:00, 748.28it/s]\n"
          ]
        },
        {
          "metadata": {
            "tags": null
          },
          "name": "stdout",
          "output_type": "stream",
          "text": [
            "epoch 9: loss = 0.06628634684977697, HR@10 = 0.02185430463576159\n",
            "\n",
            "Early stoping after 9 epochs. validation loss did not imporve for more than 3 epcochs\n",
            "\n",
            "Finished Training:\n",
            "Best metrics are:\n",
            "Hit Ratio eval = 0.02913907284768212\n",
            "MRR@10 eval= 0.009053597708399053\n",
            "NDCG@10 eval= 0.013687072895676103\n"
          ]
        },
        {
          "metadata": {
            "tags": null
          },
          "name": "stderr",
          "output_type": "stream",
          "text": [
            "100%|██████████| 6040/6040 [00:08<00:00, 729.39it/s]\n",
            "100%|██████████| 476594/476594 [09:40<00:00, 821.65it/s]\n",
            "100%|██████████| 6040/6040 [00:08<00:00, 717.76it/s]\n"
          ]
        },
        {
          "metadata": {
            "tags": null
          },
          "name": "stdout",
          "output_type": "stream",
          "text": [
            "epoch 0: loss = 0.2027793741818783, HR@10 = 0.021688741721854303\n"
          ]
        },
        {
          "metadata": {
            "tags": null
          },
          "name": "stderr",
          "output_type": "stream",
          "text": [
            "100%|██████████| 476594/476594 [09:45<00:00, 814.69it/s]\n",
            "100%|██████████| 6040/6040 [00:08<00:00, 717.94it/s]\n"
          ]
        },
        {
          "metadata": {
            "tags": null
          },
          "name": "stdout",
          "output_type": "stream",
          "text": [
            "epoch 1: loss = 0.061310671504610906, HR@10 = 0.02466887417218543\n"
          ]
        },
        {
          "metadata": {
            "tags": null
          },
          "name": "stderr",
          "output_type": "stream",
          "text": [
            "100%|██████████| 476594/476594 [09:41<00:00, 819.88it/s]\n",
            "100%|██████████| 6040/6040 [00:08<00:00, 718.81it/s]\n"
          ]
        },
        {
          "metadata": {
            "tags": null
          },
          "name": "stdout",
          "output_type": "stream",
          "text": [
            "epoch 2: loss = 0.05740111341822625, HR@10 = 0.026158940397350994\n"
          ]
        },
        {
          "metadata": {
            "tags": null
          },
          "name": "stderr",
          "output_type": "stream",
          "text": [
            "100%|██████████| 476594/476594 [09:39<00:00, 822.25it/s]\n",
            "100%|██████████| 6040/6040 [00:08<00:00, 715.05it/s]\n"
          ]
        },
        {
          "metadata": {
            "tags": null
          },
          "name": "stdout",
          "output_type": "stream",
          "text": [
            "epoch 3: loss = 0.056447245040628764, HR@10 = 0.02466887417218543\n"
          ]
        },
        {
          "metadata": {
            "tags": null
          },
          "name": "stderr",
          "output_type": "stream",
          "text": [
            "100%|██████████| 476594/476594 [09:40<00:00, 821.43it/s]\n",
            "100%|██████████| 6040/6040 [00:08<00:00, 722.32it/s]\n"
          ]
        },
        {
          "metadata": {
            "tags": null
          },
          "name": "stdout",
          "output_type": "stream",
          "text": [
            "epoch 4: loss = 0.05621649573572402, HR@10 = 0.02433774834437086\n"
          ]
        },
        {
          "metadata": {
            "tags": null
          },
          "name": "stderr",
          "output_type": "stream",
          "text": [
            "100%|██████████| 476594/476594 [09:39<00:00, 822.83it/s]\n",
            "100%|██████████| 6040/6040 [00:08<00:00, 715.36it/s]\n"
          ]
        },
        {
          "metadata": {
            "tags": null
          },
          "name": "stdout",
          "output_type": "stream",
          "text": [
            "epoch 5: loss = 0.05622078236949074, HR@10 = 0.02632450331125828\n"
          ]
        },
        {
          "metadata": {
            "tags": null
          },
          "name": "stderr",
          "output_type": "stream",
          "text": [
            "100%|██████████| 476594/476594 [09:39<00:00, 822.18it/s]\n",
            "100%|██████████| 6040/6040 [00:08<00:00, 706.06it/s]\n"
          ]
        },
        {
          "metadata": {
            "tags": null
          },
          "name": "stdout",
          "output_type": "stream",
          "text": [
            "epoch 6: loss = 0.05642635237060915, HR@10 = 0.0228476821192053\n"
          ]
        },
        {
          "metadata": {
            "tags": null
          },
          "name": "stderr",
          "output_type": "stream",
          "text": [
            "100%|██████████| 476594/476594 [09:40<00:00, 821.70it/s]\n",
            "100%|██████████| 6040/6040 [00:08<00:00, 728.75it/s]\n"
          ]
        },
        {
          "metadata": {
            "tags": null
          },
          "name": "stdout",
          "output_type": "stream",
          "text": [
            "epoch 7: loss = 0.056648876341611094, HR@10 = 0.026655629139072847\n"
          ]
        },
        {
          "metadata": {
            "tags": null
          },
          "name": "stderr",
          "output_type": "stream",
          "text": [
            "100%|██████████| 476594/476594 [09:40<00:00, 820.41it/s]\n",
            "100%|██████████| 6040/6040 [00:08<00:00, 737.90it/s]\n"
          ]
        },
        {
          "metadata": {
            "tags": null
          },
          "name": "stdout",
          "output_type": "stream",
          "text": [
            "epoch 8: loss = 0.05700639046803105, HR@10 = 0.027980132450331124\n"
          ]
        },
        {
          "metadata": {
            "tags": null
          },
          "name": "stderr",
          "output_type": "stream",
          "text": [
            "100%|██████████| 476594/476594 [09:39<00:00, 822.32it/s]\n",
            "100%|██████████| 6040/6040 [00:08<00:00, 734.90it/s]\n"
          ]
        },
        {
          "metadata": {
            "tags": null
          },
          "name": "stdout",
          "output_type": "stream",
          "text": [
            "epoch 9: loss = 0.05733836841614741, HR@10 = 0.027317880794701987\n",
            "\n",
            "Finished Training:\n",
            "Best metrics are:\n",
            "Hit Ratio eval = 0.027980132450331124\n",
            "MRR@10 eval= 0.0077807999579522814\n",
            "NDCG@10 eval= 0.012370191769559166\n"
          ]
        },
        {
          "metadata": {
            "tags": null
          },
          "name": "stderr",
          "output_type": "stream",
          "text": [
            "100%|██████████| 6040/6040 [00:08<00:00, 721.74it/s]\n",
            "100%|██████████| 476594/476594 [09:42<00:00, 818.53it/s]\n",
            "100%|██████████| 6040/6040 [00:08<00:00, 718.41it/s]\n"
          ]
        },
        {
          "metadata": {
            "tags": null
          },
          "name": "stdout",
          "output_type": "stream",
          "text": [
            "epoch 0: loss = 0.3204832837956976, HR@10 = 0.021688741721854303\n"
          ]
        },
        {
          "metadata": {
            "tags": null
          },
          "name": "stderr",
          "output_type": "stream",
          "text": [
            "100%|██████████| 476594/476594 [09:40<00:00, 820.48it/s]\n",
            "100%|██████████| 6040/6040 [00:08<00:00, 716.16it/s]\n"
          ]
        },
        {
          "metadata": {
            "tags": null
          },
          "name": "stdout",
          "output_type": "stream",
          "text": [
            "epoch 1: loss = 0.059820790164597716, HR@10 = 0.023344370860927152\n"
          ]
        },
        {
          "metadata": {
            "tags": null
          },
          "name": "stderr",
          "output_type": "stream",
          "text": [
            "100%|██████████| 476594/476594 [09:41<00:00, 819.68it/s]\n",
            "100%|██████████| 6040/6040 [00:08<00:00, 722.87it/s]\n"
          ]
        },
        {
          "metadata": {
            "tags": null
          },
          "name": "stdout",
          "output_type": "stream",
          "text": [
            "epoch 2: loss = 0.05361215548221726, HR@10 = 0.025\n"
          ]
        },
        {
          "metadata": {
            "tags": null
          },
          "name": "stderr",
          "output_type": "stream",
          "text": [
            "100%|██████████| 476594/476594 [09:40<00:00, 820.55it/s]\n",
            "100%|██████████| 6040/6040 [00:08<00:00, 710.57it/s]\n"
          ]
        },
        {
          "metadata": {
            "tags": null
          },
          "name": "stdout",
          "output_type": "stream",
          "text": [
            "epoch 3: loss = 0.05199445285436909, HR@10 = 0.02367549668874172\n"
          ]
        },
        {
          "metadata": {
            "tags": null
          },
          "name": "stderr",
          "output_type": "stream",
          "text": [
            "100%|██████████| 476594/476594 [09:40<00:00, 820.58it/s]\n",
            "100%|██████████| 6040/6040 [00:08<00:00, 720.70it/s]\n"
          ]
        },
        {
          "metadata": {
            "tags": null
          },
          "name": "stdout",
          "output_type": "stream",
          "text": [
            "epoch 4: loss = 0.051442466388594524, HR@10 = 0.02566225165562914\n"
          ]
        },
        {
          "metadata": {
            "tags": null
          },
          "name": "stderr",
          "output_type": "stream",
          "text": [
            "100%|██████████| 476594/476594 [09:40<00:00, 821.68it/s]\n",
            "100%|██████████| 6040/6040 [00:08<00:00, 733.23it/s]\n"
          ]
        },
        {
          "metadata": {
            "tags": null
          },
          "name": "stdout",
          "output_type": "stream",
          "text": [
            "epoch 5: loss = 0.051418569154546345, HR@10 = 0.02433774834437086\n"
          ]
        },
        {
          "metadata": {
            "tags": null
          },
          "name": "stderr",
          "output_type": "stream",
          "text": [
            "100%|██████████| 476594/476594 [09:38<00:00, 823.92it/s]\n",
            "100%|██████████| 6040/6040 [00:08<00:00, 726.27it/s]\n"
          ]
        },
        {
          "metadata": {
            "tags": null
          },
          "name": "stdout",
          "output_type": "stream",
          "text": [
            "epoch 6: loss = 0.051409041808244293, HR@10 = 0.02433774834437086\n"
          ]
        },
        {
          "metadata": {
            "tags": null
          },
          "name": "stderr",
          "output_type": "stream",
          "text": [
            "100%|██████████| 476594/476594 [09:31<00:00, 834.41it/s]\n",
            "100%|██████████| 6040/6040 [00:08<00:00, 738.81it/s]\n"
          ]
        },
        {
          "metadata": {
            "tags": null
          },
          "name": "stdout",
          "output_type": "stream",
          "text": [
            "epoch 7: loss = 0.05161616972923945, HR@10 = 0.026986754966887416\n"
          ]
        },
        {
          "metadata": {
            "tags": null
          },
          "name": "stderr",
          "output_type": "stream",
          "text": [
            "100%|██████████| 476594/476594 [09:31<00:00, 833.64it/s]\n",
            "100%|██████████| 6040/6040 [00:08<00:00, 742.84it/s]\n"
          ]
        },
        {
          "metadata": {
            "tags": null
          },
          "name": "stdout",
          "output_type": "stream",
          "text": [
            "epoch 8: loss = 0.05181065429427276, HR@10 = 0.026655629139072847\n"
          ]
        },
        {
          "metadata": {
            "tags": null
          },
          "name": "stderr",
          "output_type": "stream",
          "text": [
            "100%|██████████| 476594/476594 [09:30<00:00, 835.52it/s]\n",
            "100%|██████████| 6040/6040 [00:08<00:00, 729.04it/s]\n"
          ]
        },
        {
          "metadata": {
            "tags": null
          },
          "name": "stdout",
          "output_type": "stream",
          "text": [
            "epoch 9: loss = 0.052092835152568684, HR@10 = 0.028145695364238412\n",
            "\n",
            "Finished Training:\n",
            "Best metrics are:\n",
            "Hit Ratio eval = 0.028145695364238412\n",
            "MRR@10 eval= 0.007774624198465266\n",
            "NDCG@10 eval= 0.012409055514155\n"
          ]
        },
        {
          "metadata": {
            "tags": null
          },
          "name": "stderr",
          "output_type": "stream",
          "text": [
            "100%|██████████| 6040/6040 [00:08<00:00, 727.32it/s]\n",
            "100%|██████████| 476594/476594 [10:22<00:00, 765.18it/s]\n",
            "100%|██████████| 6040/6040 [00:08<00:00, 720.31it/s]\n"
          ]
        },
        {
          "metadata": {
            "tags": null
          },
          "name": "stdout",
          "output_type": "stream",
          "text": [
            "epoch 0: loss = 0.741789274614675, HR@10 = 0.020695364238410598\n"
          ]
        },
        {
          "metadata": {
            "tags": null
          },
          "name": "stderr",
          "output_type": "stream",
          "text": [
            "100%|██████████| 476594/476594 [10:22<00:00, 766.12it/s]\n",
            "100%|██████████| 6040/6040 [00:08<00:00, 737.85it/s]\n"
          ]
        },
        {
          "metadata": {
            "tags": null
          },
          "name": "stdout",
          "output_type": "stream",
          "text": [
            "epoch 1: loss = 0.06843308885476128, HR@10 = 0.020860927152317882\n"
          ]
        },
        {
          "metadata": {
            "tags": null
          },
          "name": "stderr",
          "output_type": "stream",
          "text": [
            "100%|██████████| 476594/476594 [10:24<00:00, 763.60it/s]\n",
            "100%|██████████| 6040/6040 [00:08<00:00, 720.96it/s]\n"
          ]
        },
        {
          "metadata": {
            "tags": null
          },
          "name": "stdout",
          "output_type": "stream",
          "text": [
            "epoch 2: loss = 0.05350180610827438, HR@10 = 0.01903973509933775\n"
          ]
        },
        {
          "metadata": {
            "tags": null
          },
          "name": "stderr",
          "output_type": "stream",
          "text": [
            "100%|██████████| 476594/476594 [10:21<00:00, 766.44it/s]\n",
            "100%|██████████| 6040/6040 [00:08<00:00, 740.52it/s]\n"
          ]
        },
        {
          "metadata": {
            "tags": null
          },
          "name": "stdout",
          "output_type": "stream",
          "text": [
            "epoch 3: loss = 0.048022491524290695, HR@10 = 0.020695364238410598\n"
          ]
        },
        {
          "metadata": {
            "tags": null
          },
          "name": "stderr",
          "output_type": "stream",
          "text": [
            "100%|██████████| 476594/476594 [10:21<00:00, 767.28it/s]\n",
            "100%|██████████| 6040/6040 [00:08<00:00, 707.39it/s]\n"
          ]
        },
        {
          "metadata": {
            "tags": null
          },
          "name": "stdout",
          "output_type": "stream",
          "text": [
            "epoch 4: loss = 0.04536992019571154, HR@10 = 0.02152317880794702\n"
          ]
        },
        {
          "metadata": {
            "tags": null
          },
          "name": "stderr",
          "output_type": "stream",
          "text": [
            "100%|██████████| 476594/476594 [10:20<00:00, 767.49it/s]\n",
            "100%|██████████| 6040/6040 [00:08<00:00, 720.26it/s]\n"
          ]
        },
        {
          "metadata": {
            "tags": null
          },
          "name": "stdout",
          "output_type": "stream",
          "text": [
            "epoch 5: loss = 0.043703808646313895, HR@10 = 0.020364238410596026\n"
          ]
        },
        {
          "metadata": {
            "tags": null
          },
          "name": "stderr",
          "output_type": "stream",
          "text": [
            "100%|██████████| 476594/476594 [10:22<00:00, 765.97it/s]\n",
            "100%|██████████| 6040/6040 [00:08<00:00, 727.59it/s]\n"
          ]
        },
        {
          "metadata": {
            "tags": null
          },
          "name": "stdout",
          "output_type": "stream",
          "text": [
            "epoch 6: loss = 0.04252931908424658, HR@10 = 0.021357615894039735\n"
          ]
        },
        {
          "metadata": {
            "tags": null
          },
          "name": "stderr",
          "output_type": "stream",
          "text": [
            "100%|██████████| 476594/476594 [10:21<00:00, 766.81it/s]\n",
            "100%|██████████| 6040/6040 [00:08<00:00, 695.05it/s]\n"
          ]
        },
        {
          "metadata": {
            "tags": null
          },
          "name": "stdout",
          "output_type": "stream",
          "text": [
            "epoch 7: loss = 0.04162704323787855, HR@10 = 0.0228476821192053\n"
          ]
        },
        {
          "metadata": {
            "tags": null
          },
          "name": "stderr",
          "output_type": "stream",
          "text": [
            "100%|██████████| 476594/476594 [10:20<00:00, 767.56it/s]\n",
            "100%|██████████| 6040/6040 [00:08<00:00, 746.05it/s]\n"
          ]
        },
        {
          "metadata": {
            "tags": null
          },
          "name": "stdout",
          "output_type": "stream",
          "text": [
            "epoch 8: loss = 0.04083685857333121, HR@10 = 0.02119205298013245\n"
          ]
        },
        {
          "output_type": "stream",
          "name": "stderr",
          "text": [
            "100%|██████████| 476594/476594 [10:22<00:00, 765.99it/s]\n",
            "100%|██████████| 6040/6040 [00:08<00:00, 730.31it/s]\n"
          ]
        },
        {
          "output_type": "stream",
          "name": "stdout",
          "text": [
            "epoch 9: loss = 0.04016264806214388, HR@10 = 0.01870860927152318\n",
            "\n",
            "Finished Training:\n",
            "Best metrics are:\n",
            "Hit Ratio eval = 0.0228476821192053\n",
            "MRR@10 eval= 0.006718832124461265\n",
            "NDCG@10 eval= 0.010406434606711446\n"
          ]
        },
        {
          "output_type": "stream",
          "name": "stderr",
          "text": [
            "100%|██████████| 6040/6040 [00:08<00:00, 743.24it/s]\n"
          ]
        }
      ]
    },
    {
      "cell_type": "code",
      "source": [
        "results"
      ],
      "metadata": {
        "colab": {
          "base_uri": "https://localhost:8080/",
          "height": 1000
        },
        "id": "7NJRHlYoOOJg",
        "outputId": "f4dd86ce-38b5-4cb9-eb37-04a4c4cb2f59"
      },
      "execution_count": null,
      "outputs": [
        {
          "output_type": "execute_result",
          "data": {
            "text/plain": [
              "   latent dim Batch Size  Learning Rate Topk Metric        Score\n",
              "0          16         64          0.001    0   LOSS     0.020086\n",
              "1          16         64          0.001    0   TIME  5304.148051\n",
              "2          16         64          0.001    5     HR     0.012086\n",
              "3          16         64          0.001   10     HR     0.025828\n",
              "4          16         64          0.001    5    MRR     0.005546\n",
              "5          16         64          0.001   10    MRR     0.007376\n",
              "6          16         64          0.001    5   NDCG     0.007147\n",
              "7          16         64          0.001   10   NDCG     0.011586\n",
              "8          32         64          0.001    0   LOSS     0.028753\n",
              "9          32         64          0.001    0   TIME  5889.399993\n",
              "10         32         64          0.001    5     HR     0.012252\n",
              "11         32         64          0.001   10     HR     0.025662\n",
              "12         32         64          0.001    5    MRR     0.004818\n",
              "13         32         64          0.001   10    MRR     0.006552\n",
              "14         32         64          0.001    5   NDCG     0.006645\n",
              "15         32         64          0.001   10   NDCG     0.010926\n",
              "16         64         64          0.001    0   LOSS     0.051834\n",
              "17         64         64          0.001    0   TIME  5861.311405\n",
              "18         64         64          0.001    5     HR     0.013411\n",
              "19         64         64          0.001   10     HR     0.027318\n",
              "20         64         64          0.001    5    MRR     0.005806\n",
              "21         64         64          0.001   10    MRR     0.007588\n",
              "22         64         64          0.001    5   NDCG     0.007663\n",
              "23         64         64          0.001   10   NDCG     0.012085\n",
              "24        128         64          0.001    0   LOSS     0.108299\n",
              "25        128         64          0.001    0   TIME  6303.407543\n",
              "26        128         64          0.001    5     HR     0.007781\n",
              "27        128         64          0.001   10     HR     0.018874\n",
              "28        128         64          0.001    5    MRR     0.004354\n",
              "29        128         64          0.001   10    MRR     0.005736\n",
              "30        128         64          0.001    5   NDCG     0.005204\n",
              "31        128         64          0.001   10   NDCG     0.008692"
            ],
            "text/html": [
              "\n",
              "  <div id=\"df-3b20e477-3621-4282-8705-a234549e5c65\">\n",
              "    <div class=\"colab-df-container\">\n",
              "      <div>\n",
              "<style scoped>\n",
              "    .dataframe tbody tr th:only-of-type {\n",
              "        vertical-align: middle;\n",
              "    }\n",
              "\n",
              "    .dataframe tbody tr th {\n",
              "        vertical-align: top;\n",
              "    }\n",
              "\n",
              "    .dataframe thead th {\n",
              "        text-align: right;\n",
              "    }\n",
              "</style>\n",
              "<table border=\"1\" class=\"dataframe\">\n",
              "  <thead>\n",
              "    <tr style=\"text-align: right;\">\n",
              "      <th></th>\n",
              "      <th>latent dim</th>\n",
              "      <th>Batch Size</th>\n",
              "      <th>Learning Rate</th>\n",
              "      <th>Topk</th>\n",
              "      <th>Metric</th>\n",
              "      <th>Score</th>\n",
              "    </tr>\n",
              "  </thead>\n",
              "  <tbody>\n",
              "    <tr>\n",
              "      <th>0</th>\n",
              "      <td>16</td>\n",
              "      <td>64</td>\n",
              "      <td>0.001</td>\n",
              "      <td>0</td>\n",
              "      <td>LOSS</td>\n",
              "      <td>0.020086</td>\n",
              "    </tr>\n",
              "    <tr>\n",
              "      <th>1</th>\n",
              "      <td>16</td>\n",
              "      <td>64</td>\n",
              "      <td>0.001</td>\n",
              "      <td>0</td>\n",
              "      <td>TIME</td>\n",
              "      <td>5304.148051</td>\n",
              "    </tr>\n",
              "    <tr>\n",
              "      <th>2</th>\n",
              "      <td>16</td>\n",
              "      <td>64</td>\n",
              "      <td>0.001</td>\n",
              "      <td>5</td>\n",
              "      <td>HR</td>\n",
              "      <td>0.012086</td>\n",
              "    </tr>\n",
              "    <tr>\n",
              "      <th>3</th>\n",
              "      <td>16</td>\n",
              "      <td>64</td>\n",
              "      <td>0.001</td>\n",
              "      <td>10</td>\n",
              "      <td>HR</td>\n",
              "      <td>0.025828</td>\n",
              "    </tr>\n",
              "    <tr>\n",
              "      <th>4</th>\n",
              "      <td>16</td>\n",
              "      <td>64</td>\n",
              "      <td>0.001</td>\n",
              "      <td>5</td>\n",
              "      <td>MRR</td>\n",
              "      <td>0.005546</td>\n",
              "    </tr>\n",
              "    <tr>\n",
              "      <th>5</th>\n",
              "      <td>16</td>\n",
              "      <td>64</td>\n",
              "      <td>0.001</td>\n",
              "      <td>10</td>\n",
              "      <td>MRR</td>\n",
              "      <td>0.007376</td>\n",
              "    </tr>\n",
              "    <tr>\n",
              "      <th>6</th>\n",
              "      <td>16</td>\n",
              "      <td>64</td>\n",
              "      <td>0.001</td>\n",
              "      <td>5</td>\n",
              "      <td>NDCG</td>\n",
              "      <td>0.007147</td>\n",
              "    </tr>\n",
              "    <tr>\n",
              "      <th>7</th>\n",
              "      <td>16</td>\n",
              "      <td>64</td>\n",
              "      <td>0.001</td>\n",
              "      <td>10</td>\n",
              "      <td>NDCG</td>\n",
              "      <td>0.011586</td>\n",
              "    </tr>\n",
              "    <tr>\n",
              "      <th>8</th>\n",
              "      <td>32</td>\n",
              "      <td>64</td>\n",
              "      <td>0.001</td>\n",
              "      <td>0</td>\n",
              "      <td>LOSS</td>\n",
              "      <td>0.028753</td>\n",
              "    </tr>\n",
              "    <tr>\n",
              "      <th>9</th>\n",
              "      <td>32</td>\n",
              "      <td>64</td>\n",
              "      <td>0.001</td>\n",
              "      <td>0</td>\n",
              "      <td>TIME</td>\n",
              "      <td>5889.399993</td>\n",
              "    </tr>\n",
              "    <tr>\n",
              "      <th>10</th>\n",
              "      <td>32</td>\n",
              "      <td>64</td>\n",
              "      <td>0.001</td>\n",
              "      <td>5</td>\n",
              "      <td>HR</td>\n",
              "      <td>0.012252</td>\n",
              "    </tr>\n",
              "    <tr>\n",
              "      <th>11</th>\n",
              "      <td>32</td>\n",
              "      <td>64</td>\n",
              "      <td>0.001</td>\n",
              "      <td>10</td>\n",
              "      <td>HR</td>\n",
              "      <td>0.025662</td>\n",
              "    </tr>\n",
              "    <tr>\n",
              "      <th>12</th>\n",
              "      <td>32</td>\n",
              "      <td>64</td>\n",
              "      <td>0.001</td>\n",
              "      <td>5</td>\n",
              "      <td>MRR</td>\n",
              "      <td>0.004818</td>\n",
              "    </tr>\n",
              "    <tr>\n",
              "      <th>13</th>\n",
              "      <td>32</td>\n",
              "      <td>64</td>\n",
              "      <td>0.001</td>\n",
              "      <td>10</td>\n",
              "      <td>MRR</td>\n",
              "      <td>0.006552</td>\n",
              "    </tr>\n",
              "    <tr>\n",
              "      <th>14</th>\n",
              "      <td>32</td>\n",
              "      <td>64</td>\n",
              "      <td>0.001</td>\n",
              "      <td>5</td>\n",
              "      <td>NDCG</td>\n",
              "      <td>0.006645</td>\n",
              "    </tr>\n",
              "    <tr>\n",
              "      <th>15</th>\n",
              "      <td>32</td>\n",
              "      <td>64</td>\n",
              "      <td>0.001</td>\n",
              "      <td>10</td>\n",
              "      <td>NDCG</td>\n",
              "      <td>0.010926</td>\n",
              "    </tr>\n",
              "    <tr>\n",
              "      <th>16</th>\n",
              "      <td>64</td>\n",
              "      <td>64</td>\n",
              "      <td>0.001</td>\n",
              "      <td>0</td>\n",
              "      <td>LOSS</td>\n",
              "      <td>0.051834</td>\n",
              "    </tr>\n",
              "    <tr>\n",
              "      <th>17</th>\n",
              "      <td>64</td>\n",
              "      <td>64</td>\n",
              "      <td>0.001</td>\n",
              "      <td>0</td>\n",
              "      <td>TIME</td>\n",
              "      <td>5861.311405</td>\n",
              "    </tr>\n",
              "    <tr>\n",
              "      <th>18</th>\n",
              "      <td>64</td>\n",
              "      <td>64</td>\n",
              "      <td>0.001</td>\n",
              "      <td>5</td>\n",
              "      <td>HR</td>\n",
              "      <td>0.013411</td>\n",
              "    </tr>\n",
              "    <tr>\n",
              "      <th>19</th>\n",
              "      <td>64</td>\n",
              "      <td>64</td>\n",
              "      <td>0.001</td>\n",
              "      <td>10</td>\n",
              "      <td>HR</td>\n",
              "      <td>0.027318</td>\n",
              "    </tr>\n",
              "    <tr>\n",
              "      <th>20</th>\n",
              "      <td>64</td>\n",
              "      <td>64</td>\n",
              "      <td>0.001</td>\n",
              "      <td>5</td>\n",
              "      <td>MRR</td>\n",
              "      <td>0.005806</td>\n",
              "    </tr>\n",
              "    <tr>\n",
              "      <th>21</th>\n",
              "      <td>64</td>\n",
              "      <td>64</td>\n",
              "      <td>0.001</td>\n",
              "      <td>10</td>\n",
              "      <td>MRR</td>\n",
              "      <td>0.007588</td>\n",
              "    </tr>\n",
              "    <tr>\n",
              "      <th>22</th>\n",
              "      <td>64</td>\n",
              "      <td>64</td>\n",
              "      <td>0.001</td>\n",
              "      <td>5</td>\n",
              "      <td>NDCG</td>\n",
              "      <td>0.007663</td>\n",
              "    </tr>\n",
              "    <tr>\n",
              "      <th>23</th>\n",
              "      <td>64</td>\n",
              "      <td>64</td>\n",
              "      <td>0.001</td>\n",
              "      <td>10</td>\n",
              "      <td>NDCG</td>\n",
              "      <td>0.012085</td>\n",
              "    </tr>\n",
              "    <tr>\n",
              "      <th>24</th>\n",
              "      <td>128</td>\n",
              "      <td>64</td>\n",
              "      <td>0.001</td>\n",
              "      <td>0</td>\n",
              "      <td>LOSS</td>\n",
              "      <td>0.108299</td>\n",
              "    </tr>\n",
              "    <tr>\n",
              "      <th>25</th>\n",
              "      <td>128</td>\n",
              "      <td>64</td>\n",
              "      <td>0.001</td>\n",
              "      <td>0</td>\n",
              "      <td>TIME</td>\n",
              "      <td>6303.407543</td>\n",
              "    </tr>\n",
              "    <tr>\n",
              "      <th>26</th>\n",
              "      <td>128</td>\n",
              "      <td>64</td>\n",
              "      <td>0.001</td>\n",
              "      <td>5</td>\n",
              "      <td>HR</td>\n",
              "      <td>0.007781</td>\n",
              "    </tr>\n",
              "    <tr>\n",
              "      <th>27</th>\n",
              "      <td>128</td>\n",
              "      <td>64</td>\n",
              "      <td>0.001</td>\n",
              "      <td>10</td>\n",
              "      <td>HR</td>\n",
              "      <td>0.018874</td>\n",
              "    </tr>\n",
              "    <tr>\n",
              "      <th>28</th>\n",
              "      <td>128</td>\n",
              "      <td>64</td>\n",
              "      <td>0.001</td>\n",
              "      <td>5</td>\n",
              "      <td>MRR</td>\n",
              "      <td>0.004354</td>\n",
              "    </tr>\n",
              "    <tr>\n",
              "      <th>29</th>\n",
              "      <td>128</td>\n",
              "      <td>64</td>\n",
              "      <td>0.001</td>\n",
              "      <td>10</td>\n",
              "      <td>MRR</td>\n",
              "      <td>0.005736</td>\n",
              "    </tr>\n",
              "    <tr>\n",
              "      <th>30</th>\n",
              "      <td>128</td>\n",
              "      <td>64</td>\n",
              "      <td>0.001</td>\n",
              "      <td>5</td>\n",
              "      <td>NDCG</td>\n",
              "      <td>0.005204</td>\n",
              "    </tr>\n",
              "    <tr>\n",
              "      <th>31</th>\n",
              "      <td>128</td>\n",
              "      <td>64</td>\n",
              "      <td>0.001</td>\n",
              "      <td>10</td>\n",
              "      <td>NDCG</td>\n",
              "      <td>0.008692</td>\n",
              "    </tr>\n",
              "  </tbody>\n",
              "</table>\n",
              "</div>\n",
              "      <button class=\"colab-df-convert\" onclick=\"convertToInteractive('df-3b20e477-3621-4282-8705-a234549e5c65')\"\n",
              "              title=\"Convert this dataframe to an interactive table.\"\n",
              "              style=\"display:none;\">\n",
              "        \n",
              "  <svg xmlns=\"http://www.w3.org/2000/svg\" height=\"24px\"viewBox=\"0 0 24 24\"\n",
              "       width=\"24px\">\n",
              "    <path d=\"M0 0h24v24H0V0z\" fill=\"none\"/>\n",
              "    <path d=\"M18.56 5.44l.94 2.06.94-2.06 2.06-.94-2.06-.94-.94-2.06-.94 2.06-2.06.94zm-11 1L8.5 8.5l.94-2.06 2.06-.94-2.06-.94L8.5 2.5l-.94 2.06-2.06.94zm10 10l.94 2.06.94-2.06 2.06-.94-2.06-.94-.94-2.06-.94 2.06-2.06.94z\"/><path d=\"M17.41 7.96l-1.37-1.37c-.4-.4-.92-.59-1.43-.59-.52 0-1.04.2-1.43.59L10.3 9.45l-7.72 7.72c-.78.78-.78 2.05 0 2.83L4 21.41c.39.39.9.59 1.41.59.51 0 1.02-.2 1.41-.59l7.78-7.78 2.81-2.81c.8-.78.8-2.07 0-2.86zM5.41 20L4 18.59l7.72-7.72 1.47 1.35L5.41 20z\"/>\n",
              "  </svg>\n",
              "      </button>\n",
              "      \n",
              "  <style>\n",
              "    .colab-df-container {\n",
              "      display:flex;\n",
              "      flex-wrap:wrap;\n",
              "      gap: 12px;\n",
              "    }\n",
              "\n",
              "    .colab-df-convert {\n",
              "      background-color: #E8F0FE;\n",
              "      border: none;\n",
              "      border-radius: 50%;\n",
              "      cursor: pointer;\n",
              "      display: none;\n",
              "      fill: #1967D2;\n",
              "      height: 32px;\n",
              "      padding: 0 0 0 0;\n",
              "      width: 32px;\n",
              "    }\n",
              "\n",
              "    .colab-df-convert:hover {\n",
              "      background-color: #E2EBFA;\n",
              "      box-shadow: 0px 1px 2px rgba(60, 64, 67, 0.3), 0px 1px 3px 1px rgba(60, 64, 67, 0.15);\n",
              "      fill: #174EA6;\n",
              "    }\n",
              "\n",
              "    [theme=dark] .colab-df-convert {\n",
              "      background-color: #3B4455;\n",
              "      fill: #D2E3FC;\n",
              "    }\n",
              "\n",
              "    [theme=dark] .colab-df-convert:hover {\n",
              "      background-color: #434B5C;\n",
              "      box-shadow: 0px 1px 3px 1px rgba(0, 0, 0, 0.15);\n",
              "      filter: drop-shadow(0px 1px 2px rgba(0, 0, 0, 0.3));\n",
              "      fill: #FFFFFF;\n",
              "    }\n",
              "  </style>\n",
              "\n",
              "      <script>\n",
              "        const buttonEl =\n",
              "          document.querySelector('#df-3b20e477-3621-4282-8705-a234549e5c65 button.colab-df-convert');\n",
              "        buttonEl.style.display =\n",
              "          google.colab.kernel.accessAllowed ? 'block' : 'none';\n",
              "\n",
              "        async function convertToInteractive(key) {\n",
              "          const element = document.querySelector('#df-3b20e477-3621-4282-8705-a234549e5c65');\n",
              "          const dataTable =\n",
              "            await google.colab.kernel.invokeFunction('convertToInteractive',\n",
              "                                                     [key], {});\n",
              "          if (!dataTable) return;\n",
              "\n",
              "          const docLinkHtml = 'Like what you see? Visit the ' +\n",
              "            '<a target=\"_blank\" href=https://colab.research.google.com/notebooks/data_table.ipynb>data table notebook</a>'\n",
              "            + ' to learn more about interactive tables.';\n",
              "          element.innerHTML = '';\n",
              "          dataTable['output_type'] = 'display_data';\n",
              "          await google.colab.output.renderOutput(dataTable, element);\n",
              "          const docLink = document.createElement('div');\n",
              "          docLink.innerHTML = docLinkHtml;\n",
              "          element.appendChild(docLink);\n",
              "        }\n",
              "      </script>\n",
              "    </div>\n",
              "  </div>\n",
              "  "
            ]
          },
          "metadata": {},
          "execution_count": 32
        }
      ]
    },
    {
      "cell_type": "code",
      "source": [
        "# path = './drive/My Drive/Colab Notebooks/recsys_final_hyper_results_mf'\n",
        "# with open(path, 'wb') as f:\n",
        "#   pickle.dump((results), f)"
      ],
      "metadata": {
        "id": "khXHL7BSOVc3"
      },
      "execution_count": null,
      "outputs": []
    },
    {
      "cell_type": "code",
      "source": [
        "fig, ax1 = plt.subplots(1, 1, figsize=(7,5))\n",
        "HR_results = results[(results['Metric'] == 'HR')]\n",
        "r = sns.lineplot(data = HR_results, x = 'latent dim', y = 'Score', hue = 'Topk', ax = ax1, marker=\"o\", linewidth = 2, markersize=10)"
      ],
      "metadata": {
        "colab": {
          "base_uri": "https://localhost:8080/",
          "height": 334
        },
        "id": "wkzViI5T9G7d",
        "outputId": "82cf6768-edc5-4cfc-a61a-afba56f3ca3f"
      },
      "execution_count": null,
      "outputs": [
        {
          "output_type": "display_data",
          "data": {
            "text/plain": [
              "<Figure size 504x360 with 1 Axes>"
            ],
            "image/png": "[encoded data removed]"
          },
          "metadata": {
            "needs_background": "light"
          }
        }
      ]
    },
    {
      "cell_type": "code",
      "source": [
        "best_results = pd.DataFrame(columns=['latent dim', 'Batch Size', 'Learning Rate', 'Topk', 'Metric', 'Score']) #uncomment to run"
      ],
      "metadata": {
        "id": "vbIZV_F3As0T"
      },
      "execution_count": null,
      "outputs": []
    },
    {
      "cell_type": "code",
      "source": [
        "batch_size = 64\n",
        "lr = 0.001\n",
        "latent_dims = 64\n",
        "\n",
        "torch.manual_seed(55)\n",
        "np.random.seed(55)\n",
        "MF_config = {'num_users': 6041, 'num_items': n_items, 'latent_dim': latent_dims}\n",
        "model_MF = MF(MF_config)\n",
        "\n",
        "training_config = {'batch_size': batch_size, 'optimizer_type': Adam, 'optimizer_parameter': {'lr': lr}, \\\n",
        "                'criterion' : torch.nn.BCELoss, 'n_epochs' : 12, 'early_stopping' : 3, 'verbose' : True, 'device' : device}\n",
        "\n",
        "training_mf = Training(model_MF, training_config)\n",
        "training_mf.train()\n",
        "training_mf.evaluate_epoch(dl_test) #finally, evaluating in the test dataset\n",
        "\n",
        "add_results(training_mf, best_results, latent_dims, batch_size, lr)"
      ],
      "metadata": {
        "colab": {
          "base_uri": "https://localhost:8080/",
          "height": 977
        },
        "id": "FOghFIaR9qsa",
        "outputId": "2f84e700-a339-4839-bd36-8c9f8856a9c3"
      },
      "execution_count": null,
      "outputs": [
        {
          "output_type": "stream",
          "name": "stderr",
          "text": [
            "100%|██████████| 476594/476594 [09:07<00:00, 871.16it/s]\n",
            "100%|██████████| 6040/6040 [00:08<00:00, 732.63it/s]\n"
          ]
        },
        {
          "output_type": "stream",
          "name": "stdout",
          "text": [
            "epoch 0: loss = 0.3204832837956976, HR@10 = 0.021688741721854303\n"
          ]
        },
        {
          "output_type": "stream",
          "name": "stderr",
          "text": [
            "100%|██████████| 476594/476594 [09:03<00:00, 876.82it/s]\n",
            "100%|██████████| 6040/6040 [00:08<00:00, 750.31it/s]\n"
          ]
        },
        {
          "output_type": "stream",
          "name": "stdout",
          "text": [
            "epoch 1: loss = 0.059820790164597716, HR@10 = 0.023344370860927152\n"
          ]
        },
        {
          "output_type": "stream",
          "name": "stderr",
          "text": [
            "100%|██████████| 476594/476594 [09:04<00:00, 875.94it/s]\n",
            "100%|██████████| 6040/6040 [00:07<00:00, 755.10it/s]\n"
          ]
        },
        {
          "output_type": "stream",
          "name": "stdout",
          "text": [
            "epoch 2: loss = 0.05361215548221726, HR@10 = 0.025\n"
          ]
        },
        {
          "output_type": "stream",
          "name": "stderr",
          "text": [
            "100%|██████████| 476594/476594 [09:08<00:00, 868.85it/s]\n",
            "100%|██████████| 6040/6040 [00:08<00:00, 731.48it/s]\n"
          ]
        },
        {
          "output_type": "stream",
          "name": "stdout",
          "text": [
            "epoch 3: loss = 0.05199445285436909, HR@10 = 0.02367549668874172\n"
          ]
        },
        {
          "output_type": "stream",
          "name": "stderr",
          "text": [
            "100%|██████████| 476594/476594 [09:12<00:00, 863.19it/s]\n",
            "100%|██████████| 6040/6040 [00:08<00:00, 728.73it/s]\n"
          ]
        },
        {
          "output_type": "stream",
          "name": "stdout",
          "text": [
            "epoch 4: loss = 0.051442466388594524, HR@10 = 0.02566225165562914\n"
          ]
        },
        {
          "output_type": "stream",
          "name": "stderr",
          "text": [
            "100%|██████████| 476594/476594 [09:09<00:00, 867.23it/s]\n",
            "100%|██████████| 6040/6040 [00:08<00:00, 732.80it/s]\n"
          ]
        },
        {
          "output_type": "stream",
          "name": "stdout",
          "text": [
            "epoch 5: loss = 0.051418569154546345, HR@10 = 0.02433774834437086\n"
          ]
        },
        {
          "output_type": "stream",
          "name": "stderr",
          "text": [
            "100%|██████████| 476594/476594 [09:13<00:00, 860.45it/s]\n",
            "100%|██████████| 6040/6040 [00:08<00:00, 751.17it/s]\n"
          ]
        },
        {
          "output_type": "stream",
          "name": "stdout",
          "text": [
            "epoch 6: loss = 0.051409041808244293, HR@10 = 0.02433774834437086\n"
          ]
        },
        {
          "output_type": "stream",
          "name": "stderr",
          "text": [
            "100%|██████████| 476594/476594 [09:10<00:00, 865.89it/s]\n",
            "100%|██████████| 6040/6040 [00:08<00:00, 695.91it/s]\n"
          ]
        },
        {
          "output_type": "stream",
          "name": "stdout",
          "text": [
            "epoch 7: loss = 0.05161616972923945, HR@10 = 0.026986754966887416\n"
          ]
        },
        {
          "output_type": "stream",
          "name": "stderr",
          "text": [
            "100%|██████████| 476594/476594 [09:12<00:00, 862.87it/s]\n",
            "100%|██████████| 6040/6040 [00:08<00:00, 736.38it/s]\n"
          ]
        },
        {
          "output_type": "stream",
          "name": "stdout",
          "text": [
            "epoch 8: loss = 0.05181065429427276, HR@10 = 0.026655629139072847\n"
          ]
        },
        {
          "output_type": "stream",
          "name": "stderr",
          "text": [
            "100%|██████████| 476594/476594 [09:11<00:00, 864.81it/s]\n",
            "100%|██████████| 6040/6040 [00:08<00:00, 736.54it/s]\n"
          ]
        },
        {
          "output_type": "stream",
          "name": "stdout",
          "text": [
            "epoch 9: loss = 0.052092835152568684, HR@10 = 0.028145695364238412\n"
          ]
        },
        {
          "output_type": "stream",
          "name": "stderr",
          "text": [
            "100%|██████████| 476594/476594 [09:13<00:00, 861.30it/s]\n",
            "100%|██████████| 6040/6040 [00:08<00:00, 737.12it/s]\n"
          ]
        },
        {
          "output_type": "stream",
          "name": "stdout",
          "text": [
            "epoch 10: loss = 0.05233336180614733, HR@10 = 0.03145695364238411\n"
          ]
        },
        {
          "output_type": "stream",
          "name": "stderr",
          "text": [
            "100%|██████████| 476594/476594 [09:15<00:00, 857.98it/s]\n",
            "100%|██████████| 6040/6040 [00:08<00:00, 727.98it/s]\n"
          ]
        },
        {
          "output_type": "stream",
          "name": "stdout",
          "text": [
            "epoch 11: loss = 0.05255790392854328, HR@10 = 0.025165562913907286\n",
            "\n",
            "Finished Training:\n",
            "Best metrics are:\n",
            "Hit Ratio eval = 0.03145695364238411\n",
            "MRR@10 eval= 0.00857983811626197\n",
            "NDCG@10 eval= 0.013776422388647487\n"
          ]
        },
        {
          "output_type": "stream",
          "name": "stderr",
          "text": [
            "100%|██████████| 6040/6040 [00:08<00:00, 737.24it/s]\n"
          ]
        },
        {
          "output_type": "error",
          "ename": "NameError",
          "evalue": "ignored",
          "traceback": [
            "\u001b[0;31m---------------------------------------------------------------------------\u001b[0m",
            "\u001b[0;31mNameError\u001b[0m                                 Traceback (most recent call last)",
            "\u001b[0;32m<ipython-input-18-f72893794f7a>\u001b[0m in \u001b[0;36m<module>\u001b[0;34m\u001b[0m\n\u001b[1;32m     15\u001b[0m \u001b[0mtraining_mf\u001b[0m\u001b[0;34m.\u001b[0m\u001b[0mevaluate_epoch\u001b[0m\u001b[0;34m(\u001b[0m\u001b[0mdl_test\u001b[0m\u001b[0;34m)\u001b[0m \u001b[0;31m#finally, evaluating in the test dataset\u001b[0m\u001b[0;34m\u001b[0m\u001b[0;34m\u001b[0m\u001b[0m\n\u001b[1;32m     16\u001b[0m \u001b[0;34m\u001b[0m\u001b[0m\n\u001b[0;32m---> 17\u001b[0;31m \u001b[0madd_results\u001b[0m\u001b[0;34m(\u001b[0m\u001b[0mtraining_mf\u001b[0m\u001b[0;34m,\u001b[0m \u001b[0mbest_results\u001b[0m\u001b[0;34m,\u001b[0m \u001b[0mlatent_dims\u001b[0m\u001b[0;34m,\u001b[0m \u001b[0mbatch_size\u001b[0m\u001b[0;34m,\u001b[0m \u001b[0mlr\u001b[0m\u001b[0;34m)\u001b[0m\u001b[0;34m\u001b[0m\u001b[0;34m\u001b[0m\u001b[0m\n\u001b[0m",
            "\u001b[0;31mNameError\u001b[0m: name 'add_results' is not defined"
          ]
        }
      ]
    },
    {
      "cell_type": "code",
      "source": [
        "add_results(training_mf, best_results, latent_dims, batch_size, lr)"
      ],
      "metadata": {
        "id": "QJNvU7lwXvd2"
      },
      "execution_count": null,
      "outputs": []
    },
    {
      "cell_type": "code",
      "source": [
        "best_results"
      ],
      "metadata": {
        "colab": {
          "base_uri": "https://localhost:8080/",
          "height": 300
        },
        "id": "NQQBiq93Xx6-",
        "outputId": "27d3b862-7632-4a62-a51d-46b90c8345d6"
      },
      "execution_count": null,
      "outputs": [
        {
          "output_type": "execute_result",
          "data": {
            "text/plain": [
              "  latent dim Batch Size  Learning Rate Topk Metric        Score\n",
              "0         64         64          0.001    0   LOSS     0.054320\n",
              "1         64         64          0.001    0   TIME  6700.343946\n",
              "2         64         64          0.001    5     HR     0.011589\n",
              "3         64         64          0.001   10     HR     0.022682\n",
              "4         64         64          0.001    5    MRR     0.005505\n",
              "5         64         64          0.001   10    MRR     0.007007\n",
              "6         64         64          0.001    5   NDCG     0.006998\n",
              "7         64         64          0.001   10   NDCG     0.010606"
            ],
            "text/html": [
              "\n",
              "  <div id=\"df-198d0048-9054-43b6-b7cd-d079ac5968f6\">\n",
              "    <div class=\"colab-df-container\">\n",
              "      <div>\n",
              "<style scoped>\n",
              "    .dataframe tbody tr th:only-of-type {\n",
              "        vertical-align: middle;\n",
              "    }\n",
              "\n",
              "    .dataframe tbody tr th {\n",
              "        vertical-align: top;\n",
              "    }\n",
              "\n",
              "    .dataframe thead th {\n",
              "        text-align: right;\n",
              "    }\n",
              "</style>\n",
              "<table border=\"1\" class=\"dataframe\">\n",
              "  <thead>\n",
              "    <tr style=\"text-align: right;\">\n",
              "      <th></th>\n",
              "      <th>latent dim</th>\n",
              "      <th>Batch Size</th>\n",
              "      <th>Learning Rate</th>\n",
              "      <th>Topk</th>\n",
              "      <th>Metric</th>\n",
              "      <th>Score</th>\n",
              "    </tr>\n",
              "  </thead>\n",
              "  <tbody>\n",
              "    <tr>\n",
              "      <th>0</th>\n",
              "      <td>64</td>\n",
              "      <td>64</td>\n",
              "      <td>0.001</td>\n",
              "      <td>0</td>\n",
              "      <td>LOSS</td>\n",
              "      <td>0.054320</td>\n",
              "    </tr>\n",
              "    <tr>\n",
              "      <th>1</th>\n",
              "      <td>64</td>\n",
              "      <td>64</td>\n",
              "      <td>0.001</td>\n",
              "      <td>0</td>\n",
              "      <td>TIME</td>\n",
              "      <td>6700.343946</td>\n",
              "    </tr>\n",
              "    <tr>\n",
              "      <th>2</th>\n",
              "      <td>64</td>\n",
              "      <td>64</td>\n",
              "      <td>0.001</td>\n",
              "      <td>5</td>\n",
              "      <td>HR</td>\n",
              "      <td>0.011589</td>\n",
              "    </tr>\n",
              "    <tr>\n",
              "      <th>3</th>\n",
              "      <td>64</td>\n",
              "      <td>64</td>\n",
              "      <td>0.001</td>\n",
              "      <td>10</td>\n",
              "      <td>HR</td>\n",
              "      <td>0.022682</td>\n",
              "    </tr>\n",
              "    <tr>\n",
              "      <th>4</th>\n",
              "      <td>64</td>\n",
              "      <td>64</td>\n",
              "      <td>0.001</td>\n",
              "      <td>5</td>\n",
              "      <td>MRR</td>\n",
              "      <td>0.005505</td>\n",
              "    </tr>\n",
              "    <tr>\n",
              "      <th>5</th>\n",
              "      <td>64</td>\n",
              "      <td>64</td>\n",
              "      <td>0.001</td>\n",
              "      <td>10</td>\n",
              "      <td>MRR</td>\n",
              "      <td>0.007007</td>\n",
              "    </tr>\n",
              "    <tr>\n",
              "      <th>6</th>\n",
              "      <td>64</td>\n",
              "      <td>64</td>\n",
              "      <td>0.001</td>\n",
              "      <td>5</td>\n",
              "      <td>NDCG</td>\n",
              "      <td>0.006998</td>\n",
              "    </tr>\n",
              "    <tr>\n",
              "      <th>7</th>\n",
              "      <td>64</td>\n",
              "      <td>64</td>\n",
              "      <td>0.001</td>\n",
              "      <td>10</td>\n",
              "      <td>NDCG</td>\n",
              "      <td>0.010606</td>\n",
              "    </tr>\n",
              "  </tbody>\n",
              "</table>\n",
              "</div>\n",
              "      <button class=\"colab-df-convert\" onclick=\"convertToInteractive('df-198d0048-9054-43b6-b7cd-d079ac5968f6')\"\n",
              "              title=\"Convert this dataframe to an interactive table.\"\n",
              "              style=\"display:none;\">\n",
              "        \n",
              "  <svg xmlns=\"http://www.w3.org/2000/svg\" height=\"24px\"viewBox=\"0 0 24 24\"\n",
              "       width=\"24px\">\n",
              "    <path d=\"M0 0h24v24H0V0z\" fill=\"none\"/>\n",
              "    <path d=\"M18.56 5.44l.94 2.06.94-2.06 2.06-.94-2.06-.94-.94-2.06-.94 2.06-2.06.94zm-11 1L8.5 8.5l.94-2.06 2.06-.94-2.06-.94L8.5 2.5l-.94 2.06-2.06.94zm10 10l.94 2.06.94-2.06 2.06-.94-2.06-.94-.94-2.06-.94 2.06-2.06.94z\"/><path d=\"M17.41 7.96l-1.37-1.37c-.4-.4-.92-.59-1.43-.59-.52 0-1.04.2-1.43.59L10.3 9.45l-7.72 7.72c-.78.78-.78 2.05 0 2.83L4 21.41c.39.39.9.59 1.41.59.51 0 1.02-.2 1.41-.59l7.78-7.78 2.81-2.81c.8-.78.8-2.07 0-2.86zM5.41 20L4 18.59l7.72-7.72 1.47 1.35L5.41 20z\"/>\n",
              "  </svg>\n",
              "      </button>\n",
              "      \n",
              "  <style>\n",
              "    .colab-df-container {\n",
              "      display:flex;\n",
              "      flex-wrap:wrap;\n",
              "      gap: 12px;\n",
              "    }\n",
              "\n",
              "    .colab-df-convert {\n",
              "      background-color: #E8F0FE;\n",
              "      border: none;\n",
              "      border-radius: 50%;\n",
              "      cursor: pointer;\n",
              "      display: none;\n",
              "      fill: #1967D2;\n",
              "      height: 32px;\n",
              "      padding: 0 0 0 0;\n",
              "      width: 32px;\n",
              "    }\n",
              "\n",
              "    .colab-df-convert:hover {\n",
              "      background-color: #E2EBFA;\n",
              "      box-shadow: 0px 1px 2px rgba(60, 64, 67, 0.3), 0px 1px 3px 1px rgba(60, 64, 67, 0.15);\n",
              "      fill: #174EA6;\n",
              "    }\n",
              "\n",
              "    [theme=dark] .colab-df-convert {\n",
              "      background-color: #3B4455;\n",
              "      fill: #D2E3FC;\n",
              "    }\n",
              "\n",
              "    [theme=dark] .colab-df-convert:hover {\n",
              "      background-color: #434B5C;\n",
              "      box-shadow: 0px 1px 3px 1px rgba(0, 0, 0, 0.15);\n",
              "      filter: drop-shadow(0px 1px 2px rgba(0, 0, 0, 0.3));\n",
              "      fill: #FFFFFF;\n",
              "    }\n",
              "  </style>\n",
              "\n",
              "      <script>\n",
              "        const buttonEl =\n",
              "          document.querySelector('#df-198d0048-9054-43b6-b7cd-d079ac5968f6 button.colab-df-convert');\n",
              "        buttonEl.style.display =\n",
              "          google.colab.kernel.accessAllowed ? 'block' : 'none';\n",
              "\n",
              "        async function convertToInteractive(key) {\n",
              "          const element = document.querySelector('#df-198d0048-9054-43b6-b7cd-d079ac5968f6');\n",
              "          const dataTable =\n",
              "            await google.colab.kernel.invokeFunction('convertToInteractive',\n",
              "                                                     [key], {});\n",
              "          if (!dataTable) return;\n",
              "\n",
              "          const docLinkHtml = 'Like what you see? Visit the ' +\n",
              "            '<a target=\"_blank\" href=https://colab.research.google.com/notebooks/data_table.ipynb>data table notebook</a>'\n",
              "            + ' to learn more about interactive tables.';\n",
              "          element.innerHTML = '';\n",
              "          dataTable['output_type'] = 'display_data';\n",
              "          await google.colab.output.renderOutput(dataTable, element);\n",
              "          const docLink = document.createElement('div');\n",
              "          docLink.innerHTML = docLinkHtml;\n",
              "          element.appendChild(docLink);\n",
              "        }\n",
              "      </script>\n",
              "    </div>\n",
              "  </div>\n",
              "  "
            ]
          },
          "metadata": {},
          "execution_count": 21
        }
      ]
    },
    {
      "cell_type": "code",
      "source": [
        "def plot_training_summary(training_model, title):\n",
        "  with plt.rc_context({'lines.linewidth': 1.5, 'lines.marker' : '.', 'lines.markersize' : 8}):\n",
        "\n",
        "    epochs = np.arange(len(training_model.train_loss_history)) + 1\n",
        "    fig, (ax1, ax2, ax3, ax4) = plt.subplots(1, 4, figsize=(25,5))\n",
        "    ax1.plot(epochs, training_model.train_loss_history, 'r', label = 'train loss')\n",
        "    # ax1.plot(epochs, training_model.eval_loss_history, 'orange', label = 'eval loss')\n",
        "    ax1.set_xlabel('Epochs')\n",
        "    ax1.set_ylabel('LogLoss')\n",
        "    ax1.legend()\n",
        "    ax2.plot(epochs, training_model.eval_HR5_history, 'b', label = 'Hit Ratio @5')\n",
        "    ax2.plot(epochs, training_model.eval_HR10_history, 'g', label = 'Hit Ratio @10')\n",
        "    ax2.set_xlabel('Epochs')\n",
        "    ax2.set_ylabel('Hit Ratio')\n",
        "    ax2.legend()\n",
        "    ax3.plot(epochs, training_model.eval_MRR5_history, 'b', label = 'MRR@5')\n",
        "    ax3.plot(epochs, training_model.eval_MRR10_history, 'g', label = 'MRR@10')\n",
        "    ax3.set_xlabel('Epochs')\n",
        "    ax3.set_ylabel('MRR')\n",
        "    ax3.legend()\n",
        "    ax4.plot(epochs, training_model.eval_NDCG5_history, 'b', label = 'NDCG@5')\n",
        "    ax4.plot(epochs, training_model.eval_NDCG10_history, 'g', label = 'NDCG@10')\n",
        "    ax4.set_xlabel('Epochs')\n",
        "    ax4.set_ylabel('NDCG')\n",
        "    ax4.legend()\n",
        "    fig.suptitle(title, fontsize = 16)"
      ],
      "metadata": {
        "id": "xj1Hmjk_BedU"
      },
      "execution_count": null,
      "outputs": []
    },
    {
      "cell_type": "code",
      "source": [
        "plot_training_summary(training_mf, 'Training Summary')"
      ],
      "metadata": {
        "colab": {
          "base_uri": "https://localhost:8080/",
          "height": 365
        },
        "id": "nQvBGr2GYbQ_",
        "outputId": "1c0f9068-aac5-45dc-983b-860e25c213af"
      },
      "execution_count": null,
      "outputs": [
        {
          "output_type": "display_data",
          "data": {
            "text/plain": [
              "<Figure size 1800x360 with 4 Axes>"
            ],
            "image/png": "[encoded data removed]"
          },
          "metadata": {
            "needs_background": "light"
          }
        }
      ]
    },
    {
      "cell_type": "code",
      "source": [
        "plot_training_summary(training_mf, 'Training Summary')"
      ],
      "metadata": {
        "colab": {
          "base_uri": "https://localhost:8080/",
          "height": 365
        },
        "id": "Phbr8oRHBlID",
        "outputId": "8368c7c9-25d6-444c-a9f8-7f44708fe865"
      },
      "execution_count": null,
      "outputs": [
        {
          "output_type": "display_data",
          "data": {
            "text/plain": [
              "<Figure size 1800x360 with 4 Axes>"
            ],
            "image/png": "[encoded data removed]"
          },
          "metadata": {
            "needs_background": "light"
          }
        }
      ]
    },
    {
      "cell_type": "code",
      "source": [
        "# path = './drive/My Drive/Colab Notebooks/recsys_final_project/MF_baseline_best_results'\n",
        "# with open(path, 'wb') as f:\n",
        "#   pickle.dump((best_results), f)"
      ],
      "metadata": {
        "id": "IE7cAdl-Yqf-"
      },
      "execution_count": null,
      "outputs": []
    },
    {
      "cell_type": "markdown",
      "source": [
        "Conclusions:\n",
        "\n",
        "Evaluation on the test set shows that this model was able to place the target movie in the first 10 places out of all movies in 2.2% of the cases. This is compared to the 9.7% achieved with the YouTube model."
      ],
      "metadata": {
        "id": "2ZrdVeYkKisY"
      }
    },
    {
      "cell_type": "markdown",
      "source": [
        "###Leftovers of quick hyperparameters search (learning rate and embedding size) "
      ],
      "metadata": {
        "id": "OauW9o19H9J6"
      }
    },
    {
      "cell_type": "code",
      "source": [
        "batch_size = 64\n",
        "lr = 0.0005\n",
        "predictive = 32\n",
        "\n",
        "torch.manual_seed(55)\n",
        "np.random.seed(55)\n",
        "MF_config = {'num_users': 6041, 'num_items': n_items, 'latent_dim': predictive}\n",
        "# MF_config = {'num_users': 6040, 'num_items': n_items, 'latent_dim': predictive}\n",
        "model_MF = MF(MF_config)\n",
        "\n",
        "training_config = {'batch_size': batch_size, 'optimizer_type': Adam, 'optimizer_parameter': {'lr': lr}, \\\n",
        "                'criterion' : torch.nn.BCELoss, 'n_epochs' : 1, 'early_stopping' : 8, 'verbose' : True, 'device' : device}\n",
        "\n",
        "training_mf = Training(model_MF, training_config)\n",
        "training_mf.train()\n",
        "training_mf.evaluate_epoch(dl_test) #finally, evaluating in the test dataset\n",
        "\n",
        "add_results(training_mf, results, predictive, batch_size, lr)"
      ],
      "metadata": {
        "colab": {
          "base_uri": "https://localhost:8080/"
        },
        "id": "MEi2mWY8T7ZJ",
        "outputId": "284829ca-8e43-4b1d-e1ab-f6dfc5671823"
      },
      "execution_count": null,
      "outputs": [
        {
          "output_type": "stream",
          "name": "stderr",
          "text": [
            "100%|██████████| 476594/476594 [09:30<00:00, 835.11it/s]\n",
            "100%|██████████| 6040/6040 [00:08<00:00, 727.47it/s]\n"
          ]
        },
        {
          "output_type": "stream",
          "name": "stdout",
          "text": [
            "epoch 0: loss = 0.32609421802103017, HR@10 = 0.021688741721854303\n",
            "\n",
            "Finished Training:\n",
            "Best metrics are:\n",
            "Hit Ratio eval = 0.021688741721854303\n",
            "MRR@10 eval= 0.006127995900346895\n",
            "NDCG@10 eval= 0.009679727678637588\n"
          ]
        },
        {
          "output_type": "stream",
          "name": "stderr",
          "text": [
            "100%|██████████| 6040/6040 [00:08<00:00, 719.84it/s]\n"
          ]
        }
      ]
    },
    {
      "cell_type": "code",
      "source": [
        "batch_size = 64\n",
        "lr = 0.005\n",
        "predictive = 32\n",
        "\n",
        "torch.manual_seed(55)\n",
        "np.random.seed(55)\n",
        "MF_config = {'num_users': 6041, 'num_items': n_items, 'latent_dim': predictive}\n",
        "# MF_config = {'num_users': 6040, 'num_items': n_items, 'latent_dim': predictive}\n",
        "model_MF = MF(MF_config)\n",
        "\n",
        "training_config = {'batch_size': batch_size, 'optimizer_type': Adam, 'optimizer_parameter': {'lr': lr}, \\\n",
        "                'criterion' : torch.nn.BCELoss, 'n_epochs' : 1, 'early_stopping' : 8, 'verbose' : True, 'device' : device}\n",
        "\n",
        "training_mf = Training(model_MF, training_config)\n",
        "training_mf.train()\n",
        "training_mf.evaluate_epoch(dl_test) #finally, evaluating in the test dataset\n",
        "\n",
        "add_results(training_mf, results, predictive, batch_size, lr)"
      ],
      "metadata": {
        "colab": {
          "base_uri": "https://localhost:8080/"
        },
        "id": "MxLvCI3TRbGM",
        "outputId": "b8dfa288-95e8-4446-be2a-fb150587ed07"
      },
      "execution_count": null,
      "outputs": [
        {
          "output_type": "stream",
          "name": "stderr",
          "text": [
            "100%|██████████| 476594/476594 [09:39<00:00, 821.81it/s]\n",
            "100%|██████████| 6040/6040 [00:08<00:00, 695.75it/s]\n"
          ]
        },
        {
          "output_type": "stream",
          "name": "stdout",
          "text": [
            "epoch 0: loss = 0.11863615174417491, HR@10 = 0.016721854304635762\n",
            "\n",
            "Finished Training:\n",
            "Best metrics are:\n",
            "Hit Ratio eval = 0.016721854304635762\n",
            "MRR@10 eval= 0.004332229580573951\n",
            "NDCG@10 eval= 0.007149701622846448\n"
          ]
        },
        {
          "output_type": "stream",
          "name": "stderr",
          "text": [
            "100%|██████████| 6040/6040 [00:08<00:00, 703.78it/s]\n"
          ]
        }
      ]
    },
    {
      "cell_type": "code",
      "source": [
        "batch_size = 64\n",
        "lr = 0.001\n",
        "predictive = 64\n",
        "\n",
        "torch.manual_seed(55)\n",
        "np.random.seed(55)\n",
        "MF_config = {'num_users': 6041, 'num_items': n_items, 'latent_dim': predictive}\n",
        "# MF_config = {'num_users': 6040, 'num_items': n_items, 'latent_dim': predictive}\n",
        "model_MF = MF(MF_config)\n",
        "\n",
        "training_config = {'batch_size': batch_size, 'optimizer_type': Adam, 'optimizer_parameter': {'lr': lr}, \\\n",
        "                'criterion' : torch.nn.BCELoss, 'n_epochs' : 1, 'early_stopping' : 8, 'verbose' : True, 'device' : device}\n",
        "\n",
        "training_mf = Training(model_MF, training_config)\n",
        "training_mf.train()\n",
        "training_mf.evaluate_epoch(dl_test) #finally, evaluating in the test dataset\n",
        "\n",
        "add_results(training_mf, results, predictive, batch_size, lr)"
      ],
      "metadata": {
        "colab": {
          "base_uri": "https://localhost:8080/"
        },
        "id": "lIONVwB9OmQY",
        "outputId": "906062c4-2b04-433f-c17b-cd452ef62371"
      },
      "execution_count": null,
      "outputs": [
        {
          "output_type": "stream",
          "name": "stderr",
          "text": [
            "100%|██████████| 476594/476594 [09:34<00:00, 829.71it/s]\n",
            "100%|██████████| 6040/6040 [00:08<00:00, 718.93it/s]\n"
          ]
        },
        {
          "output_type": "stream",
          "name": "stdout",
          "text": [
            "epoch 0: loss = 0.3204832837956976, HR@10 = 0.021688741721854303\n",
            "\n",
            "Finished Training:\n",
            "Best metrics are:\n",
            "Hit Ratio eval = 0.021688741721854303\n",
            "MRR@10 eval= 0.006036870598128878\n",
            "NDCG@10 eval= 0.009591349368551152\n"
          ]
        },
        {
          "output_type": "stream",
          "name": "stderr",
          "text": [
            "100%|██████████| 6040/6040 [00:08<00:00, 699.82it/s]\n"
          ]
        }
      ]
    },
    {
      "cell_type": "code",
      "source": [
        "training_mf.epoch_HR10/len(dl_val)"
      ],
      "metadata": {
        "colab": {
          "base_uri": "https://localhost:8080/"
        },
        "id": "SuysoR0yRHz3",
        "outputId": "e0a09ae8-5566-4d96-f04c-f25caf41512c"
      },
      "execution_count": null,
      "outputs": [
        {
          "output_type": "execute_result",
          "data": {
            "text/plain": [
              "0.02185430463576159"
            ]
          },
          "metadata": {},
          "execution_count": 44
        }
      ]
    },
    {
      "cell_type": "code",
      "source": [
        "batch_size = 64\n",
        "lr = 0.001\n",
        "predictive = 32\n",
        "\n",
        "torch.manual_seed(55)\n",
        "np.random.seed(55)\n",
        "MF_config = {'num_users': 6041, 'num_items': n_items, 'latent_dim': predictive}\n",
        "model_MF = MF(MF_config)\n",
        "\n",
        "training_config = {'batch_size': batch_size, 'optimizer_type': Adam, 'optimizer_parameter': {'lr': lr}, \\\n",
        "                'criterion' : torch.nn.BCELoss, 'n_epochs' : 10, 'early_stopping' : 3, 'verbose' : True, 'device' : device}\n",
        "\n",
        "training_mf = Training(model_MF, training_config)\n",
        "training_mf.train()\n",
        "training_mf.evaluate_epoch(dl_test) #finally, evaluating in the test dataset\n",
        "\n",
        "add_results(training_mf, results, predictive, batch_size, lr)"
      ],
      "metadata": {
        "colab": {
          "base_uri": "https://localhost:8080/",
          "height": 624
        },
        "id": "Q7R0XVhteBqK",
        "outputId": "ef332712-4709-4fed-9ac2-dece38c3efaa"
      },
      "execution_count": null,
      "outputs": [
        {
          "output_type": "stream",
          "name": "stderr",
          "text": [
            "100%|██████████| 476594/476594 [09:29<00:00, 837.11it/s]\n",
            "100%|██████████| 6040/6040 [00:08<00:00, 701.15it/s]\n"
          ]
        },
        {
          "output_type": "stream",
          "name": "stdout",
          "text": [
            "epoch 0: loss = 0.2027793741818783, HR@10 = 0.021688741721854303\n"
          ]
        },
        {
          "output_type": "stream",
          "name": "stderr",
          "text": [
            "100%|██████████| 476594/476594 [09:41<00:00, 818.97it/s]\n",
            "100%|██████████| 6040/6040 [00:08<00:00, 713.84it/s]\n"
          ]
        },
        {
          "output_type": "stream",
          "name": "stdout",
          "text": [
            "epoch 1: loss = 0.061310671504610906, HR@10 = 0.02466887417218543\n"
          ]
        },
        {
          "output_type": "stream",
          "name": "stderr",
          "text": [
            "100%|██████████| 476594/476594 [09:32<00:00, 832.30it/s]\n",
            "100%|██████████| 6040/6040 [00:08<00:00, 719.68it/s]\n"
          ]
        },
        {
          "output_type": "stream",
          "name": "stdout",
          "text": [
            "epoch 2: loss = 0.05740111341822625, HR@10 = 0.026158940397350994\n"
          ]
        },
        {
          "output_type": "stream",
          "name": "stderr",
          "text": [
            "100%|██████████| 476594/476594 [09:25<00:00, 842.77it/s]\n",
            "100%|██████████| 6040/6040 [00:08<00:00, 713.63it/s]\n"
          ]
        },
        {
          "output_type": "stream",
          "name": "stdout",
          "text": [
            "epoch 3: loss = 0.056447245040628764, HR@10 = 0.02466887417218543\n"
          ]
        },
        {
          "output_type": "stream",
          "name": "stderr",
          "text": [
            "  2%|▏         | 10612/476594 [00:15<11:37, 667.77it/s]\n"
          ]
        },
        {
          "output_type": "error",
          "ename": "KeyboardInterrupt",
          "evalue": "ignored",
          "traceback": [
            "\u001b[0;31m---------------------------------------------------------------------------\u001b[0m",
            "\u001b[0;31mKeyboardInterrupt\u001b[0m                         Traceback (most recent call last)",
            "\u001b[0;32m<ipython-input-28-2c902ffb859e>\u001b[0m in \u001b[0;36m<module>\u001b[0;34m\u001b[0m\n\u001b[1;32m     13\u001b[0m \u001b[0;34m\u001b[0m\u001b[0m\n\u001b[1;32m     14\u001b[0m \u001b[0mtraining_mf\u001b[0m \u001b[0;34m=\u001b[0m \u001b[0mTraining\u001b[0m\u001b[0;34m(\u001b[0m\u001b[0mmodel_MF\u001b[0m\u001b[0;34m,\u001b[0m \u001b[0mtraining_config\u001b[0m\u001b[0;34m)\u001b[0m\u001b[0;34m\u001b[0m\u001b[0;34m\u001b[0m\u001b[0m\n\u001b[0;32m---> 15\u001b[0;31m \u001b[0mtraining_mf\u001b[0m\u001b[0;34m.\u001b[0m\u001b[0mtrain\u001b[0m\u001b[0;34m(\u001b[0m\u001b[0;34m)\u001b[0m\u001b[0;34m\u001b[0m\u001b[0;34m\u001b[0m\u001b[0m\n\u001b[0m\u001b[1;32m     16\u001b[0m \u001b[0mtraining_mf\u001b[0m\u001b[0;34m.\u001b[0m\u001b[0mevaluate_epoch\u001b[0m\u001b[0;34m(\u001b[0m\u001b[0mdl_test\u001b[0m\u001b[0;34m)\u001b[0m \u001b[0;31m#finally, evaluating in the test dataset\u001b[0m\u001b[0;34m\u001b[0m\u001b[0;34m\u001b[0m\u001b[0m\n\u001b[1;32m     17\u001b[0m \u001b[0;34m\u001b[0m\u001b[0m\n",
            "\u001b[0;32m<ipython-input-27-2a3fe1514961>\u001b[0m in \u001b[0;36mtrain\u001b[0;34m(self)\u001b[0m\n\u001b[1;32m     24\u001b[0m     \u001b[0mtrain_start\u001b[0m \u001b[0;34m=\u001b[0m \u001b[0mtime\u001b[0m\u001b[0;34m(\u001b[0m\u001b[0;34m)\u001b[0m\u001b[0;34m\u001b[0m\u001b[0;34m\u001b[0m\u001b[0m\n\u001b[1;32m     25\u001b[0m     \u001b[0;32mfor\u001b[0m \u001b[0mepoch\u001b[0m \u001b[0;32min\u001b[0m \u001b[0mrange\u001b[0m\u001b[0;34m(\u001b[0m\u001b[0mself\u001b[0m\u001b[0;34m.\u001b[0m\u001b[0mconfig\u001b[0m\u001b[0;34m[\u001b[0m\u001b[0;34m'n_epochs'\u001b[0m\u001b[0;34m]\u001b[0m\u001b[0;34m)\u001b[0m\u001b[0;34m:\u001b[0m\u001b[0;34m\u001b[0m\u001b[0;34m\u001b[0m\u001b[0m\n\u001b[0;32m---> 26\u001b[0;31m       \u001b[0mself\u001b[0m\u001b[0;34m.\u001b[0m\u001b[0mtrain_epoch\u001b[0m\u001b[0;34m(\u001b[0m\u001b[0;34m)\u001b[0m \u001b[0;31m#train\u001b[0m\u001b[0;34m\u001b[0m\u001b[0;34m\u001b[0m\u001b[0m\n\u001b[0m\u001b[1;32m     27\u001b[0m       \u001b[0mself\u001b[0m\u001b[0;34m.\u001b[0m\u001b[0mtrain_loss_history\u001b[0m\u001b[0;34m.\u001b[0m\u001b[0mappend\u001b[0m\u001b[0;34m(\u001b[0m\u001b[0mself\u001b[0m\u001b[0;34m.\u001b[0m\u001b[0mepoch_train_loss\u001b[0m\u001b[0;34m/\u001b[0m\u001b[0mlen\u001b[0m\u001b[0;34m(\u001b[0m\u001b[0mself\u001b[0m\u001b[0;34m.\u001b[0m\u001b[0mdl_train\u001b[0m\u001b[0;34m)\u001b[0m\u001b[0;34m)\u001b[0m\u001b[0;34m\u001b[0m\u001b[0;34m\u001b[0m\u001b[0m\n\u001b[1;32m     28\u001b[0m       \u001b[0mself\u001b[0m\u001b[0;34m.\u001b[0m\u001b[0mevaluate_epoch\u001b[0m\u001b[0;34m(\u001b[0m\u001b[0mdl_val\u001b[0m\u001b[0;34m)\u001b[0m \u001b[0;31m#evaluate\u001b[0m\u001b[0;34m\u001b[0m\u001b[0;34m\u001b[0m\u001b[0m\n",
            "\u001b[0;32m<ipython-input-27-2a3fe1514961>\u001b[0m in \u001b[0;36mtrain_epoch\u001b[0;34m(self)\u001b[0m\n\u001b[1;32m     67\u001b[0m     \u001b[0mself\u001b[0m\u001b[0;34m.\u001b[0m\u001b[0mmodel\u001b[0m\u001b[0;34m.\u001b[0m\u001b[0mtrain\u001b[0m\u001b[0;34m(\u001b[0m\u001b[0;34m)\u001b[0m \u001b[0;31m# train mode\u001b[0m\u001b[0;34m\u001b[0m\u001b[0;34m\u001b[0m\u001b[0m\n\u001b[1;32m     68\u001b[0m     \u001b[0;32mfor\u001b[0m \u001b[0mbatch\u001b[0m \u001b[0;32min\u001b[0m \u001b[0mtqdm\u001b[0m\u001b[0;34m(\u001b[0m\u001b[0mself\u001b[0m\u001b[0;34m.\u001b[0m\u001b[0mdl_train\u001b[0m\u001b[0;34m,\u001b[0m \u001b[0mdisable\u001b[0m\u001b[0;34m=\u001b[0m\u001b[0;34m(\u001b[0m\u001b[0;32mnot\u001b[0m \u001b[0mself\u001b[0m\u001b[0;34m.\u001b[0m\u001b[0mconfig\u001b[0m\u001b[0;34m[\u001b[0m\u001b[0;34m'verbose'\u001b[0m\u001b[0;34m]\u001b[0m\u001b[0;34m)\u001b[0m\u001b[0;34m)\u001b[0m\u001b[0;34m:\u001b[0m\u001b[0;34m\u001b[0m\u001b[0;34m\u001b[0m\u001b[0m\n\u001b[0;32m---> 69\u001b[0;31m       \u001b[0mself\u001b[0m\u001b[0;34m.\u001b[0m\u001b[0mtrain_batch\u001b[0m\u001b[0;34m(\u001b[0m\u001b[0mbatch\u001b[0m\u001b[0;34m)\u001b[0m\u001b[0;34m\u001b[0m\u001b[0;34m\u001b[0m\u001b[0m\n\u001b[0m\u001b[1;32m     70\u001b[0m \u001b[0;34m\u001b[0m\u001b[0m\n\u001b[1;32m     71\u001b[0m   \u001b[0;32mdef\u001b[0m \u001b[0mtrain_batch\u001b[0m\u001b[0;34m(\u001b[0m\u001b[0mself\u001b[0m\u001b[0;34m,\u001b[0m \u001b[0mbatch\u001b[0m\u001b[0;34m)\u001b[0m\u001b[0;34m:\u001b[0m\u001b[0;34m\u001b[0m\u001b[0;34m\u001b[0m\u001b[0m\n",
            "\u001b[0;32m<ipython-input-27-2a3fe1514961>\u001b[0m in \u001b[0;36mtrain_batch\u001b[0;34m(self, batch)\u001b[0m\n\u001b[1;32m     76\u001b[0m     \u001b[0mlabels\u001b[0m \u001b[0;34m=\u001b[0m \u001b[0mlabels\u001b[0m\u001b[0;34m.\u001b[0m\u001b[0mto\u001b[0m\u001b[0;34m(\u001b[0m\u001b[0mdevice\u001b[0m\u001b[0;34m)\u001b[0m\u001b[0;34m\u001b[0m\u001b[0;34m\u001b[0m\u001b[0m\n\u001b[1;32m     77\u001b[0m \u001b[0;34m\u001b[0m\u001b[0m\n\u001b[0;32m---> 78\u001b[0;31m     \u001b[0mpred\u001b[0m \u001b[0;34m=\u001b[0m \u001b[0mself\u001b[0m\u001b[0;34m.\u001b[0m\u001b[0mmodel\u001b[0m\u001b[0;34m(\u001b[0m\u001b[0muser_indices\u001b[0m\u001b[0;34m,\u001b[0m \u001b[0mitem_indices\u001b[0m\u001b[0;34m)\u001b[0m\u001b[0;34m.\u001b[0m\u001b[0mtype\u001b[0m\u001b[0;34m(\u001b[0m\u001b[0mtorch\u001b[0m\u001b[0;34m.\u001b[0m\u001b[0mfloat64\u001b[0m\u001b[0;34m)\u001b[0m\u001b[0;34m\u001b[0m\u001b[0;34m\u001b[0m\u001b[0m\n\u001b[0m\u001b[1;32m     79\u001b[0m     \u001b[0mloss\u001b[0m \u001b[0;34m=\u001b[0m \u001b[0mself\u001b[0m\u001b[0;34m.\u001b[0m\u001b[0mcriterion\u001b[0m\u001b[0;34m(\u001b[0m\u001b[0mpred\u001b[0m\u001b[0;34m,\u001b[0m \u001b[0mlabels\u001b[0m\u001b[0;34m)\u001b[0m\u001b[0;34m\u001b[0m\u001b[0;34m\u001b[0m\u001b[0m\n\u001b[1;32m     80\u001b[0m \u001b[0;34m\u001b[0m\u001b[0m\n",
            "\u001b[0;32m/usr/local/lib/python3.8/dist-packages/torch/nn/modules/module.py\u001b[0m in \u001b[0;36m_call_impl\u001b[0;34m(self, *input, **kwargs)\u001b[0m\n\u001b[1;32m   1192\u001b[0m         if not (self._backward_hooks or self._forward_hooks or self._forward_pre_hooks or _global_backward_hooks\n\u001b[1;32m   1193\u001b[0m                 or _global_forward_hooks or _global_forward_pre_hooks):\n\u001b[0;32m-> 1194\u001b[0;31m             \u001b[0;32mreturn\u001b[0m \u001b[0mforward_call\u001b[0m\u001b[0;34m(\u001b[0m\u001b[0;34m*\u001b[0m\u001b[0minput\u001b[0m\u001b[0;34m,\u001b[0m \u001b[0;34m**\u001b[0m\u001b[0mkwargs\u001b[0m\u001b[0;34m)\u001b[0m\u001b[0;34m\u001b[0m\u001b[0;34m\u001b[0m\u001b[0m\n\u001b[0m\u001b[1;32m   1195\u001b[0m         \u001b[0;31m# Do not call functions when jit is used\u001b[0m\u001b[0;34m\u001b[0m\u001b[0;34m\u001b[0m\u001b[0;34m\u001b[0m\u001b[0m\n\u001b[1;32m   1196\u001b[0m         \u001b[0mfull_backward_hooks\u001b[0m\u001b[0;34m,\u001b[0m \u001b[0mnon_full_backward_hooks\u001b[0m \u001b[0;34m=\u001b[0m \u001b[0;34m[\u001b[0m\u001b[0;34m]\u001b[0m\u001b[0;34m,\u001b[0m \u001b[0;34m[\u001b[0m\u001b[0;34m]\u001b[0m\u001b[0;34m\u001b[0m\u001b[0;34m\u001b[0m\u001b[0m\n",
            "\u001b[0;32m<ipython-input-12-0e87c00f962f>\u001b[0m in \u001b[0;36mforward\u001b[0;34m(self, user_indices, item_indices)\u001b[0m\n\u001b[1;32m     16\u001b[0m         \u001b[0;31m# print(item_embedding_mf.shape)\u001b[0m\u001b[0;34m\u001b[0m\u001b[0;34m\u001b[0m\u001b[0;34m\u001b[0m\u001b[0m\n\u001b[1;32m     17\u001b[0m         \u001b[0mmf_vector\u001b[0m \u001b[0;34m=\u001b[0m\u001b[0mtorch\u001b[0m\u001b[0;34m.\u001b[0m\u001b[0mmul\u001b[0m\u001b[0;34m(\u001b[0m\u001b[0muser_embedding_mf\u001b[0m\u001b[0;34m,\u001b[0m \u001b[0mitem_embedding_mf\u001b[0m\u001b[0;34m)\u001b[0m\u001b[0;34m\u001b[0m\u001b[0;34m\u001b[0m\u001b[0m\n\u001b[0;32m---> 18\u001b[0;31m         \u001b[0mmf_logit\u001b[0m \u001b[0;34m=\u001b[0m \u001b[0mmf_vector\u001b[0m\u001b[0;34m.\u001b[0m\u001b[0msum\u001b[0m\u001b[0;34m(\u001b[0m\u001b[0mdim\u001b[0m \u001b[0;34m=\u001b[0m \u001b[0;36m1\u001b[0m\u001b[0;34m)\u001b[0m\u001b[0;34m\u001b[0m\u001b[0;34m\u001b[0m\u001b[0m\n\u001b[0m\u001b[1;32m     19\u001b[0m         \u001b[0moutput\u001b[0m \u001b[0;34m=\u001b[0m \u001b[0mself\u001b[0m\u001b[0;34m.\u001b[0m\u001b[0msigmoid\u001b[0m\u001b[0;34m(\u001b[0m\u001b[0mmf_logit\u001b[0m\u001b[0;34m)\u001b[0m\u001b[0;34m\u001b[0m\u001b[0;34m\u001b[0m\u001b[0m\n\u001b[1;32m     20\u001b[0m         \u001b[0;32mreturn\u001b[0m \u001b[0moutput\u001b[0m\u001b[0;34m\u001b[0m\u001b[0;34m\u001b[0m\u001b[0m\n",
            "\u001b[0;31mKeyboardInterrupt\u001b[0m: "
          ]
        }
      ]
    },
    {
      "cell_type": "code",
      "source": [
        "training_mf.evaluate_epoch(dl_test) #finally, evaluating in the test dataset"
      ],
      "metadata": {
        "colab": {
          "base_uri": "https://localhost:8080/"
        },
        "id": "AN7lxBF9L2p2",
        "outputId": "d6417eec-e2ec-4913-d70b-483b260b9ac0"
      },
      "execution_count": null,
      "outputs": [
        {
          "output_type": "stream",
          "name": "stderr",
          "text": [
            "100%|██████████| 6040/6040 [00:08<00:00, 695.88it/s]\n"
          ]
        }
      ]
    },
    {
      "cell_type": "code",
      "source": [
        "training_mf.epoch_HR10/len(dl_val)"
      ],
      "metadata": {
        "colab": {
          "base_uri": "https://localhost:8080/"
        },
        "id": "JTP1noTXMJKx",
        "outputId": "a75d3e4f-900a-40ad-beb1-1f84e24ca2eb"
      },
      "execution_count": null,
      "outputs": [
        {
          "output_type": "execute_result",
          "data": {
            "text/plain": [
              "0.028642384105960265"
            ]
          },
          "metadata": {},
          "execution_count": 32
        }
      ]
    }
  ],
  "metadata": {
    "accelerator": "GPU",
    "colab": {
      "provenance": [],
      "machine_shape": "hm",
      "collapsed_sections": [
        "OauW9o19H9J6"
      ]
    },
    "gpuClass": "standard",
    "kernelspec": {
      "display_name": "Python 3",
      "language": "python",
      "name": "python3"
    },
    "language_info": {
      "codemirror_mode": {
        "name": "ipython",
        "version": 3
      },
      "file_extension": ".py",
      "mimetype": "text/x-python",
      "name": "python",
      "nbconvert_exporter": "python",
      "pygments_lexer": "ipython3",
      "version": "3.8.5"
    }
  },
  "nbformat": 4,
  "nbformat_minor": 0
}
